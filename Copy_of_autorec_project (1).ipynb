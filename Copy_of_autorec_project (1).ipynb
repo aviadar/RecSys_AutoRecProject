{
  "nbformat": 4,
  "nbformat_minor": 0,
  "metadata": {
    "colab": {
      "name": "Copy of autorec_project.ipynb",
      "provenance": [],
      "collapsed_sections": []
    },
    "kernelspec": {
      "name": "python3",
      "display_name": "Python 3"
    },
    "language_info": {
      "name": "python"
    },
    "accelerator": "GPU"
  },
  "cells": [
    {
      "cell_type": "code",
      "source": [
        "%matplotlib inline"
      ],
      "metadata": {
        "id": "yX5IP4yJ-CKD"
      },
      "execution_count": 9,
      "outputs": []
    },
    {
      "cell_type": "code",
      "source": [
        "!pip install keras-tuner"
      ],
      "metadata": {
        "colab": {
          "base_uri": "https://localhost:8080/"
        },
        "id": "oHz280golEnY",
        "outputId": "9d6db905-afc0-444e-df23-a87dabb577bf"
      },
      "execution_count": 10,
      "outputs": [
        {
          "output_type": "stream",
          "name": "stdout",
          "text": [
            "Collecting keras-tuner\n",
            "  Downloading keras_tuner-1.1.0-py3-none-any.whl (98 kB)\n",
            "\u001b[?25l\r\u001b[K     |███▍                            | 10 kB 24.4 MB/s eta 0:00:01\r\u001b[K     |██████▊                         | 20 kB 10.8 MB/s eta 0:00:01\r\u001b[K     |██████████                      | 30 kB 9.2 MB/s eta 0:00:01\r\u001b[K     |█████████████▍                  | 40 kB 8.4 MB/s eta 0:00:01\r\u001b[K     |████████████████▊               | 51 kB 5.3 MB/s eta 0:00:01\r\u001b[K     |████████████████████            | 61 kB 5.3 MB/s eta 0:00:01\r\u001b[K     |███████████████████████▍        | 71 kB 5.3 MB/s eta 0:00:01\r\u001b[K     |██████████████████████████▊     | 81 kB 5.9 MB/s eta 0:00:01\r\u001b[K     |██████████████████████████████  | 92 kB 6.1 MB/s eta 0:00:01\r\u001b[K     |████████████████████████████████| 98 kB 4.1 MB/s \n",
            "\u001b[?25hRequirement already satisfied: numpy in /usr/local/lib/python3.7/dist-packages (from keras-tuner) (1.19.5)\n",
            "Requirement already satisfied: ipython in /usr/local/lib/python3.7/dist-packages (from keras-tuner) (5.5.0)\n",
            "Requirement already satisfied: scipy in /usr/local/lib/python3.7/dist-packages (from keras-tuner) (1.4.1)\n",
            "Requirement already satisfied: requests in /usr/local/lib/python3.7/dist-packages (from keras-tuner) (2.23.0)\n",
            "Collecting kt-legacy\n",
            "  Downloading kt_legacy-1.0.4-py3-none-any.whl (9.6 kB)\n",
            "Requirement already satisfied: tensorboard in /usr/local/lib/python3.7/dist-packages (from keras-tuner) (2.7.0)\n",
            "Requirement already satisfied: packaging in /usr/local/lib/python3.7/dist-packages (from keras-tuner) (21.3)\n",
            "Requirement already satisfied: pexpect in /usr/local/lib/python3.7/dist-packages (from ipython->keras-tuner) (4.8.0)\n",
            "Requirement already satisfied: pygments in /usr/local/lib/python3.7/dist-packages (from ipython->keras-tuner) (2.6.1)\n",
            "Requirement already satisfied: prompt-toolkit<2.0.0,>=1.0.4 in /usr/local/lib/python3.7/dist-packages (from ipython->keras-tuner) (1.0.18)\n",
            "Requirement already satisfied: traitlets>=4.2 in /usr/local/lib/python3.7/dist-packages (from ipython->keras-tuner) (5.1.1)\n",
            "Requirement already satisfied: decorator in /usr/local/lib/python3.7/dist-packages (from ipython->keras-tuner) (4.4.2)\n",
            "Requirement already satisfied: pickleshare in /usr/local/lib/python3.7/dist-packages (from ipython->keras-tuner) (0.7.5)\n",
            "Requirement already satisfied: setuptools>=18.5 in /usr/local/lib/python3.7/dist-packages (from ipython->keras-tuner) (57.4.0)\n",
            "Requirement already satisfied: simplegeneric>0.8 in /usr/local/lib/python3.7/dist-packages (from ipython->keras-tuner) (0.8.1)\n",
            "Requirement already satisfied: six>=1.9.0 in /usr/local/lib/python3.7/dist-packages (from prompt-toolkit<2.0.0,>=1.0.4->ipython->keras-tuner) (1.15.0)\n",
            "Requirement already satisfied: wcwidth in /usr/local/lib/python3.7/dist-packages (from prompt-toolkit<2.0.0,>=1.0.4->ipython->keras-tuner) (0.2.5)\n",
            "Requirement already satisfied: pyparsing!=3.0.5,>=2.0.2 in /usr/local/lib/python3.7/dist-packages (from packaging->keras-tuner) (3.0.7)\n",
            "Requirement already satisfied: ptyprocess>=0.5 in /usr/local/lib/python3.7/dist-packages (from pexpect->ipython->keras-tuner) (0.7.0)\n",
            "Requirement already satisfied: urllib3!=1.25.0,!=1.25.1,<1.26,>=1.21.1 in /usr/local/lib/python3.7/dist-packages (from requests->keras-tuner) (1.24.3)\n",
            "Requirement already satisfied: chardet<4,>=3.0.2 in /usr/local/lib/python3.7/dist-packages (from requests->keras-tuner) (3.0.4)\n",
            "Requirement already satisfied: idna<3,>=2.5 in /usr/local/lib/python3.7/dist-packages (from requests->keras-tuner) (2.10)\n",
            "Requirement already satisfied: certifi>=2017.4.17 in /usr/local/lib/python3.7/dist-packages (from requests->keras-tuner) (2021.10.8)\n",
            "Requirement already satisfied: grpcio>=1.24.3 in /usr/local/lib/python3.7/dist-packages (from tensorboard->keras-tuner) (1.43.0)\n",
            "Requirement already satisfied: tensorboard-plugin-wit>=1.6.0 in /usr/local/lib/python3.7/dist-packages (from tensorboard->keras-tuner) (1.8.1)\n",
            "Requirement already satisfied: google-auth-oauthlib<0.5,>=0.4.1 in /usr/local/lib/python3.7/dist-packages (from tensorboard->keras-tuner) (0.4.6)\n",
            "Requirement already satisfied: tensorboard-data-server<0.7.0,>=0.6.0 in /usr/local/lib/python3.7/dist-packages (from tensorboard->keras-tuner) (0.6.1)\n",
            "Requirement already satisfied: werkzeug>=0.11.15 in /usr/local/lib/python3.7/dist-packages (from tensorboard->keras-tuner) (1.0.1)\n",
            "Requirement already satisfied: wheel>=0.26 in /usr/local/lib/python3.7/dist-packages (from tensorboard->keras-tuner) (0.37.1)\n",
            "Requirement already satisfied: google-auth<3,>=1.6.3 in /usr/local/lib/python3.7/dist-packages (from tensorboard->keras-tuner) (1.35.0)\n",
            "Requirement already satisfied: markdown>=2.6.8 in /usr/local/lib/python3.7/dist-packages (from tensorboard->keras-tuner) (3.3.6)\n",
            "Requirement already satisfied: protobuf>=3.6.0 in /usr/local/lib/python3.7/dist-packages (from tensorboard->keras-tuner) (3.17.3)\n",
            "Requirement already satisfied: absl-py>=0.4 in /usr/local/lib/python3.7/dist-packages (from tensorboard->keras-tuner) (1.0.0)\n",
            "Requirement already satisfied: rsa<5,>=3.1.4 in /usr/local/lib/python3.7/dist-packages (from google-auth<3,>=1.6.3->tensorboard->keras-tuner) (4.8)\n",
            "Requirement already satisfied: cachetools<5.0,>=2.0.0 in /usr/local/lib/python3.7/dist-packages (from google-auth<3,>=1.6.3->tensorboard->keras-tuner) (4.2.4)\n",
            "Requirement already satisfied: pyasn1-modules>=0.2.1 in /usr/local/lib/python3.7/dist-packages (from google-auth<3,>=1.6.3->tensorboard->keras-tuner) (0.2.8)\n",
            "Requirement already satisfied: requests-oauthlib>=0.7.0 in /usr/local/lib/python3.7/dist-packages (from google-auth-oauthlib<0.5,>=0.4.1->tensorboard->keras-tuner) (1.3.1)\n",
            "Requirement already satisfied: importlib-metadata>=4.4 in /usr/local/lib/python3.7/dist-packages (from markdown>=2.6.8->tensorboard->keras-tuner) (4.10.1)\n",
            "Requirement already satisfied: typing-extensions>=3.6.4 in /usr/local/lib/python3.7/dist-packages (from importlib-metadata>=4.4->markdown>=2.6.8->tensorboard->keras-tuner) (3.10.0.2)\n",
            "Requirement already satisfied: zipp>=0.5 in /usr/local/lib/python3.7/dist-packages (from importlib-metadata>=4.4->markdown>=2.6.8->tensorboard->keras-tuner) (3.7.0)\n",
            "Requirement already satisfied: pyasn1<0.5.0,>=0.4.6 in /usr/local/lib/python3.7/dist-packages (from pyasn1-modules>=0.2.1->google-auth<3,>=1.6.3->tensorboard->keras-tuner) (0.4.8)\n",
            "Requirement already satisfied: oauthlib>=3.0.0 in /usr/local/lib/python3.7/dist-packages (from requests-oauthlib>=0.7.0->google-auth-oauthlib<0.5,>=0.4.1->tensorboard->keras-tuner) (3.2.0)\n",
            "Installing collected packages: kt-legacy, keras-tuner\n",
            "Successfully installed keras-tuner-1.1.0 kt-legacy-1.0.4\n"
          ]
        }
      ]
    },
    {
      "cell_type": "code",
      "execution_count": 11,
      "metadata": {
        "id": "WyDSncY3nVV5"
      },
      "outputs": [],
      "source": [
        "# keras\n",
        "import tensorflow\n",
        "from tensorflow import keras\n",
        "from tensorflow.keras.models import Model\n",
        "from tensorflow.keras import initializers\n",
        "from tensorflow.keras.regularizers import l2\n",
        "from tensorflow.keras.initializers import RandomNormal\n",
        "from tensorflow.keras.layers import Dense,Lambda,Activation\n",
        "from tensorflow.keras.optimizers import Adam,SGD,RMSprop,Adamax\n",
        "from tensorflow.keras.models import Sequential,Model,load_model,save_model\n",
        "from tensorflow.keras.callbacks import Callback, EarlyStopping, ModelCheckpoint\n",
        "from tensorflow.keras.layers import Embedding,Input,Dense,Reshape,Flatten,Dropout,Multiply,Concatenate\n",
        "from keras.utils.vis_utils import plot_model\n",
        "from tensorflow.keras import regularizers\n",
        "import tensorflow as tf\n",
        "import keras_tuner as kt\n",
        "\n",
        "# sklearn\n",
        "from sklearn.model_selection import train_test_split\n",
        "\n",
        "# pytorch\n",
        "# import torch\n",
        "# from torch import nn\n",
        "\n",
        "import requests\n",
        "import zipfile\n",
        "import copy\n",
        "\n",
        "import pandas as pd\n",
        "import numpy as np\n",
        "import random\n",
        "import math\n",
        "\n",
        "from matplotlib import pyplot as plt"
      ]
    },
    {
      "cell_type": "code",
      "source": [
        "np.random.seed(123)\n",
        "random.seed(123)"
      ],
      "metadata": {
        "id": "hu975UwXNQaY"
      },
      "execution_count": 4,
      "outputs": []
    },
    {
      "cell_type": "code",
      "source": [
        "url = 'http://files.grouplens.org/datasets/movielens/ml-1m.zip'\n",
        "zip_name = 'ml-1m.zip'\n",
        "data_dir = 'ml-1m/'\n",
        "\n",
        "r = requests.get(url, allow_redirects=True)\n",
        "open(zip_name, 'wb').write(r.content)\n",
        "\n",
        "with zipfile.ZipFile(zip_name,\"r\") as zip_ref:\n",
        "    zip_ref.extractall()"
      ],
      "metadata": {
        "id": "mgDyiBZE0Vxq"
      },
      "execution_count": 5,
      "outputs": []
    },
    {
      "cell_type": "code",
      "source": [
        "ratings_df = pd.read_csv('/content/ml-1m/ratings.dat', header=None, names=['user_id', 'item_id', 'rating', 'timestamp'], delimiter='::')\n",
        "ratings_df.head()"
      ],
      "metadata": {
        "colab": {
          "base_uri": "https://localhost:8080/",
          "height": 261
        },
        "id": "5eKF7PL80x3e",
        "outputId": "041d68da-1152-400f-f4f5-18222ea40171"
      },
      "execution_count": 6,
      "outputs": [
        {
          "output_type": "stream",
          "name": "stderr",
          "text": [
            "/usr/local/lib/python3.7/dist-packages/pandas/util/_decorators.py:311: ParserWarning: Falling back to the 'python' engine because the 'c' engine does not support regex separators (separators > 1 char and different from '\\s+' are interpreted as regex); you can avoid this warning by specifying engine='python'.\n",
            "  return func(*args, **kwargs)\n"
          ]
        },
        {
          "output_type": "execute_result",
          "data": {
            "text/html": [
              "\n",
              "  <div id=\"df-08188605-024f-4cdd-b3eb-7e84fa6ec9c3\">\n",
              "    <div class=\"colab-df-container\">\n",
              "      <div>\n",
              "<style scoped>\n",
              "    .dataframe tbody tr th:only-of-type {\n",
              "        vertical-align: middle;\n",
              "    }\n",
              "\n",
              "    .dataframe tbody tr th {\n",
              "        vertical-align: top;\n",
              "    }\n",
              "\n",
              "    .dataframe thead th {\n",
              "        text-align: right;\n",
              "    }\n",
              "</style>\n",
              "<table border=\"1\" class=\"dataframe\">\n",
              "  <thead>\n",
              "    <tr style=\"text-align: right;\">\n",
              "      <th></th>\n",
              "      <th>user_id</th>\n",
              "      <th>item_id</th>\n",
              "      <th>rating</th>\n",
              "      <th>timestamp</th>\n",
              "    </tr>\n",
              "  </thead>\n",
              "  <tbody>\n",
              "    <tr>\n",
              "      <th>0</th>\n",
              "      <td>1</td>\n",
              "      <td>1193</td>\n",
              "      <td>5</td>\n",
              "      <td>978300760</td>\n",
              "    </tr>\n",
              "    <tr>\n",
              "      <th>1</th>\n",
              "      <td>1</td>\n",
              "      <td>661</td>\n",
              "      <td>3</td>\n",
              "      <td>978302109</td>\n",
              "    </tr>\n",
              "    <tr>\n",
              "      <th>2</th>\n",
              "      <td>1</td>\n",
              "      <td>914</td>\n",
              "      <td>3</td>\n",
              "      <td>978301968</td>\n",
              "    </tr>\n",
              "    <tr>\n",
              "      <th>3</th>\n",
              "      <td>1</td>\n",
              "      <td>3408</td>\n",
              "      <td>4</td>\n",
              "      <td>978300275</td>\n",
              "    </tr>\n",
              "    <tr>\n",
              "      <th>4</th>\n",
              "      <td>1</td>\n",
              "      <td>2355</td>\n",
              "      <td>5</td>\n",
              "      <td>978824291</td>\n",
              "    </tr>\n",
              "  </tbody>\n",
              "</table>\n",
              "</div>\n",
              "      <button class=\"colab-df-convert\" onclick=\"convertToInteractive('df-08188605-024f-4cdd-b3eb-7e84fa6ec9c3')\"\n",
              "              title=\"Convert this dataframe to an interactive table.\"\n",
              "              style=\"display:none;\">\n",
              "        \n",
              "  <svg xmlns=\"http://www.w3.org/2000/svg\" height=\"24px\"viewBox=\"0 0 24 24\"\n",
              "       width=\"24px\">\n",
              "    <path d=\"M0 0h24v24H0V0z\" fill=\"none\"/>\n",
              "    <path d=\"M18.56 5.44l.94 2.06.94-2.06 2.06-.94-2.06-.94-.94-2.06-.94 2.06-2.06.94zm-11 1L8.5 8.5l.94-2.06 2.06-.94-2.06-.94L8.5 2.5l-.94 2.06-2.06.94zm10 10l.94 2.06.94-2.06 2.06-.94-2.06-.94-.94-2.06-.94 2.06-2.06.94z\"/><path d=\"M17.41 7.96l-1.37-1.37c-.4-.4-.92-.59-1.43-.59-.52 0-1.04.2-1.43.59L10.3 9.45l-7.72 7.72c-.78.78-.78 2.05 0 2.83L4 21.41c.39.39.9.59 1.41.59.51 0 1.02-.2 1.41-.59l7.78-7.78 2.81-2.81c.8-.78.8-2.07 0-2.86zM5.41 20L4 18.59l7.72-7.72 1.47 1.35L5.41 20z\"/>\n",
              "  </svg>\n",
              "      </button>\n",
              "      \n",
              "  <style>\n",
              "    .colab-df-container {\n",
              "      display:flex;\n",
              "      flex-wrap:wrap;\n",
              "      gap: 12px;\n",
              "    }\n",
              "\n",
              "    .colab-df-convert {\n",
              "      background-color: #E8F0FE;\n",
              "      border: none;\n",
              "      border-radius: 50%;\n",
              "      cursor: pointer;\n",
              "      display: none;\n",
              "      fill: #1967D2;\n",
              "      height: 32px;\n",
              "      padding: 0 0 0 0;\n",
              "      width: 32px;\n",
              "    }\n",
              "\n",
              "    .colab-df-convert:hover {\n",
              "      background-color: #E2EBFA;\n",
              "      box-shadow: 0px 1px 2px rgba(60, 64, 67, 0.3), 0px 1px 3px 1px rgba(60, 64, 67, 0.15);\n",
              "      fill: #174EA6;\n",
              "    }\n",
              "\n",
              "    [theme=dark] .colab-df-convert {\n",
              "      background-color: #3B4455;\n",
              "      fill: #D2E3FC;\n",
              "    }\n",
              "\n",
              "    [theme=dark] .colab-df-convert:hover {\n",
              "      background-color: #434B5C;\n",
              "      box-shadow: 0px 1px 3px 1px rgba(0, 0, 0, 0.15);\n",
              "      filter: drop-shadow(0px 1px 2px rgba(0, 0, 0, 0.3));\n",
              "      fill: #FFFFFF;\n",
              "    }\n",
              "  </style>\n",
              "\n",
              "      <script>\n",
              "        const buttonEl =\n",
              "          document.querySelector('#df-08188605-024f-4cdd-b3eb-7e84fa6ec9c3 button.colab-df-convert');\n",
              "        buttonEl.style.display =\n",
              "          google.colab.kernel.accessAllowed ? 'block' : 'none';\n",
              "\n",
              "        async function convertToInteractive(key) {\n",
              "          const element = document.querySelector('#df-08188605-024f-4cdd-b3eb-7e84fa6ec9c3');\n",
              "          const dataTable =\n",
              "            await google.colab.kernel.invokeFunction('convertToInteractive',\n",
              "                                                     [key], {});\n",
              "          if (!dataTable) return;\n",
              "\n",
              "          const docLinkHtml = 'Like what you see? Visit the ' +\n",
              "            '<a target=\"_blank\" href=https://colab.research.google.com/notebooks/data_table.ipynb>data table notebook</a>'\n",
              "            + ' to learn more about interactive tables.';\n",
              "          element.innerHTML = '';\n",
              "          dataTable['output_type'] = 'display_data';\n",
              "          await google.colab.output.renderOutput(dataTable, element);\n",
              "          const docLink = document.createElement('div');\n",
              "          docLink.innerHTML = docLinkHtml;\n",
              "          element.appendChild(docLink);\n",
              "        }\n",
              "      </script>\n",
              "    </div>\n",
              "  </div>\n",
              "  "
            ],
            "text/plain": [
              "   user_id  item_id  rating  timestamp\n",
              "0        1     1193       5  978300760\n",
              "1        1      661       3  978302109\n",
              "2        1      914       3  978301968\n",
              "3        1     3408       4  978300275\n",
              "4        1     2355       5  978824291"
            ]
          },
          "metadata": {},
          "execution_count": 6
        }
      ]
    },
    {
      "cell_type": "markdown",
      "source": [
        "we are not intrested in timestamps, so we can remove the column. <br>\n",
        "also, in order to keep embedding size as small as possible, we need to change the user and item ids."
      ],
      "metadata": {
        "id": "cKQsUvO77tNR"
      }
    },
    {
      "cell_type": "code",
      "source": [
        "ratings_df.drop(columns='timestamp', inplace=True)\n",
        "\n",
        "def user_id_trans(idx):\n",
        "    return idx-1\n",
        "\n",
        "item_id_trans_dict =  {k:v for k,v in zip(ratings_df.item_id.unique(),range(ratings_df.item_id.nunique()))}\n",
        "def item_id_trans(key_value):\n",
        "    return item_id_trans_dict[key_value]\n",
        "\n",
        "ratings_df.user_id = ratings_df.user_id.apply(user_id_trans)\n",
        "ratings_df.item_id = ratings_df.item_id.apply(item_id_trans)\n",
        "\n",
        "ratings_df.head()"
      ],
      "metadata": {
        "colab": {
          "base_uri": "https://localhost:8080/",
          "height": 206
        },
        "id": "K4vLMtG97eoY",
        "outputId": "7ef6a9dd-1adb-40c1-867b-cf62fd9898db"
      },
      "execution_count": 7,
      "outputs": [
        {
          "output_type": "execute_result",
          "data": {
            "text/html": [
              "\n",
              "  <div id=\"df-1b6caada-d025-400f-a50c-effa389355cf\">\n",
              "    <div class=\"colab-df-container\">\n",
              "      <div>\n",
              "<style scoped>\n",
              "    .dataframe tbody tr th:only-of-type {\n",
              "        vertical-align: middle;\n",
              "    }\n",
              "\n",
              "    .dataframe tbody tr th {\n",
              "        vertical-align: top;\n",
              "    }\n",
              "\n",
              "    .dataframe thead th {\n",
              "        text-align: right;\n",
              "    }\n",
              "</style>\n",
              "<table border=\"1\" class=\"dataframe\">\n",
              "  <thead>\n",
              "    <tr style=\"text-align: right;\">\n",
              "      <th></th>\n",
              "      <th>user_id</th>\n",
              "      <th>item_id</th>\n",
              "      <th>rating</th>\n",
              "    </tr>\n",
              "  </thead>\n",
              "  <tbody>\n",
              "    <tr>\n",
              "      <th>0</th>\n",
              "      <td>0</td>\n",
              "      <td>0</td>\n",
              "      <td>5</td>\n",
              "    </tr>\n",
              "    <tr>\n",
              "      <th>1</th>\n",
              "      <td>0</td>\n",
              "      <td>1</td>\n",
              "      <td>3</td>\n",
              "    </tr>\n",
              "    <tr>\n",
              "      <th>2</th>\n",
              "      <td>0</td>\n",
              "      <td>2</td>\n",
              "      <td>3</td>\n",
              "    </tr>\n",
              "    <tr>\n",
              "      <th>3</th>\n",
              "      <td>0</td>\n",
              "      <td>3</td>\n",
              "      <td>4</td>\n",
              "    </tr>\n",
              "    <tr>\n",
              "      <th>4</th>\n",
              "      <td>0</td>\n",
              "      <td>4</td>\n",
              "      <td>5</td>\n",
              "    </tr>\n",
              "  </tbody>\n",
              "</table>\n",
              "</div>\n",
              "      <button class=\"colab-df-convert\" onclick=\"convertToInteractive('df-1b6caada-d025-400f-a50c-effa389355cf')\"\n",
              "              title=\"Convert this dataframe to an interactive table.\"\n",
              "              style=\"display:none;\">\n",
              "        \n",
              "  <svg xmlns=\"http://www.w3.org/2000/svg\" height=\"24px\"viewBox=\"0 0 24 24\"\n",
              "       width=\"24px\">\n",
              "    <path d=\"M0 0h24v24H0V0z\" fill=\"none\"/>\n",
              "    <path d=\"M18.56 5.44l.94 2.06.94-2.06 2.06-.94-2.06-.94-.94-2.06-.94 2.06-2.06.94zm-11 1L8.5 8.5l.94-2.06 2.06-.94-2.06-.94L8.5 2.5l-.94 2.06-2.06.94zm10 10l.94 2.06.94-2.06 2.06-.94-2.06-.94-.94-2.06-.94 2.06-2.06.94z\"/><path d=\"M17.41 7.96l-1.37-1.37c-.4-.4-.92-.59-1.43-.59-.52 0-1.04.2-1.43.59L10.3 9.45l-7.72 7.72c-.78.78-.78 2.05 0 2.83L4 21.41c.39.39.9.59 1.41.59.51 0 1.02-.2 1.41-.59l7.78-7.78 2.81-2.81c.8-.78.8-2.07 0-2.86zM5.41 20L4 18.59l7.72-7.72 1.47 1.35L5.41 20z\"/>\n",
              "  </svg>\n",
              "      </button>\n",
              "      \n",
              "  <style>\n",
              "    .colab-df-container {\n",
              "      display:flex;\n",
              "      flex-wrap:wrap;\n",
              "      gap: 12px;\n",
              "    }\n",
              "\n",
              "    .colab-df-convert {\n",
              "      background-color: #E8F0FE;\n",
              "      border: none;\n",
              "      border-radius: 50%;\n",
              "      cursor: pointer;\n",
              "      display: none;\n",
              "      fill: #1967D2;\n",
              "      height: 32px;\n",
              "      padding: 0 0 0 0;\n",
              "      width: 32px;\n",
              "    }\n",
              "\n",
              "    .colab-df-convert:hover {\n",
              "      background-color: #E2EBFA;\n",
              "      box-shadow: 0px 1px 2px rgba(60, 64, 67, 0.3), 0px 1px 3px 1px rgba(60, 64, 67, 0.15);\n",
              "      fill: #174EA6;\n",
              "    }\n",
              "\n",
              "    [theme=dark] .colab-df-convert {\n",
              "      background-color: #3B4455;\n",
              "      fill: #D2E3FC;\n",
              "    }\n",
              "\n",
              "    [theme=dark] .colab-df-convert:hover {\n",
              "      background-color: #434B5C;\n",
              "      box-shadow: 0px 1px 3px 1px rgba(0, 0, 0, 0.15);\n",
              "      filter: drop-shadow(0px 1px 2px rgba(0, 0, 0, 0.3));\n",
              "      fill: #FFFFFF;\n",
              "    }\n",
              "  </style>\n",
              "\n",
              "      <script>\n",
              "        const buttonEl =\n",
              "          document.querySelector('#df-1b6caada-d025-400f-a50c-effa389355cf button.colab-df-convert');\n",
              "        buttonEl.style.display =\n",
              "          google.colab.kernel.accessAllowed ? 'block' : 'none';\n",
              "\n",
              "        async function convertToInteractive(key) {\n",
              "          const element = document.querySelector('#df-1b6caada-d025-400f-a50c-effa389355cf');\n",
              "          const dataTable =\n",
              "            await google.colab.kernel.invokeFunction('convertToInteractive',\n",
              "                                                     [key], {});\n",
              "          if (!dataTable) return;\n",
              "\n",
              "          const docLinkHtml = 'Like what you see? Visit the ' +\n",
              "            '<a target=\"_blank\" href=https://colab.research.google.com/notebooks/data_table.ipynb>data table notebook</a>'\n",
              "            + ' to learn more about interactive tables.';\n",
              "          element.innerHTML = '';\n",
              "          dataTable['output_type'] = 'display_data';\n",
              "          await google.colab.output.renderOutput(dataTable, element);\n",
              "          const docLink = document.createElement('div');\n",
              "          docLink.innerHTML = docLinkHtml;\n",
              "          element.appendChild(docLink);\n",
              "        }\n",
              "      </script>\n",
              "    </div>\n",
              "  </div>\n",
              "  "
            ],
            "text/plain": [
              "   user_id  item_id  rating\n",
              "0        0        0       5\n",
              "1        0        1       3\n",
              "2        0        2       3\n",
              "3        0        3       4\n",
              "4        0        4       5"
            ]
          },
          "metadata": {},
          "execution_count": 7
        }
      ]
    },
    {
      "cell_type": "code",
      "source": [
        "ml_users_num, ml_items_num = ratings_df.user_id.nunique(), ratings_df.item_id.nunique()\n",
        "ml_users_num, ml_items_num"
      ],
      "metadata": {
        "colab": {
          "base_uri": "https://localhost:8080/"
        },
        "id": "TUu4BApbxVkI",
        "outputId": "febc3a97-d113-4954-b92b-920b2a1a557d"
      },
      "execution_count": 8,
      "outputs": [
        {
          "output_type": "execute_result",
          "data": {
            "text/plain": [
              "(6040, 3706)"
            ]
          },
          "metadata": {},
          "execution_count": 8
        }
      ]
    },
    {
      "cell_type": "markdown",
      "source": [
        "splitting the data into train, validation and test:"
      ],
      "metadata": {
        "id": "-gIHmW1qGK6_"
      }
    },
    {
      "cell_type": "code",
      "source": [
        "train, test = train_test_split(ratings_df, test_size=0.1, random_state=42)\n",
        "train.user_id.nunique(), train.item_id.nunique()\n",
        "\n",
        "def create_full_mat(df):\n",
        "    full_mat = np.zeros((ml_users_num, ml_items_num))\n",
        "    for user, item, rating in zip(df.user_id, df.item_id, df.rating):\n",
        "        full_mat[user, item] = rating\n",
        "    return full_mat\n",
        "\n",
        "full_train_mat = create_full_mat(train)\n",
        "full_test_mat = create_full_mat(test)"
      ],
      "metadata": {
        "id": "boo_V2j7GQuR"
      },
      "execution_count": 9,
      "outputs": []
    },
    {
      "cell_type": "code",
      "source": [
        "def df_to_mat(df):\n",
        "    full_mat = np.zeros((df.user_id.max()+1, df.item_id.max()+1))\n",
        "    for user, item, rating in zip(df.user_id, df.item_id, df.rating):\n",
        "        full_mat[user, item] = rating\n",
        "    return full_mat"
      ],
      "metadata": {
        "id": "UmoVSGibAXrT"
      },
      "execution_count": 10,
      "outputs": []
    },
    {
      "cell_type": "code",
      "source": [
        "# train.item_id.unique() not in list(range(ml_items_num))\n",
        "# list(set(range(ml_items_num)) - set(train.item_id.unique()))"
      ],
      "metadata": {
        "id": "iGFtNEgN1Yb_"
      },
      "execution_count": 11,
      "outputs": []
    },
    {
      "cell_type": "code",
      "source": [
        "class MF:\n",
        "    es = EarlyStopping(monitor='val_loss', mode='min', verbose=1, patience=5)\n",
        "    mc = ModelCheckpoint('best_mf_model.h5', monitor='val_loss', mode='min', save_best_only=True)\n",
        "\n",
        "    def __init__(self, users_num, items_num, latent_dim=20, optimizer='Adam', loss='mean_squared_error', learning_rate=0.01):\n",
        "        self.users_num = users_num\n",
        "        self.items_num = items_num\n",
        "        self.optimizer = optimizer\n",
        "        self.loss = loss\n",
        "        self.learning_rate = learning_rate\n",
        "        self.latent_dim = latent_dim\n",
        "\n",
        "        # user_input = Input(shape=(1,), name='user_input', dtype='int32')\n",
        "        # item_input = Input(shape=(1,), name='item_input', dtype='int32')\n",
        "\n",
        "        # user_embedding = Embedding(input_dim=users_num, output_dim=latent_dim, name='user_embedding')(user_input)\n",
        "        # item_embedding = Embedding(input_dim=items_num, output_dim=latent_dim, name='item_embedding')(item_input)\n",
        "\n",
        "        # user_latent = Flatten()(user_embedding)\n",
        "        # item_latent = Flatten()(item_embedding)\n",
        "\n",
        "        # pred = keras.layers.dot([user_latent, item_latent], axes=1, normalize=False)\n",
        "        # self.model = Model(inputs=[user_input, item_input], outputs=pred)\n",
        "        # self.model_builder()\n",
        "\n",
        "        # if optimizer=='Adam':\n",
        "        #     self.model.compile(optimizer=Adam(learning_rate=learning_rate), loss=loss)\n",
        "        # else:\n",
        "        #     raise Exception('Optimizer not implemented')\n",
        "        # self.model.summary()\n",
        "        \n",
        "    def build_opt_model(self):\n",
        "        user_input = Input(shape=(1,), name='user_input', dtype='int32')\n",
        "        item_input = Input(shape=(1,), name='item_input', dtype='int32')\n",
        "\n",
        "        user_embedding = Embedding(input_dim=self.users_num, output_dim=self.latent_dim, name='user_embedding')(user_input)\n",
        "        item_embedding = Embedding(input_dim=self.items_num, output_dim=self.latent_dim, name='item_embedding')(item_input)\n",
        "\n",
        "        user_latent = Flatten()(user_embedding)\n",
        "        item_latent = Flatten()(item_embedding)\n",
        "\n",
        "        pred = keras.layers.dot([user_latent, item_latent], axes=1, normalize=False)\n",
        "        self.model = Model(inputs=[user_input, item_input], outputs=pred)\n",
        "\n",
        "        if self.optimizer=='Adam':\n",
        "            self.model.compile(optimizer=Adam(learning_rate=self.learning_rate), loss=self.loss)\n",
        "        else:\n",
        "            raise Exception('Optimizer not implemented')\n",
        "        self.model.summary()\n",
        "\n",
        "    def model_builder(self, hp):\n",
        "        user_input = Input(shape=(1,), name='user_input', dtype='int32')\n",
        "        item_input = Input(shape=(1,), name='item_input', dtype='int32')\n",
        "\n",
        "        hp_latent_dim = hp.Int('latent_dim', min_value=8, max_value=40, step=8)\n",
        "\n",
        "        user_embedding = Embedding(input_dim=self.users_num, output_dim=hp_latent_dim, name='user_embedding')(user_input)\n",
        "        item_embedding = Embedding(input_dim=self.items_num, output_dim=hp_latent_dim, name='item_embedding')(item_input)\n",
        "\n",
        "        user_latent = Flatten()(user_embedding)\n",
        "        item_latent = Flatten()(item_embedding)\n",
        "\n",
        "        pred = keras.layers.dot([user_latent, item_latent], axes=1, normalize=False)\n",
        "        self.model = Model(inputs=[user_input, item_input], outputs=pred)\n",
        "\n",
        "        hp_learning_rate = hp.Choice('learning_rate', values=[1e-2, 1e-3, 1e-4])\n",
        "\n",
        "        if self.optimizer=='Adam':\n",
        "            self.model.compile(optimizer=Adam(learning_rate=hp_learning_rate), loss=self.loss)\n",
        "        else:\n",
        "            raise Exception('Optimizer not implemented')\n",
        "        self.model.summary()\n",
        "        return self.model\n",
        "        \n",
        "    def fit(self, user_input, item_input, labels, batch_size=8168, epochs=100, verbose=1):\n",
        "        self.hist = self.model.fit([np.array(user_input), np.array(item_input)], #input\n",
        "                                np.array(labels), # labels \n",
        "                                validation_split=0.1,\n",
        "                                batch_size=batch_size, epochs=epochs, verbose=verbose, \n",
        "                                callbacks=[MF.es, MF.mc]) \n",
        "    \n",
        "    def predict(self, user_input, item_input, batch_size=8168, verbose=1):\n",
        "        self.predictions = self.model.predict([np.array(user_input), np.array(item_input)], \n",
        "                                 batch_size=batch_size, verbose=verbose)"
      ],
      "metadata": {
        "id": "B0V-42grnmzi"
      },
      "execution_count": 12,
      "outputs": []
    },
    {
      "cell_type": "markdown",
      "source": [
        "creating and fitting the model:"
      ],
      "metadata": {
        "id": "Xgvmv2jXRO2u"
      }
    },
    {
      "cell_type": "code",
      "source": [
        "mf = MF(users_num=ratings_df.user_id.max()+1, items_num=ratings_df.item_id.max()+1)"
      ],
      "metadata": {
        "id": "ytvDSyEMIrRU"
      },
      "execution_count": 13,
      "outputs": []
    },
    {
      "cell_type": "code",
      "source": [
        "tuner = kt.Hyperband(mf.model_builder,\n",
        "                     objective='val_loss',\n",
        "                     max_epochs=10,\n",
        "                     factor=3,\n",
        "                     directory='hyper_params',\n",
        "                     project_name='mf_ml')"
      ],
      "metadata": {
        "colab": {
          "base_uri": "https://localhost:8080/"
        },
        "id": "iqbbZ6Uyp8vO",
        "outputId": "df827e4e-3104-43fc-e0e6-efc64522c29e"
      },
      "execution_count": 14,
      "outputs": [
        {
          "output_type": "stream",
          "name": "stdout",
          "text": [
            "Model: \"model\"\n",
            "__________________________________________________________________________________________________\n",
            " Layer (type)                   Output Shape         Param #     Connected to                     \n",
            "==================================================================================================\n",
            " user_input (InputLayer)        [(None, 1)]          0           []                               \n",
            "                                                                                                  \n",
            " item_input (InputLayer)        [(None, 1)]          0           []                               \n",
            "                                                                                                  \n",
            " user_embedding (Embedding)     (None, 1, 8)         48320       ['user_input[0][0]']             \n",
            "                                                                                                  \n",
            " item_embedding (Embedding)     (None, 1, 8)         29648       ['item_input[0][0]']             \n",
            "                                                                                                  \n",
            " flatten (Flatten)              (None, 8)            0           ['user_embedding[0][0]']         \n",
            "                                                                                                  \n",
            " flatten_1 (Flatten)            (None, 8)            0           ['item_embedding[0][0]']         \n",
            "                                                                                                  \n",
            " dot (Dot)                      (None, 1)            0           ['flatten[0][0]',                \n",
            "                                                                  'flatten_1[0][0]']              \n",
            "                                                                                                  \n",
            "==================================================================================================\n",
            "Total params: 77,968\n",
            "Trainable params: 77,968\n",
            "Non-trainable params: 0\n",
            "__________________________________________________________________________________________________\n"
          ]
        }
      ]
    },
    {
      "cell_type": "code",
      "source": [
        "stop_early = tf.keras.callbacks.EarlyStopping(monitor='val_loss', patience=5)\n",
        "tuner.search([np.array(train.user_id), np.array(train.item_id)], np.array(train.rating), \n",
        "             epochs=10, validation_split=0.2, callbacks=[stop_early], batch_size=512)\n",
        "# Get the optimal hyperparameters\n",
        "best_hps=tuner.get_best_hyperparameters(num_trials=1)[0]"
      ],
      "metadata": {
        "colab": {
          "base_uri": "https://localhost:8080/"
        },
        "id": "gRgK4SiFqOZT",
        "outputId": "24e801cf-819f-4874-8296-1247801cc298"
      },
      "execution_count": 15,
      "outputs": [
        {
          "output_type": "stream",
          "name": "stdout",
          "text": [
            "Trial 20 Complete [00h 00m 20s]\n",
            "val_loss: 0.8104820251464844\n",
            "\n",
            "Best val_loss So Far: 0.807671308517456\n",
            "Total elapsed time: 00h 05m 10s\n",
            "INFO:tensorflow:Oracle triggered exit\n"
          ]
        }
      ]
    },
    {
      "cell_type": "code",
      "source": [
        "best_hps.get('latent_dim'), best_hps.get('learning_rate')"
      ],
      "metadata": {
        "colab": {
          "base_uri": "https://localhost:8080/"
        },
        "id": "wioPaEO4uvfS",
        "outputId": "81cb24f2-3d5a-4b68-e58e-5155d7fe32e0"
      },
      "execution_count": 16,
      "outputs": [
        {
          "output_type": "execute_result",
          "data": {
            "text/plain": [
              "(32, 0.001)"
            ]
          },
          "metadata": {},
          "execution_count": 16
        }
      ]
    },
    {
      "cell_type": "code",
      "source": [
        "mf_opt = MF(users_num=ratings_df.user_id.max()+1, items_num=ratings_df.item_id.max()+1, latent_dim=best_hps.get('latent_dim'), learning_rate=best_hps.get('learning_rate'))\n",
        "mf_opt.build_opt_model()"
      ],
      "metadata": {
        "colab": {
          "base_uri": "https://localhost:8080/"
        },
        "id": "u3VynXcTHf62",
        "outputId": "52669983-0c28-4d8e-9e6e-9e52f5d19a3a"
      },
      "execution_count": 17,
      "outputs": [
        {
          "output_type": "stream",
          "name": "stdout",
          "text": [
            "Model: \"model_1\"\n",
            "__________________________________________________________________________________________________\n",
            " Layer (type)                   Output Shape         Param #     Connected to                     \n",
            "==================================================================================================\n",
            " user_input (InputLayer)        [(None, 1)]          0           []                               \n",
            "                                                                                                  \n",
            " item_input (InputLayer)        [(None, 1)]          0           []                               \n",
            "                                                                                                  \n",
            " user_embedding (Embedding)     (None, 1, 32)        193280      ['user_input[0][0]']             \n",
            "                                                                                                  \n",
            " item_embedding (Embedding)     (None, 1, 32)        118592      ['item_input[0][0]']             \n",
            "                                                                                                  \n",
            " flatten_2 (Flatten)            (None, 32)           0           ['user_embedding[0][0]']         \n",
            "                                                                                                  \n",
            " flatten_3 (Flatten)            (None, 32)           0           ['item_embedding[0][0]']         \n",
            "                                                                                                  \n",
            " dot_1 (Dot)                    (None, 1)            0           ['flatten_2[0][0]',              \n",
            "                                                                  'flatten_3[0][0]']              \n",
            "                                                                                                  \n",
            "==================================================================================================\n",
            "Total params: 311,872\n",
            "Trainable params: 311,872\n",
            "Non-trainable params: 0\n",
            "__________________________________________________________________________________________________\n"
          ]
        }
      ]
    },
    {
      "cell_type": "code",
      "source": [
        "mf_opt.fit(train.user_id, train.item_id, labels=train.rating)"
      ],
      "metadata": {
        "id": "iNR43DFMXmXJ",
        "colab": {
          "base_uri": "https://localhost:8080/"
        },
        "outputId": "af5c6339-3f60-4a1c-8c7f-1184e3cda905"
      },
      "execution_count": 18,
      "outputs": [
        {
          "output_type": "stream",
          "name": "stdout",
          "text": [
            "Epoch 1/100\n",
            "100/100 [==============================] - 1s 6ms/step - loss: 14.0481 - val_loss: 13.9505\n",
            "Epoch 2/100\n",
            "100/100 [==============================] - 0s 5ms/step - loss: 12.1177 - val_loss: 8.8923\n",
            "Epoch 3/100\n",
            "100/100 [==============================] - 0s 5ms/step - loss: 5.2712 - val_loss: 2.5439\n",
            "Epoch 4/100\n",
            "100/100 [==============================] - 0s 5ms/step - loss: 1.6706 - val_loss: 1.2238\n",
            "Epoch 5/100\n",
            "100/100 [==============================] - 0s 5ms/step - loss: 1.0681 - val_loss: 0.9856\n",
            "Epoch 6/100\n",
            "100/100 [==============================] - 0s 5ms/step - loss: 0.9251 - val_loss: 0.9040\n",
            "Epoch 7/100\n",
            "100/100 [==============================] - 0s 5ms/step - loss: 0.8703 - val_loss: 0.8691\n",
            "Epoch 8/100\n",
            "100/100 [==============================] - 0s 5ms/step - loss: 0.8455 - val_loss: 0.8526\n",
            "Epoch 9/100\n",
            "100/100 [==============================] - 0s 5ms/step - loss: 0.8330 - val_loss: 0.8438\n",
            "Epoch 10/100\n",
            "100/100 [==============================] - 0s 5ms/step - loss: 0.8259 - val_loss: 0.8390\n",
            "Epoch 11/100\n",
            "100/100 [==============================] - 0s 5ms/step - loss: 0.8217 - val_loss: 0.8356\n",
            "Epoch 12/100\n",
            "100/100 [==============================] - 0s 5ms/step - loss: 0.8184 - val_loss: 0.8333\n",
            "Epoch 13/100\n",
            "100/100 [==============================] - 0s 5ms/step - loss: 0.8158 - val_loss: 0.8316\n",
            "Epoch 14/100\n",
            "100/100 [==============================] - 0s 5ms/step - loss: 0.8132 - val_loss: 0.8294\n",
            "Epoch 15/100\n",
            "100/100 [==============================] - 0s 5ms/step - loss: 0.8105 - val_loss: 0.8272\n",
            "Epoch 16/100\n",
            "100/100 [==============================] - 1s 5ms/step - loss: 0.8076 - val_loss: 0.8243\n",
            "Epoch 17/100\n",
            "100/100 [==============================] - 0s 5ms/step - loss: 0.8041 - val_loss: 0.8212\n",
            "Epoch 18/100\n",
            "100/100 [==============================] - 1s 5ms/step - loss: 0.8002 - val_loss: 0.8183\n",
            "Epoch 19/100\n",
            "100/100 [==============================] - 0s 5ms/step - loss: 0.7958 - val_loss: 0.8146\n",
            "Epoch 20/100\n",
            "100/100 [==============================] - 0s 5ms/step - loss: 0.7911 - val_loss: 0.8104\n",
            "Epoch 21/100\n",
            "100/100 [==============================] - 0s 5ms/step - loss: 0.7861 - val_loss: 0.8062\n",
            "Epoch 22/100\n",
            "100/100 [==============================] - 0s 5ms/step - loss: 0.7809 - val_loss: 0.8021\n",
            "Epoch 23/100\n",
            "100/100 [==============================] - 0s 5ms/step - loss: 0.7757 - val_loss: 0.7985\n",
            "Epoch 24/100\n",
            "100/100 [==============================] - 1s 5ms/step - loss: 0.7708 - val_loss: 0.7946\n",
            "Epoch 25/100\n",
            "100/100 [==============================] - 1s 5ms/step - loss: 0.7659 - val_loss: 0.7911\n",
            "Epoch 26/100\n",
            "100/100 [==============================] - 0s 5ms/step - loss: 0.7613 - val_loss: 0.7880\n",
            "Epoch 27/100\n",
            "100/100 [==============================] - 0s 5ms/step - loss: 0.7570 - val_loss: 0.7849\n",
            "Epoch 28/100\n",
            "100/100 [==============================] - 0s 5ms/step - loss: 0.7527 - val_loss: 0.7826\n",
            "Epoch 29/100\n",
            "100/100 [==============================] - 0s 5ms/step - loss: 0.7486 - val_loss: 0.7802\n",
            "Epoch 30/100\n",
            "100/100 [==============================] - 1s 5ms/step - loss: 0.7447 - val_loss: 0.7776\n",
            "Epoch 31/100\n",
            "100/100 [==============================] - 0s 5ms/step - loss: 0.7407 - val_loss: 0.7757\n",
            "Epoch 32/100\n",
            "100/100 [==============================] - 1s 5ms/step - loss: 0.7367 - val_loss: 0.7733\n",
            "Epoch 33/100\n",
            "100/100 [==============================] - 0s 5ms/step - loss: 0.7327 - val_loss: 0.7714\n",
            "Epoch 34/100\n",
            "100/100 [==============================] - 1s 5ms/step - loss: 0.7286 - val_loss: 0.7693\n",
            "Epoch 35/100\n",
            "100/100 [==============================] - 0s 5ms/step - loss: 0.7244 - val_loss: 0.7669\n",
            "Epoch 36/100\n",
            "100/100 [==============================] - 1s 5ms/step - loss: 0.7201 - val_loss: 0.7650\n",
            "Epoch 37/100\n",
            "100/100 [==============================] - 0s 5ms/step - loss: 0.7158 - val_loss: 0.7630\n",
            "Epoch 38/100\n",
            "100/100 [==============================] - 0s 5ms/step - loss: 0.7113 - val_loss: 0.7611\n",
            "Epoch 39/100\n",
            "100/100 [==============================] - 0s 5ms/step - loss: 0.7066 - val_loss: 0.7587\n",
            "Epoch 40/100\n",
            "100/100 [==============================] - 0s 5ms/step - loss: 0.7017 - val_loss: 0.7568\n",
            "Epoch 41/100\n",
            "100/100 [==============================] - 1s 5ms/step - loss: 0.6968 - val_loss: 0.7549\n",
            "Epoch 42/100\n",
            "100/100 [==============================] - 0s 5ms/step - loss: 0.6916 - val_loss: 0.7528\n",
            "Epoch 43/100\n",
            "100/100 [==============================] - 0s 5ms/step - loss: 0.6863 - val_loss: 0.7509\n",
            "Epoch 44/100\n",
            "100/100 [==============================] - 0s 5ms/step - loss: 0.6808 - val_loss: 0.7490\n",
            "Epoch 45/100\n",
            "100/100 [==============================] - 0s 5ms/step - loss: 0.6752 - val_loss: 0.7472\n",
            "Epoch 46/100\n",
            "100/100 [==============================] - 1s 5ms/step - loss: 0.6694 - val_loss: 0.7450\n",
            "Epoch 47/100\n",
            "100/100 [==============================] - 0s 5ms/step - loss: 0.6636 - val_loss: 0.7430\n",
            "Epoch 48/100\n",
            "100/100 [==============================] - 0s 5ms/step - loss: 0.6577 - val_loss: 0.7419\n",
            "Epoch 49/100\n",
            "100/100 [==============================] - 1s 5ms/step - loss: 0.6516 - val_loss: 0.7402\n",
            "Epoch 50/100\n",
            "100/100 [==============================] - 0s 5ms/step - loss: 0.6454 - val_loss: 0.7383\n",
            "Epoch 51/100\n",
            "100/100 [==============================] - 0s 5ms/step - loss: 0.6392 - val_loss: 0.7375\n",
            "Epoch 52/100\n",
            "100/100 [==============================] - 0s 5ms/step - loss: 0.6330 - val_loss: 0.7364\n",
            "Epoch 53/100\n",
            "100/100 [==============================] - 1s 5ms/step - loss: 0.6267 - val_loss: 0.7349\n",
            "Epoch 54/100\n",
            "100/100 [==============================] - 1s 5ms/step - loss: 0.6205 - val_loss: 0.7345\n",
            "Epoch 55/100\n",
            "100/100 [==============================] - 0s 5ms/step - loss: 0.6142 - val_loss: 0.7339\n",
            "Epoch 56/100\n",
            "100/100 [==============================] - 0s 5ms/step - loss: 0.6079 - val_loss: 0.7331\n",
            "Epoch 57/100\n",
            "100/100 [==============================] - 0s 5ms/step - loss: 0.6018 - val_loss: 0.7329\n",
            "Epoch 58/100\n",
            "100/100 [==============================] - 0s 5ms/step - loss: 0.5955 - val_loss: 0.7327\n",
            "Epoch 59/100\n",
            "100/100 [==============================] - 0s 5ms/step - loss: 0.5894 - val_loss: 0.7326\n",
            "Epoch 60/100\n",
            "100/100 [==============================] - 0s 4ms/step - loss: 0.5832 - val_loss: 0.7328\n",
            "Epoch 61/100\n",
            "100/100 [==============================] - 0s 5ms/step - loss: 0.5772 - val_loss: 0.7333\n",
            "Epoch 62/100\n",
            "100/100 [==============================] - 1s 5ms/step - loss: 0.5712 - val_loss: 0.7337\n",
            "Epoch 63/100\n",
            "100/100 [==============================] - 0s 4ms/step - loss: 0.5653 - val_loss: 0.7343\n",
            "Epoch 64/100\n",
            "100/100 [==============================] - 0s 5ms/step - loss: 0.5596 - val_loss: 0.7352\n",
            "Epoch 00064: early stopping\n"
          ]
        }
      ]
    },
    {
      "cell_type": "code",
      "source": [
        "# plot training history\n",
        "plt.plot(mf_opt.hist.history['loss'], label='train')\n",
        "plt.plot(mf_opt.hist.history['val_loss'], label='validation')\n",
        "plt.xlabel('iteration')\n",
        "plt.ylabel('loss')\n",
        "plt.legend()\n",
        "plt.show()"
      ],
      "metadata": {
        "colab": {
          "base_uri": "https://localhost:8080/",
          "height": 279
        },
        "id": "q2pW_l7WNIvh",
        "outputId": "b9fab25c-1232-447e-bd69-4c0256795729"
      },
      "execution_count": 19,
      "outputs": [
        {
          "output_type": "display_data",
          "data": {
            "image/png": "[encoded data removed]",
            "text/plain": [
              "<Figure size 432x288 with 1 Axes>"
            ]
          },
          "metadata": {
            "needs_background": "light"
          }
        }
      ]
    },
    {
      "cell_type": "markdown",
      "source": [
        "test prediction:"
      ],
      "metadata": {
        "id": "kOr-Y-OYRU_k"
      }
    },
    {
      "cell_type": "code",
      "source": [
        "mf_opt.predict(test.user_id, test.item_id)"
      ],
      "metadata": {
        "colab": {
          "base_uri": "https://localhost:8080/"
        },
        "id": "fnMRiZSePy_d",
        "outputId": "43ad596a-2b42-4af1-8ef5-c6318e20b88c"
      },
      "execution_count": 20,
      "outputs": [
        {
          "output_type": "stream",
          "name": "stdout",
          "text": [
            "13/13 [==============================] - 0s 2ms/step\n"
          ]
        }
      ]
    },
    {
      "cell_type": "code",
      "source": [
        "class my_metrics():\n",
        "    \n",
        "    THRESHOLD = 3\n",
        "\n",
        "    def RMSE(y_true, y_pred, lower_bound=1, upper_bound=5):\n",
        "        y_pred[y_pred<lower_bound] = lower_bound\n",
        "        y_pred[y_pred>upper_bound] = upper_bound\n",
        "        rel_preds = (y_true >= lower_bound) & (y_true <= upper_bound)\n",
        "        return np.sqrt(((rel_preds * (y_true - y_pred))**2).sum() / rel_preds.sum())\n",
        "    \n",
        "    def MRR(df_true, df_pred, lower_bound=1, upper_bound=5, top_n=5, threshold_val=THRESHOLD):\n",
        "        # please use MRR_for_user\n",
        "        user_mrr = []\n",
        "        for i in range(df_true.shape[0]):\n",
        "            val = my_metrics.MRR_for_user(df_true[i,:], df_pred[i,:], lower_bound, upper_bound, top_n, threshold_val)\n",
        "            if val is not None:\n",
        "                user_mrr.append(val)\n",
        "        return np.sum(user_mrr)/len(user_mrr)\n",
        "    \n",
        "    def MRR_for_user(user_true, user_pred, lower_bound, upper_bound, top_n, threshold_val):\n",
        "        rel_preds = (user_true >= lower_bound) & (user_true <= upper_bound)\n",
        "        if rel_preds.sum() == 0:\n",
        "            return None\n",
        "        screened_user_true = user_true[rel_preds]\n",
        "        screened_user_pred = user_pred[rel_preds]\n",
        "\n",
        "        top_n_pred_indicies = screened_user_pred.argsort()[::-1][:top_n]\n",
        "        for i, (pred, actual) in enumerate(zip(screened_user_pred[top_n_pred_indicies], screened_user_true[top_n_pred_indicies])):\n",
        "            if actual >= threshold_val:\n",
        "                return 1.0/(i+1)\n",
        "        \n",
        "        return 0.0\n",
        "\n",
        "    def NDCG(df_true, df_pred, lower_bound=1, upper_bound=5, top_n=5):\n",
        "        # please use NDCG_for_user\n",
        "        user_ndcg = []\n",
        "        for i in range(df_true.shape[0]):\n",
        "            user_ndcg.append(my_metrics.NDCG_for_user(df_true[i], df_pred[i], lower_bound, upper_bound, top_n))\n",
        "        \n",
        "        user_ndcg = [x for x in user_ndcg if math.isnan(x) == False]\n",
        "\n",
        "        return np.sum(user_ndcg) / len(user_ndcg)\n",
        "        \n",
        "    def NDCG_for_user(user_true,user_pred,lower_bound=1,upper_bound=5,top_n=5):\n",
        "        # please use DCG function\n",
        "        rel_preds = (user_true >= lower_bound) & (user_true <= upper_bound)\n",
        "        if rel_preds.astype(bool).sum() < top_n:\n",
        "            return np.nan        \n",
        "        screened_user_true = user_true[rel_preds]\n",
        "        screened_user_pred = user_pred[rel_preds]\n",
        "        top_n_pred_indicies = screened_user_pred.argsort()[::-1][:top_n]\n",
        "        user_dcg = my_metrics.DCG(screened_user_true[top_n_pred_indicies])\n",
        "        user_idcg = my_metrics.DCG(np.sort(screened_user_true[top_n_pred_indicies])[::-1])\n",
        "        return user_dcg / user_idcg\n",
        "    \n",
        "    def DCG(rel):\n",
        "        # please implement the DCG formula\n",
        "        dcg = rel[0]\n",
        "        for i in range(1, len(rel)):\n",
        "            dcg += rel[i]/np.log2(i+2)\n",
        "\n",
        "        return dcg\n",
        "    \n",
        "    def get_evaluation(df_true,df_pred):        \n",
        "        return {'RMSE':my_metrics.RMSE(df_true,df_pred,),'MRR_5':my_metrics.MRR(df_true,df_pred,top_n=5),'MRR_10':my_metrics.MRR(df_true,df_pred,top_n=10),'NDCG_5':my_metrics.NDCG(df_true,df_pred,top_n=5),'NDCG_10':my_metrics.NDCG(df_true,df_pred,top_n=10)}"
      ],
      "metadata": {
        "id": "HmZoht0hPwOV"
      },
      "execution_count": 21,
      "outputs": []
    },
    {
      "cell_type": "code",
      "source": [
        "# mf_ml_rmse = my_metrics.RMSE(test.rating.values, mf_opt.predictions.reshape(-1))\n",
        "# mf_ml_rmse"
      ],
      "metadata": {
        "id": "sBren44kQJLQ"
      },
      "execution_count": 22,
      "outputs": []
    },
    {
      "cell_type": "code",
      "source": [
        "pred_df = test.copy()\n",
        "pred_df.rating = mf_opt.predictions.reshape(-1)\n",
        "pred_mat = df_to_mat(pred_df)\n",
        "test_mat = df_to_mat(test)"
      ],
      "metadata": {
        "id": "68PeYV_0_N2G"
      },
      "execution_count": 23,
      "outputs": []
    },
    {
      "cell_type": "code",
      "source": [
        "mf_opt_eval = my_metrics.get_evaluation(test_mat, pred_mat)\n",
        "mf_opt_eval"
      ],
      "metadata": {
        "colab": {
          "base_uri": "https://localhost:8080/"
        },
        "id": "MwiJBjtFAAom",
        "outputId": "774f3d5d-3fb8-434e-9148-e2825859af19"
      },
      "execution_count": 24,
      "outputs": [
        {
          "output_type": "execute_result",
          "data": {
            "text/plain": [
              "{'MRR_10': 0.9762339475153545,\n",
              " 'MRR_5': 0.9762339475153545,\n",
              " 'NDCG_10': 0.9671141808975139,\n",
              " 'NDCG_5': 0.9715781786913942,\n",
              " 'RMSE': 0.8606383510306934}"
            ]
          },
          "metadata": {},
          "execution_count": 24
        }
      ]
    },
    {
      "cell_type": "markdown",
      "source": [
        "AutoRec"
      ],
      "metadata": {
        "id": "bFghzpAklfwP"
      }
    },
    {
      "cell_type": "code",
      "source": [
        "def dataPreprocessor(rating_df):\n",
        "    train_df, test_df = train_test_split(rating_df, test_size=0.1, random_state=42)\n",
        "    train_mat = np.zeros((rating_df.user_id.nunique(), rating_df.item_id.nunique()))\n",
        "    for (user_id, item_id, rating) in zip(train_df.user_id, train_df.item_id, train_df.rating):\n",
        "        train_mat[user_id, item_id] = rating\n",
        "\n",
        "    # train_mat_avg = copy.copy(train_mat)\n",
        "    # average = np.true_divide(train_mat_avg.sum(1), np.maximum((train_mat_avg!=0).sum(1), 1))\n",
        "    # inds = np.where(train_mat_avg == 0)\n",
        "    # train_mat_avg[inds] = np.take(average, inds[0])\n",
        "\n",
        "    test_mat = np.zeros((rating_df.user_id.nunique(), rating_df.item_id.nunique()))\n",
        "    for (user_id, item_id, rating) in zip(test_df.user_id, test_df.item_id, test_df.rating):\n",
        "        test_mat[user_id, item_id] = rating\n",
        "\n",
        "    # test_mat_avg = copy.copy(test_mat)\n",
        "    # average = np.true_divide(test_mat_avg.sum(1), np.maximum((test_mat_avg!=0).sum(1), 1))\n",
        "    # inds = np.where(test_mat_avg == 0)\n",
        "    # test_mat_avg[inds] = np.take(average, inds[0])\n",
        "    \n",
        "\n",
        "    \n",
        "    return train_mat, test_mat"
      ],
      "metadata": {
        "id": "UA5_HEjXv9gv"
      },
      "execution_count": 25,
      "outputs": []
    },
    {
      "cell_type": "code",
      "source": [
        "class IAutoRec:\n",
        "    es = EarlyStopping(monitor='val_loss', mode='min', verbose=1, patience=10)\n",
        "    mc = ModelCheckpoint('best_autorec_model.h5', monitor='val_loss', mode='min', save_best_only=True)\n",
        "    # es = EarlyStopping(monitor='loss', mode='min', verbose=1, patience=5)\n",
        "    # mc = ModelCheckpoint('best_autorec_model.h5', monitor='loss', mode='min', save_best_only=True)\n",
        "\n",
        "    def __init__(self, items_num, hidden_units=500, reg=0.0005, optimizer='Adam', loss='mean_squared_error', learning_rate=0.0001, first_activation='elu', last_activation='elu'):\n",
        "        self.items_num = items_num\n",
        "        self.hidden_units = hidden_units\n",
        "        self.reg = reg\n",
        "        self.optimizer = optimizer\n",
        "        self.loss = loss\n",
        "        self.learning_rate = learning_rate\n",
        "        self.first_activation = first_activation\n",
        "        self.last_activation = last_activation\n",
        "        # input_layer = Input(shape=(rating_mat.shape[1],), name='item_rating')\n",
        "        # dense = Dense(hidden_units, activation=first_activation, name='latent_dim', kernel_regularizer=regularizers.l2(reg))(input_layer)\n",
        "        # output_layer = Dense(rating_mat.shape[1], activation=last_activation, name='item_pred_rating', kernel_regularizer=regularizers.l2(reg))(dense)\n",
        "        # self.model = Model(input_layer, output_layer)\n",
        "\n",
        "        # if optimizer=='Adam':\n",
        "        #     # self.model.compile(optimizer=Adam(learning_rate=learning_rate), loss=loss)\n",
        "        #     self.model.compile(optimizer=Adam(learning_rate=learning_rate), loss=self.masked_rmse)\n",
        "        # else:\n",
        "        #     raise Exception('Optimizer not implemented')\n",
        "\n",
        "        # self.model.summary()\n",
        "\n",
        "    def build_opt_model(self):\n",
        "        input_layer = Input(shape=(self.items_num,), name='item_rating')\n",
        "        dense = Dense(self.hidden_units, activation=self.first_activation, name='latent_dim', kernel_regularizer=regularizers.l2(self.reg))(input_layer)\n",
        "        output_layer = Dense(self.items_num, activation=self.last_activation, name='item_pred_rating', kernel_regularizer=regularizers.l2(self.reg))(dense)\n",
        "        self.model = Model(input_layer, output_layer)\n",
        "\n",
        "        if self.optimizer=='Adam':\n",
        "            # self.model.compile(optimizer=Adam(learning_rate=learning_rate), loss=loss)\n",
        "            self.model.compile(optimizer=Adam(learning_rate=self.learning_rate), loss=IAutoRec.masked_rmse)\n",
        "        else:\n",
        "            raise Exception('Optimizer not implemented')\n",
        "\n",
        "        self.model.summary()\n",
        "\n",
        "    def model_builder(self, hp):\n",
        "        input_layer = Input(shape=(self.items_num,), name='item_rating')\n",
        "        hp_hidden_units = hp.Int('hidden_units', min_value=300, max_value=800, step=100)\n",
        "        hp_reg = hp.Choice('reg', values=[0.01, 0.001, 0.0001])\n",
        "        dense = Dense(hp_hidden_units, activation=self.first_activation, name='latent_dim', kernel_regularizer=regularizers.l2(hp_reg))(input_layer)\n",
        "        output_layer = Dense(self.items_num, activation=self.last_activation, name='item_pred_rating', kernel_regularizer=regularizers.l2(hp_reg))(dense)\n",
        "        self.model = Model(input_layer, output_layer)\n",
        "\n",
        "        hp_learning_rate = hp.Choice('learning_rate', values=[1e-2, 1e-3, 1e-4])\n",
        "        if self.optimizer=='Adam':\n",
        "            # self.model.compile(optimizer=Adam(learning_rate=hp_learning_rate), loss=self.loss)\n",
        "            self.model.compile(optimizer=Adam(learning_rate=hp_learning_rate), loss=IAutoRec.masked_rmse)\n",
        "        else:\n",
        "            raise Exception('Optimizer not implemented')\n",
        "\n",
        "        self.model.summary()\n",
        "        return self.model\n",
        "\n",
        "    @staticmethod\n",
        "    def masked_rmse(y_true, y_pred):\n",
        "        mask = tf.cast(tf.not_equal(y_true, 0), dtype='float32') \n",
        "        e = y_true - y_pred\n",
        "        se = e * e \n",
        "        se = se * mask\n",
        "        mse = 1.0 * tf.reduce_sum(se) / tf.reduce_sum(mask)\n",
        "        rmse = tf.math.sqrt(mse)\n",
        "        return rmse\n",
        "\n",
        "    def fit(self, rating_mat, rating_mat2,  batch_size=256, epochs=500, verbose=2):\n",
        "        self.hist = self.model.fit(x=rating_mat,y=rating_mat2,\n",
        "                                validation_split=0.1,\n",
        "                                batch_size=batch_size, epochs=epochs, verbose=verbose, \n",
        "                                callbacks=[IAutoRec.es, IAutoRec.mc]) \n",
        "    \n",
        "    def predict(self, rating_mat, batch_size=512, verbose=1):\n",
        "        self.predictions = self.model.predict(rating_mat, \n",
        "                                 batch_size=batch_size, verbose=verbose)"
      ],
      "metadata": {
        "id": "V3toqPf1lfBk"
      },
      "execution_count": 26,
      "outputs": []
    },
    {
      "cell_type": "code",
      "source": [
        "train_mat, test_mat = dataPreprocessor(ratings_df)\n",
        "autorec = IAutoRec(train_mat.shape[1])\n",
        "tuner = kt.Hyperband(autorec.model_builder,\n",
        "                     objective='val_loss',\n",
        "                    #  objective='loss',\n",
        "                     max_epochs=50,\n",
        "                     factor=3,\n",
        "                     directory='hyper_params',\n",
        "                     project_name='autorec_ml')\n"
      ],
      "metadata": {
        "id": "2Z6JBAvrn7y3",
        "colab": {
          "base_uri": "https://localhost:8080/"
        },
        "outputId": "8bfa9aab-3494-4b9a-d702-2abdf190031a"
      },
      "execution_count": 27,
      "outputs": [
        {
          "output_type": "stream",
          "name": "stdout",
          "text": [
            "Model: \"model_2\"\n",
            "_________________________________________________________________\n",
            " Layer (type)                Output Shape              Param #   \n",
            "=================================================================\n",
            " item_rating (InputLayer)    [(None, 3706)]            0         \n",
            "                                                                 \n",
            " latent_dim (Dense)          (None, 300)               1112100   \n",
            "                                                                 \n",
            " item_pred_rating (Dense)    (None, 3706)              1115506   \n",
            "                                                                 \n",
            "=================================================================\n",
            "Total params: 2,227,606\n",
            "Trainable params: 2,227,606\n",
            "Non-trainable params: 0\n",
            "_________________________________________________________________\n"
          ]
        }
      ]
    },
    {
      "cell_type": "code",
      "source": [
        "stop_early = tf.keras.callbacks.EarlyStopping(monitor='val_loss', patience=5)\n",
        "# stop_early = tf.keras.callbacks.EarlyStopping(monitor='loss', patience=5)\n",
        "tuner.search(train_mat, train_mat,\n",
        "             epochs=50, validation_split=0.2, callbacks=[stop_early], batch_size=512)\n",
        "# Get the optimal hyperparameters\n",
        "best_hps=tuner.get_best_hyperparameters(num_trials=1)[0]"
      ],
      "metadata": {
        "colab": {
          "base_uri": "https://localhost:8080/"
        },
        "id": "tvb6g75_WV4E",
        "outputId": "33ea0b8c-467f-4d95-8b3f-2f33aa517cd0"
      },
      "execution_count": 28,
      "outputs": [
        {
          "output_type": "stream",
          "name": "stdout",
          "text": [
            "Trial 60 Complete [00h 00m 02s]\n",
            "val_loss: 1.5102125406265259\n",
            "\n",
            "Best val_loss So Far: 1.059554100036621\n",
            "Total elapsed time: 00h 02m 16s\n",
            "INFO:tensorflow:Oracle triggered exit\n"
          ]
        }
      ]
    },
    {
      "cell_type": "code",
      "source": [
        "best_hps.get('hidden_units'), best_hps.get('reg'), best_hps.get('learning_rate')"
      ],
      "metadata": {
        "colab": {
          "base_uri": "https://localhost:8080/"
        },
        "id": "wAkohy7wfGBf",
        "outputId": "22324ab4-fc10-45ef-e605-5bf7e0b6dfa0"
      },
      "execution_count": 29,
      "outputs": [
        {
          "output_type": "execute_result",
          "data": {
            "text/plain": [
              "(300, 0.0001, 0.001)"
            ]
          },
          "metadata": {},
          "execution_count": 29
        }
      ]
    },
    {
      "cell_type": "code",
      "source": [
        "autorec_opt = IAutoRec(train_mat.shape[1],hidden_units=best_hps.get('hidden_units'), reg=best_hps.get('reg'), learning_rate=best_hps.get('learning_rate'))\n",
        "autorec_opt.build_opt_model()\n",
        "autorec_opt.fit(train_mat, train_mat)"
      ],
      "metadata": {
        "colab": {
          "base_uri": "https://localhost:8080/"
        },
        "id": "fCYAMnTAWBa4",
        "outputId": "ef640e28-b7ab-4b2a-b255-58087b7b5fc4"
      },
      "execution_count": 30,
      "outputs": [
        {
          "output_type": "stream",
          "name": "stdout",
          "text": [
            "Model: \"model_1\"\n",
            "_________________________________________________________________\n",
            " Layer (type)                Output Shape              Param #   \n",
            "=================================================================\n",
            " item_rating (InputLayer)    [(None, 3706)]            0         \n",
            "                                                                 \n",
            " latent_dim (Dense)          (None, 300)               1112100   \n",
            "                                                                 \n",
            " item_pred_rating (Dense)    (None, 3706)              1115506   \n",
            "                                                                 \n",
            "=================================================================\n",
            "Total params: 2,227,606\n",
            "Trainable params: 2,227,606\n",
            "Non-trainable params: 0\n",
            "_________________________________________________________________\n",
            "Epoch 1/500\n",
            "22/22 - 1s - loss: 2.2848 - val_loss: 1.4914 - 669ms/epoch - 30ms/step\n",
            "Epoch 2/500\n",
            "22/22 - 0s - loss: 1.2964 - val_loss: 1.1886 - 233ms/epoch - 11ms/step\n",
            "Epoch 3/500\n",
            "22/22 - 0s - loss: 1.1289 - val_loss: 1.1267 - 206ms/epoch - 9ms/step\n",
            "Epoch 4/500\n",
            "22/22 - 0s - loss: 1.0438 - val_loss: 1.0899 - 203ms/epoch - 9ms/step\n",
            "Epoch 5/500\n",
            "22/22 - 0s - loss: 1.0001 - val_loss: 1.0778 - 189ms/epoch - 9ms/step\n",
            "Epoch 6/500\n",
            "22/22 - 0s - loss: 0.9641 - val_loss: 1.0664 - 233ms/epoch - 11ms/step\n",
            "Epoch 7/500\n",
            "22/22 - 0s - loss: 0.9362 - val_loss: 1.0612 - 208ms/epoch - 9ms/step\n",
            "Epoch 8/500\n",
            "22/22 - 0s - loss: 0.9129 - val_loss: 1.0577 - 217ms/epoch - 10ms/step\n",
            "Epoch 9/500\n",
            "22/22 - 0s - loss: 0.8954 - val_loss: 1.0565 - 213ms/epoch - 10ms/step\n",
            "Epoch 10/500\n",
            "22/22 - 0s - loss: 0.8772 - val_loss: 1.0535 - 233ms/epoch - 11ms/step\n",
            "Epoch 11/500\n",
            "22/22 - 0s - loss: 0.8518 - val_loss: 1.0519 - 219ms/epoch - 10ms/step\n",
            "Epoch 12/500\n",
            "22/22 - 0s - loss: 0.8271 - val_loss: 1.0497 - 209ms/epoch - 9ms/step\n",
            "Epoch 13/500\n",
            "22/22 - 0s - loss: 0.8060 - val_loss: 1.0499 - 165ms/epoch - 8ms/step\n",
            "Epoch 14/500\n",
            "22/22 - 0s - loss: 0.7873 - val_loss: 1.0567 - 147ms/epoch - 7ms/step\n",
            "Epoch 15/500\n",
            "22/22 - 0s - loss: 0.7721 - val_loss: 1.0518 - 138ms/epoch - 6ms/step\n",
            "Epoch 16/500\n",
            "22/22 - 0s - loss: 0.7591 - val_loss: 1.0588 - 151ms/epoch - 7ms/step\n",
            "Epoch 17/500\n",
            "22/22 - 0s - loss: 0.7514 - val_loss: 1.0599 - 146ms/epoch - 7ms/step\n",
            "Epoch 18/500\n",
            "22/22 - 0s - loss: 0.7481 - val_loss: 1.0613 - 147ms/epoch - 7ms/step\n",
            "Epoch 19/500\n",
            "22/22 - 0s - loss: 0.7243 - val_loss: 1.0632 - 136ms/epoch - 6ms/step\n",
            "Epoch 20/500\n",
            "22/22 - 0s - loss: 0.7047 - val_loss: 1.0669 - 142ms/epoch - 6ms/step\n",
            "Epoch 21/500\n",
            "22/22 - 0s - loss: 0.6917 - val_loss: 1.0726 - 134ms/epoch - 6ms/step\n",
            "Epoch 22/500\n",
            "22/22 - 0s - loss: 0.6814 - val_loss: 1.0710 - 140ms/epoch - 6ms/step\n",
            "Epoch 00022: early stopping\n"
          ]
        }
      ]
    },
    {
      "cell_type": "code",
      "source": [
        "# plot training history\n",
        "plt.plot(autorec_opt.hist.history['loss'], label='train')\n",
        "plt.plot(autorec_opt.hist.history['val_loss'], label='validation')\n",
        "plt.xlabel('iteration')\n",
        "plt.ylabel('loss')\n",
        "plt.legend()"
      ],
      "metadata": {
        "colab": {
          "base_uri": "https://localhost:8080/",
          "height": 297
        },
        "id": "TBEEYzdtvX-3",
        "outputId": "cd400a14-22a6-4aec-8a96-3c0206ab4196"
      },
      "execution_count": 31,
      "outputs": [
        {
          "output_type": "execute_result",
          "data": {
            "text/plain": [
              "<matplotlib.legend.Legend at 0x7ff8b6a77f50>"
            ]
          },
          "metadata": {},
          "execution_count": 31
        },
        {
          "output_type": "display_data",
          "data": {
            "image/png": "[encoded data removed]",
            "text/plain": [
              "<Figure size 432x288 with 1 Axes>"
            ]
          },
          "metadata": {
            "needs_background": "light"
          }
        }
      ]
    },
    {
      "cell_type": "code",
      "source": [
        "# autorec.predict(np.zeros(test_mat.shape))\n",
        "autorec_opt.predict(test_mat)"
      ],
      "metadata": {
        "colab": {
          "base_uri": "https://localhost:8080/"
        },
        "id": "3tS3C2fJuakq",
        "outputId": "ad4379c9-4586-44e9-ee48-f2a46c24b8a0"
      },
      "execution_count": 32,
      "outputs": [
        {
          "output_type": "stream",
          "name": "stdout",
          "text": [
            "12/12 [==============================] - 0s 4ms/step\n"
          ]
        }
      ]
    },
    {
      "cell_type": "code",
      "source": [
        "autorec_opt_eval = my_metrics.get_evaluation(test_mat, autorec_opt.predictions)\n",
        "autorec_opt_eval"
      ],
      "metadata": {
        "colab": {
          "base_uri": "https://localhost:8080/"
        },
        "id": "YWN2oGiMCbOI",
        "outputId": "b5a7f3bb-4326-4563-c9ba-91419bba9c15"
      },
      "execution_count": 33,
      "outputs": [
        {
          "output_type": "execute_result",
          "data": {
            "text/plain": [
              "{'MRR_10': 0.9845407593523171,\n",
              " 'MRR_5': 0.9844919039642657,\n",
              " 'NDCG_10': 0.9709291373980162,\n",
              " 'NDCG_5': 0.9772104165700273,\n",
              " 'RMSE': 1.3886617712117788}"
            ]
          },
          "metadata": {},
          "execution_count": 33
        }
      ]
    },
    {
      "cell_type": "code",
      "source": [
        "class IAutoRecEnhanced:\n",
        "    es = EarlyStopping(monitor='val_loss', mode='min', verbose=1, patience=5)\n",
        "    mc = ModelCheckpoint('best_autorec_enhanced_model.h5', monitor='val_loss', mode='min', save_best_only=True)\n",
        "    # es = EarlyStopping(monitor='loss', mode='min', verbose=1, patience=5)\n",
        "    # mc = ModelCheckpoint('best_autorec_enhanced_model.h5', monitor='loss', mode='min', save_best_only=True)\n",
        "\n",
        "    def __init__(self, items_num, hidden_units=500, hidden_layer_factor=2, reg=0.0005, optimizer='Adam', loss='mean_squared_error', learning_rate=0.0001, first_activation='elu', last_activation='elu'):\n",
        "        self.items_num = items_num\n",
        "        self.hidden_units = hidden_units\n",
        "        self.hidden_layer_factor = hidden_layer_factor\n",
        "        self.reg = reg\n",
        "        self.optimizer = optimizer\n",
        "        self.loss = loss\n",
        "        self.learning_rate = learning_rate\n",
        "        self.first_activation = first_activation\n",
        "        self.last_activation = last_activation\n",
        "\n",
        "    def build_opt_model(self):\n",
        "        input_layer = Input(shape=(self.items_num,), name='item_rating')\n",
        "        hidden_layer_encoder = Dense(self.hidden_units*self.hidden_layer_factor, activation=self.first_activation, name='hidden_encoder', kernel_regularizer=regularizers.l2(self.reg))(input_layer)\n",
        "        dense = Dense(self.hidden_units, activation=self.first_activation, name='latent_dim', kernel_regularizer=regularizers.l2(self.reg))(hidden_layer_encoder)\n",
        "        hidden_layer_decoder = Dense(self.hidden_units*self.hidden_layer_factor, activation=self.last_activation, name='hidden_decoder', kernel_regularizer=regularizers.l2(self.reg))(dense)\n",
        "        output_layer = Dense(self.items_num, activation=self.last_activation, name='item_pred_rating', kernel_regularizer=regularizers.l2(self.reg))(hidden_layer_decoder)\n",
        "        self.model = Model(input_layer, output_layer)\n",
        "\n",
        "        if self.optimizer=='Adam':\n",
        "            # self.model.compile(optimizer=Adam(learning_rate=learning_rate), loss=loss)\n",
        "            self.model.compile(optimizer=Adam(learning_rate=self.learning_rate), loss=IAutoRecEnhanced.masked_rmse)\n",
        "        else:\n",
        "            raise Exception('Optimizer not implemented')\n",
        "\n",
        "        self.model.summary()\n",
        "\n",
        "    def model_builder(self, hp):\n",
        "        hp_hidden_units = hp.Int('hidden_units', min_value=300, max_value=800, step=100)\n",
        "        hp_hidden_layer_factor = hp.Choice('hidden_layer_factor', values=[2, 3, 4])\n",
        "        hp_reg = hp.Choice('reg', values=[0.01, 0.001, 0.0001])\n",
        "        hp_learning_rate = hp.Choice('learning_rate', values=[1e-2, 1e-3, 1e-4])\n",
        "\n",
        "        input_layer = Input(shape=(self.items_num,), name='item_rating')\n",
        "        hidden_layer_encoder = Dense(hp_hidden_units*hp_hidden_layer_factor, activation=self.first_activation, name='hidden_encoder', kernel_regularizer=regularizers.l2(hp_reg))(input_layer)\n",
        "        dense = Dense(hp_hidden_units, activation=self.first_activation, name='latent_dim', kernel_regularizer=regularizers.l2(hp_reg))(hidden_layer_encoder)\n",
        "        hidden_layer_decoder = Dense(hp_hidden_units*hp_hidden_layer_factor, activation=self.last_activation, name='hidden_decoder', kernel_regularizer=regularizers.l2(hp_reg))(dense)\n",
        "        output_layer = Dense(self.items_num, activation=self.last_activation, name='item_pred_rating', kernel_regularizer=regularizers.l2(hp_reg))(hidden_layer_decoder)\n",
        "        self.model = Model(input_layer, output_layer)\n",
        "        \n",
        "        if self.optimizer=='Adam':\n",
        "            # self.model.compile(optimizer=Adam(learning_rate=hp_learning_rate), loss=self.loss)\n",
        "            self.model.compile(optimizer=Adam(learning_rate=hp_learning_rate), loss=IAutoRecEnhanced.masked_rmse)\n",
        "        else:\n",
        "            raise Exception('Optimizer not implemented')\n",
        "\n",
        "        self.model.summary()\n",
        "        return self.model\n",
        "\n",
        "    @staticmethod\n",
        "    def masked_rmse(y_true, y_pred):\n",
        "        mask = tf.cast(tf.not_equal(y_true, 0), dtype='float32') \n",
        "        e = y_true - y_pred\n",
        "        se = e * e \n",
        "        se = se * mask\n",
        "        mse = 1.0 * tf.reduce_sum(se) / tf.reduce_sum(mask)\n",
        "        rmse = tf.math.sqrt(mse)\n",
        "        return rmse\n",
        "\n",
        "    def fit(self, rating_mat,rating_mat2, batch_size=256, epochs=500, verbose=2):\n",
        "        self.hist = self.model.fit(x=rating_mat,y=rating_mat2,\n",
        "                                validation_split=0.1,\n",
        "                                batch_size=batch_size, epochs=epochs, verbose=verbose, \n",
        "                                callbacks=[IAutoRecEnhanced.es, IAutoRecEnhanced.mc]) \n",
        "    \n",
        "    def predict(self, rating_mat, batch_size=512, verbose=1):\n",
        "        self.predictions = self.model.predict(rating_mat, \n",
        "                                 batch_size=batch_size, verbose=verbose)"
      ],
      "metadata": {
        "id": "7S2PwX7johrE"
      },
      "execution_count": 34,
      "outputs": []
    },
    {
      "cell_type": "code",
      "source": [
        "autorec_enhanced = IAutoRecEnhanced(train_mat.shape[1])\n",
        "tuner = kt.Hyperband(autorec_enhanced.model_builder,\n",
        "                     objective='val_loss',\n",
        "                    #  objective='loss',\n",
        "                     max_epochs=50,\n",
        "                     factor=3,\n",
        "                     directory='hyper_params',\n",
        "                     project_name='autorec_enhanced_ml')"
      ],
      "metadata": {
        "colab": {
          "base_uri": "https://localhost:8080/"
        },
        "id": "tTfvkPnut2xy",
        "outputId": "23d71892-3a3e-46aa-a0d8-d3c78c44a3ab"
      },
      "execution_count": 35,
      "outputs": [
        {
          "output_type": "stream",
          "name": "stdout",
          "text": [
            "Model: \"model_2\"\n",
            "_________________________________________________________________\n",
            " Layer (type)                Output Shape              Param #   \n",
            "=================================================================\n",
            " item_rating (InputLayer)    [(None, 3706)]            0         \n",
            "                                                                 \n",
            " hidden_encoder (Dense)      (None, 600)               2224200   \n",
            "                                                                 \n",
            " latent_dim (Dense)          (None, 300)               180300    \n",
            "                                                                 \n",
            " hidden_decoder (Dense)      (None, 600)               180600    \n",
            "                                                                 \n",
            " item_pred_rating (Dense)    (None, 3706)              2227306   \n",
            "                                                                 \n",
            "=================================================================\n",
            "Total params: 4,812,406\n",
            "Trainable params: 4,812,406\n",
            "Non-trainable params: 0\n",
            "_________________________________________________________________\n"
          ]
        }
      ]
    },
    {
      "cell_type": "code",
      "source": [
        "stop_early = tf.keras.callbacks.EarlyStopping(monitor='val_loss', patience=5)\n",
        "# stop_early = tf.keras.callbacks.EarlyStopping(monitor='loss', patience=5)\n",
        "tuner.search(train_mat, train_mat,\n",
        "             epochs=50, validation_split=0.2, callbacks=[stop_early], batch_size=512)\n",
        "# Get the optimal hyperparameters\n",
        "best_hps=tuner.get_best_hyperparameters(num_trials=1)[0]"
      ],
      "metadata": {
        "colab": {
          "base_uri": "https://localhost:8080/"
        },
        "id": "4cE63RteuQOV",
        "outputId": "26d5e56a-2290-4c74-fe0f-5c261ee2b78f"
      },
      "execution_count": 36,
      "outputs": [
        {
          "output_type": "stream",
          "name": "stdout",
          "text": [
            "Trial 90 Complete [00h 00m 41s]\n",
            "val_loss: 2.696207046508789\n",
            "\n",
            "Best val_loss So Far: 1.1093991994857788\n",
            "Total elapsed time: 00h 20m 50s\n",
            "INFO:tensorflow:Oracle triggered exit\n"
          ]
        }
      ]
    },
    {
      "cell_type": "code",
      "source": [
        "best_hps.get('hidden_units'), best_hps.get('hidden_layer_factor'), best_hps.get('reg'), best_hps.get('learning_rate')"
      ],
      "metadata": {
        "colab": {
          "base_uri": "https://localhost:8080/"
        },
        "id": "B3hx9seMunA3",
        "outputId": "0c94acaa-3c10-467a-fd02-bf410b3ce1d0"
      },
      "execution_count": 37,
      "outputs": [
        {
          "output_type": "execute_result",
          "data": {
            "text/plain": [
              "(400, 3, 0.001, 0.001)"
            ]
          },
          "metadata": {},
          "execution_count": 37
        }
      ]
    },
    {
      "cell_type": "code",
      "source": [
        "autorec_enhanced_opt = IAutoRecEnhanced(train_mat.shape[1],hidden_units=best_hps.get('hidden_units'), hidden_layer_factor=best_hps.get('hidden_layer_factor'), reg=best_hps.get('reg'), learning_rate=best_hps.get('learning_rate'))\n",
        "autorec_enhanced_opt.build_opt_model()\n",
        "autorec_enhanced_opt.fit(train_mat, train_mat)"
      ],
      "metadata": {
        "colab": {
          "base_uri": "https://localhost:8080/"
        },
        "id": "2e88lswmun0F",
        "outputId": "4839ab8b-2c4a-4452-b856-946f583e213c"
      },
      "execution_count": 38,
      "outputs": [
        {
          "output_type": "stream",
          "name": "stdout",
          "text": [
            "Model: \"model_1\"\n",
            "_________________________________________________________________\n",
            " Layer (type)                Output Shape              Param #   \n",
            "=================================================================\n",
            " item_rating (InputLayer)    [(None, 3706)]            0         \n",
            "                                                                 \n",
            " hidden_encoder (Dense)      (None, 1200)              4448400   \n",
            "                                                                 \n",
            " latent_dim (Dense)          (None, 400)               480400    \n",
            "                                                                 \n",
            " hidden_decoder (Dense)      (None, 1200)              481200    \n",
            "                                                                 \n",
            " item_pred_rating (Dense)    (None, 3706)              4450906   \n",
            "                                                                 \n",
            "=================================================================\n",
            "Total params: 9,860,906\n",
            "Trainable params: 9,860,906\n",
            "Non-trainable params: 0\n",
            "_________________________________________________________________\n",
            "Epoch 1/500\n",
            "22/22 - 1s - loss: 4.9969 - val_loss: 3.3741 - 1s/epoch - 51ms/step\n",
            "Epoch 2/500\n",
            "22/22 - 1s - loss: 2.7937 - val_loss: 2.3284 - 524ms/epoch - 24ms/step\n",
            "Epoch 3/500\n",
            "22/22 - 0s - loss: 2.0628 - val_loss: 1.8782 - 478ms/epoch - 22ms/step\n",
            "Epoch 4/500\n",
            "22/22 - 0s - loss: 1.7102 - val_loss: 1.6342 - 480ms/epoch - 22ms/step\n",
            "Epoch 5/500\n",
            "22/22 - 0s - loss: 1.5273 - val_loss: 1.4900 - 496ms/epoch - 23ms/step\n",
            "Epoch 6/500\n",
            "22/22 - 0s - loss: 1.3907 - val_loss: 1.3973 - 478ms/epoch - 22ms/step\n",
            "Epoch 7/500\n",
            "22/22 - 0s - loss: 1.3008 - val_loss: 1.3263 - 467ms/epoch - 21ms/step\n",
            "Epoch 8/500\n",
            "22/22 - 0s - loss: 1.2483 - val_loss: 1.2709 - 487ms/epoch - 22ms/step\n",
            "Epoch 9/500\n",
            "22/22 - 2s - loss: 1.1919 - val_loss: 1.2326 - 2s/epoch - 93ms/step\n",
            "Epoch 10/500\n",
            "22/22 - 0s - loss: 1.1596 - val_loss: 1.2225 - 486ms/epoch - 22ms/step\n",
            "Epoch 11/500\n",
            "22/22 - 1s - loss: 1.1477 - val_loss: 1.1909 - 821ms/epoch - 37ms/step\n",
            "Epoch 12/500\n",
            "22/22 - 1s - loss: 1.1168 - val_loss: 1.1688 - 1s/epoch - 53ms/step\n",
            "Epoch 13/500\n",
            "22/22 - 3s - loss: 1.1002 - val_loss: 1.1536 - 3s/epoch - 137ms/step\n",
            "Epoch 14/500\n",
            "22/22 - 1s - loss: 1.0815 - val_loss: 1.1365 - 520ms/epoch - 24ms/step\n",
            "Epoch 15/500\n",
            "22/22 - 0s - loss: 1.0732 - val_loss: 1.1296 - 492ms/epoch - 22ms/step\n",
            "Epoch 16/500\n",
            "22/22 - 1s - loss: 1.0523 - val_loss: 1.1156 - 1s/epoch - 62ms/step\n",
            "Epoch 17/500\n",
            "22/22 - 0s - loss: 1.0514 - val_loss: 1.1543 - 216ms/epoch - 10ms/step\n",
            "Epoch 18/500\n",
            "22/22 - 1s - loss: 1.0504 - val_loss: 1.1089 - 1s/epoch - 46ms/step\n",
            "Epoch 19/500\n",
            "22/22 - 2s - loss: 1.0374 - val_loss: 1.0985 - 2s/epoch - 100ms/step\n",
            "Epoch 20/500\n",
            "22/22 - 0s - loss: 1.0299 - val_loss: 1.0907 - 473ms/epoch - 21ms/step\n",
            "Epoch 21/500\n",
            "22/22 - 1s - loss: 1.0141 - val_loss: 1.0885 - 1s/epoch - 55ms/step\n",
            "Epoch 22/500\n",
            "22/22 - 1s - loss: 1.0097 - val_loss: 1.0834 - 1s/epoch - 65ms/step\n",
            "Epoch 23/500\n",
            "22/22 - 2s - loss: 1.0068 - val_loss: 1.0819 - 2s/epoch - 101ms/step\n",
            "Epoch 24/500\n",
            "22/22 - 0s - loss: 1.0063 - val_loss: 1.1116 - 212ms/epoch - 10ms/step\n",
            "Epoch 25/500\n",
            "22/22 - 0s - loss: 1.0308 - val_loss: 1.1027 - 206ms/epoch - 9ms/step\n",
            "Epoch 26/500\n",
            "22/22 - 0s - loss: 1.0178 - val_loss: 1.0986 - 194ms/epoch - 9ms/step\n",
            "Epoch 27/500\n",
            "22/22 - 0s - loss: 1.0209 - val_loss: 1.0743 - 476ms/epoch - 22ms/step\n",
            "Epoch 28/500\n",
            "22/22 - 0s - loss: 1.0014 - val_loss: 1.0699 - 455ms/epoch - 21ms/step\n",
            "Epoch 29/500\n",
            "22/22 - 0s - loss: 1.0034 - val_loss: 1.0723 - 212ms/epoch - 10ms/step\n",
            "Epoch 30/500\n",
            "22/22 - 2s - loss: 0.9956 - val_loss: 1.0664 - 2s/epoch - 95ms/step\n",
            "Epoch 31/500\n",
            "22/22 - 0s - loss: 0.9875 - val_loss: 1.0636 - 472ms/epoch - 21ms/step\n",
            "Epoch 32/500\n",
            "22/22 - 0s - loss: 0.9901 - val_loss: 1.0668 - 199ms/epoch - 9ms/step\n",
            "Epoch 33/500\n",
            "22/22 - 0s - loss: 0.9858 - val_loss: 1.0705 - 208ms/epoch - 9ms/step\n",
            "Epoch 34/500\n",
            "22/22 - 0s - loss: 0.9864 - val_loss: 1.0699 - 209ms/epoch - 9ms/step\n",
            "Epoch 35/500\n",
            "22/22 - 1s - loss: 0.9836 - val_loss: 1.0571 - 639ms/epoch - 29ms/step\n",
            "Epoch 36/500\n",
            "22/22 - 0s - loss: 0.9886 - val_loss: 1.0753 - 203ms/epoch - 9ms/step\n",
            "Epoch 37/500\n",
            "22/22 - 0s - loss: 0.9820 - val_loss: 1.0600 - 201ms/epoch - 9ms/step\n",
            "Epoch 38/500\n",
            "22/22 - 0s - loss: 0.9762 - val_loss: 1.0769 - 201ms/epoch - 9ms/step\n",
            "Epoch 39/500\n",
            "22/22 - 0s - loss: 0.9844 - val_loss: 1.0639 - 193ms/epoch - 9ms/step\n",
            "Epoch 40/500\n",
            "22/22 - 0s - loss: 0.9800 - val_loss: 1.0670 - 200ms/epoch - 9ms/step\n",
            "Epoch 00040: early stopping\n"
          ]
        }
      ]
    },
    {
      "cell_type": "code",
      "source": [
        "# plot training history\n",
        "plt.plot(autorec_enhanced_opt.hist.history['loss'], label='train')\n",
        "plt.plot(autorec_enhanced_opt.hist.history['val_loss'], label='validation')\n",
        "plt.xlabel('iteration')\n",
        "plt.ylabel('loss')\n",
        "plt.legend()"
      ],
      "metadata": {
        "colab": {
          "base_uri": "https://localhost:8080/",
          "height": 297
        },
        "id": "oXPOOpWXpF7P",
        "outputId": "2324e990-d985-4a2a-a0d9-e920c3c9656e"
      },
      "execution_count": 39,
      "outputs": [
        {
          "output_type": "execute_result",
          "data": {
            "text/plain": [
              "<matplotlib.legend.Legend at 0x7ff8b714a8d0>"
            ]
          },
          "metadata": {},
          "execution_count": 39
        },
        {
          "output_type": "display_data",
          "data": {
            "image/png": "[encoded data removed]",
            "text/plain": [
              "<Figure size 432x288 with 1 Axes>"
            ]
          },
          "metadata": {
            "needs_background": "light"
          }
        }
      ]
    },
    {
      "cell_type": "code",
      "source": [
        "autorec_enhanced_opt.predict(test_mat)"
      ],
      "metadata": {
        "colab": {
          "base_uri": "https://localhost:8080/"
        },
        "id": "qPyCRVXDpMtg",
        "outputId": "72f0a16a-bcaa-4b98-dfce-9abb164b2ee7"
      },
      "execution_count": 40,
      "outputs": [
        {
          "output_type": "stream",
          "name": "stdout",
          "text": [
            "12/12 [==============================] - 0s 5ms/step\n"
          ]
        }
      ]
    },
    {
      "cell_type": "code",
      "source": [
        "autorec_enhanced_opt_eval = my_metrics.get_evaluation(test_mat, autorec_enhanced_opt.predictions)\n",
        "autorec_enhanced_opt_eval"
      ],
      "metadata": {
        "colab": {
          "base_uri": "https://localhost:8080/"
        },
        "id": "Uu2kd5e2rIiW",
        "outputId": "ffce6832-d797-438d-bfd7-3dffdbd3158a"
      },
      "execution_count": 41,
      "outputs": [
        {
          "output_type": "execute_result",
          "data": {
            "text/plain": [
              "{'MRR_10': 0.9695102496610035,\n",
              " 'MRR_5': 0.9694304857621441,\n",
              " 'NDCG_10': 0.9570567523884,\n",
              " 'NDCG_5': 0.9630679532240373,\n",
              " 'RMSE': 1.109604537289434}"
            ]
          },
          "metadata": {},
          "execution_count": 41
        }
      ]
    },
    {
      "cell_type": "code",
      "source": [
        "result_dict = {\n",
        "    'mf': mf_opt_eval,\n",
        "    'autorec': autorec_opt_eval,\n",
        "    'autorec_enhanced': autorec_enhanced_opt_eval\n",
        "               }\n",
        "res_df = pd.DataFrame.from_dict(result_dict)\n",
        "res_df"
      ],
      "metadata": {
        "colab": {
          "base_uri": "https://localhost:8080/",
          "height": 206
        },
        "id": "Ne9llYJFxUjw",
        "outputId": "921a1f4a-a43d-4138-9158-c69019e17430"
      },
      "execution_count": 54,
      "outputs": [
        {
          "output_type": "execute_result",
          "data": {
            "text/html": [
              "\n",
              "  <div id=\"df-c7bab335-00fd-4b2e-a409-a76580173991\">\n",
              "    <div class=\"colab-df-container\">\n",
              "      <div>\n",
              "<style scoped>\n",
              "    .dataframe tbody tr th:only-of-type {\n",
              "        vertical-align: middle;\n",
              "    }\n",
              "\n",
              "    .dataframe tbody tr th {\n",
              "        vertical-align: top;\n",
              "    }\n",
              "\n",
              "    .dataframe thead th {\n",
              "        text-align: right;\n",
              "    }\n",
              "</style>\n",
              "<table border=\"1\" class=\"dataframe\">\n",
              "  <thead>\n",
              "    <tr style=\"text-align: right;\">\n",
              "      <th></th>\n",
              "      <th>mf</th>\n",
              "      <th>autorec</th>\n",
              "      <th>autorec_enhanced</th>\n",
              "    </tr>\n",
              "  </thead>\n",
              "  <tbody>\n",
              "    <tr>\n",
              "      <th>RMSE</th>\n",
              "      <td>0.860638</td>\n",
              "      <td>1.388662</td>\n",
              "      <td>1.109605</td>\n",
              "    </tr>\n",
              "    <tr>\n",
              "      <th>MRR_5</th>\n",
              "      <td>0.976234</td>\n",
              "      <td>0.984492</td>\n",
              "      <td>0.969430</td>\n",
              "    </tr>\n",
              "    <tr>\n",
              "      <th>MRR_10</th>\n",
              "      <td>0.976234</td>\n",
              "      <td>0.984541</td>\n",
              "      <td>0.969510</td>\n",
              "    </tr>\n",
              "    <tr>\n",
              "      <th>NDCG_5</th>\n",
              "      <td>0.971578</td>\n",
              "      <td>0.977210</td>\n",
              "      <td>0.963068</td>\n",
              "    </tr>\n",
              "    <tr>\n",
              "      <th>NDCG_10</th>\n",
              "      <td>0.967114</td>\n",
              "      <td>0.970929</td>\n",
              "      <td>0.957057</td>\n",
              "    </tr>\n",
              "  </tbody>\n",
              "</table>\n",
              "</div>\n",
              "      <button class=\"colab-df-convert\" onclick=\"convertToInteractive('df-c7bab335-00fd-4b2e-a409-a76580173991')\"\n",
              "              title=\"Convert this dataframe to an interactive table.\"\n",
              "              style=\"display:none;\">\n",
              "        \n",
              "  <svg xmlns=\"http://www.w3.org/2000/svg\" height=\"24px\"viewBox=\"0 0 24 24\"\n",
              "       width=\"24px\">\n",
              "    <path d=\"M0 0h24v24H0V0z\" fill=\"none\"/>\n",
              "    <path d=\"M18.56 5.44l.94 2.06.94-2.06 2.06-.94-2.06-.94-.94-2.06-.94 2.06-2.06.94zm-11 1L8.5 8.5l.94-2.06 2.06-.94-2.06-.94L8.5 2.5l-.94 2.06-2.06.94zm10 10l.94 2.06.94-2.06 2.06-.94-2.06-.94-.94-2.06-.94 2.06-2.06.94z\"/><path d=\"M17.41 7.96l-1.37-1.37c-.4-.4-.92-.59-1.43-.59-.52 0-1.04.2-1.43.59L10.3 9.45l-7.72 7.72c-.78.78-.78 2.05 0 2.83L4 21.41c.39.39.9.59 1.41.59.51 0 1.02-.2 1.41-.59l7.78-7.78 2.81-2.81c.8-.78.8-2.07 0-2.86zM5.41 20L4 18.59l7.72-7.72 1.47 1.35L5.41 20z\"/>\n",
              "  </svg>\n",
              "      </button>\n",
              "      \n",
              "  <style>\n",
              "    .colab-df-container {\n",
              "      display:flex;\n",
              "      flex-wrap:wrap;\n",
              "      gap: 12px;\n",
              "    }\n",
              "\n",
              "    .colab-df-convert {\n",
              "      background-color: #E8F0FE;\n",
              "      border: none;\n",
              "      border-radius: 50%;\n",
              "      cursor: pointer;\n",
              "      display: none;\n",
              "      fill: #1967D2;\n",
              "      height: 32px;\n",
              "      padding: 0 0 0 0;\n",
              "      width: 32px;\n",
              "    }\n",
              "\n",
              "    .colab-df-convert:hover {\n",
              "      background-color: #E2EBFA;\n",
              "      box-shadow: 0px 1px 2px rgba(60, 64, 67, 0.3), 0px 1px 3px 1px rgba(60, 64, 67, 0.15);\n",
              "      fill: #174EA6;\n",
              "    }\n",
              "\n",
              "    [theme=dark] .colab-df-convert {\n",
              "      background-color: #3B4455;\n",
              "      fill: #D2E3FC;\n",
              "    }\n",
              "\n",
              "    [theme=dark] .colab-df-convert:hover {\n",
              "      background-color: #434B5C;\n",
              "      box-shadow: 0px 1px 3px 1px rgba(0, 0, 0, 0.15);\n",
              "      filter: drop-shadow(0px 1px 2px rgba(0, 0, 0, 0.3));\n",
              "      fill: #FFFFFF;\n",
              "    }\n",
              "  </style>\n",
              "\n",
              "      <script>\n",
              "        const buttonEl =\n",
              "          document.querySelector('#df-c7bab335-00fd-4b2e-a409-a76580173991 button.colab-df-convert');\n",
              "        buttonEl.style.display =\n",
              "          google.colab.kernel.accessAllowed ? 'block' : 'none';\n",
              "\n",
              "        async function convertToInteractive(key) {\n",
              "          const element = document.querySelector('#df-c7bab335-00fd-4b2e-a409-a76580173991');\n",
              "          const dataTable =\n",
              "            await google.colab.kernel.invokeFunction('convertToInteractive',\n",
              "                                                     [key], {});\n",
              "          if (!dataTable) return;\n",
              "\n",
              "          const docLinkHtml = 'Like what you see? Visit the ' +\n",
              "            '<a target=\"_blank\" href=https://colab.research.google.com/notebooks/data_table.ipynb>data table notebook</a>'\n",
              "            + ' to learn more about interactive tables.';\n",
              "          element.innerHTML = '';\n",
              "          dataTable['output_type'] = 'display_data';\n",
              "          await google.colab.output.renderOutput(dataTable, element);\n",
              "          const docLink = document.createElement('div');\n",
              "          docLink.innerHTML = docLinkHtml;\n",
              "          element.appendChild(docLink);\n",
              "        }\n",
              "      </script>\n",
              "    </div>\n",
              "  </div>\n",
              "  "
            ],
            "text/plain": [
              "               mf   autorec  autorec_enhanced\n",
              "RMSE     0.860638  1.388662          1.109605\n",
              "MRR_5    0.976234  0.984492          0.969430\n",
              "MRR_10   0.976234  0.984541          0.969510\n",
              "NDCG_5   0.971578  0.977210          0.963068\n",
              "NDCG_10  0.967114  0.970929          0.957057"
            ]
          },
          "metadata": {},
          "execution_count": 54
        }
      ]
    },
    {
      "cell_type": "code",
      "source": [
        "res_df.plot(kind='bar', figsize=(12,5), rot=45)\n",
        "plt.title('movielens-1m models results')"
      ],
      "metadata": {
        "colab": {
          "base_uri": "https://localhost:8080/",
          "height": 385
        },
        "id": "vR1_w740TDL7",
        "outputId": "e11e8ed4-f028-421e-b874-acb4c973e248"
      },
      "execution_count": 55,
      "outputs": [
        {
          "output_type": "execute_result",
          "data": {
            "text/plain": [
              "Text(0.5, 1.0, 'movielens-1m models results')"
            ]
          },
          "metadata": {},
          "execution_count": 55
        },
        {
          "output_type": "display_data",
          "data": {
            "image/png": "[encoded data removed]",
            "text/plain": [
              "<Figure size 864x360 with 1 Axes>"
            ]
          },
          "metadata": {
            "needs_background": "light"
          }
        }
      ]
    },
    {
      "cell_type": "code",
      "source": [
        "res_df.transpose().plot(kind='bar', figsize=(12,5), rot=45)"
      ],
      "metadata": {
        "colab": {
          "base_uri": "https://localhost:8080/",
          "height": 401
        },
        "id": "8BBj2phwSabF",
        "outputId": "c08323c8-d7dd-4271-c60d-59f02185ca00"
      },
      "execution_count": 56,
      "outputs": [
        {
          "output_type": "execute_result",
          "data": {
            "text/plain": [
              "<matplotlib.axes._subplots.AxesSubplot at 0x7ff8b55b2510>"
            ]
          },
          "metadata": {},
          "execution_count": 56
        },
        {
          "output_type": "display_data",
          "data": {
            "image/png": "[encoded data removed]",
            "text/plain": [
              "<Figure size 864x360 with 1 Axes>"
            ]
          },
          "metadata": {
            "needs_background": "light"
          }
        }
      ]
    },
    {
      "cell_type": "code",
      "source": [
        "import requests\n",
        "url = 'https://www.kaggle.com/netflix-inc/netflix-prize-data/data/download/archive.zip'\n",
        "r = requests.get(url, allow_redirects=True)"
      ],
      "metadata": {
        "id": "nE5Epb-fYtVb"
      },
      "execution_count": 4,
      "outputs": []
    },
    {
      "cell_type": "code",
      "source": [
        "zip_name = '/content/netflix_prize.zip'\n",
        "open(zip_name, 'wb').write(r.content)\n",
        "\n",
        "with zipfile.ZipFile(zip_name,\"r\") as zip_ref:\n",
        "    zip_ref.extractall()"
      ],
      "metadata": {
        "colab": {
          "base_uri": "https://localhost:8080/",
          "height": 363
        },
        "id": "Ra8bCghcZBKL",
        "outputId": "68a77990-6fcb-430e-dc5e-aebb994fb075"
      },
      "execution_count": 13,
      "outputs": [
        {
          "output_type": "error",
          "ename": "BadZipFile",
          "evalue": "ignored",
          "traceback": [
            "\u001b[0;31m---------------------------------------------------------------------------\u001b[0m",
            "\u001b[0;31mBadZipFile\u001b[0m                                Traceback (most recent call last)",
            "\u001b[0;32m<ipython-input-13-b91770a98881>\u001b[0m in \u001b[0;36m<module>\u001b[0;34m()\u001b[0m\n\u001b[1;32m      2\u001b[0m \u001b[0mopen\u001b[0m\u001b[0;34m(\u001b[0m\u001b[0mzip_name\u001b[0m\u001b[0;34m,\u001b[0m \u001b[0;34m'wb'\u001b[0m\u001b[0;34m)\u001b[0m\u001b[0;34m.\u001b[0m\u001b[0mwrite\u001b[0m\u001b[0;34m(\u001b[0m\u001b[0mr\u001b[0m\u001b[0;34m.\u001b[0m\u001b[0mcontent\u001b[0m\u001b[0;34m)\u001b[0m\u001b[0;34m\u001b[0m\u001b[0;34m\u001b[0m\u001b[0m\n\u001b[1;32m      3\u001b[0m \u001b[0;34m\u001b[0m\u001b[0m\n\u001b[0;32m----> 4\u001b[0;31m \u001b[0;32mwith\u001b[0m \u001b[0mzipfile\u001b[0m\u001b[0;34m.\u001b[0m\u001b[0mZipFile\u001b[0m\u001b[0;34m(\u001b[0m\u001b[0mzip_name\u001b[0m\u001b[0;34m,\u001b[0m\u001b[0;34m\"r\"\u001b[0m\u001b[0;34m)\u001b[0m \u001b[0;32mas\u001b[0m \u001b[0mzip_ref\u001b[0m\u001b[0;34m:\u001b[0m\u001b[0;34m\u001b[0m\u001b[0;34m\u001b[0m\u001b[0m\n\u001b[0m\u001b[1;32m      5\u001b[0m     \u001b[0mzip_ref\u001b[0m\u001b[0;34m.\u001b[0m\u001b[0mextractall\u001b[0m\u001b[0;34m(\u001b[0m\u001b[0;34m)\u001b[0m\u001b[0;34m\u001b[0m\u001b[0;34m\u001b[0m\u001b[0m\n",
            "\u001b[0;32m/usr/lib/python3.7/zipfile.py\u001b[0m in \u001b[0;36m__init__\u001b[0;34m(self, file, mode, compression, allowZip64, compresslevel)\u001b[0m\n\u001b[1;32m   1256\u001b[0m         \u001b[0;32mtry\u001b[0m\u001b[0;34m:\u001b[0m\u001b[0;34m\u001b[0m\u001b[0;34m\u001b[0m\u001b[0m\n\u001b[1;32m   1257\u001b[0m             \u001b[0;32mif\u001b[0m \u001b[0mmode\u001b[0m \u001b[0;34m==\u001b[0m \u001b[0;34m'r'\u001b[0m\u001b[0;34m:\u001b[0m\u001b[0;34m\u001b[0m\u001b[0;34m\u001b[0m\u001b[0m\n\u001b[0;32m-> 1258\u001b[0;31m                 \u001b[0mself\u001b[0m\u001b[0;34m.\u001b[0m\u001b[0m_RealGetContents\u001b[0m\u001b[0;34m(\u001b[0m\u001b[0;34m)\u001b[0m\u001b[0;34m\u001b[0m\u001b[0;34m\u001b[0m\u001b[0m\n\u001b[0m\u001b[1;32m   1259\u001b[0m             \u001b[0;32melif\u001b[0m \u001b[0mmode\u001b[0m \u001b[0;32min\u001b[0m \u001b[0;34m(\u001b[0m\u001b[0;34m'w'\u001b[0m\u001b[0;34m,\u001b[0m \u001b[0;34m'x'\u001b[0m\u001b[0;34m)\u001b[0m\u001b[0;34m:\u001b[0m\u001b[0;34m\u001b[0m\u001b[0;34m\u001b[0m\u001b[0m\n\u001b[1;32m   1260\u001b[0m                 \u001b[0;31m# set the modified flag so central directory gets written\u001b[0m\u001b[0;34m\u001b[0m\u001b[0;34m\u001b[0m\u001b[0;34m\u001b[0m\u001b[0m\n",
            "\u001b[0;32m/usr/lib/python3.7/zipfile.py\u001b[0m in \u001b[0;36m_RealGetContents\u001b[0;34m(self)\u001b[0m\n\u001b[1;32m   1323\u001b[0m             \u001b[0;32mraise\u001b[0m \u001b[0mBadZipFile\u001b[0m\u001b[0;34m(\u001b[0m\u001b[0;34m\"File is not a zip file\"\u001b[0m\u001b[0;34m)\u001b[0m\u001b[0;34m\u001b[0m\u001b[0;34m\u001b[0m\u001b[0m\n\u001b[1;32m   1324\u001b[0m         \u001b[0;32mif\u001b[0m \u001b[0;32mnot\u001b[0m \u001b[0mendrec\u001b[0m\u001b[0;34m:\u001b[0m\u001b[0;34m\u001b[0m\u001b[0;34m\u001b[0m\u001b[0m\n\u001b[0;32m-> 1325\u001b[0;31m             \u001b[0;32mraise\u001b[0m \u001b[0mBadZipFile\u001b[0m\u001b[0;34m(\u001b[0m\u001b[0;34m\"File is not a zip file\"\u001b[0m\u001b[0;34m)\u001b[0m\u001b[0;34m\u001b[0m\u001b[0;34m\u001b[0m\u001b[0m\n\u001b[0m\u001b[1;32m   1326\u001b[0m         \u001b[0;32mif\u001b[0m \u001b[0mself\u001b[0m\u001b[0;34m.\u001b[0m\u001b[0mdebug\u001b[0m \u001b[0;34m>\u001b[0m \u001b[0;36m1\u001b[0m\u001b[0;34m:\u001b[0m\u001b[0;34m\u001b[0m\u001b[0;34m\u001b[0m\u001b[0m\n\u001b[1;32m   1327\u001b[0m             \u001b[0mprint\u001b[0m\u001b[0;34m(\u001b[0m\u001b[0mendrec\u001b[0m\u001b[0;34m)\u001b[0m\u001b[0;34m\u001b[0m\u001b[0;34m\u001b[0m\u001b[0m\n",
            "\u001b[0;31mBadZipFile\u001b[0m: File is not a zip file"
          ]
        }
      ]
    }
  ]
}
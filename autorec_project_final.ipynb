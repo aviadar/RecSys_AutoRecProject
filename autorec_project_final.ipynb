{
  "nbformat": 4,
  "nbformat_minor": 0,
  "metadata": {
    "colab": {
      "name": "autorec_project_final.ipynb",
      "provenance": [],
      "collapsed_sections": [
        "BPTZcpzQ0sfq",
        "KjsSKBNV2oOh",
        "a11Jdp710-pE",
        "YrJDgoW11ITS"
      ],
      "machine_shape": "hm"
    },
    "kernelspec": {
      "name": "python3",
      "display_name": "Python 3"
    },
    "language_info": {
      "name": "python"
    },
    "accelerator": "GPU"
  },
  "cells": [
    {
      "cell_type": "markdown",
      "source": [
        "**AutoRec Project**"
      ],
      "metadata": {
        "id": "BhAOlGNOw3Nj"
      }
    },
    {
      "cell_type": "markdown",
      "source": [
        "# Imports"
      ],
      "metadata": {
        "id": "BPTZcpzQ0sfq"
      }
    },
    {
      "cell_type": "code",
      "source": [
        "%matplotlib inline"
      ],
      "metadata": {
        "id": "yX5IP4yJ-CKD"
      },
      "execution_count": 1,
      "outputs": []
    },
    {
      "cell_type": "code",
      "source": [
        "!pip install keras-tuner"
      ],
      "metadata": {
        "colab": {
          "base_uri": "https://localhost:8080/"
        },
        "id": "oHz280golEnY",
        "outputId": "7f1855f1-dd72-4f50-c615-ac0142137f22"
      },
      "execution_count": 2,
      "outputs": [
        {
          "output_type": "stream",
          "name": "stdout",
          "text": [
            "Collecting keras-tuner\n",
            "  Downloading keras_tuner-1.1.0-py3-none-any.whl (98 kB)\n",
            "\u001b[?25l\r\u001b[K     |███▍                            | 10 kB 31.0 MB/s eta 0:00:01\r\u001b[K     |██████▊                         | 20 kB 9.5 MB/s eta 0:00:01\r\u001b[K     |██████████                      | 30 kB 8.4 MB/s eta 0:00:01\r\u001b[K     |█████████████▍                  | 40 kB 8.0 MB/s eta 0:00:01\r\u001b[K     |████████████████▊               | 51 kB 4.9 MB/s eta 0:00:01\r\u001b[K     |████████████████████            | 61 kB 5.4 MB/s eta 0:00:01\r\u001b[K     |███████████████████████▍        | 71 kB 5.3 MB/s eta 0:00:01\r\u001b[K     |██████████████████████████▊     | 81 kB 6.0 MB/s eta 0:00:01\r\u001b[K     |██████████████████████████████  | 92 kB 6.1 MB/s eta 0:00:01\r\u001b[K     |████████████████████████████████| 98 kB 3.3 MB/s \n",
            "\u001b[?25hCollecting kt-legacy\n",
            "  Downloading kt_legacy-1.0.4-py3-none-any.whl (9.6 kB)\n",
            "Requirement already satisfied: packaging in /usr/local/lib/python3.7/dist-packages (from keras-tuner) (21.3)\n",
            "Requirement already satisfied: tensorboard in /usr/local/lib/python3.7/dist-packages (from keras-tuner) (2.7.0)\n",
            "Requirement already satisfied: requests in /usr/local/lib/python3.7/dist-packages (from keras-tuner) (2.23.0)\n",
            "Requirement already satisfied: numpy in /usr/local/lib/python3.7/dist-packages (from keras-tuner) (1.19.5)\n",
            "Requirement already satisfied: scipy in /usr/local/lib/python3.7/dist-packages (from keras-tuner) (1.4.1)\n",
            "Requirement already satisfied: ipython in /usr/local/lib/python3.7/dist-packages (from keras-tuner) (5.5.0)\n",
            "Requirement already satisfied: setuptools>=18.5 in /usr/local/lib/python3.7/dist-packages (from ipython->keras-tuner) (57.4.0)\n",
            "Requirement already satisfied: decorator in /usr/local/lib/python3.7/dist-packages (from ipython->keras-tuner) (4.4.2)\n",
            "Requirement already satisfied: traitlets>=4.2 in /usr/local/lib/python3.7/dist-packages (from ipython->keras-tuner) (5.1.1)\n",
            "Requirement already satisfied: pexpect in /usr/local/lib/python3.7/dist-packages (from ipython->keras-tuner) (4.8.0)\n",
            "Requirement already satisfied: simplegeneric>0.8 in /usr/local/lib/python3.7/dist-packages (from ipython->keras-tuner) (0.8.1)\n",
            "Requirement already satisfied: pygments in /usr/local/lib/python3.7/dist-packages (from ipython->keras-tuner) (2.6.1)\n",
            "Requirement already satisfied: prompt-toolkit<2.0.0,>=1.0.4 in /usr/local/lib/python3.7/dist-packages (from ipython->keras-tuner) (1.0.18)\n",
            "Requirement already satisfied: pickleshare in /usr/local/lib/python3.7/dist-packages (from ipython->keras-tuner) (0.7.5)\n",
            "Requirement already satisfied: wcwidth in /usr/local/lib/python3.7/dist-packages (from prompt-toolkit<2.0.0,>=1.0.4->ipython->keras-tuner) (0.2.5)\n",
            "Requirement already satisfied: six>=1.9.0 in /usr/local/lib/python3.7/dist-packages (from prompt-toolkit<2.0.0,>=1.0.4->ipython->keras-tuner) (1.15.0)\n",
            "Requirement already satisfied: pyparsing!=3.0.5,>=2.0.2 in /usr/local/lib/python3.7/dist-packages (from packaging->keras-tuner) (3.0.7)\n",
            "Requirement already satisfied: ptyprocess>=0.5 in /usr/local/lib/python3.7/dist-packages (from pexpect->ipython->keras-tuner) (0.7.0)\n",
            "Requirement already satisfied: idna<3,>=2.5 in /usr/local/lib/python3.7/dist-packages (from requests->keras-tuner) (2.10)\n",
            "Requirement already satisfied: urllib3!=1.25.0,!=1.25.1,<1.26,>=1.21.1 in /usr/local/lib/python3.7/dist-packages (from requests->keras-tuner) (1.24.3)\n",
            "Requirement already satisfied: certifi>=2017.4.17 in /usr/local/lib/python3.7/dist-packages (from requests->keras-tuner) (2021.10.8)\n",
            "Requirement already satisfied: chardet<4,>=3.0.2 in /usr/local/lib/python3.7/dist-packages (from requests->keras-tuner) (3.0.4)\n",
            "Requirement already satisfied: tensorboard-data-server<0.7.0,>=0.6.0 in /usr/local/lib/python3.7/dist-packages (from tensorboard->keras-tuner) (0.6.1)\n",
            "Requirement already satisfied: tensorboard-plugin-wit>=1.6.0 in /usr/local/lib/python3.7/dist-packages (from tensorboard->keras-tuner) (1.8.1)\n",
            "Requirement already satisfied: absl-py>=0.4 in /usr/local/lib/python3.7/dist-packages (from tensorboard->keras-tuner) (1.0.0)\n",
            "Requirement already satisfied: google-auth-oauthlib<0.5,>=0.4.1 in /usr/local/lib/python3.7/dist-packages (from tensorboard->keras-tuner) (0.4.6)\n",
            "Requirement already satisfied: google-auth<3,>=1.6.3 in /usr/local/lib/python3.7/dist-packages (from tensorboard->keras-tuner) (1.35.0)\n",
            "Requirement already satisfied: wheel>=0.26 in /usr/local/lib/python3.7/dist-packages (from tensorboard->keras-tuner) (0.37.1)\n",
            "Requirement already satisfied: protobuf>=3.6.0 in /usr/local/lib/python3.7/dist-packages (from tensorboard->keras-tuner) (3.17.3)\n",
            "Requirement already satisfied: werkzeug>=0.11.15 in /usr/local/lib/python3.7/dist-packages (from tensorboard->keras-tuner) (1.0.1)\n",
            "Requirement already satisfied: markdown>=2.6.8 in /usr/local/lib/python3.7/dist-packages (from tensorboard->keras-tuner) (3.3.6)\n",
            "Requirement already satisfied: grpcio>=1.24.3 in /usr/local/lib/python3.7/dist-packages (from tensorboard->keras-tuner) (1.43.0)\n",
            "Requirement already satisfied: rsa<5,>=3.1.4 in /usr/local/lib/python3.7/dist-packages (from google-auth<3,>=1.6.3->tensorboard->keras-tuner) (4.8)\n",
            "Requirement already satisfied: pyasn1-modules>=0.2.1 in /usr/local/lib/python3.7/dist-packages (from google-auth<3,>=1.6.3->tensorboard->keras-tuner) (0.2.8)\n",
            "Requirement already satisfied: cachetools<5.0,>=2.0.0 in /usr/local/lib/python3.7/dist-packages (from google-auth<3,>=1.6.3->tensorboard->keras-tuner) (4.2.4)\n",
            "Requirement already satisfied: requests-oauthlib>=0.7.0 in /usr/local/lib/python3.7/dist-packages (from google-auth-oauthlib<0.5,>=0.4.1->tensorboard->keras-tuner) (1.3.1)\n",
            "Requirement already satisfied: importlib-metadata>=4.4 in /usr/local/lib/python3.7/dist-packages (from markdown>=2.6.8->tensorboard->keras-tuner) (4.10.1)\n",
            "Requirement already satisfied: typing-extensions>=3.6.4 in /usr/local/lib/python3.7/dist-packages (from importlib-metadata>=4.4->markdown>=2.6.8->tensorboard->keras-tuner) (3.10.0.2)\n",
            "Requirement already satisfied: zipp>=0.5 in /usr/local/lib/python3.7/dist-packages (from importlib-metadata>=4.4->markdown>=2.6.8->tensorboard->keras-tuner) (3.7.0)\n",
            "Requirement already satisfied: pyasn1<0.5.0,>=0.4.6 in /usr/local/lib/python3.7/dist-packages (from pyasn1-modules>=0.2.1->google-auth<3,>=1.6.3->tensorboard->keras-tuner) (0.4.8)\n",
            "Requirement already satisfied: oauthlib>=3.0.0 in /usr/local/lib/python3.7/dist-packages (from requests-oauthlib>=0.7.0->google-auth-oauthlib<0.5,>=0.4.1->tensorboard->keras-tuner) (3.2.0)\n",
            "Installing collected packages: kt-legacy, keras-tuner\n",
            "Successfully installed keras-tuner-1.1.0 kt-legacy-1.0.4\n"
          ]
        }
      ]
    },
    {
      "cell_type": "code",
      "execution_count": 3,
      "metadata": {
        "id": "WyDSncY3nVV5"
      },
      "outputs": [],
      "source": [
        "from google.colab import drive\n",
        "import os\n",
        "\n",
        "# keras\n",
        "import tensorflow\n",
        "from tensorflow import keras\n",
        "from tensorflow.keras.models import Model\n",
        "from tensorflow.keras import initializers\n",
        "from tensorflow.keras.regularizers import l2\n",
        "from tensorflow.keras.initializers import RandomNormal\n",
        "from tensorflow.keras.layers import Dense,Lambda,Activation\n",
        "from tensorflow.keras.optimizers import Adam,SGD,RMSprop,Adamax\n",
        "from tensorflow.keras.models import Sequential,Model,load_model,save_model\n",
        "from tensorflow.keras.callbacks import Callback, EarlyStopping, ModelCheckpoint\n",
        "from tensorflow.keras.layers import Embedding,Input,Dense,Reshape,Flatten,Dropout,Multiply,Concatenate\n",
        "from keras.utils.vis_utils import plot_model\n",
        "from tensorflow.keras import regularizers\n",
        "import tensorflow as tf\n",
        "import keras_tuner as kt\n",
        "\n",
        "# sklearn\n",
        "from sklearn.model_selection import train_test_split\n",
        "\n",
        "# pytorch\n",
        "# import torch\n",
        "# from torch import nn\n",
        "\n",
        "import requests\n",
        "import zipfile\n",
        "import copy\n",
        "\n",
        "import pandas as pd\n",
        "import numpy as np\n",
        "import random\n",
        "import math\n",
        "\n",
        "from matplotlib import pyplot as plt"
      ]
    },
    {
      "cell_type": "code",
      "source": [
        "np.random.seed(123)\n",
        "random.seed(123)"
      ],
      "metadata": {
        "id": "hu975UwXNQaY"
      },
      "execution_count": 4,
      "outputs": []
    },
    {
      "cell_type": "markdown",
      "source": [
        "# Metrics"
      ],
      "metadata": {
        "id": "KjsSKBNV2oOh"
      }
    },
    {
      "cell_type": "code",
      "source": [
        "class my_metrics():\n",
        "    \n",
        "    THRESHOLD = 3\n",
        "\n",
        "    def RMSE(y_true, y_pred, lower_bound=1, upper_bound=5):\n",
        "        y_pred[y_pred<lower_bound] = lower_bound\n",
        "        y_pred[y_pred>upper_bound] = upper_bound\n",
        "        rel_preds = (y_true >= lower_bound) & (y_true <= upper_bound)\n",
        "        return np.sqrt(((rel_preds * (y_true - y_pred))**2).sum() / rel_preds.sum())\n",
        "    \n",
        "    def MRR(df_true, df_pred, lower_bound=1, upper_bound=5, top_n=5, threshold_val=THRESHOLD):\n",
        "        # please use MRR_for_user\n",
        "        user_mrr = []\n",
        "        for i in range(df_true.shape[0]):\n",
        "            val = my_metrics.MRR_for_user(df_true[i,:], df_pred[i,:], lower_bound, upper_bound, top_n, threshold_val)\n",
        "            if val is not None:\n",
        "                user_mrr.append(val)\n",
        "        return np.sum(user_mrr)/len(user_mrr)\n",
        "    \n",
        "    def MRR_for_user(user_true, user_pred, lower_bound, upper_bound, top_n, threshold_val):\n",
        "        rel_preds = (user_true >= lower_bound) & (user_true <= upper_bound)\n",
        "        if rel_preds.sum() == 0:\n",
        "            return None\n",
        "        screened_user_true = user_true[rel_preds]\n",
        "        screened_user_pred = user_pred[rel_preds]\n",
        "\n",
        "        top_n_pred_indicies = screened_user_pred.argsort()[::-1][:top_n]\n",
        "        for i, (pred, actual) in enumerate(zip(screened_user_pred[top_n_pred_indicies], screened_user_true[top_n_pred_indicies])):\n",
        "            if actual >= threshold_val:\n",
        "                return 1.0/(i+1)\n",
        "        \n",
        "        return 0.0\n",
        "\n",
        "    def NDCG(df_true, df_pred, lower_bound=1, upper_bound=5, top_n=5):\n",
        "        # please use NDCG_for_user\n",
        "        user_ndcg = []\n",
        "        for i in range(df_true.shape[0]):\n",
        "            user_ndcg.append(my_metrics.NDCG_for_user(df_true[i], df_pred[i], lower_bound, upper_bound, top_n))\n",
        "        \n",
        "        user_ndcg = [x for x in user_ndcg if math.isnan(x) == False]\n",
        "\n",
        "        return np.sum(user_ndcg) / len(user_ndcg)\n",
        "        \n",
        "    def NDCG_for_user(user_true,user_pred,lower_bound=1,upper_bound=5,top_n=5):\n",
        "        # please use DCG function\n",
        "        rel_preds = (user_true >= lower_bound) & (user_true <= upper_bound)\n",
        "        if rel_preds.astype(bool).sum() < top_n:\n",
        "            return np.nan        \n",
        "        screened_user_true = user_true[rel_preds]\n",
        "        screened_user_pred = user_pred[rel_preds]\n",
        "        top_n_pred_indicies = screened_user_pred.argsort()[::-1][:top_n]\n",
        "        user_dcg = my_metrics.DCG(screened_user_true[top_n_pred_indicies])\n",
        "        user_idcg = my_metrics.DCG(np.sort(screened_user_true[top_n_pred_indicies])[::-1])\n",
        "        return user_dcg / user_idcg\n",
        "    \n",
        "    def DCG(rel):\n",
        "        # please implement the DCG formula\n",
        "        dcg = rel[0]\n",
        "        for i in range(1, len(rel)):\n",
        "            dcg += rel[i]/np.log2(i+2)\n",
        "\n",
        "        return dcg\n",
        "    \n",
        "    def get_evaluation(df_true,df_pred):        \n",
        "        return {'RMSE':my_metrics.RMSE(df_true,df_pred,),'MRR_5':my_metrics.MRR(df_true,df_pred,top_n=5),'MRR_10':my_metrics.MRR(df_true,df_pred,top_n=10),'NDCG_5':my_metrics.NDCG(df_true,df_pred,top_n=5),'NDCG_10':my_metrics.NDCG(df_true,df_pred,top_n=10)}"
      ],
      "metadata": {
        "id": "z2fBuQG42mfA"
      },
      "execution_count": 5,
      "outputs": []
    },
    {
      "cell_type": "markdown",
      "source": [
        "# MovieLens 1M Dataset"
      ],
      "metadata": {
        "id": "n0bJP2gG02Ai"
      }
    },
    {
      "cell_type": "markdown",
      "source": [
        "## Data Loading & Manipulation"
      ],
      "metadata": {
        "id": "a11Jdp710-pE"
      }
    },
    {
      "cell_type": "code",
      "source": [
        "url = 'http://files.grouplens.org/datasets/movielens/ml-1m.zip'\n",
        "zip_name = 'ml-1m.zip'\n",
        "data_dir = 'ml-1m/'\n",
        "\n",
        "r = requests.get(url, allow_redirects=True)\n",
        "open(zip_name, 'wb').write(r.content)\n",
        "\n",
        "with zipfile.ZipFile(zip_name,\"r\") as zip_ref:\n",
        "    zip_ref.extractall()"
      ],
      "metadata": {
        "id": "mgDyiBZE0Vxq"
      },
      "execution_count": 6,
      "outputs": []
    },
    {
      "cell_type": "code",
      "source": [
        "ratings_df = pd.read_csv('/content/ml-1m/ratings.dat', header=None, names=['user_id', 'item_id', 'rating', 'timestamp'], delimiter='::')\n",
        "ratings_df.head()"
      ],
      "metadata": {
        "colab": {
          "base_uri": "https://localhost:8080/",
          "height": 261
        },
        "id": "5eKF7PL80x3e",
        "outputId": "3b3017ab-30ee-4835-c8f2-c7dc64dce0bd"
      },
      "execution_count": 7,
      "outputs": [
        {
          "output_type": "stream",
          "name": "stderr",
          "text": [
            "/usr/local/lib/python3.7/dist-packages/pandas/util/_decorators.py:311: ParserWarning: Falling back to the 'python' engine because the 'c' engine does not support regex separators (separators > 1 char and different from '\\s+' are interpreted as regex); you can avoid this warning by specifying engine='python'.\n",
            "  return func(*args, **kwargs)\n"
          ]
        },
        {
          "output_type": "execute_result",
          "data": {
            "text/html": [
              "\n",
              "  <div id=\"df-2103e223-f468-43c5-9979-990e19b3ba8b\">\n",
              "    <div class=\"colab-df-container\">\n",
              "      <div>\n",
              "<style scoped>\n",
              "    .dataframe tbody tr th:only-of-type {\n",
              "        vertical-align: middle;\n",
              "    }\n",
              "\n",
              "    .dataframe tbody tr th {\n",
              "        vertical-align: top;\n",
              "    }\n",
              "\n",
              "    .dataframe thead th {\n",
              "        text-align: right;\n",
              "    }\n",
              "</style>\n",
              "<table border=\"1\" class=\"dataframe\">\n",
              "  <thead>\n",
              "    <tr style=\"text-align: right;\">\n",
              "      <th></th>\n",
              "      <th>user_id</th>\n",
              "      <th>item_id</th>\n",
              "      <th>rating</th>\n",
              "      <th>timestamp</th>\n",
              "    </tr>\n",
              "  </thead>\n",
              "  <tbody>\n",
              "    <tr>\n",
              "      <th>0</th>\n",
              "      <td>1</td>\n",
              "      <td>1193</td>\n",
              "      <td>5</td>\n",
              "      <td>978300760</td>\n",
              "    </tr>\n",
              "    <tr>\n",
              "      <th>1</th>\n",
              "      <td>1</td>\n",
              "      <td>661</td>\n",
              "      <td>3</td>\n",
              "      <td>978302109</td>\n",
              "    </tr>\n",
              "    <tr>\n",
              "      <th>2</th>\n",
              "      <td>1</td>\n",
              "      <td>914</td>\n",
              "      <td>3</td>\n",
              "      <td>978301968</td>\n",
              "    </tr>\n",
              "    <tr>\n",
              "      <th>3</th>\n",
              "      <td>1</td>\n",
              "      <td>3408</td>\n",
              "      <td>4</td>\n",
              "      <td>978300275</td>\n",
              "    </tr>\n",
              "    <tr>\n",
              "      <th>4</th>\n",
              "      <td>1</td>\n",
              "      <td>2355</td>\n",
              "      <td>5</td>\n",
              "      <td>978824291</td>\n",
              "    </tr>\n",
              "  </tbody>\n",
              "</table>\n",
              "</div>\n",
              "      <button class=\"colab-df-convert\" onclick=\"convertToInteractive('df-2103e223-f468-43c5-9979-990e19b3ba8b')\"\n",
              "              title=\"Convert this dataframe to an interactive table.\"\n",
              "              style=\"display:none;\">\n",
              "        \n",
              "  <svg xmlns=\"http://www.w3.org/2000/svg\" height=\"24px\"viewBox=\"0 0 24 24\"\n",
              "       width=\"24px\">\n",
              "    <path d=\"M0 0h24v24H0V0z\" fill=\"none\"/>\n",
              "    <path d=\"M18.56 5.44l.94 2.06.94-2.06 2.06-.94-2.06-.94-.94-2.06-.94 2.06-2.06.94zm-11 1L8.5 8.5l.94-2.06 2.06-.94-2.06-.94L8.5 2.5l-.94 2.06-2.06.94zm10 10l.94 2.06.94-2.06 2.06-.94-2.06-.94-.94-2.06-.94 2.06-2.06.94z\"/><path d=\"M17.41 7.96l-1.37-1.37c-.4-.4-.92-.59-1.43-.59-.52 0-1.04.2-1.43.59L10.3 9.45l-7.72 7.72c-.78.78-.78 2.05 0 2.83L4 21.41c.39.39.9.59 1.41.59.51 0 1.02-.2 1.41-.59l7.78-7.78 2.81-2.81c.8-.78.8-2.07 0-2.86zM5.41 20L4 18.59l7.72-7.72 1.47 1.35L5.41 20z\"/>\n",
              "  </svg>\n",
              "      </button>\n",
              "      \n",
              "  <style>\n",
              "    .colab-df-container {\n",
              "      display:flex;\n",
              "      flex-wrap:wrap;\n",
              "      gap: 12px;\n",
              "    }\n",
              "\n",
              "    .colab-df-convert {\n",
              "      background-color: #E8F0FE;\n",
              "      border: none;\n",
              "      border-radius: 50%;\n",
              "      cursor: pointer;\n",
              "      display: none;\n",
              "      fill: #1967D2;\n",
              "      height: 32px;\n",
              "      padding: 0 0 0 0;\n",
              "      width: 32px;\n",
              "    }\n",
              "\n",
              "    .colab-df-convert:hover {\n",
              "      background-color: #E2EBFA;\n",
              "      box-shadow: 0px 1px 2px rgba(60, 64, 67, 0.3), 0px 1px 3px 1px rgba(60, 64, 67, 0.15);\n",
              "      fill: #174EA6;\n",
              "    }\n",
              "\n",
              "    [theme=dark] .colab-df-convert {\n",
              "      background-color: #3B4455;\n",
              "      fill: #D2E3FC;\n",
              "    }\n",
              "\n",
              "    [theme=dark] .colab-df-convert:hover {\n",
              "      background-color: #434B5C;\n",
              "      box-shadow: 0px 1px 3px 1px rgba(0, 0, 0, 0.15);\n",
              "      filter: drop-shadow(0px 1px 2px rgba(0, 0, 0, 0.3));\n",
              "      fill: #FFFFFF;\n",
              "    }\n",
              "  </style>\n",
              "\n",
              "      <script>\n",
              "        const buttonEl =\n",
              "          document.querySelector('#df-2103e223-f468-43c5-9979-990e19b3ba8b button.colab-df-convert');\n",
              "        buttonEl.style.display =\n",
              "          google.colab.kernel.accessAllowed ? 'block' : 'none';\n",
              "\n",
              "        async function convertToInteractive(key) {\n",
              "          const element = document.querySelector('#df-2103e223-f468-43c5-9979-990e19b3ba8b');\n",
              "          const dataTable =\n",
              "            await google.colab.kernel.invokeFunction('convertToInteractive',\n",
              "                                                     [key], {});\n",
              "          if (!dataTable) return;\n",
              "\n",
              "          const docLinkHtml = 'Like what you see? Visit the ' +\n",
              "            '<a target=\"_blank\" href=https://colab.research.google.com/notebooks/data_table.ipynb>data table notebook</a>'\n",
              "            + ' to learn more about interactive tables.';\n",
              "          element.innerHTML = '';\n",
              "          dataTable['output_type'] = 'display_data';\n",
              "          await google.colab.output.renderOutput(dataTable, element);\n",
              "          const docLink = document.createElement('div');\n",
              "          docLink.innerHTML = docLinkHtml;\n",
              "          element.appendChild(docLink);\n",
              "        }\n",
              "      </script>\n",
              "    </div>\n",
              "  </div>\n",
              "  "
            ],
            "text/plain": [
              "   user_id  item_id  rating  timestamp\n",
              "0        1     1193       5  978300760\n",
              "1        1      661       3  978302109\n",
              "2        1      914       3  978301968\n",
              "3        1     3408       4  978300275\n",
              "4        1     2355       5  978824291"
            ]
          },
          "metadata": {},
          "execution_count": 7
        }
      ]
    },
    {
      "cell_type": "markdown",
      "source": [
        "we are not intrested in timestamps, so we can remove the column. <br>\n",
        "also, in order to keep embedding size as small as possible, we need to change the user and item ids."
      ],
      "metadata": {
        "id": "cKQsUvO77tNR"
      }
    },
    {
      "cell_type": "code",
      "source": [
        "ratings_df.drop(columns='timestamp', inplace=True)\n",
        "\n",
        "def user_id_trans(idx):\n",
        "    return idx-1\n",
        "\n",
        "item_id_trans_dict =  {k:v for k,v in zip(ratings_df.item_id.unique(),range(ratings_df.item_id.nunique()))}\n",
        "def item_id_trans(key_value):\n",
        "    return item_id_trans_dict[key_value]\n",
        "\n",
        "ratings_df.user_id = ratings_df.user_id.apply(user_id_trans)\n",
        "ratings_df.item_id = ratings_df.item_id.apply(item_id_trans)\n",
        "\n",
        "ratings_df.head()"
      ],
      "metadata": {
        "colab": {
          "base_uri": "https://localhost:8080/",
          "height": 206
        },
        "id": "K4vLMtG97eoY",
        "outputId": "67803859-3869-4477-af58-a91b2cf56f00"
      },
      "execution_count": 8,
      "outputs": [
        {
          "output_type": "execute_result",
          "data": {
            "text/html": [
              "\n",
              "  <div id=\"df-995f5259-2af6-4317-8982-40d7a4687334\">\n",
              "    <div class=\"colab-df-container\">\n",
              "      <div>\n",
              "<style scoped>\n",
              "    .dataframe tbody tr th:only-of-type {\n",
              "        vertical-align: middle;\n",
              "    }\n",
              "\n",
              "    .dataframe tbody tr th {\n",
              "        vertical-align: top;\n",
              "    }\n",
              "\n",
              "    .dataframe thead th {\n",
              "        text-align: right;\n",
              "    }\n",
              "</style>\n",
              "<table border=\"1\" class=\"dataframe\">\n",
              "  <thead>\n",
              "    <tr style=\"text-align: right;\">\n",
              "      <th></th>\n",
              "      <th>user_id</th>\n",
              "      <th>item_id</th>\n",
              "      <th>rating</th>\n",
              "    </tr>\n",
              "  </thead>\n",
              "  <tbody>\n",
              "    <tr>\n",
              "      <th>0</th>\n",
              "      <td>0</td>\n",
              "      <td>0</td>\n",
              "      <td>5</td>\n",
              "    </tr>\n",
              "    <tr>\n",
              "      <th>1</th>\n",
              "      <td>0</td>\n",
              "      <td>1</td>\n",
              "      <td>3</td>\n",
              "    </tr>\n",
              "    <tr>\n",
              "      <th>2</th>\n",
              "      <td>0</td>\n",
              "      <td>2</td>\n",
              "      <td>3</td>\n",
              "    </tr>\n",
              "    <tr>\n",
              "      <th>3</th>\n",
              "      <td>0</td>\n",
              "      <td>3</td>\n",
              "      <td>4</td>\n",
              "    </tr>\n",
              "    <tr>\n",
              "      <th>4</th>\n",
              "      <td>0</td>\n",
              "      <td>4</td>\n",
              "      <td>5</td>\n",
              "    </tr>\n",
              "  </tbody>\n",
              "</table>\n",
              "</div>\n",
              "      <button class=\"colab-df-convert\" onclick=\"convertToInteractive('df-995f5259-2af6-4317-8982-40d7a4687334')\"\n",
              "              title=\"Convert this dataframe to an interactive table.\"\n",
              "              style=\"display:none;\">\n",
              "        \n",
              "  <svg xmlns=\"http://www.w3.org/2000/svg\" height=\"24px\"viewBox=\"0 0 24 24\"\n",
              "       width=\"24px\">\n",
              "    <path d=\"M0 0h24v24H0V0z\" fill=\"none\"/>\n",
              "    <path d=\"M18.56 5.44l.94 2.06.94-2.06 2.06-.94-2.06-.94-.94-2.06-.94 2.06-2.06.94zm-11 1L8.5 8.5l.94-2.06 2.06-.94-2.06-.94L8.5 2.5l-.94 2.06-2.06.94zm10 10l.94 2.06.94-2.06 2.06-.94-2.06-.94-.94-2.06-.94 2.06-2.06.94z\"/><path d=\"M17.41 7.96l-1.37-1.37c-.4-.4-.92-.59-1.43-.59-.52 0-1.04.2-1.43.59L10.3 9.45l-7.72 7.72c-.78.78-.78 2.05 0 2.83L4 21.41c.39.39.9.59 1.41.59.51 0 1.02-.2 1.41-.59l7.78-7.78 2.81-2.81c.8-.78.8-2.07 0-2.86zM5.41 20L4 18.59l7.72-7.72 1.47 1.35L5.41 20z\"/>\n",
              "  </svg>\n",
              "      </button>\n",
              "      \n",
              "  <style>\n",
              "    .colab-df-container {\n",
              "      display:flex;\n",
              "      flex-wrap:wrap;\n",
              "      gap: 12px;\n",
              "    }\n",
              "\n",
              "    .colab-df-convert {\n",
              "      background-color: #E8F0FE;\n",
              "      border: none;\n",
              "      border-radius: 50%;\n",
              "      cursor: pointer;\n",
              "      display: none;\n",
              "      fill: #1967D2;\n",
              "      height: 32px;\n",
              "      padding: 0 0 0 0;\n",
              "      width: 32px;\n",
              "    }\n",
              "\n",
              "    .colab-df-convert:hover {\n",
              "      background-color: #E2EBFA;\n",
              "      box-shadow: 0px 1px 2px rgba(60, 64, 67, 0.3), 0px 1px 3px 1px rgba(60, 64, 67, 0.15);\n",
              "      fill: #174EA6;\n",
              "    }\n",
              "\n",
              "    [theme=dark] .colab-df-convert {\n",
              "      background-color: #3B4455;\n",
              "      fill: #D2E3FC;\n",
              "    }\n",
              "\n",
              "    [theme=dark] .colab-df-convert:hover {\n",
              "      background-color: #434B5C;\n",
              "      box-shadow: 0px 1px 3px 1px rgba(0, 0, 0, 0.15);\n",
              "      filter: drop-shadow(0px 1px 2px rgba(0, 0, 0, 0.3));\n",
              "      fill: #FFFFFF;\n",
              "    }\n",
              "  </style>\n",
              "\n",
              "      <script>\n",
              "        const buttonEl =\n",
              "          document.querySelector('#df-995f5259-2af6-4317-8982-40d7a4687334 button.colab-df-convert');\n",
              "        buttonEl.style.display =\n",
              "          google.colab.kernel.accessAllowed ? 'block' : 'none';\n",
              "\n",
              "        async function convertToInteractive(key) {\n",
              "          const element = document.querySelector('#df-995f5259-2af6-4317-8982-40d7a4687334');\n",
              "          const dataTable =\n",
              "            await google.colab.kernel.invokeFunction('convertToInteractive',\n",
              "                                                     [key], {});\n",
              "          if (!dataTable) return;\n",
              "\n",
              "          const docLinkHtml = 'Like what you see? Visit the ' +\n",
              "            '<a target=\"_blank\" href=https://colab.research.google.com/notebooks/data_table.ipynb>data table notebook</a>'\n",
              "            + ' to learn more about interactive tables.';\n",
              "          element.innerHTML = '';\n",
              "          dataTable['output_type'] = 'display_data';\n",
              "          await google.colab.output.renderOutput(dataTable, element);\n",
              "          const docLink = document.createElement('div');\n",
              "          docLink.innerHTML = docLinkHtml;\n",
              "          element.appendChild(docLink);\n",
              "        }\n",
              "      </script>\n",
              "    </div>\n",
              "  </div>\n",
              "  "
            ],
            "text/plain": [
              "   user_id  item_id  rating\n",
              "0        0        0       5\n",
              "1        0        1       3\n",
              "2        0        2       3\n",
              "3        0        3       4\n",
              "4        0        4       5"
            ]
          },
          "metadata": {},
          "execution_count": 8
        }
      ]
    },
    {
      "cell_type": "code",
      "source": [
        "ml_users_num, ml_items_num = ratings_df.user_id.nunique(), ratings_df.item_id.nunique()\n",
        "ml_users_num, ml_items_num"
      ],
      "metadata": {
        "colab": {
          "base_uri": "https://localhost:8080/"
        },
        "id": "TUu4BApbxVkI",
        "outputId": "237865a1-0594-47c2-a69c-18f823cfb2ac"
      },
      "execution_count": 9,
      "outputs": [
        {
          "output_type": "execute_result",
          "data": {
            "text/plain": [
              "(6040, 3706)"
            ]
          },
          "metadata": {},
          "execution_count": 9
        }
      ]
    },
    {
      "cell_type": "markdown",
      "source": [
        "## Train\\Test Split"
      ],
      "metadata": {
        "id": "YrJDgoW11ITS"
      }
    },
    {
      "cell_type": "markdown",
      "source": [
        "splitting the data into train, validation and test:"
      ],
      "metadata": {
        "id": "-gIHmW1qGK6_"
      }
    },
    {
      "cell_type": "code",
      "source": [
        "train, test = train_test_split(ratings_df, test_size=0.1, random_state=42)\n",
        "train.user_id.nunique(), train.item_id.nunique()\n",
        "\n",
        "def create_full_mat(df):\n",
        "    full_mat = np.zeros((ml_users_num, ml_items_num))\n",
        "    for user, item, rating in zip(df.user_id, df.item_id, df.rating):\n",
        "        full_mat[user, item] = rating\n",
        "    return full_mat\n",
        "\n",
        "full_train_mat = create_full_mat(train)\n",
        "full_test_mat = create_full_mat(test)"
      ],
      "metadata": {
        "id": "boo_V2j7GQuR"
      },
      "execution_count": 10,
      "outputs": []
    },
    {
      "cell_type": "code",
      "source": [
        "def df_to_mat(df):\n",
        "    full_mat = np.zeros((df.user_id.max()+1, df.item_id.max()+1))\n",
        "    for user, item, rating in zip(df.user_id, df.item_id, df.rating):\n",
        "        full_mat[user, item] = rating\n",
        "    return full_mat"
      ],
      "metadata": {
        "id": "UmoVSGibAXrT"
      },
      "execution_count": 11,
      "outputs": []
    },
    {
      "cell_type": "markdown",
      "source": [
        "## Matrix Factorization"
      ],
      "metadata": {
        "id": "FU2yfxc-1OaR"
      }
    },
    {
      "cell_type": "code",
      "source": [
        "class MF:\n",
        "    es = EarlyStopping(monitor='val_loss', mode='min', verbose=1, patience=5)\n",
        "    mc = ModelCheckpoint('best_mf_model.h5', monitor='val_loss', mode='min', save_best_only=True)\n",
        "\n",
        "    def __init__(self, users_num, items_num, latent_dim=20, optimizer='Adam', loss='mean_squared_error', learning_rate=0.01):\n",
        "        self.users_num = users_num\n",
        "        self.items_num = items_num\n",
        "        self.optimizer = optimizer\n",
        "        self.loss = loss\n",
        "        self.learning_rate = learning_rate\n",
        "        self.latent_dim = latent_dim\n",
        "\n",
        "    def build_opt_model(self):\n",
        "        user_input = Input(shape=(1,), name='user_input', dtype='int32')\n",
        "        item_input = Input(shape=(1,), name='item_input', dtype='int32')\n",
        "\n",
        "        user_embedding = Embedding(input_dim=self.users_num, output_dim=self.latent_dim, name='user_embedding')(user_input)\n",
        "        item_embedding = Embedding(input_dim=self.items_num, output_dim=self.latent_dim, name='item_embedding')(item_input)\n",
        "\n",
        "        user_latent = Flatten()(user_embedding)\n",
        "        item_latent = Flatten()(item_embedding)\n",
        "\n",
        "        pred = keras.layers.dot([user_latent, item_latent], axes=1, normalize=False)\n",
        "        self.model = Model(inputs=[user_input, item_input], outputs=pred)\n",
        "\n",
        "        if self.optimizer=='Adam':\n",
        "            self.model.compile(optimizer=Adam(learning_rate=self.learning_rate), loss=self.loss)\n",
        "        else:\n",
        "            raise Exception('Optimizer not implemented')\n",
        "        self.model.summary()\n",
        "\n",
        "    def model_builder(self, hp):\n",
        "        user_input = Input(shape=(1,), name='user_input', dtype='int32')\n",
        "        item_input = Input(shape=(1,), name='item_input', dtype='int32')\n",
        "\n",
        "        hp_latent_dim = hp.Int('latent_dim', min_value=8, max_value=40, step=8)\n",
        "\n",
        "        user_embedding = Embedding(input_dim=self.users_num, output_dim=hp_latent_dim, name='user_embedding')(user_input)\n",
        "        item_embedding = Embedding(input_dim=self.items_num, output_dim=hp_latent_dim, name='item_embedding')(item_input)\n",
        "\n",
        "        user_latent = Flatten()(user_embedding)\n",
        "        item_latent = Flatten()(item_embedding)\n",
        "\n",
        "        pred = keras.layers.dot([user_latent, item_latent], axes=1, normalize=False)\n",
        "        self.model = Model(inputs=[user_input, item_input], outputs=pred)\n",
        "\n",
        "        hp_learning_rate = hp.Choice('learning_rate', values=[1e-2, 1e-3, 1e-4])\n",
        "\n",
        "        if self.optimizer=='Adam':\n",
        "            self.model.compile(optimizer=Adam(learning_rate=hp_learning_rate), loss=self.loss)\n",
        "        else:\n",
        "            raise Exception('Optimizer not implemented')\n",
        "        self.model.summary()\n",
        "        return self.model\n",
        "        \n",
        "    def fit(self, user_input, item_input, labels, batch_size=8168, epochs=100, verbose=1):\n",
        "        self.hist = self.model.fit([np.array(user_input), np.array(item_input)], #input\n",
        "                                np.array(labels), # labels \n",
        "                                validation_split=0.1,\n",
        "                                batch_size=batch_size, epochs=epochs, verbose=verbose, \n",
        "                                callbacks=[MF.es, MF.mc]) \n",
        "    \n",
        "    def predict(self, user_input, item_input, batch_size=8168, verbose=1):\n",
        "        self.predictions = self.model.predict([np.array(user_input), np.array(item_input)], \n",
        "                                 batch_size=batch_size, verbose=verbose)"
      ],
      "metadata": {
        "id": "B0V-42grnmzi"
      },
      "execution_count": 12,
      "outputs": []
    },
    {
      "cell_type": "markdown",
      "source": [
        "### Hyperparameter Tuning"
      ],
      "metadata": {
        "id": "cV4swqNL1cbR"
      }
    },
    {
      "cell_type": "markdown",
      "source": [
        "creating and fitting the model:"
      ],
      "metadata": {
        "id": "Xgvmv2jXRO2u"
      }
    },
    {
      "cell_type": "code",
      "source": [
        "mf = MF(users_num=ratings_df.user_id.max()+1, items_num=ratings_df.item_id.max()+1)"
      ],
      "metadata": {
        "id": "ytvDSyEMIrRU"
      },
      "execution_count": 13,
      "outputs": []
    },
    {
      "cell_type": "code",
      "source": [
        "tuner = kt.Hyperband(mf.model_builder,\n",
        "                     objective='val_loss',\n",
        "                     max_epochs=10,\n",
        "                     factor=3,\n",
        "                     directory='hyper_params',\n",
        "                     project_name='mf_ml')"
      ],
      "metadata": {
        "colab": {
          "base_uri": "https://localhost:8080/"
        },
        "id": "iqbbZ6Uyp8vO",
        "outputId": "e3b3508c-f78d-4f4e-9bdb-7ccdbcd83124"
      },
      "execution_count": 14,
      "outputs": [
        {
          "output_type": "stream",
          "name": "stdout",
          "text": [
            "Model: \"model\"\n",
            "__________________________________________________________________________________________________\n",
            " Layer (type)                   Output Shape         Param #     Connected to                     \n",
            "==================================================================================================\n",
            " user_input (InputLayer)        [(None, 1)]          0           []                               \n",
            "                                                                                                  \n",
            " item_input (InputLayer)        [(None, 1)]          0           []                               \n",
            "                                                                                                  \n",
            " user_embedding (Embedding)     (None, 1, 8)         48320       ['user_input[0][0]']             \n",
            "                                                                                                  \n",
            " item_embedding (Embedding)     (None, 1, 8)         29648       ['item_input[0][0]']             \n",
            "                                                                                                  \n",
            " flatten (Flatten)              (None, 8)            0           ['user_embedding[0][0]']         \n",
            "                                                                                                  \n",
            " flatten_1 (Flatten)            (None, 8)            0           ['item_embedding[0][0]']         \n",
            "                                                                                                  \n",
            " dot (Dot)                      (None, 1)            0           ['flatten[0][0]',                \n",
            "                                                                  'flatten_1[0][0]']              \n",
            "                                                                                                  \n",
            "==================================================================================================\n",
            "Total params: 77,968\n",
            "Trainable params: 77,968\n",
            "Non-trainable params: 0\n",
            "__________________________________________________________________________________________________\n"
          ]
        }
      ]
    },
    {
      "cell_type": "code",
      "source": [
        "stop_early = tf.keras.callbacks.EarlyStopping(monitor='val_loss', patience=5)\n",
        "tuner.search([np.array(train.user_id), np.array(train.item_id)], np.array(train.rating), \n",
        "             epochs=10, validation_split=0.2, callbacks=[stop_early], batch_size=512)\n",
        "# Get the optimal hyperparameters\n",
        "best_hps=tuner.get_best_hyperparameters(num_trials=1)[0]"
      ],
      "metadata": {
        "colab": {
          "base_uri": "https://localhost:8080/"
        },
        "id": "gRgK4SiFqOZT",
        "outputId": "4468e02e-414e-4663-ffbb-836547554a5b"
      },
      "execution_count": 15,
      "outputs": [
        {
          "output_type": "stream",
          "name": "stdout",
          "text": [
            "Trial 20 Complete [00h 00m 17s]\n",
            "val_loss: 0.8040345311164856\n",
            "\n",
            "Best val_loss So Far: 0.8040345311164856\n",
            "Total elapsed time: 00h 03m 59s\n",
            "INFO:tensorflow:Oracle triggered exit\n"
          ]
        }
      ]
    },
    {
      "cell_type": "code",
      "source": [
        "best_hps.get('latent_dim'), best_hps.get('learning_rate')"
      ],
      "metadata": {
        "colab": {
          "base_uri": "https://localhost:8080/"
        },
        "id": "wioPaEO4uvfS",
        "outputId": "901792ce-39ae-48e7-97bd-8c2f9cc8d5e7"
      },
      "execution_count": 16,
      "outputs": [
        {
          "output_type": "execute_result",
          "data": {
            "text/plain": [
              "(40, 0.001)"
            ]
          },
          "metadata": {},
          "execution_count": 16
        }
      ]
    },
    {
      "cell_type": "markdown",
      "source": [
        "### Retraining"
      ],
      "metadata": {
        "id": "Hb0B6hqQ1h8h"
      }
    },
    {
      "cell_type": "code",
      "source": [
        "mf_opt = MF(users_num=ratings_df.user_id.max()+1, items_num=ratings_df.item_id.max()+1, latent_dim=best_hps.get('latent_dim'), learning_rate=best_hps.get('learning_rate'))\n",
        "mf_opt.build_opt_model()"
      ],
      "metadata": {
        "colab": {
          "base_uri": "https://localhost:8080/"
        },
        "id": "u3VynXcTHf62",
        "outputId": "75e1aa36-1d08-4f86-86ad-5f160d03b9ae"
      },
      "execution_count": 17,
      "outputs": [
        {
          "output_type": "stream",
          "name": "stdout",
          "text": [
            "Model: \"model_1\"\n",
            "__________________________________________________________________________________________________\n",
            " Layer (type)                   Output Shape         Param #     Connected to                     \n",
            "==================================================================================================\n",
            " user_input (InputLayer)        [(None, 1)]          0           []                               \n",
            "                                                                                                  \n",
            " item_input (InputLayer)        [(None, 1)]          0           []                               \n",
            "                                                                                                  \n",
            " user_embedding (Embedding)     (None, 1, 40)        241600      ['user_input[0][0]']             \n",
            "                                                                                                  \n",
            " item_embedding (Embedding)     (None, 1, 40)        148240      ['item_input[0][0]']             \n",
            "                                                                                                  \n",
            " flatten_2 (Flatten)            (None, 40)           0           ['user_embedding[0][0]']         \n",
            "                                                                                                  \n",
            " flatten_3 (Flatten)            (None, 40)           0           ['item_embedding[0][0]']         \n",
            "                                                                                                  \n",
            " dot_1 (Dot)                    (None, 1)            0           ['flatten_2[0][0]',              \n",
            "                                                                  'flatten_3[0][0]']              \n",
            "                                                                                                  \n",
            "==================================================================================================\n",
            "Total params: 389,840\n",
            "Trainable params: 389,840\n",
            "Non-trainable params: 0\n",
            "__________________________________________________________________________________________________\n"
          ]
        }
      ]
    },
    {
      "cell_type": "code",
      "source": [
        "mf_opt.fit(train.user_id, train.item_id, labels=train.rating)"
      ],
      "metadata": {
        "id": "iNR43DFMXmXJ",
        "colab": {
          "base_uri": "https://localhost:8080/"
        },
        "outputId": "02b7ba84-fd9c-4f17-c653-279b8b417ad7"
      },
      "execution_count": 18,
      "outputs": [
        {
          "output_type": "stream",
          "name": "stdout",
          "text": [
            "Epoch 1/100\n",
            "100/100 [==============================] - 1s 5ms/step - loss: 14.0390 - val_loss: 13.8820\n",
            "Epoch 2/100\n",
            "100/100 [==============================] - 0s 4ms/step - loss: 11.5933 - val_loss: 7.7712\n",
            "Epoch 3/100\n",
            "100/100 [==============================] - 0s 4ms/step - loss: 4.2147 - val_loss: 1.9208\n",
            "Epoch 4/100\n",
            "100/100 [==============================] - 0s 4ms/step - loss: 1.3715 - val_loss: 1.0997\n",
            "Epoch 5/100\n",
            "100/100 [==============================] - 0s 4ms/step - loss: 0.9905 - val_loss: 0.9371\n",
            "Epoch 6/100\n",
            "100/100 [==============================] - 0s 4ms/step - loss: 0.8911 - val_loss: 0.8798\n",
            "Epoch 7/100\n",
            "100/100 [==============================] - 0s 4ms/step - loss: 0.8529 - val_loss: 0.8564\n",
            "Epoch 8/100\n",
            "100/100 [==============================] - 0s 4ms/step - loss: 0.8358 - val_loss: 0.8451\n",
            "Epoch 9/100\n",
            "100/100 [==============================] - 0s 4ms/step - loss: 0.8270 - val_loss: 0.8394\n",
            "Epoch 10/100\n",
            "100/100 [==============================] - 0s 4ms/step - loss: 0.8220 - val_loss: 0.8354\n",
            "Epoch 11/100\n",
            "100/100 [==============================] - 0s 4ms/step - loss: 0.8182 - val_loss: 0.8330\n",
            "Epoch 12/100\n",
            "100/100 [==============================] - 0s 4ms/step - loss: 0.8149 - val_loss: 0.8308\n",
            "Epoch 13/100\n",
            "100/100 [==============================] - 0s 4ms/step - loss: 0.8116 - val_loss: 0.8278\n",
            "Epoch 14/100\n",
            "100/100 [==============================] - 0s 4ms/step - loss: 0.8080 - val_loss: 0.8249\n",
            "Epoch 15/100\n",
            "100/100 [==============================] - 0s 4ms/step - loss: 0.8040 - val_loss: 0.8218\n",
            "Epoch 16/100\n",
            "100/100 [==============================] - 0s 4ms/step - loss: 0.7996 - val_loss: 0.8183\n",
            "Epoch 17/100\n",
            "100/100 [==============================] - 0s 4ms/step - loss: 0.7947 - val_loss: 0.8141\n",
            "Epoch 18/100\n",
            "100/100 [==============================] - 0s 4ms/step - loss: 0.7897 - val_loss: 0.8104\n",
            "Epoch 19/100\n",
            "100/100 [==============================] - 0s 4ms/step - loss: 0.7846 - val_loss: 0.8064\n",
            "Epoch 20/100\n",
            "100/100 [==============================] - 0s 4ms/step - loss: 0.7796 - val_loss: 0.8030\n",
            "Epoch 21/100\n",
            "100/100 [==============================] - 0s 4ms/step - loss: 0.7744 - val_loss: 0.7997\n",
            "Epoch 22/100\n",
            "100/100 [==============================] - 0s 4ms/step - loss: 0.7695 - val_loss: 0.7966\n",
            "Epoch 23/100\n",
            "100/100 [==============================] - 0s 4ms/step - loss: 0.7646 - val_loss: 0.7929\n",
            "Epoch 24/100\n",
            "100/100 [==============================] - 0s 4ms/step - loss: 0.7597 - val_loss: 0.7896\n",
            "Epoch 25/100\n",
            "100/100 [==============================] - 0s 4ms/step - loss: 0.7548 - val_loss: 0.7870\n",
            "Epoch 26/100\n",
            "100/100 [==============================] - 0s 4ms/step - loss: 0.7498 - val_loss: 0.7836\n",
            "Epoch 27/100\n",
            "100/100 [==============================] - 0s 4ms/step - loss: 0.7447 - val_loss: 0.7806\n",
            "Epoch 28/100\n",
            "100/100 [==============================] - 0s 4ms/step - loss: 0.7393 - val_loss: 0.7777\n",
            "Epoch 29/100\n",
            "100/100 [==============================] - 0s 4ms/step - loss: 0.7340 - val_loss: 0.7744\n",
            "Epoch 30/100\n",
            "100/100 [==============================] - 0s 4ms/step - loss: 0.7285 - val_loss: 0.7717\n",
            "Epoch 31/100\n",
            "100/100 [==============================] - 0s 4ms/step - loss: 0.7229 - val_loss: 0.7689\n",
            "Epoch 32/100\n",
            "100/100 [==============================] - 0s 4ms/step - loss: 0.7173 - val_loss: 0.7656\n",
            "Epoch 33/100\n",
            "100/100 [==============================] - 0s 4ms/step - loss: 0.7114 - val_loss: 0.7629\n",
            "Epoch 34/100\n",
            "100/100 [==============================] - 0s 4ms/step - loss: 0.7057 - val_loss: 0.7609\n",
            "Epoch 35/100\n",
            "100/100 [==============================] - 0s 4ms/step - loss: 0.6996 - val_loss: 0.7583\n",
            "Epoch 36/100\n",
            "100/100 [==============================] - 0s 4ms/step - loss: 0.6936 - val_loss: 0.7562\n",
            "Epoch 37/100\n",
            "100/100 [==============================] - 0s 4ms/step - loss: 0.6875 - val_loss: 0.7535\n",
            "Epoch 38/100\n",
            "100/100 [==============================] - 0s 4ms/step - loss: 0.6814 - val_loss: 0.7519\n",
            "Epoch 39/100\n",
            "100/100 [==============================] - 0s 4ms/step - loss: 0.6749 - val_loss: 0.7498\n",
            "Epoch 40/100\n",
            "100/100 [==============================] - 0s 4ms/step - loss: 0.6685 - val_loss: 0.7480\n",
            "Epoch 41/100\n",
            "100/100 [==============================] - 0s 4ms/step - loss: 0.6619 - val_loss: 0.7461\n",
            "Epoch 42/100\n",
            "100/100 [==============================] - 0s 4ms/step - loss: 0.6550 - val_loss: 0.7443\n",
            "Epoch 43/100\n",
            "100/100 [==============================] - 0s 4ms/step - loss: 0.6480 - val_loss: 0.7425\n",
            "Epoch 44/100\n",
            "100/100 [==============================] - 0s 4ms/step - loss: 0.6410 - val_loss: 0.7408\n",
            "Epoch 45/100\n",
            "100/100 [==============================] - 0s 4ms/step - loss: 0.6337 - val_loss: 0.7394\n",
            "Epoch 46/100\n",
            "100/100 [==============================] - 0s 4ms/step - loss: 0.6263 - val_loss: 0.7383\n",
            "Epoch 47/100\n",
            "100/100 [==============================] - 0s 4ms/step - loss: 0.6188 - val_loss: 0.7370\n",
            "Epoch 48/100\n",
            "100/100 [==============================] - 0s 4ms/step - loss: 0.6112 - val_loss: 0.7361\n",
            "Epoch 49/100\n",
            "100/100 [==============================] - 0s 4ms/step - loss: 0.6036 - val_loss: 0.7351\n",
            "Epoch 50/100\n",
            "100/100 [==============================] - 0s 4ms/step - loss: 0.5959 - val_loss: 0.7348\n",
            "Epoch 51/100\n",
            "100/100 [==============================] - 0s 4ms/step - loss: 0.5883 - val_loss: 0.7340\n",
            "Epoch 52/100\n",
            "100/100 [==============================] - 0s 4ms/step - loss: 0.5806 - val_loss: 0.7339\n",
            "Epoch 53/100\n",
            "100/100 [==============================] - 0s 4ms/step - loss: 0.5731 - val_loss: 0.7341\n",
            "Epoch 54/100\n",
            "100/100 [==============================] - 0s 4ms/step - loss: 0.5656 - val_loss: 0.7344\n",
            "Epoch 55/100\n",
            "100/100 [==============================] - 0s 4ms/step - loss: 0.5581 - val_loss: 0.7349\n",
            "Epoch 56/100\n",
            "100/100 [==============================] - 0s 3ms/step - loss: 0.5507 - val_loss: 0.7354\n",
            "Epoch 57/100\n",
            "100/100 [==============================] - 0s 4ms/step - loss: 0.5435 - val_loss: 0.7361\n",
            "Epoch 00057: early stopping\n"
          ]
        }
      ]
    },
    {
      "cell_type": "code",
      "source": [
        "# plot training history\n",
        "plt.plot(mf_opt.hist.history['loss'], label='train')\n",
        "plt.plot(mf_opt.hist.history['val_loss'], label='validation')\n",
        "plt.xlabel('iteration')\n",
        "plt.ylabel('loss')\n",
        "plt.legend()\n",
        "plt.show()"
      ],
      "metadata": {
        "colab": {
          "base_uri": "https://localhost:8080/",
          "height": 279
        },
        "id": "q2pW_l7WNIvh",
        "outputId": "0bc9b5d2-8192-439d-c23e-e248b8bdf10e"
      },
      "execution_count": 19,
      "outputs": [
        {
          "output_type": "display_data",
          "data": {
            "image/png": "[encoded data removed]",
            "text/plain": [
              "<Figure size 432x288 with 1 Axes>"
            ]
          },
          "metadata": {
            "needs_background": "light"
          }
        }
      ]
    },
    {
      "cell_type": "code",
      "source": [
        "mf_opt.model = load_model('best_mf_model.h5')"
      ],
      "metadata": {
        "id": "kBTFhL88WkcU"
      },
      "execution_count": 20,
      "outputs": []
    },
    {
      "cell_type": "markdown",
      "source": [
        "### Prediction"
      ],
      "metadata": {
        "id": "KeVoq0_I1nBM"
      }
    },
    {
      "cell_type": "markdown",
      "source": [
        "test prediction:"
      ],
      "metadata": {
        "id": "kOr-Y-OYRU_k"
      }
    },
    {
      "cell_type": "code",
      "source": [
        "mf_opt.predict(test.user_id, test.item_id)"
      ],
      "metadata": {
        "colab": {
          "base_uri": "https://localhost:8080/"
        },
        "id": "fnMRiZSePy_d",
        "outputId": "2f66e870-6722-4680-f2de-2cb8339d0d48"
      },
      "execution_count": 21,
      "outputs": [
        {
          "output_type": "stream",
          "name": "stdout",
          "text": [
            "13/13 [==============================] - 0s 1ms/step\n"
          ]
        }
      ]
    },
    {
      "cell_type": "markdown",
      "source": [
        "### Evaluation"
      ],
      "metadata": {
        "id": "nRoDikHB1tpB"
      }
    },
    {
      "cell_type": "code",
      "source": [
        "pred_df = test.copy()\n",
        "pred_df.rating = mf_opt.predictions.reshape(-1)\n",
        "pred_mat = df_to_mat(pred_df)\n",
        "test_mat = df_to_mat(test)"
      ],
      "metadata": {
        "id": "68PeYV_0_N2G"
      },
      "execution_count": 22,
      "outputs": []
    },
    {
      "cell_type": "code",
      "source": [
        "mf_opt_eval = my_metrics.get_evaluation(test_mat, pred_mat)\n",
        "mf_opt_eval"
      ],
      "metadata": {
        "colab": {
          "base_uri": "https://localhost:8080/"
        },
        "id": "MwiJBjtFAAom",
        "outputId": "16dd9b43-0c65-4d0a-be03-934f725df70c"
      },
      "execution_count": 23,
      "outputs": [
        {
          "output_type": "execute_result",
          "data": {
            "text/plain": [
              "{'MRR_10': 0.9767420435510887,\n",
              " 'MRR_5': 0.9767420435510887,\n",
              " 'NDCG_10': 0.96639506730612,\n",
              " 'NDCG_5': 0.9709229772978891,\n",
              " 'RMSE': 0.8605244715552927}"
            ]
          },
          "metadata": {},
          "execution_count": 23
        }
      ]
    },
    {
      "cell_type": "code",
      "source": [
        "mf_opt_eval_df = pd.DataFrame(mf_opt_eval, index=[0])\n",
        "mf_opt_eval_df.plot(kind='bar')\n",
        "plt.title('MF movielens-1m')\n",
        "plt.xlabel('metrics')\n",
        "plt.ylabel('values')"
      ],
      "metadata": {
        "colab": {
          "base_uri": "https://localhost:8080/",
          "height": 309
        },
        "id": "1fW5pHSM3aG_",
        "outputId": "905bbda2-c7d0-4007-be45-97139b09c449"
      },
      "execution_count": 24,
      "outputs": [
        {
          "output_type": "execute_result",
          "data": {
            "text/plain": [
              "Text(0, 0.5, 'values')"
            ]
          },
          "metadata": {},
          "execution_count": 24
        },
        {
          "output_type": "display_data",
          "data": {
            "image/png": "[encoded data removed]",
            "text/plain": [
              "<Figure size 432x288 with 1 Axes>"
            ]
          },
          "metadata": {
            "needs_background": "light"
          }
        }
      ]
    },
    {
      "cell_type": "markdown",
      "source": [
        "Note that we approximately reached the RMSE described in the paper (0.86 vs. 0.845). Furthermore our implementation uses regular MF where as the paper comparison is Biased-MF based."
      ],
      "metadata": {
        "id": "2Fj3uMBY_OtY"
      }
    },
    {
      "cell_type": "markdown",
      "source": [
        "## AutoRec"
      ],
      "metadata": {
        "id": "bFghzpAklfwP"
      }
    },
    {
      "cell_type": "markdown",
      "source": [
        "### Data Manipulation"
      ],
      "metadata": {
        "id": "8NmLxd3n605G"
      }
    },
    {
      "cell_type": "code",
      "source": [
        "def dataPreprocessor(rating_df):\n",
        "    train_df, test_df = train_test_split(rating_df, test_size=0.1, random_state=42)\n",
        "    train_mat = np.zeros((rating_df.user_id.nunique(), rating_df.item_id.nunique()))\n",
        "    for (user_id, item_id, rating) in zip(train_df.user_id, train_df.item_id, train_df.rating):\n",
        "        train_mat[user_id, item_id] = rating\n",
        "\n",
        "    ## tmp ##\n",
        "    # train_mat_avg = copy.copy(train_mat)\n",
        "    # avg = np.true_divide(train_mat_avg.sum(1), np.maximum((train_mat_avg!=0).sum(1), 1))\n",
        "    # inds = np.where(train_mat_avg == 0)\n",
        "    # train_mat_avg[inds] = np.take(avg, inds[0])\n",
        "\n",
        "    test_mat = np.zeros((rating_df.user_id.nunique(), rating_df.item_id.nunique()))\n",
        "    for (user_id, item_id, rating) in zip(test_df.user_id, test_df.item_id, test_df.rating):\n",
        "        test_mat[user_id, item_id] = rating\n",
        "    \n",
        "    return train_mat, test_mat #, train_mat_avg"
      ],
      "metadata": {
        "id": "UA5_HEjXv9gv"
      },
      "execution_count": 25,
      "outputs": []
    },
    {
      "cell_type": "markdown",
      "source": [
        "### Model Creation"
      ],
      "metadata": {
        "id": "uPsvwCbO67G-"
      }
    },
    {
      "cell_type": "code",
      "source": [
        "class IAutoRec:\n",
        "    es = EarlyStopping(monitor='val_loss', mode='min', verbose=1, patience=5)\n",
        "    mc = ModelCheckpoint('best_autorec_model.h5', monitor='val_loss', mode='min', save_best_only=True)\n",
        "    # es = EarlyStopping(monitor='loss', mode='min', verbose=1, patience=5)\n",
        "    # mc = ModelCheckpoint('best_autorec_model.h5', monitor='loss', mode='min', save_best_only=True)\n",
        "\n",
        "    def __init__(self, items_num, hidden_units=500, reg=0.0005, optimizer='Adam', loss='mean_squared_error', learning_rate=0.0001, first_activation='elu', last_activation='elu'):\n",
        "        self.items_num = items_num\n",
        "        self.hidden_units = hidden_units\n",
        "        self.reg = reg\n",
        "        self.optimizer = optimizer\n",
        "        self.loss = loss\n",
        "        self.learning_rate = learning_rate\n",
        "        self.first_activation = first_activation\n",
        "        self.last_activation = last_activation\n",
        "        # input_layer = Input(shape=(rating_mat.shape[1],), name='item_rating')\n",
        "        # dense = Dense(hidden_units, activation=first_activation, name='latent_dim', kernel_regularizer=regularizers.l2(reg))(input_layer)\n",
        "        # output_layer = Dense(rating_mat.shape[1], activation=last_activation, name='item_pred_rating', kernel_regularizer=regularizers.l2(reg))(dense)\n",
        "        # self.model = Model(input_layer, output_layer)\n",
        "\n",
        "        # if optimizer=='Adam':\n",
        "        #     # self.model.compile(optimizer=Adam(learning_rate=learning_rate), loss=loss)\n",
        "        #     self.model.compile(optimizer=Adam(learning_rate=learning_rate), loss=self.masked_rmse)\n",
        "        # else:\n",
        "        #     raise Exception('Optimizer not implemented')\n",
        "\n",
        "        # self.model.summary()\n",
        "\n",
        "    def build_opt_model(self):\n",
        "        input_layer = Input(shape=(self.items_num,), name='item_rating')\n",
        "        dense = Dense(self.hidden_units, activation=self.first_activation, name='latent_dim', kernel_regularizer=regularizers.l2(self.reg))(input_layer)\n",
        "        output_layer = Dense(self.items_num, activation=self.last_activation, name='item_pred_rating', kernel_regularizer=regularizers.l2(self.reg))(dense)\n",
        "        self.model = Model(input_layer, output_layer)\n",
        "\n",
        "        if self.optimizer=='Adam':\n",
        "            # self.model.compile(optimizer=Adam(learning_rate=learning_rate), loss=loss)\n",
        "            self.model.compile(optimizer=Adam(learning_rate=self.learning_rate), loss=IAutoRec.masked_rmse)\n",
        "        else:\n",
        "            raise Exception('Optimizer not implemented')\n",
        "\n",
        "        self.model.summary()\n",
        "\n",
        "    def model_builder(self, hp):\n",
        "        input_layer = Input(shape=(self.items_num,), name='item_rating')\n",
        "        hp_hidden_units = hp.Int('hidden_units', min_value=300, max_value=800, step=100)\n",
        "        hp_reg = hp.Choice('reg', values=[0.001, 0.0005, 0.0001])\n",
        "        hp_first_activation = hp.Choice('first_activation', values=['relu', 'elu', 'sigmoid'])\n",
        "        hp_last_activation = hp.Choice('last_activation', values=['relu', 'elu', 'sigmoid'])\n",
        "        dense = Dense(hp_hidden_units, activation=hp_first_activation, name='latent_dim', kernel_regularizer=regularizers.l2(hp_reg))(input_layer)\n",
        "        output_layer = Dense(self.items_num, activation=hp_last_activation, name='item_pred_rating', kernel_regularizer=regularizers.l2(hp_reg))(dense)\n",
        "        self.model = Model(input_layer, output_layer)\n",
        "\n",
        "        hp_learning_rate = hp.Choice('learning_rate', values=[1e-2, 1e-3, 1e-4])\n",
        "        if self.optimizer=='Adam':\n",
        "            # self.model.compile(optimizer=Adam(learning_rate=hp_learning_rate), loss=self.loss)\n",
        "            self.model.compile(optimizer=Adam(learning_rate=hp_learning_rate), loss=IAutoRec.masked_rmse)\n",
        "        else:\n",
        "            raise Exception('Optimizer not implemented')\n",
        "\n",
        "        self.model.summary()\n",
        "        return self.model\n",
        "\n",
        "    @staticmethod\n",
        "    def masked_rmse(y_true, y_pred):\n",
        "        mask = tf.cast(tf.not_equal(y_true, 0), dtype='float32') \n",
        "        e = y_true - y_pred\n",
        "        se = e * e \n",
        "        se = se * mask\n",
        "        mse = 1.0 * tf.reduce_sum(se) / tf.reduce_sum(mask)\n",
        "        rmse = tf.math.sqrt(mse)\n",
        "        return rmse\n",
        "\n",
        "    def fit(self, rating_mat, rating_mat2,  batch_size=256, epochs=500, verbose=2):\n",
        "        self.hist = self.model.fit(x=rating_mat,y=rating_mat2,\n",
        "                                validation_split=0.1,\n",
        "                                batch_size=batch_size, epochs=epochs, verbose=verbose, \n",
        "                                callbacks=[IAutoRec.es, IAutoRec.mc]) \n",
        "    \n",
        "    def predict(self, rating_mat, batch_size=512, verbose=1):\n",
        "        self.predictions = self.model.predict(rating_mat, \n",
        "                                 batch_size=batch_size, verbose=verbose)"
      ],
      "metadata": {
        "id": "V3toqPf1lfBk"
      },
      "execution_count": 26,
      "outputs": []
    },
    {
      "cell_type": "markdown",
      "source": [
        "### Hyperparameters Tuning"
      ],
      "metadata": {
        "id": "XFClzJaQ6_KD"
      }
    },
    {
      "cell_type": "code",
      "source": [
        "train_mat, test_mat = dataPreprocessor(ratings_df)\n",
        "autorec = IAutoRec(train_mat.shape[1])\n",
        "tuner = kt.Hyperband(autorec.model_builder,\n",
        "                     objective='val_loss',\n",
        "                     max_epochs=500,\n",
        "                     directory='hyper_params_',\n",
        "                     project_name='autorec_ml')\n"
      ],
      "metadata": {
        "id": "2Z6JBAvrn7y3",
        "colab": {
          "base_uri": "https://localhost:8080/"
        },
        "outputId": "8c1fa98c-bacd-43b7-df42-6f754c351d28"
      },
      "execution_count": 27,
      "outputs": [
        {
          "output_type": "stream",
          "name": "stdout",
          "text": [
            "Model: \"model_2\"\n",
            "_________________________________________________________________\n",
            " Layer (type)                Output Shape              Param #   \n",
            "=================================================================\n",
            " item_rating (InputLayer)    [(None, 3706)]            0         \n",
            "                                                                 \n",
            " latent_dim (Dense)          (None, 300)               1112100   \n",
            "                                                                 \n",
            " item_pred_rating (Dense)    (None, 3706)              1115506   \n",
            "                                                                 \n",
            "=================================================================\n",
            "Total params: 2,227,606\n",
            "Trainable params: 2,227,606\n",
            "Non-trainable params: 0\n",
            "_________________________________________________________________\n"
          ]
        }
      ]
    },
    {
      "cell_type": "code",
      "source": [
        "stop_early = tf.keras.callbacks.EarlyStopping(monitor='val_loss', patience=2)\n",
        "# stop_early = tf.keras.callbacks.EarlyStopping(monitor='loss', patience=5)\n",
        "tuner.search(train_mat, train_mat,\n",
        "             epochs=500, validation_split=0.1, callbacks=[stop_early], batch_size=512)\n",
        "# Get the optimal hyperparameters\n",
        "best_hps=tuner.get_best_hyperparameters(num_trials=1)[0]"
      ],
      "metadata": {
        "colab": {
          "base_uri": "https://localhost:8080/"
        },
        "id": "tvb6g75_WV4E",
        "outputId": "83a09f64-f7ec-41f9-9c19-75ff49f232ed"
      },
      "execution_count": 28,
      "outputs": [
        {
          "output_type": "stream",
          "name": "stdout",
          "text": [
            "Trial 517 Complete [00h 00m 03s]\n",
            "val_loss: 3.045590877532959\n",
            "\n",
            "Best val_loss So Far: 1.014046549797058\n",
            "Total elapsed time: 00h 18m 49s\n",
            "INFO:tensorflow:Oracle triggered exit\n"
          ]
        }
      ]
    },
    {
      "cell_type": "code",
      "source": [
        "best_hps.get('hidden_units'), best_hps.get('first_activation'), best_hps.get('last_activation') ,best_hps.get('reg'), best_hps.get('learning_rate')"
      ],
      "metadata": {
        "colab": {
          "base_uri": "https://localhost:8080/"
        },
        "id": "wAkohy7wfGBf",
        "outputId": "82550dcc-b027-483b-a9bd-1e6e03591bb4"
      },
      "execution_count": 29,
      "outputs": [
        {
          "output_type": "execute_result",
          "data": {
            "text/plain": [
              "(300, 'sigmoid', 'elu', 0.0001, 0.001)"
            ]
          },
          "metadata": {},
          "execution_count": 29
        }
      ]
    },
    {
      "cell_type": "markdown",
      "source": [
        "### Retraining"
      ],
      "metadata": {
        "id": "SSGXrccy88Qh"
      }
    },
    {
      "cell_type": "code",
      "source": [
        "autorec_opt = IAutoRec(train_mat.shape[1],hidden_units=best_hps.get('hidden_units'), reg=best_hps.get('reg'), \n",
        "                       learning_rate=best_hps.get('learning_rate'), first_activation=best_hps.get('first_activation'),\n",
        "                       last_activation=best_hps.get('last_activation'))\n",
        "autorec_opt.build_opt_model()\n",
        "autorec_opt.fit(train_mat, train_mat)"
      ],
      "metadata": {
        "colab": {
          "base_uri": "https://localhost:8080/"
        },
        "id": "fCYAMnTAWBa4",
        "outputId": "6c7b80af-1af3-4d5b-b93c-bbc3c412696a"
      },
      "execution_count": 30,
      "outputs": [
        {
          "output_type": "stream",
          "name": "stdout",
          "text": [
            "Model: \"model_1\"\n",
            "_________________________________________________________________\n",
            " Layer (type)                Output Shape              Param #   \n",
            "=================================================================\n",
            " item_rating (InputLayer)    [(None, 3706)]            0         \n",
            "                                                                 \n",
            " latent_dim (Dense)          (None, 300)               1112100   \n",
            "                                                                 \n",
            " item_pred_rating (Dense)    (None, 3706)              1115506   \n",
            "                                                                 \n",
            "=================================================================\n",
            "Total params: 2,227,606\n",
            "Trainable params: 2,227,606\n",
            "Non-trainable params: 0\n",
            "_________________________________________________________________\n",
            "Epoch 1/500\n",
            "22/22 - 1s - loss: 2.0550 - val_loss: 1.3098 - 745ms/epoch - 34ms/step\n",
            "Epoch 2/500\n",
            "22/22 - 0s - loss: 1.1494 - val_loss: 1.1090 - 175ms/epoch - 8ms/step\n",
            "Epoch 3/500\n",
            "22/22 - 0s - loss: 1.0805 - val_loss: 1.0813 - 179ms/epoch - 8ms/step\n",
            "Epoch 4/500\n",
            "22/22 - 0s - loss: 1.0655 - val_loss: 1.0703 - 178ms/epoch - 8ms/step\n",
            "Epoch 5/500\n",
            "22/22 - 0s - loss: 1.0564 - val_loss: 1.0650 - 178ms/epoch - 8ms/step\n",
            "Epoch 6/500\n",
            "22/22 - 0s - loss: 1.0503 - val_loss: 1.0596 - 179ms/epoch - 8ms/step\n",
            "Epoch 7/500\n",
            "22/22 - 0s - loss: 1.0448 - val_loss: 1.0557 - 178ms/epoch - 8ms/step\n",
            "Epoch 8/500\n",
            "22/22 - 0s - loss: 1.0413 - val_loss: 1.0509 - 189ms/epoch - 9ms/step\n",
            "Epoch 9/500\n",
            "22/22 - 0s - loss: 1.0372 - val_loss: 1.0475 - 183ms/epoch - 8ms/step\n",
            "Epoch 10/500\n",
            "22/22 - 0s - loss: 1.0324 - val_loss: 1.0411 - 191ms/epoch - 9ms/step\n",
            "Epoch 11/500\n",
            "22/22 - 0s - loss: 1.0287 - val_loss: 1.0380 - 195ms/epoch - 9ms/step\n",
            "Epoch 12/500\n",
            "22/22 - 0s - loss: 1.0243 - val_loss: 1.0345 - 195ms/epoch - 9ms/step\n",
            "Epoch 13/500\n",
            "22/22 - 0s - loss: 1.0193 - val_loss: 1.0320 - 202ms/epoch - 9ms/step\n",
            "Epoch 14/500\n",
            "22/22 - 0s - loss: 1.0172 - val_loss: 1.0293 - 195ms/epoch - 9ms/step\n",
            "Epoch 15/500\n",
            "22/22 - 0s - loss: 1.0115 - val_loss: 1.0242 - 174ms/epoch - 8ms/step\n",
            "Epoch 16/500\n",
            "22/22 - 1s - loss: 1.0076 - val_loss: 1.0229 - 991ms/epoch - 45ms/step\n",
            "Epoch 17/500\n",
            "22/22 - 0s - loss: 1.0050 - val_loss: 1.0225 - 201ms/epoch - 9ms/step\n",
            "Epoch 18/500\n",
            "22/22 - 0s - loss: 1.0011 - val_loss: 1.0202 - 183ms/epoch - 8ms/step\n",
            "Epoch 19/500\n",
            "22/22 - 0s - loss: 0.9977 - val_loss: 1.0185 - 181ms/epoch - 8ms/step\n",
            "Epoch 20/500\n",
            "22/22 - 0s - loss: 0.9973 - val_loss: 1.0193 - 120ms/epoch - 5ms/step\n",
            "Epoch 21/500\n",
            "22/22 - 0s - loss: 0.9943 - val_loss: 1.0176 - 173ms/epoch - 8ms/step\n",
            "Epoch 22/500\n",
            "22/22 - 0s - loss: 0.9915 - val_loss: 1.0159 - 175ms/epoch - 8ms/step\n",
            "Epoch 23/500\n",
            "22/22 - 0s - loss: 0.9898 - val_loss: 1.0167 - 124ms/epoch - 6ms/step\n",
            "Epoch 24/500\n",
            "22/22 - 0s - loss: 0.9886 - val_loss: 1.0163 - 125ms/epoch - 6ms/step\n",
            "Epoch 25/500\n",
            "22/22 - 0s - loss: 0.9855 - val_loss: 1.0164 - 121ms/epoch - 5ms/step\n",
            "Epoch 26/500\n",
            "22/22 - 0s - loss: 0.9833 - val_loss: 1.0175 - 122ms/epoch - 6ms/step\n",
            "Epoch 27/500\n",
            "22/22 - 0s - loss: 0.9816 - val_loss: 1.0165 - 118ms/epoch - 5ms/step\n",
            "Epoch 00027: early stopping\n"
          ]
        }
      ]
    },
    {
      "cell_type": "code",
      "source": [
        "# plot training history\n",
        "plt.plot(autorec_opt.hist.history['loss'], label='train')\n",
        "plt.plot(autorec_opt.hist.history['val_loss'], label='validation')\n",
        "plt.xlabel('iteration')\n",
        "plt.ylabel('loss')\n",
        "plt.legend()"
      ],
      "metadata": {
        "colab": {
          "base_uri": "https://localhost:8080/",
          "height": 297
        },
        "id": "TBEEYzdtvX-3",
        "outputId": "da84310a-308c-49f3-99f7-2320d268af27"
      },
      "execution_count": 31,
      "outputs": [
        {
          "output_type": "execute_result",
          "data": {
            "text/plain": [
              "<matplotlib.legend.Legend at 0x7f9926a80f50>"
            ]
          },
          "metadata": {},
          "execution_count": 31
        },
        {
          "output_type": "display_data",
          "data": {
            "image/png": "[encoded data removed]",
            "text/plain": [
              "<Figure size 432x288 with 1 Axes>"
            ]
          },
          "metadata": {
            "needs_background": "light"
          }
        }
      ]
    },
    {
      "cell_type": "code",
      "source": [
        "autorec_opt.model = load_model('best_autorec_model.h5', custom_objects={'masked_rmse': IAutoRec.masked_rmse})\n"
      ],
      "metadata": {
        "id": "dQgp5j3cXDcW"
      },
      "execution_count": 33,
      "outputs": []
    },
    {
      "cell_type": "markdown",
      "source": [
        "### Prediction"
      ],
      "metadata": {
        "id": "huAA7BL89AfL"
      }
    },
    {
      "cell_type": "code",
      "source": [
        "# autorec.predict(np.zeros(test_mat.shape))\n",
        "autorec_opt.predict(test_mat)"
      ],
      "metadata": {
        "colab": {
          "base_uri": "https://localhost:8080/"
        },
        "id": "3tS3C2fJuakq",
        "outputId": "b06c4e4c-b934-4cbc-af78-b2b722e6f31d"
      },
      "execution_count": 34,
      "outputs": [
        {
          "output_type": "stream",
          "name": "stdout",
          "text": [
            "12/12 [==============================] - 0s 4ms/step\n"
          ]
        }
      ]
    },
    {
      "cell_type": "markdown",
      "source": [
        "### Evaluation"
      ],
      "metadata": {
        "id": "mbEOpGy79Dqs"
      }
    },
    {
      "cell_type": "code",
      "source": [
        "autorec_opt_eval = my_metrics.get_evaluation(test_mat, autorec_opt.predictions)\n",
        "autorec_opt_eval"
      ],
      "metadata": {
        "colab": {
          "base_uri": "https://localhost:8080/"
        },
        "id": "YWN2oGiMCbOI",
        "outputId": "10e01c1e-2df6-4210-bdfd-12130dcc7b0d"
      },
      "execution_count": 35,
      "outputs": [
        {
          "output_type": "execute_result",
          "data": {
            "text/plain": [
              "{'MRR_10': 0.9687185929648241,\n",
              " 'MRR_5': 0.9686767169179229,\n",
              " 'NDCG_10': 0.9583230437019302,\n",
              " 'NDCG_5': 0.9641297850891174,\n",
              " 'RMSE': 1.242583839117922}"
            ]
          },
          "metadata": {},
          "execution_count": 35
        }
      ]
    },
    {
      "cell_type": "code",
      "source": [
        "autorec_opt_eval_df = pd.DataFrame(autorec_opt_eval, index=[0])\n",
        "autorec_opt_eval_df.plot(kind='bar')\n",
        "plt.title('IAutoRec movielens-1m')\n",
        "plt.xlabel('metrics')\n",
        "plt.ylabel('values')"
      ],
      "metadata": {
        "colab": {
          "base_uri": "https://localhost:8080/",
          "height": 309
        },
        "id": "0InidCx_9Ib6",
        "outputId": "c4239f72-fa7a-4642-dc70-4ed608d649d5"
      },
      "execution_count": 36,
      "outputs": [
        {
          "output_type": "execute_result",
          "data": {
            "text/plain": [
              "Text(0, 0.5, 'values')"
            ]
          },
          "metadata": {},
          "execution_count": 36
        },
        {
          "output_type": "display_data",
          "data": {
            "image/png": "[encoded data removed]",
            "text/plain": [
              "<Figure size 432x288 with 1 Axes>"
            ]
          },
          "metadata": {
            "needs_background": "light"
          }
        }
      ]
    },
    {
      "cell_type": "markdown",
      "source": [
        "Note that we did not acheive similar results as the paper. our model's RMSE reaches 1.24 while the paper's reches 0.831. <br> This is quite a big difference, the reasons colud be explained by getting different hyperparameters. \n",
        "The paper does not disclose all of the hyperparameters.\n",
        "It describes some of them, such as regularization, hidden layer size and activation functions. Other parameters such as learning rate are not available, furthermore they use a different train and evaluation mechanism: \"We repeat this splitting procedure 5 times and report average RMSE.\""
      ],
      "metadata": {
        "id": "3L5k-TCII8Oo"
      }
    },
    {
      "cell_type": "markdown",
      "source": [
        "## IAutoRec Enhanced"
      ],
      "metadata": {
        "id": "0bxsFNPn9WHa"
      }
    },
    {
      "cell_type": "markdown",
      "source": [
        "### Model"
      ],
      "metadata": {
        "id": "LJkqhImX9Zz6"
      }
    },
    {
      "cell_type": "code",
      "source": [
        "class IAutoRecEnhanced:\n",
        "    es = EarlyStopping(monitor='val_loss', mode='min', verbose=1, patience=5)\n",
        "    mc = ModelCheckpoint('best_autorec_enhanced_model.h5', monitor='val_loss', mode='min', save_best_only=True)\n",
        "    # es = EarlyStopping(monitor='loss', mode='min', verbose=1, patience=5)\n",
        "    # mc = ModelCheckpoint('best_autorec_enhanced_model.h5', monitor='loss', mode='min', save_best_only=True)\n",
        "\n",
        "    def __init__(self, items_num, hidden_units=500, hidden_layer_factor=2, reg=0.0005, optimizer='Adam', loss='mean_squared_error', learning_rate=0.0001, first_activation='elu', last_activation='elu'):\n",
        "        self.items_num = items_num\n",
        "        self.hidden_units = hidden_units\n",
        "        self.hidden_layer_factor = hidden_layer_factor\n",
        "        self.reg = reg\n",
        "        self.optimizer = optimizer\n",
        "        self.loss = loss\n",
        "        self.learning_rate = learning_rate\n",
        "        self.first_activation = first_activation\n",
        "        self.last_activation = last_activation\n",
        "\n",
        "    def build_opt_model(self):\n",
        "        input_layer = Input(shape=(self.items_num,), name='item_rating')\n",
        "        hidden_layer_encoder = Dense(self.hidden_units*self.hidden_layer_factor, activation=self.first_activation, name='hidden_encoder', kernel_regularizer=regularizers.l2(self.reg))(input_layer)\n",
        "        dense = Dense(self.hidden_units, activation=self.first_activation, name='latent_dim', kernel_regularizer=regularizers.l2(self.reg))(hidden_layer_encoder)\n",
        "        hidden_layer_decoder = Dense(self.hidden_units*self.hidden_layer_factor, activation=self.last_activation, name='hidden_decoder', kernel_regularizer=regularizers.l2(self.reg))(dense)\n",
        "        output_layer = Dense(self.items_num, activation=self.last_activation, name='item_pred_rating', kernel_regularizer=regularizers.l2(self.reg))(hidden_layer_decoder)\n",
        "        self.model = Model(input_layer, output_layer)\n",
        "\n",
        "        if self.optimizer=='Adam':\n",
        "            # self.model.compile(optimizer=Adam(learning_rate=learning_rate), loss=loss)\n",
        "            self.model.compile(optimizer=Adam(learning_rate=self.learning_rate), loss=IAutoRecEnhanced.masked_rmse)\n",
        "        else:\n",
        "            raise Exception('Optimizer not implemented')\n",
        "\n",
        "        self.model.summary()\n",
        "\n",
        "    def model_builder(self, hp):\n",
        "        hp_hidden_units = hp.Int('hidden_units', min_value=300, max_value=800, step=100)\n",
        "        hp_hidden_layer_factor = hp.Choice('hidden_layer_factor', values=[2, 3, 4])\n",
        "        # hp_reg = hp.Choice('reg', values=[0.01, 0.001, 0.0001])\n",
        "        hp_learning_rate = hp.Choice('learning_rate', values=[1e-2, 1e-3, 1e-4])\n",
        "        hp_reg = hp.Choice('reg', values=[0.001, 0.0005, 0.0001])\n",
        "        hp_first_activation = hp.Choice('first_activation', values=['relu', 'elu', 'sigmoid'])\n",
        "        # hp_first_activation = hp.Choice('first_activation', values=['relu', 'sigmoid'])\n",
        "        hp_last_activation = hp.Choice('last_activation', values=['relu', 'elu', 'sigmoid'])\n",
        "\n",
        "        input_layer = Input(shape=(self.items_num,), name='item_rating')\n",
        "        hidden_layer_encoder = Dense(hp_hidden_units*hp_hidden_layer_factor, activation=hp_first_activation, name='hidden_encoder', kernel_regularizer=regularizers.l2(hp_reg))(input_layer)\n",
        "        dense = Dense(hp_hidden_units, activation=hp_first_activation, name='latent_dim', kernel_regularizer=regularizers.l2(hp_reg))(hidden_layer_encoder)\n",
        "        hidden_layer_decoder = Dense(hp_hidden_units*hp_hidden_layer_factor, activation=hp_last_activation, name='hidden_decoder', kernel_regularizer=regularizers.l2(hp_reg))(dense)\n",
        "        output_layer = Dense(self.items_num, activation=hp_last_activation, name='item_pred_rating', kernel_regularizer=regularizers.l2(hp_reg))(hidden_layer_decoder)\n",
        "        self.model = Model(input_layer, output_layer)\n",
        "        \n",
        "        if self.optimizer=='Adam':\n",
        "            # self.model.compile(optimizer=Adam(learning_rate=hp_learning_rate), loss=self.loss)\n",
        "            self.model.compile(optimizer=Adam(learning_rate=hp_learning_rate), loss=IAutoRecEnhanced.masked_rmse)\n",
        "        else:\n",
        "            raise Exception('Optimizer not implemented')\n",
        "\n",
        "        self.model.summary()\n",
        "        return self.model\n",
        "\n",
        "    @staticmethod\n",
        "    def masked_rmse(y_true, y_pred):\n",
        "        mask = tf.cast(tf.not_equal(y_true, 0), dtype='float32') \n",
        "        e = y_true - y_pred\n",
        "        se = e * e \n",
        "        se = se * mask\n",
        "        mse = 1.0 * tf.reduce_sum(se) / tf.reduce_sum(mask)\n",
        "        rmse = tf.math.sqrt(mse)\n",
        "        return rmse\n",
        "\n",
        "    def fit(self, rating_mat,rating_mat2, batch_size=256, epochs=500, verbose=2):\n",
        "        self.hist = self.model.fit(x=rating_mat,y=rating_mat2,\n",
        "                                validation_split=0.1,\n",
        "                                batch_size=batch_size, epochs=epochs, verbose=verbose, \n",
        "                                callbacks=[IAutoRecEnhanced.es, IAutoRecEnhanced.mc]) \n",
        "    \n",
        "    def predict(self, rating_mat, batch_size=512, verbose=1):\n",
        "        self.predictions = self.model.predict(rating_mat, \n",
        "                                 batch_size=batch_size, verbose=verbose)"
      ],
      "metadata": {
        "id": "7S2PwX7johrE"
      },
      "execution_count": 37,
      "outputs": []
    },
    {
      "cell_type": "markdown",
      "source": [
        "### HyperParameters Tuning"
      ],
      "metadata": {
        "id": "UKUeZ0j39czE"
      }
    },
    {
      "cell_type": "code",
      "source": [
        "autorec_enhanced = IAutoRecEnhanced(train_mat.shape[1])\n",
        "tuner = kt.Hyperband(autorec_enhanced.model_builder,\n",
        "                     objective='val_loss',\n",
        "                    #  objective='loss',\n",
        "                     max_epochs=500,\n",
        "                    #  factor=3,\n",
        "                     directory='hyper_params',\n",
        "                     project_name='autorec_enhanced_ml')"
      ],
      "metadata": {
        "colab": {
          "base_uri": "https://localhost:8080/"
        },
        "id": "tTfvkPnut2xy",
        "outputId": "51b97c33-5d2b-4f24-adc6-6cbad5ab3581"
      },
      "execution_count": 38,
      "outputs": [
        {
          "output_type": "stream",
          "name": "stdout",
          "text": [
            "Model: \"model_2\"\n",
            "_________________________________________________________________\n",
            " Layer (type)                Output Shape              Param #   \n",
            "=================================================================\n",
            " item_rating (InputLayer)    [(None, 3706)]            0         \n",
            "                                                                 \n",
            " hidden_encoder (Dense)      (None, 600)               2224200   \n",
            "                                                                 \n",
            " latent_dim (Dense)          (None, 300)               180300    \n",
            "                                                                 \n",
            " hidden_decoder (Dense)      (None, 600)               180600    \n",
            "                                                                 \n",
            " item_pred_rating (Dense)    (None, 3706)              2227306   \n",
            "                                                                 \n",
            "=================================================================\n",
            "Total params: 4,812,406\n",
            "Trainable params: 4,812,406\n",
            "Non-trainable params: 0\n",
            "_________________________________________________________________\n"
          ]
        }
      ]
    },
    {
      "cell_type": "code",
      "source": [
        "stop_early = tf.keras.callbacks.EarlyStopping(monitor='val_loss', patience=5)\n",
        "# stop_early = tf.keras.callbacks.EarlyStopping(monitor='loss', patience=5)\n",
        "tuner.search(train_mat, train_mat,\n",
        "             epochs=500, validation_split=0.1, callbacks=[stop_early], batch_size=512)\n",
        "# Get the optimal hyperparameters\n",
        "best_hps=tuner.get_best_hyperparameters(num_trials=1)[0]"
      ],
      "metadata": {
        "colab": {
          "base_uri": "https://localhost:8080/"
        },
        "id": "4cE63RteuQOV",
        "outputId": "d5db0623-7f2b-4d87-a42a-5aaa2e5d071e"
      },
      "execution_count": null,
      "outputs": [
        {
          "output_type": "stream",
          "name": "stdout",
          "text": [
            "Trial 326 Complete [00h 00m 04s]\n",
            "val_loss: 1.7014926671981812\n",
            "\n",
            "Best val_loss So Far: 1.169392704963684\n",
            "Total elapsed time: 00h 26m 22s\n",
            "\n",
            "Search: Running Trial #327\n",
            "\n",
            "Hyperparameter    |Value             |Best Value So Far \n",
            "hidden_units      |500               |300               \n",
            "hidden_layer_fa...|4                 |2                 \n",
            "learning_rate     |0.0001            |0.001             \n",
            "reg               |0.0001            |0.0001            \n",
            "first_activation  |elu               |sigmoid           \n",
            "last_activation   |relu              |elu               \n",
            "tuner/epochs      |7                 |7                 \n",
            "tuner/initial_e...|3                 |3                 \n",
            "tuner/bracket     |5                 |5                 \n",
            "tuner/round       |1                 |1                 \n",
            "tuner/trial_id    |871d17012fcae09...|6e272c0faced923...\n",
            "\n",
            "Model: \"model\"\n",
            "_________________________________________________________________\n",
            " Layer (type)                Output Shape              Param #   \n",
            "=================================================================\n",
            " item_rating (InputLayer)    [(None, 3706)]            0         \n",
            "                                                                 \n",
            " hidden_encoder (Dense)      (None, 2000)              7414000   \n",
            "                                                                 \n",
            " latent_dim (Dense)          (None, 500)               1000500   \n",
            "                                                                 \n",
            " hidden_decoder (Dense)      (None, 2000)              1002000   \n",
            "                                                                 \n",
            " item_pred_rating (Dense)    (None, 3706)              7415706   \n",
            "                                                                 \n",
            "=================================================================\n",
            "Total params: 16,832,206\n",
            "Trainable params: 16,832,206\n",
            "Non-trainable params: 0\n",
            "_________________________________________________________________\n",
            "Epoch 4/7\n",
            " 5/11 [============>.................] - ETA: 0s - loss: 4.1678WARNING:tensorflow:Callback method `on_train_batch_end` is slow compared to the batch time (batch time: 0.0067s vs `on_train_batch_end` time: 0.0090s). Check your callbacks.\n",
            "11/11 [==============================] - 1s 63ms/step - loss: 3.8560 - val_loss: 3.2001\n",
            "Epoch 5/7\n",
            " 9/11 [=======================>......] - ETA: 0s - loss: 2.9283"
          ]
        }
      ]
    },
    {
      "cell_type": "code",
      "source": [
        "best_hps.get('hidden_units'), best_hps.get('hidden_layer_factor'), best_hps.get('first_activation'), best_hps.get('last_activation'), best_hps.get('reg'), best_hps.get('learning_rate')"
      ],
      "metadata": {
        "id": "B3hx9seMunA3"
      },
      "execution_count": null,
      "outputs": []
    },
    {
      "cell_type": "markdown",
      "source": [
        "### Retraining"
      ],
      "metadata": {
        "id": "GBicB8qm9gm6"
      }
    },
    {
      "cell_type": "code",
      "source": [
        "autorec_enhanced_opt = IAutoRecEnhanced(train_mat.shape[1],hidden_units=best_hps.get('hidden_units'), \n",
        "                                        hidden_layer_factor=best_hps.get('hidden_layer_factor'), reg=best_hps.get('reg'), \n",
        "                                        learning_rate=best_hps.get('learning_rate'), first_activation=best_hps.get('first_activation'),\n",
        "                                        last_activation=best_hps.get('last_activation'))\n",
        "autorec_enhanced_opt.build_opt_model()\n",
        "autorec_enhanced_opt.fit(train_mat, train_mat)"
      ],
      "metadata": {
        "id": "2e88lswmun0F"
      },
      "execution_count": null,
      "outputs": []
    },
    {
      "cell_type": "code",
      "source": [
        "# plot training history\n",
        "plt.plot(autorec_enhanced_opt.hist.history['loss'], label='train')\n",
        "plt.plot(autorec_enhanced_opt.hist.history['val_loss'], label='validation')\n",
        "plt.xlabel('iteration')\n",
        "plt.ylabel('loss')\n",
        "plt.legend()"
      ],
      "metadata": {
        "id": "oXPOOpWXpF7P"
      },
      "execution_count": null,
      "outputs": []
    },
    {
      "cell_type": "code",
      "source": [
        "autorec_enhanced_opt.model = load_model('best_autorec_enhanced_model.h5', custom_objects={'masked_rmse': IAutoRecEnhanced.masked_rmse})"
      ],
      "metadata": {
        "id": "1SlhjlUoXLaA"
      },
      "execution_count": null,
      "outputs": []
    },
    {
      "cell_type": "markdown",
      "source": [
        "### Prediction"
      ],
      "metadata": {
        "id": "X_089usd9oLL"
      }
    },
    {
      "cell_type": "code",
      "source": [
        "autorec_enhanced_opt.predict(test_mat)"
      ],
      "metadata": {
        "id": "qPyCRVXDpMtg"
      },
      "execution_count": null,
      "outputs": []
    },
    {
      "cell_type": "markdown",
      "source": [
        "### Evaluation"
      ],
      "metadata": {
        "id": "CgQwY6DV9rCr"
      }
    },
    {
      "cell_type": "code",
      "source": [
        "autorec_enhanced_opt_eval = my_metrics.get_evaluation(test_mat, autorec_enhanced_opt.predictions)\n",
        "autorec_enhanced_opt_eval"
      ],
      "metadata": {
        "id": "Uu2kd5e2rIiW"
      },
      "execution_count": null,
      "outputs": []
    },
    {
      "cell_type": "code",
      "source": [
        "autorec_enhanced_opt_eval_df = pd.DataFrame(autorec_enhanced_opt_eval, index=[0])\n",
        "autorec_enhanced_opt_eval_df.plot(kind='bar')\n",
        "plt.title('IAutoRec Enhanced movielens-1m')\n",
        "plt.xlabel('metrics')\n",
        "plt.ylabel('values')"
      ],
      "metadata": {
        "id": "BKx9ZHZF9yqE"
      },
      "execution_count": null,
      "outputs": []
    },
    {
      "cell_type": "markdown",
      "source": [
        "## Models Metrics Comparison"
      ],
      "metadata": {
        "id": "3hGuJHjO98Ar"
      }
    },
    {
      "cell_type": "code",
      "source": [
        "result_dict = {\n",
        "    'mf': mf_opt_eval,\n",
        "    'autorec': autorec_opt_eval,\n",
        "    'autorec_enhanced': autorec_enhanced_opt_eval\n",
        "               }\n",
        "res_df = pd.DataFrame.from_dict(result_dict)\n",
        "res_df"
      ],
      "metadata": {
        "id": "Ne9llYJFxUjw"
      },
      "execution_count": null,
      "outputs": []
    },
    {
      "cell_type": "code",
      "source": [
        "res_df.plot(kind='bar', figsize=(12,5), rot=45)\n",
        "plt.title('movielens-1m models results')"
      ],
      "metadata": {
        "id": "vR1_w740TDL7"
      },
      "execution_count": null,
      "outputs": []
    },
    {
      "cell_type": "code",
      "source": [
        "res_df.transpose().plot(kind='bar', figsize=(12,5), rot=45)"
      ],
      "metadata": {
        "id": "8BBj2phwSabF"
      },
      "execution_count": null,
      "outputs": []
    },
    {
      "cell_type": "markdown",
      "source": [
        "# Netflix Prize Dataset"
      ],
      "metadata": {
        "id": "Z6DAUX0q-hko"
      }
    },
    {
      "cell_type": "markdown",
      "source": [
        "## Data Loading and Manupulation"
      ],
      "metadata": {
        "id": "892iPoHk-xzH"
      }
    },
    {
      "cell_type": "code",
      "source": [
        "drive.mount('/content/drive')"
      ],
      "metadata": {
        "id": "nE5Epb-fYtVb"
      },
      "execution_count": null,
      "outputs": []
    },
    {
      "cell_type": "code",
      "source": [
        "with zipfile.ZipFile('/content/drive/MyDrive/rec_sys/datasets/netflix_prize.zip',\"r\") as zip_ref:\n",
        "    zip_ref.extractall()"
      ],
      "metadata": {
        "id": "sR7tgPCwBE7P"
      },
      "execution_count": null,
      "outputs": []
    },
    {
      "cell_type": "markdown",
      "source": [
        "note that we are loading only part of the dataset because of RAM issues."
      ],
      "metadata": {
        "id": "RtQV451uB30k"
      }
    },
    {
      "cell_type": "code",
      "source": [
        "if not os.path.isfile('netflix_data.csv'):\n",
        "    netflix_data = open('netflix_data.csv', mode='w')    \n",
        "    row = list()\n",
        "    files=['/content/combined_data_1.txt']\n",
        "    #,'/content/combined_data_2.txt']#, \n",
        "#            '/content/combined_data_3.txt', '/content/combined_data_4.txt']\n",
        "    for file in files:\n",
        "        with open(file) as f:\n",
        "            for line in f: \n",
        "                del row[:]\n",
        "                line = line.strip()\n",
        "                if line.endswith(':'):\n",
        "                    movie_id = line.replace(':', '')\n",
        "                else:\n",
        "                    row = [x for x in line.split(',')]\n",
        "                    row.insert(0, movie_id)\n",
        "                    netflix_data.write(','.join(row))\n",
        "                    netflix_data.write('\\n')\n",
        "    netflix_data.close()"
      ],
      "metadata": {
        "id": "_dBAaxKK7q8i"
      },
      "execution_count": null,
      "outputs": []
    },
    {
      "cell_type": "code",
      "source": [
        "netflix_df = pd.read_csv('netflix_data.csv', sep=',', names=['item_id', 'user_id','rating','date'])\n",
        "# netflix_df.date = pd.to_datetime(netflix_df.date)\n",
        "netflix_df.drop(columns=['date'], inplace=True)\n",
        "# netflix_df = netflix_df.sample(frac = 1)\n",
        "netflix_df = netflix_df.sort_values(by=['user_id'])\n",
        "netflix_df = netflix_df.iloc[:int(1e6)]\n",
        "netflix_df.head()"
      ],
      "metadata": {
        "id": "TUC7bpya8kue"
      },
      "execution_count": null,
      "outputs": []
    },
    {
      "cell_type": "code",
      "source": [
        "netflix_df.shape"
      ],
      "metadata": {
        "id": "qrTztbbLDcIl"
      },
      "execution_count": null,
      "outputs": []
    },
    {
      "cell_type": "markdown",
      "source": [
        "checking for null values:"
      ],
      "metadata": {
        "id": "-BdJGkU88-t4"
      }
    },
    {
      "cell_type": "code",
      "source": [
        "sum(netflix_df.isnull().any())"
      ],
      "metadata": {
        "id": "PehNadEa9BlT"
      },
      "execution_count": null,
      "outputs": []
    },
    {
      "cell_type": "markdown",
      "source": [
        "checking for duplicates:"
      ],
      "metadata": {
        "id": "MV8szOss9Pgt"
      }
    },
    {
      "cell_type": "code",
      "source": [
        "sum(netflix_df.duplicated(['item_id','user_id']))"
      ],
      "metadata": {
        "id": "JWFfryG29GUC"
      },
      "execution_count": null,
      "outputs": []
    },
    {
      "cell_type": "markdown",
      "source": [
        "changing ids into indicies:"
      ],
      "metadata": {
        "id": "mxMQ5xOa9cSy"
      }
    },
    {
      "cell_type": "code",
      "source": [
        "user_trans_dict =  {k:v for k,v in zip(netflix_df.user_id.unique(), range(netflix_df.user_id.nunique()))}\n",
        "item_trans_dict =  {k:v for k,v in zip(netflix_df.item_id.unique(), range(netflix_df.item_id.nunique()))}\n",
        "\n",
        "def item_trans(key_value):\n",
        "    return item_trans_dict[key_value]\n",
        "\n",
        "def user_trans(key_value):\n",
        "    return user_trans_dict[key_value]\n",
        "\n",
        "netflix_df.user_id = netflix_df.user_id.apply(user_trans)\n",
        "netflix_df.item_id = netflix_df.item_id.apply(item_trans)\n",
        "\n",
        "netflix_df.head()"
      ],
      "metadata": {
        "id": "MFun6d6D9gWR"
      },
      "execution_count": null,
      "outputs": []
    },
    {
      "cell_type": "code",
      "source": [
        "netflix_users_num = netflix_df.user_id.nunique()\n",
        "netflix_items_num = netflix_df.item_id.nunique()\n",
        "netflix_users_num, netflix_items_num"
      ],
      "metadata": {
        "id": "7duDuDQ8_X1l"
      },
      "execution_count": null,
      "outputs": []
    },
    {
      "cell_type": "markdown",
      "source": [
        "## Train\\Test Split"
      ],
      "metadata": {
        "id": "BZeTujQg_qMs"
      }
    },
    {
      "cell_type": "code",
      "source": [
        "train_netflix, test_netflix = train_test_split(netflix_df, test_size=0.1, random_state=42)\n",
        "test_netflix.user_id.nunique(), test_netflix.item_id.nunique()\n",
        "\n",
        "def create_full_mat(df):\n",
        "    full_mat = np.zeros((netflix_users_num, netflix_items_num))\n",
        "    for user, item, rating in zip(df.user_id, df.item_id, df.rating):\n",
        "        full_mat[user, item] = rating\n",
        "    return full_mat\n",
        "\n",
        "netflix_full_train_mat = create_full_mat(train_netflix)\n",
        "netflix_full_test_mat = create_full_mat(test_netflix)"
      ],
      "metadata": {
        "id": "9NN6fpU7_pQb"
      },
      "execution_count": null,
      "outputs": []
    },
    {
      "cell_type": "markdown",
      "source": [
        "## Matrix Factorization"
      ],
      "metadata": {
        "id": "dQVWn36C_Jlz"
      }
    },
    {
      "cell_type": "code",
      "source": [
        "mf_netflix = MF(users_num=netflix_df.user_id.max()+1, items_num=netflix_df.item_id.max()+1)"
      ],
      "metadata": {
        "id": "Rp3GJw1X_Ohp"
      },
      "execution_count": null,
      "outputs": []
    },
    {
      "cell_type": "markdown",
      "source": [
        "### Hyperparameters Tuning"
      ],
      "metadata": {
        "id": "N7dLutLII2-Y"
      }
    },
    {
      "cell_type": "code",
      "source": [
        "tuner = kt.Hyperband(mf_netflix.model_builder,\n",
        "                     objective='val_loss',\n",
        "                     max_epochs=10,\n",
        "                     factor=3,\n",
        "                     directory='hyper_params',\n",
        "                     project_name='mf_netflix')"
      ],
      "metadata": {
        "id": "itIzIijjI0Nw"
      },
      "execution_count": null,
      "outputs": []
    },
    {
      "cell_type": "code",
      "source": [
        "stop_early = tf.keras.callbacks.EarlyStopping(monitor='val_loss', patience=5)\n",
        "tuner.search([np.array(train_netflix.user_id), np.array(train_netflix.item_id)], np.array(train_netflix.rating), \n",
        "             epochs=10, validation_split=0.2, callbacks=[stop_early], batch_size=512)\n",
        "# Get the optimal hyperparameters\n",
        "best_hps=tuner.get_best_hyperparameters(num_trials=1)[0]"
      ],
      "metadata": {
        "id": "BjlNJq8RJcRe"
      },
      "execution_count": null,
      "outputs": []
    },
    {
      "cell_type": "code",
      "source": [
        "mf_opt_netflix = MF(users_num=netflix_df.user_id.max()+1, items_num=netflix_df.item_id.max()+1, latent_dim=best_hps.get('latent_dim'), learning_rate=best_hps.get('learning_rate'))\n",
        "mf_opt_netflix.build_opt_model()"
      ],
      "metadata": {
        "id": "rydnCRGtKnRM"
      },
      "execution_count": null,
      "outputs": []
    },
    {
      "cell_type": "code",
      "source": [
        "mf_opt_netflix.fit(train_netflix.user_id, train_netflix.item_id, labels=train_netflix.rating)"
      ],
      "metadata": {
        "id": "OUswUl8iUd-B"
      },
      "execution_count": null,
      "outputs": []
    },
    {
      "cell_type": "code",
      "source": [
        "# plot training history\n",
        "plt.plot(mf_opt_netflix.hist.history['loss'], label='train')\n",
        "plt.plot(mf_opt_netflix.hist.history['val_loss'], label='validation')\n",
        "plt.xlabel('iteration')\n",
        "plt.ylabel('loss')\n",
        "plt.legend()\n",
        "plt.show()"
      ],
      "metadata": {
        "id": "Njg1GfeNVRkV"
      },
      "execution_count": null,
      "outputs": []
    },
    {
      "cell_type": "code",
      "source": [
        "mf_opt_netflix.model = load_model('best_mf_model.h5')"
      ],
      "metadata": {
        "id": "p8SYVzF7XeQg"
      },
      "execution_count": null,
      "outputs": []
    },
    {
      "cell_type": "markdown",
      "source": [
        "test prediction:"
      ],
      "metadata": {
        "id": "ghmfccptWNrx"
      }
    },
    {
      "cell_type": "code",
      "source": [
        "mf_opt_netflix.predict(test_netflix.user_id, test_netflix.item_id)"
      ],
      "metadata": {
        "id": "qVdped4WWPcR"
      },
      "execution_count": null,
      "outputs": []
    },
    {
      "cell_type": "code",
      "source": [
        "pred_df = test_netflix.copy()\n",
        "pred_df.rating = mf_opt_netflix.predictions.reshape(-1)\n",
        "pred_mat = df_to_mat(pred_df)\n",
        "test_mat = df_to_mat(test_netflix)"
      ],
      "metadata": {
        "id": "qRq8L184Vvvp"
      },
      "execution_count": null,
      "outputs": []
    },
    {
      "cell_type": "markdown",
      "source": [
        "evaluation:"
      ],
      "metadata": {
        "id": "Kb3KuA8SW8e1"
      }
    },
    {
      "cell_type": "code",
      "source": [
        "netflix_mf_opt_eval = my_metrics.get_evaluation(test_mat, pred_mat)\n",
        "netflix_mf_opt_eval"
      ],
      "metadata": {
        "id": "CaROQJm_WuTF"
      },
      "execution_count": null,
      "outputs": []
    },
    {
      "cell_type": "markdown",
      "source": [
        "## IAutoRec"
      ],
      "metadata": {
        "id": "-5YkSZSuXYLq"
      }
    },
    {
      "cell_type": "markdown",
      "source": [
        "### Data Processing"
      ],
      "metadata": {
        "id": "_9KcqWwOaA_j"
      }
    },
    {
      "cell_type": "code",
      "source": [
        "netflix_train_mat, netflix_test_mat = dataPreprocessor(netflix_df)"
      ],
      "metadata": {
        "id": "3glF_tHcaGgh"
      },
      "execution_count": null,
      "outputs": []
    },
    {
      "cell_type": "markdown",
      "source": [
        "### Hyperparameters Tuning"
      ],
      "metadata": {
        "id": "lJrEG1YPaH01"
      }
    },
    {
      "cell_type": "code",
      "source": [
        "netflix_autorec = IAutoRec(netflix_train_mat.shape[1])\n",
        "tuner = kt.Hyperband(netflix_autorec.model_builder,\n",
        "                     objective='val_loss',\n",
        "                    #  objective='loss',\n",
        "                     max_epochs=500,\n",
        "                     factor=3,\n",
        "                     directory='hyper_params',\n",
        "                     project_name='autorec_netflix')"
      ],
      "metadata": {
        "id": "82IBDBHaXbAC"
      },
      "execution_count": null,
      "outputs": []
    },
    {
      "cell_type": "code",
      "source": [
        "stop_early = tf.keras.callbacks.EarlyStopping(monitor='val_loss', patience=2)\n",
        "# stop_early = tf.keras.callbacks.EarlyStopping(monitor='loss', patience=5)\n",
        "tuner.search(netflix_train_mat, netflix_train_mat,\n",
        "             epochs=500, validation_split=0.1, callbacks=[stop_early], batch_size=512)\n",
        "# Get the optimal hyperparameters\n",
        "best_hps=tuner.get_best_hyperparameters(num_trials=1)[0]"
      ],
      "metadata": {
        "id": "CBS4xEhMX64y"
      },
      "execution_count": null,
      "outputs": []
    },
    {
      "cell_type": "code",
      "source": [
        "best_hps.get('hidden_units'), best_hps.get('reg'), best_hps.get('learning_rate'), best_hps.get('first_activation'), best_hps.get('last_activation')"
      ],
      "metadata": {
        "id": "Q69sY-iXYMBb"
      },
      "execution_count": null,
      "outputs": []
    },
    {
      "cell_type": "markdown",
      "source": [
        "### Retraining"
      ],
      "metadata": {
        "id": "gN4verCQaQtz"
      }
    },
    {
      "cell_type": "code",
      "source": [
        "netflix_autorec_opt = IAutoRec(netflix_train_mat.shape[1],hidden_units=best_hps.get('hidden_units'), reg=best_hps.get('reg'), \n",
        "                               learning_rate=best_hps.get('learning_rate'), first_activation=best_hps.get('first_activation'),\n",
        "                               last_activation=best_hps.get('last_activation'))\n",
        "netflix_autorec_opt.build_opt_model()\n",
        "netflix_autorec_opt.fit(netflix_train_mat, netflix_train_mat)"
      ],
      "metadata": {
        "id": "Cs_HFs5mYMvI"
      },
      "execution_count": null,
      "outputs": []
    },
    {
      "cell_type": "code",
      "source": [
        "# plot training history\n",
        "plt.plot(netflix_autorec_opt.hist.history['loss'], label='train')\n",
        "plt.plot(netflix_autorec_opt.hist.history['val_loss'], label='validation')\n",
        "plt.xlabel('iteration')\n",
        "plt.ylabel('loss')\n",
        "plt.legend()"
      ],
      "metadata": {
        "id": "YGviT2s1Yi8s"
      },
      "execution_count": null,
      "outputs": []
    },
    {
      "cell_type": "code",
      "source": [
        "netflix_autorec_opt.model = load_model('best_autorec_model.h5', custom_objects={'masked_rmse': IAutoRec.masked_rmse})"
      ],
      "metadata": {
        "id": "GO9AK8quX2XS"
      },
      "execution_count": null,
      "outputs": []
    },
    {
      "cell_type": "markdown",
      "source": [
        "### Prediction"
      ],
      "metadata": {
        "id": "S9LSkwmJYoaH"
      }
    },
    {
      "cell_type": "code",
      "source": [
        "netflix_autorec_opt.predict(netflix_test_mat)"
      ],
      "metadata": {
        "id": "Qq_x9G7kYqJR"
      },
      "execution_count": null,
      "outputs": []
    },
    {
      "cell_type": "markdown",
      "source": [
        "### Evaluation"
      ],
      "metadata": {
        "id": "R_1B71xMZRvO"
      }
    },
    {
      "cell_type": "code",
      "source": [
        "netflix_autorec_opt_eval = my_metrics.get_evaluation(netflix_test_mat, netflix_autorec_opt.predictions)\n",
        "netflix_autorec_opt_eval"
      ],
      "metadata": {
        "id": "XO1QaWZMZLzG"
      },
      "execution_count": null,
      "outputs": []
    },
    {
      "cell_type": "markdown",
      "source": [
        "## IAutoRec Enhanced"
      ],
      "metadata": {
        "id": "5UJyiYjRamXf"
      }
    },
    {
      "cell_type": "markdown",
      "source": [
        "### Hyperparameter Tuning"
      ],
      "metadata": {
        "id": "5nQzSuyBbEDR"
      }
    },
    {
      "cell_type": "code",
      "source": [
        "netflix_autorec_enhanced = IAutoRecEnhanced(netflix_train_mat.shape[1])\n",
        "tuner = kt.Hyperband(netflix_autorec_enhanced.model_builder,\n",
        "                     objective='val_loss',\n",
        "                    #  objective='loss',\n",
        "                     max_epochs=500,\n",
        "                    #  factor=3,\n",
        "                     directory='hyper_params',\n",
        "                     project_name='autorec_enhanced_netflix')"
      ],
      "metadata": {
        "id": "xZvCB25ea2-I"
      },
      "execution_count": null,
      "outputs": []
    },
    {
      "cell_type": "code",
      "source": [
        "stop_early = tf.keras.callbacks.EarlyStopping(monitor='val_loss', patience=5)\n",
        "# stop_early = tf.keras.callbacks.EarlyStopping(monitor='loss', patience=5)\n",
        "tuner.search(netflix_train_mat, netflix_train_mat,\n",
        "             epochs=500, validation_split=0.1, callbacks=[stop_early], batch_size=512)\n",
        "# Get the optimal hyperparameters\n",
        "best_hps=tuner.get_best_hyperparameters(num_trials=1)[0]"
      ],
      "metadata": {
        "id": "34_ndg_MbM1z"
      },
      "execution_count": null,
      "outputs": []
    },
    {
      "cell_type": "code",
      "source": [
        "best_hps.get('hidden_units'), best_hps.get('hidden_layer_factor'), best_hps.get('reg'), best_hps.get('learning_rate'), best_hps.get('first_activation'), best_hps.get('last_activation')"
      ],
      "metadata": {
        "id": "_4Xxp42pbgsk"
      },
      "execution_count": null,
      "outputs": []
    },
    {
      "cell_type": "markdown",
      "source": [
        "### Retraining"
      ],
      "metadata": {
        "id": "C9GuzNiDb_xJ"
      }
    },
    {
      "cell_type": "code",
      "source": [
        "netflix_autorec_enhanced_opt = IAutoRecEnhanced(netflix_train_mat.shape[1],hidden_units=best_hps.get('hidden_units'), \n",
        "                                                hidden_layer_factor=best_hps.get('hidden_layer_factor'), reg=best_hps.get('reg'), \n",
        "                                                learning_rate=best_hps.get('learning_rate'), first_activation=best_hps.get('first_activation'),\n",
        "                                                last_activation=best_hps.get('last_activation'))\n",
        "netflix_autorec_enhanced_opt.build_opt_model()\n",
        "netflix_autorec_enhanced_opt.fit(netflix_train_mat, netflix_train_mat)"
      ],
      "metadata": {
        "id": "I_3IyvyRbhlQ"
      },
      "execution_count": null,
      "outputs": []
    },
    {
      "cell_type": "code",
      "source": [
        "# plot training history\n",
        "plt.plot(netflix_autorec_enhanced_opt.hist.history['loss'], label='train')\n",
        "plt.plot(netflix_autorec_enhanced_opt.hist.history['val_loss'], label='validation')\n",
        "plt.xlabel('iteration')\n",
        "plt.ylabel('loss')\n",
        "plt.legend()"
      ],
      "metadata": {
        "id": "MSzc509McP8I"
      },
      "execution_count": null,
      "outputs": []
    },
    {
      "cell_type": "code",
      "source": [
        "netflix_autorec_enhanced_opt.model = load_model('best_autorec_enhanced_model.h5', custom_objects={'masked_rmse': IAutoRecEnhanced.masked_rmse})"
      ],
      "metadata": {
        "id": "mw1dg_oDX9U-"
      },
      "execution_count": null,
      "outputs": []
    },
    {
      "cell_type": "markdown",
      "source": [
        "### Prediction"
      ],
      "metadata": {
        "id": "tlw-Mi2bcVR_"
      }
    },
    {
      "cell_type": "code",
      "source": [
        "netflix_autorec_enhanced_opt.predict(netflix_test_mat)"
      ],
      "metadata": {
        "id": "58g3qZo-cXJ9"
      },
      "execution_count": null,
      "outputs": []
    },
    {
      "cell_type": "markdown",
      "source": [
        "### Evaluation"
      ],
      "metadata": {
        "id": "pNXLxbQBcdv8"
      }
    },
    {
      "cell_type": "code",
      "source": [
        "netflix_autorec_enhanced_opt_eval = my_metrics.get_evaluation(netflix_test_mat, netflix_autorec_enhanced_opt.predictions)\n",
        "netflix_autorec_enhanced_opt_eval"
      ],
      "metadata": {
        "id": "I1y2usr8ccZz"
      },
      "execution_count": null,
      "outputs": []
    },
    {
      "cell_type": "markdown",
      "source": [
        "## Evaluation Summary"
      ],
      "metadata": {
        "id": "aN368bk2clhl"
      }
    },
    {
      "cell_type": "code",
      "source": [
        "netflix_result_dict = {\n",
        "    'mf': netflix_mf_opt_eval,\n",
        "    'autorec': netflix_autorec_opt_eval,\n",
        "    'autorec_enhanced': netflix_autorec_enhanced_opt_eval\n",
        "               }\n",
        "netflix_res_df = pd.DataFrame.from_dict(netflix_result_dict)\n",
        "netflix_res_df"
      ],
      "metadata": {
        "id": "kc34ZcoKck9x"
      },
      "execution_count": null,
      "outputs": []
    },
    {
      "cell_type": "code",
      "source": [
        "netflix_res_df.plot(kind='bar', figsize=(12,5), rot=45)\n",
        "plt.title('netflix prize models results')"
      ],
      "metadata": {
        "id": "Wm2nIXBkhWf-"
      },
      "execution_count": null,
      "outputs": []
    },
    {
      "cell_type": "code",
      "source": [
        "netflix_res_df.transpose().plot(kind='bar', figsize=(12,5), rot=45)"
      ],
      "metadata": {
        "id": "lup1CU7GhnCF"
      },
      "execution_count": null,
      "outputs": []
    }
  ]
}
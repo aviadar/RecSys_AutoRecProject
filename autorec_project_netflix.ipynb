{
  "nbformat": 4,
  "nbformat_minor": 0,
  "metadata": {
    "colab": {
      "name": "autorec_project_netflix.ipynb",
      "provenance": [],
      "collapsed_sections": [],
      "machine_shape": "hm"
    },
    "kernelspec": {
      "name": "python3",
      "display_name": "Python 3"
    },
    "language_info": {
      "name": "python"
    },
    "accelerator": "GPU"
  },
  "cells": [
    {
      "cell_type": "markdown",
      "source": [
        "**AutoRec Project**"
      ],
      "metadata": {
        "id": "BhAOlGNOw3Nj"
      }
    },
    {
      "cell_type": "markdown",
      "source": [
        "# Imports"
      ],
      "metadata": {
        "id": "BPTZcpzQ0sfq"
      }
    },
    {
      "cell_type": "code",
      "source": [
        "%matplotlib inline"
      ],
      "metadata": {
        "id": "yX5IP4yJ-CKD"
      },
      "execution_count": 1,
      "outputs": []
    },
    {
      "cell_type": "code",
      "source": [
        "!pip install keras-tuner"
      ],
      "metadata": {
        "colab": {
          "base_uri": "https://localhost:8080/"
        },
        "id": "oHz280golEnY",
        "outputId": "ca5a976e-fb0c-403b-c43d-da778c5d0955"
      },
      "execution_count": 2,
      "outputs": [
        {
          "output_type": "stream",
          "name": "stdout",
          "text": [
            "Collecting keras-tuner\n",
            "  Downloading keras_tuner-1.1.0-py3-none-any.whl (98 kB)\n",
            "\u001b[?25l\r\u001b[K     |███▍                            | 10 kB 37.1 MB/s eta 0:00:01\r\u001b[K     |██████▊                         | 20 kB 23.3 MB/s eta 0:00:01\r\u001b[K     |██████████                      | 30 kB 17.5 MB/s eta 0:00:01\r\u001b[K     |█████████████▍                  | 40 kB 15.4 MB/s eta 0:00:01\r\u001b[K     |████████████████▊               | 51 kB 8.3 MB/s eta 0:00:01\r\u001b[K     |████████████████████            | 61 kB 9.8 MB/s eta 0:00:01\r\u001b[K     |███████████████████████▍        | 71 kB 8.9 MB/s eta 0:00:01\r\u001b[K     |██████████████████████████▊     | 81 kB 10.0 MB/s eta 0:00:01\r\u001b[K     |██████████████████████████████  | 92 kB 10.2 MB/s eta 0:00:01\r\u001b[K     |████████████████████████████████| 98 kB 5.2 MB/s \n",
            "\u001b[?25hRequirement already satisfied: packaging in /usr/local/lib/python3.7/dist-packages (from keras-tuner) (21.3)\n",
            "Requirement already satisfied: ipython in /usr/local/lib/python3.7/dist-packages (from keras-tuner) (5.5.0)\n",
            "Collecting kt-legacy\n",
            "  Downloading kt_legacy-1.0.4-py3-none-any.whl (9.6 kB)\n",
            "Requirement already satisfied: tensorboard in /usr/local/lib/python3.7/dist-packages (from keras-tuner) (2.8.0)\n",
            "Requirement already satisfied: numpy in /usr/local/lib/python3.7/dist-packages (from keras-tuner) (1.21.5)\n",
            "Requirement already satisfied: requests in /usr/local/lib/python3.7/dist-packages (from keras-tuner) (2.23.0)\n",
            "Requirement already satisfied: scipy in /usr/local/lib/python3.7/dist-packages (from keras-tuner) (1.4.1)\n",
            "Requirement already satisfied: decorator in /usr/local/lib/python3.7/dist-packages (from ipython->keras-tuner) (4.4.2)\n",
            "Requirement already satisfied: prompt-toolkit<2.0.0,>=1.0.4 in /usr/local/lib/python3.7/dist-packages (from ipython->keras-tuner) (1.0.18)\n",
            "Requirement already satisfied: pygments in /usr/local/lib/python3.7/dist-packages (from ipython->keras-tuner) (2.6.1)\n",
            "Requirement already satisfied: simplegeneric>0.8 in /usr/local/lib/python3.7/dist-packages (from ipython->keras-tuner) (0.8.1)\n",
            "Requirement already satisfied: pickleshare in /usr/local/lib/python3.7/dist-packages (from ipython->keras-tuner) (0.7.5)\n",
            "Requirement already satisfied: traitlets>=4.2 in /usr/local/lib/python3.7/dist-packages (from ipython->keras-tuner) (5.1.1)\n",
            "Requirement already satisfied: pexpect in /usr/local/lib/python3.7/dist-packages (from ipython->keras-tuner) (4.8.0)\n",
            "Requirement already satisfied: setuptools>=18.5 in /usr/local/lib/python3.7/dist-packages (from ipython->keras-tuner) (57.4.0)\n",
            "Requirement already satisfied: six>=1.9.0 in /usr/local/lib/python3.7/dist-packages (from prompt-toolkit<2.0.0,>=1.0.4->ipython->keras-tuner) (1.15.0)\n",
            "Requirement already satisfied: wcwidth in /usr/local/lib/python3.7/dist-packages (from prompt-toolkit<2.0.0,>=1.0.4->ipython->keras-tuner) (0.2.5)\n",
            "Requirement already satisfied: pyparsing!=3.0.5,>=2.0.2 in /usr/local/lib/python3.7/dist-packages (from packaging->keras-tuner) (3.0.7)\n",
            "Requirement already satisfied: ptyprocess>=0.5 in /usr/local/lib/python3.7/dist-packages (from pexpect->ipython->keras-tuner) (0.7.0)\n",
            "Requirement already satisfied: chardet<4,>=3.0.2 in /usr/local/lib/python3.7/dist-packages (from requests->keras-tuner) (3.0.4)\n",
            "Requirement already satisfied: certifi>=2017.4.17 in /usr/local/lib/python3.7/dist-packages (from requests->keras-tuner) (2021.10.8)\n",
            "Requirement already satisfied: idna<3,>=2.5 in /usr/local/lib/python3.7/dist-packages (from requests->keras-tuner) (2.10)\n",
            "Requirement already satisfied: urllib3!=1.25.0,!=1.25.1,<1.26,>=1.21.1 in /usr/local/lib/python3.7/dist-packages (from requests->keras-tuner) (1.24.3)\n",
            "Requirement already satisfied: werkzeug>=0.11.15 in /usr/local/lib/python3.7/dist-packages (from tensorboard->keras-tuner) (1.0.1)\n",
            "Requirement already satisfied: wheel>=0.26 in /usr/local/lib/python3.7/dist-packages (from tensorboard->keras-tuner) (0.37.1)\n",
            "Requirement already satisfied: google-auth<3,>=1.6.3 in /usr/local/lib/python3.7/dist-packages (from tensorboard->keras-tuner) (1.35.0)\n",
            "Requirement already satisfied: markdown>=2.6.8 in /usr/local/lib/python3.7/dist-packages (from tensorboard->keras-tuner) (3.3.6)\n",
            "Requirement already satisfied: tensorboard-data-server<0.7.0,>=0.6.0 in /usr/local/lib/python3.7/dist-packages (from tensorboard->keras-tuner) (0.6.1)\n",
            "Requirement already satisfied: tensorboard-plugin-wit>=1.6.0 in /usr/local/lib/python3.7/dist-packages (from tensorboard->keras-tuner) (1.8.1)\n",
            "Requirement already satisfied: protobuf>=3.6.0 in /usr/local/lib/python3.7/dist-packages (from tensorboard->keras-tuner) (3.17.3)\n",
            "Requirement already satisfied: absl-py>=0.4 in /usr/local/lib/python3.7/dist-packages (from tensorboard->keras-tuner) (1.0.0)\n",
            "Requirement already satisfied: grpcio>=1.24.3 in /usr/local/lib/python3.7/dist-packages (from tensorboard->keras-tuner) (1.43.0)\n",
            "Requirement already satisfied: google-auth-oauthlib<0.5,>=0.4.1 in /usr/local/lib/python3.7/dist-packages (from tensorboard->keras-tuner) (0.4.6)\n",
            "Requirement already satisfied: cachetools<5.0,>=2.0.0 in /usr/local/lib/python3.7/dist-packages (from google-auth<3,>=1.6.3->tensorboard->keras-tuner) (4.2.4)\n",
            "Requirement already satisfied: pyasn1-modules>=0.2.1 in /usr/local/lib/python3.7/dist-packages (from google-auth<3,>=1.6.3->tensorboard->keras-tuner) (0.2.8)\n",
            "Requirement already satisfied: rsa<5,>=3.1.4 in /usr/local/lib/python3.7/dist-packages (from google-auth<3,>=1.6.3->tensorboard->keras-tuner) (4.8)\n",
            "Requirement already satisfied: requests-oauthlib>=0.7.0 in /usr/local/lib/python3.7/dist-packages (from google-auth-oauthlib<0.5,>=0.4.1->tensorboard->keras-tuner) (1.3.1)\n",
            "Requirement already satisfied: importlib-metadata>=4.4 in /usr/local/lib/python3.7/dist-packages (from markdown>=2.6.8->tensorboard->keras-tuner) (4.11.0)\n",
            "Requirement already satisfied: typing-extensions>=3.6.4 in /usr/local/lib/python3.7/dist-packages (from importlib-metadata>=4.4->markdown>=2.6.8->tensorboard->keras-tuner) (3.10.0.2)\n",
            "Requirement already satisfied: zipp>=0.5 in /usr/local/lib/python3.7/dist-packages (from importlib-metadata>=4.4->markdown>=2.6.8->tensorboard->keras-tuner) (3.7.0)\n",
            "Requirement already satisfied: pyasn1<0.5.0,>=0.4.6 in /usr/local/lib/python3.7/dist-packages (from pyasn1-modules>=0.2.1->google-auth<3,>=1.6.3->tensorboard->keras-tuner) (0.4.8)\n",
            "Requirement already satisfied: oauthlib>=3.0.0 in /usr/local/lib/python3.7/dist-packages (from requests-oauthlib>=0.7.0->google-auth-oauthlib<0.5,>=0.4.1->tensorboard->keras-tuner) (3.2.0)\n",
            "Installing collected packages: kt-legacy, keras-tuner\n",
            "Successfully installed keras-tuner-1.1.0 kt-legacy-1.0.4\n"
          ]
        }
      ]
    },
    {
      "cell_type": "code",
      "execution_count": 3,
      "metadata": {
        "id": "WyDSncY3nVV5"
      },
      "outputs": [],
      "source": [
        "from google.colab import drive\n",
        "import os\n",
        "\n",
        "from tensorflow.keras.models import load_model\n",
        "import tensorflow as tf\n",
        "import keras_tuner as kt\n",
        "\n",
        "from sklearn.model_selection import train_test_split\n",
        "\n",
        "import sys\n",
        "import requests\n",
        "import zipfile\n",
        "import copy\n",
        "import shutil\n",
        "\n",
        "import pandas as pd\n",
        "import numpy as np\n",
        "import random\n",
        "import math\n",
        "\n",
        "from matplotlib import pyplot as plt"
      ]
    },
    {
      "cell_type": "code",
      "source": [
        "np.random.seed(123)\n",
        "random.seed(123)"
      ],
      "metadata": {
        "id": "hu975UwXNQaY"
      },
      "execution_count": 4,
      "outputs": []
    },
    {
      "cell_type": "code",
      "source": [
        "!git clone https://github.com/aviadar/RecSys_AutoRecProject proj"
      ],
      "metadata": {
        "colab": {
          "base_uri": "https://localhost:8080/"
        },
        "id": "65vPd8nctqIa",
        "outputId": "5c45e9b5-8f43-4007-9181-9a90160fe101"
      },
      "execution_count": 5,
      "outputs": [
        {
          "output_type": "stream",
          "name": "stdout",
          "text": [
            "Cloning into 'proj'...\n",
            "remote: Enumerating objects: 176, done.\u001b[K\n",
            "remote: Counting objects: 100% (176/176), done.\u001b[K\n",
            "remote: Compressing objects: 100% (130/130), done.\u001b[K\n",
            "remote: Total 176 (delta 75), reused 130 (delta 36), pack-reused 0\u001b[K\n",
            "Receiving objects: 100% (176/176), 286.75 MiB | 37.49 MiB/s, done.\n",
            "Resolving deltas: 100% (75/75), done.\n",
            "Checking out files: 100% (17/17), done.\n"
          ]
        }
      ]
    },
    {
      "cell_type": "code",
      "source": [
        "sys.path.insert(0,'/content/proj/src')\n",
        "\n",
        "from utilities.Metrics import Metrics\n",
        "from models.MF import MF\n",
        "from models.IAutoRec import IAutoRec\n",
        "from models.IAutoRecEnhanced import IAutoRecEnhanced\n",
        "from models.IAutoRecEnhanced2 import IAutoRecEnhanced2"
      ],
      "metadata": {
        "id": "_SAITMrgxoIW"
      },
      "execution_count": 6,
      "outputs": []
    },
    {
      "cell_type": "code",
      "source": [
        "use_pretrained_model_mf = False\n",
        "use_pretrained_model_autorec = False\n",
        "use_pretrained_model_autorec_enhanced = False\n",
        "use_pretrained_model_autorec_enhanced2 = False"
      ],
      "metadata": {
        "id": "W_LnucK8skga"
      },
      "execution_count": 7,
      "outputs": []
    },
    {
      "cell_type": "markdown",
      "source": [
        "# Netflix Prize Dataset"
      ],
      "metadata": {
        "id": "Z6DAUX0q-hko"
      }
    },
    {
      "cell_type": "markdown",
      "source": [
        "## Data Loading and Manupulation"
      ],
      "metadata": {
        "id": "892iPoHk-xzH"
      }
    },
    {
      "cell_type": "code",
      "source": [
        "drive.mount('/content/drive')"
      ],
      "metadata": {
        "id": "nE5Epb-fYtVb",
        "colab": {
          "base_uri": "https://localhost:8080/"
        },
        "outputId": "524d6d8b-6766-46d2-c422-8ccd2608c178"
      },
      "execution_count": 8,
      "outputs": [
        {
          "output_type": "stream",
          "name": "stdout",
          "text": [
            "Mounted at /content/drive\n"
          ]
        }
      ]
    },
    {
      "cell_type": "code",
      "source": [
        "with zipfile.ZipFile('/content/drive/MyDrive/rec_sys/datasets/netflix_prize.zip',\"r\") as zip_ref:\n",
        "    zip_ref.extractall()"
      ],
      "metadata": {
        "id": "sR7tgPCwBE7P"
      },
      "execution_count": 9,
      "outputs": []
    },
    {
      "cell_type": "markdown",
      "source": [
        "note that we are loading only part of the dataset because of RAM issues."
      ],
      "metadata": {
        "id": "RtQV451uB30k"
      }
    },
    {
      "cell_type": "code",
      "source": [
        "if not os.path.isfile('netflix_data.csv'):\n",
        "    netflix_data = open('netflix_data.csv', mode='w')    \n",
        "    row = list()\n",
        "    files=['/content/combined_data_1.txt']\n",
        "    #,'/content/combined_data_2.txt']#, \n",
        "#            '/content/combined_data_3.txt', '/content/combined_data_4.txt']\n",
        "    for file in files:\n",
        "        with open(file) as f:\n",
        "            for line in f: \n",
        "                del row[:]\n",
        "                line = line.strip()\n",
        "                if line.endswith(':'):\n",
        "                    movie_id = line.replace(':', '')\n",
        "                else:\n",
        "                    row = [x for x in line.split(',')]\n",
        "                    row.insert(0, movie_id)\n",
        "                    netflix_data.write(','.join(row))\n",
        "                    netflix_data.write('\\n')\n",
        "    netflix_data.close()"
      ],
      "metadata": {
        "id": "_dBAaxKK7q8i"
      },
      "execution_count": 10,
      "outputs": []
    },
    {
      "cell_type": "code",
      "source": [
        "netflix_df = pd.read_csv('netflix_data.csv', sep=',', names=['item_id', 'user_id','rating','date'])\n",
        "# netflix_df.date = pd.to_datetime(netflix_df.date)\n",
        "netflix_df.drop(columns=['date'], inplace=True)\n",
        "# netflix_df = netflix_df.sample(frac = 1)\n",
        "netflix_df = netflix_df.sort_values(by=['user_id'])\n",
        "netflix_df = netflix_df.iloc[:int(1e6)]\n",
        "netflix_df.head()"
      ],
      "metadata": {
        "id": "TUC7bpya8kue",
        "colab": {
          "base_uri": "https://localhost:8080/",
          "height": 206
        },
        "outputId": "ef339244-2b00-4d3e-c46e-a00153c702b9"
      },
      "execution_count": 11,
      "outputs": [
        {
          "output_type": "execute_result",
          "data": {
            "text/html": [
              "\n",
              "  <div id=\"df-d83f2167-0961-4fca-8953-5bd7318d14a1\">\n",
              "    <div class=\"colab-df-container\">\n",
              "      <div>\n",
              "<style scoped>\n",
              "    .dataframe tbody tr th:only-of-type {\n",
              "        vertical-align: middle;\n",
              "    }\n",
              "\n",
              "    .dataframe tbody tr th {\n",
              "        vertical-align: top;\n",
              "    }\n",
              "\n",
              "    .dataframe thead th {\n",
              "        text-align: right;\n",
              "    }\n",
              "</style>\n",
              "<table border=\"1\" class=\"dataframe\">\n",
              "  <thead>\n",
              "    <tr style=\"text-align: right;\">\n",
              "      <th></th>\n",
              "      <th>item_id</th>\n",
              "      <th>user_id</th>\n",
              "      <th>rating</th>\n",
              "    </tr>\n",
              "  </thead>\n",
              "  <tbody>\n",
              "    <tr>\n",
              "      <th>881625</th>\n",
              "      <td>197</td>\n",
              "      <td>6</td>\n",
              "      <td>3</td>\n",
              "    </tr>\n",
              "    <tr>\n",
              "      <th>1438379</th>\n",
              "      <td>299</td>\n",
              "      <td>6</td>\n",
              "      <td>3</td>\n",
              "    </tr>\n",
              "    <tr>\n",
              "      <th>2547216</th>\n",
              "      <td>468</td>\n",
              "      <td>6</td>\n",
              "      <td>3</td>\n",
              "    </tr>\n",
              "    <tr>\n",
              "      <th>17387129</th>\n",
              "      <td>3333</td>\n",
              "      <td>6</td>\n",
              "      <td>4</td>\n",
              "    </tr>\n",
              "    <tr>\n",
              "      <th>1368432</th>\n",
              "      <td>295</td>\n",
              "      <td>6</td>\n",
              "      <td>4</td>\n",
              "    </tr>\n",
              "  </tbody>\n",
              "</table>\n",
              "</div>\n",
              "      <button class=\"colab-df-convert\" onclick=\"convertToInteractive('df-d83f2167-0961-4fca-8953-5bd7318d14a1')\"\n",
              "              title=\"Convert this dataframe to an interactive table.\"\n",
              "              style=\"display:none;\">\n",
              "        \n",
              "  <svg xmlns=\"http://www.w3.org/2000/svg\" height=\"24px\"viewBox=\"0 0 24 24\"\n",
              "       width=\"24px\">\n",
              "    <path d=\"M0 0h24v24H0V0z\" fill=\"none\"/>\n",
              "    <path d=\"M18.56 5.44l.94 2.06.94-2.06 2.06-.94-2.06-.94-.94-2.06-.94 2.06-2.06.94zm-11 1L8.5 8.5l.94-2.06 2.06-.94-2.06-.94L8.5 2.5l-.94 2.06-2.06.94zm10 10l.94 2.06.94-2.06 2.06-.94-2.06-.94-.94-2.06-.94 2.06-2.06.94z\"/><path d=\"M17.41 7.96l-1.37-1.37c-.4-.4-.92-.59-1.43-.59-.52 0-1.04.2-1.43.59L10.3 9.45l-7.72 7.72c-.78.78-.78 2.05 0 2.83L4 21.41c.39.39.9.59 1.41.59.51 0 1.02-.2 1.41-.59l7.78-7.78 2.81-2.81c.8-.78.8-2.07 0-2.86zM5.41 20L4 18.59l7.72-7.72 1.47 1.35L5.41 20z\"/>\n",
              "  </svg>\n",
              "      </button>\n",
              "      \n",
              "  <style>\n",
              "    .colab-df-container {\n",
              "      display:flex;\n",
              "      flex-wrap:wrap;\n",
              "      gap: 12px;\n",
              "    }\n",
              "\n",
              "    .colab-df-convert {\n",
              "      background-color: #E8F0FE;\n",
              "      border: none;\n",
              "      border-radius: 50%;\n",
              "      cursor: pointer;\n",
              "      display: none;\n",
              "      fill: #1967D2;\n",
              "      height: 32px;\n",
              "      padding: 0 0 0 0;\n",
              "      width: 32px;\n",
              "    }\n",
              "\n",
              "    .colab-df-convert:hover {\n",
              "      background-color: #E2EBFA;\n",
              "      box-shadow: 0px 1px 2px rgba(60, 64, 67, 0.3), 0px 1px 3px 1px rgba(60, 64, 67, 0.15);\n",
              "      fill: #174EA6;\n",
              "    }\n",
              "\n",
              "    [theme=dark] .colab-df-convert {\n",
              "      background-color: #3B4455;\n",
              "      fill: #D2E3FC;\n",
              "    }\n",
              "\n",
              "    [theme=dark] .colab-df-convert:hover {\n",
              "      background-color: #434B5C;\n",
              "      box-shadow: 0px 1px 3px 1px rgba(0, 0, 0, 0.15);\n",
              "      filter: drop-shadow(0px 1px 2px rgba(0, 0, 0, 0.3));\n",
              "      fill: #FFFFFF;\n",
              "    }\n",
              "  </style>\n",
              "\n",
              "      <script>\n",
              "        const buttonEl =\n",
              "          document.querySelector('#df-d83f2167-0961-4fca-8953-5bd7318d14a1 button.colab-df-convert');\n",
              "        buttonEl.style.display =\n",
              "          google.colab.kernel.accessAllowed ? 'block' : 'none';\n",
              "\n",
              "        async function convertToInteractive(key) {\n",
              "          const element = document.querySelector('#df-d83f2167-0961-4fca-8953-5bd7318d14a1');\n",
              "          const dataTable =\n",
              "            await google.colab.kernel.invokeFunction('convertToInteractive',\n",
              "                                                     [key], {});\n",
              "          if (!dataTable) return;\n",
              "\n",
              "          const docLinkHtml = 'Like what you see? Visit the ' +\n",
              "            '<a target=\"_blank\" href=https://colab.research.google.com/notebooks/data_table.ipynb>data table notebook</a>'\n",
              "            + ' to learn more about interactive tables.';\n",
              "          element.innerHTML = '';\n",
              "          dataTable['output_type'] = 'display_data';\n",
              "          await google.colab.output.renderOutput(dataTable, element);\n",
              "          const docLink = document.createElement('div');\n",
              "          docLink.innerHTML = docLinkHtml;\n",
              "          element.appendChild(docLink);\n",
              "        }\n",
              "      </script>\n",
              "    </div>\n",
              "  </div>\n",
              "  "
            ],
            "text/plain": [
              "          item_id  user_id  rating\n",
              "881625        197        6       3\n",
              "1438379       299        6       3\n",
              "2547216       468        6       3\n",
              "17387129     3333        6       4\n",
              "1368432       295        6       4"
            ]
          },
          "metadata": {},
          "execution_count": 11
        }
      ]
    },
    {
      "cell_type": "code",
      "source": [
        "netflix_df.shape"
      ],
      "metadata": {
        "id": "qrTztbbLDcIl",
        "colab": {
          "base_uri": "https://localhost:8080/"
        },
        "outputId": "36fb1c4b-90cd-4d18-97f9-fadfdf9acc35"
      },
      "execution_count": 12,
      "outputs": [
        {
          "output_type": "execute_result",
          "data": {
            "text/plain": [
              "(1000000, 3)"
            ]
          },
          "metadata": {},
          "execution_count": 12
        }
      ]
    },
    {
      "cell_type": "markdown",
      "source": [
        "checking for duplicates:"
      ],
      "metadata": {
        "id": "MV8szOss9Pgt"
      }
    },
    {
      "cell_type": "code",
      "source": [
        "sum(netflix_df.duplicated(['item_id','user_id']))"
      ],
      "metadata": {
        "id": "JWFfryG29GUC",
        "colab": {
          "base_uri": "https://localhost:8080/"
        },
        "outputId": "5a11d77e-34a7-4622-ee38-140086cb30da"
      },
      "execution_count": 14,
      "outputs": [
        {
          "output_type": "execute_result",
          "data": {
            "text/plain": [
              "0"
            ]
          },
          "metadata": {},
          "execution_count": 14
        }
      ]
    },
    {
      "cell_type": "markdown",
      "source": [
        "changing ids into indicies:"
      ],
      "metadata": {
        "id": "mxMQ5xOa9cSy"
      }
    },
    {
      "cell_type": "code",
      "source": [
        "user_trans_dict =  {k:v for k,v in zip(netflix_df.user_id.unique(), range(netflix_df.user_id.nunique()))}\n",
        "item_trans_dict =  {k:v for k,v in zip(netflix_df.item_id.unique(), range(netflix_df.item_id.nunique()))}\n",
        "\n",
        "def item_trans(key_value):\n",
        "    return item_trans_dict[key_value]\n",
        "\n",
        "def user_trans(key_value):\n",
        "    return user_trans_dict[key_value]\n",
        "\n",
        "netflix_df.user_id = netflix_df.user_id.apply(user_trans)\n",
        "netflix_df.item_id = netflix_df.item_id.apply(item_trans)\n",
        "\n",
        "netflix_df.head()"
      ],
      "metadata": {
        "id": "MFun6d6D9gWR",
        "colab": {
          "base_uri": "https://localhost:8080/",
          "height": 206
        },
        "outputId": "94baf0c1-530d-4b36-dfa8-d38e9620d1cd"
      },
      "execution_count": 15,
      "outputs": [
        {
          "output_type": "execute_result",
          "data": {
            "text/html": [
              "\n",
              "  <div id=\"df-b2ad07a8-7635-4dc8-8cfc-14d830ae5b0e\">\n",
              "    <div class=\"colab-df-container\">\n",
              "      <div>\n",
              "<style scoped>\n",
              "    .dataframe tbody tr th:only-of-type {\n",
              "        vertical-align: middle;\n",
              "    }\n",
              "\n",
              "    .dataframe tbody tr th {\n",
              "        vertical-align: top;\n",
              "    }\n",
              "\n",
              "    .dataframe thead th {\n",
              "        text-align: right;\n",
              "    }\n",
              "</style>\n",
              "<table border=\"1\" class=\"dataframe\">\n",
              "  <thead>\n",
              "    <tr style=\"text-align: right;\">\n",
              "      <th></th>\n",
              "      <th>item_id</th>\n",
              "      <th>user_id</th>\n",
              "      <th>rating</th>\n",
              "    </tr>\n",
              "  </thead>\n",
              "  <tbody>\n",
              "    <tr>\n",
              "      <th>881625</th>\n",
              "      <td>0</td>\n",
              "      <td>0</td>\n",
              "      <td>3</td>\n",
              "    </tr>\n",
              "    <tr>\n",
              "      <th>1438379</th>\n",
              "      <td>1</td>\n",
              "      <td>0</td>\n",
              "      <td>3</td>\n",
              "    </tr>\n",
              "    <tr>\n",
              "      <th>2547216</th>\n",
              "      <td>2</td>\n",
              "      <td>0</td>\n",
              "      <td>3</td>\n",
              "    </tr>\n",
              "    <tr>\n",
              "      <th>17387129</th>\n",
              "      <td>3</td>\n",
              "      <td>0</td>\n",
              "      <td>4</td>\n",
              "    </tr>\n",
              "    <tr>\n",
              "      <th>1368432</th>\n",
              "      <td>4</td>\n",
              "      <td>0</td>\n",
              "      <td>4</td>\n",
              "    </tr>\n",
              "  </tbody>\n",
              "</table>\n",
              "</div>\n",
              "      <button class=\"colab-df-convert\" onclick=\"convertToInteractive('df-b2ad07a8-7635-4dc8-8cfc-14d830ae5b0e')\"\n",
              "              title=\"Convert this dataframe to an interactive table.\"\n",
              "              style=\"display:none;\">\n",
              "        \n",
              "  <svg xmlns=\"http://www.w3.org/2000/svg\" height=\"24px\"viewBox=\"0 0 24 24\"\n",
              "       width=\"24px\">\n",
              "    <path d=\"M0 0h24v24H0V0z\" fill=\"none\"/>\n",
              "    <path d=\"M18.56 5.44l.94 2.06.94-2.06 2.06-.94-2.06-.94-.94-2.06-.94 2.06-2.06.94zm-11 1L8.5 8.5l.94-2.06 2.06-.94-2.06-.94L8.5 2.5l-.94 2.06-2.06.94zm10 10l.94 2.06.94-2.06 2.06-.94-2.06-.94-.94-2.06-.94 2.06-2.06.94z\"/><path d=\"M17.41 7.96l-1.37-1.37c-.4-.4-.92-.59-1.43-.59-.52 0-1.04.2-1.43.59L10.3 9.45l-7.72 7.72c-.78.78-.78 2.05 0 2.83L4 21.41c.39.39.9.59 1.41.59.51 0 1.02-.2 1.41-.59l7.78-7.78 2.81-2.81c.8-.78.8-2.07 0-2.86zM5.41 20L4 18.59l7.72-7.72 1.47 1.35L5.41 20z\"/>\n",
              "  </svg>\n",
              "      </button>\n",
              "      \n",
              "  <style>\n",
              "    .colab-df-container {\n",
              "      display:flex;\n",
              "      flex-wrap:wrap;\n",
              "      gap: 12px;\n",
              "    }\n",
              "\n",
              "    .colab-df-convert {\n",
              "      background-color: #E8F0FE;\n",
              "      border: none;\n",
              "      border-radius: 50%;\n",
              "      cursor: pointer;\n",
              "      display: none;\n",
              "      fill: #1967D2;\n",
              "      height: 32px;\n",
              "      padding: 0 0 0 0;\n",
              "      width: 32px;\n",
              "    }\n",
              "\n",
              "    .colab-df-convert:hover {\n",
              "      background-color: #E2EBFA;\n",
              "      box-shadow: 0px 1px 2px rgba(60, 64, 67, 0.3), 0px 1px 3px 1px rgba(60, 64, 67, 0.15);\n",
              "      fill: #174EA6;\n",
              "    }\n",
              "\n",
              "    [theme=dark] .colab-df-convert {\n",
              "      background-color: #3B4455;\n",
              "      fill: #D2E3FC;\n",
              "    }\n",
              "\n",
              "    [theme=dark] .colab-df-convert:hover {\n",
              "      background-color: #434B5C;\n",
              "      box-shadow: 0px 1px 3px 1px rgba(0, 0, 0, 0.15);\n",
              "      filter: drop-shadow(0px 1px 2px rgba(0, 0, 0, 0.3));\n",
              "      fill: #FFFFFF;\n",
              "    }\n",
              "  </style>\n",
              "\n",
              "      <script>\n",
              "        const buttonEl =\n",
              "          document.querySelector('#df-b2ad07a8-7635-4dc8-8cfc-14d830ae5b0e button.colab-df-convert');\n",
              "        buttonEl.style.display =\n",
              "          google.colab.kernel.accessAllowed ? 'block' : 'none';\n",
              "\n",
              "        async function convertToInteractive(key) {\n",
              "          const element = document.querySelector('#df-b2ad07a8-7635-4dc8-8cfc-14d830ae5b0e');\n",
              "          const dataTable =\n",
              "            await google.colab.kernel.invokeFunction('convertToInteractive',\n",
              "                                                     [key], {});\n",
              "          if (!dataTable) return;\n",
              "\n",
              "          const docLinkHtml = 'Like what you see? Visit the ' +\n",
              "            '<a target=\"_blank\" href=https://colab.research.google.com/notebooks/data_table.ipynb>data table notebook</a>'\n",
              "            + ' to learn more about interactive tables.';\n",
              "          element.innerHTML = '';\n",
              "          dataTable['output_type'] = 'display_data';\n",
              "          await google.colab.output.renderOutput(dataTable, element);\n",
              "          const docLink = document.createElement('div');\n",
              "          docLink.innerHTML = docLinkHtml;\n",
              "          element.appendChild(docLink);\n",
              "        }\n",
              "      </script>\n",
              "    </div>\n",
              "  </div>\n",
              "  "
            ],
            "text/plain": [
              "          item_id  user_id  rating\n",
              "881625          0        0       3\n",
              "1438379         1        0       3\n",
              "2547216         2        0       3\n",
              "17387129        3        0       4\n",
              "1368432         4        0       4"
            ]
          },
          "metadata": {},
          "execution_count": 15
        }
      ]
    },
    {
      "cell_type": "code",
      "source": [
        "netflix_users_num = netflix_df.user_id.nunique()\n",
        "netflix_items_num = netflix_df.item_id.nunique()\n",
        "netflix_users_num, netflix_items_num"
      ],
      "metadata": {
        "id": "7duDuDQ8_X1l",
        "colab": {
          "base_uri": "https://localhost:8080/"
        },
        "outputId": "d9a63056-3064-4cca-8e9b-1d53cf90aa56"
      },
      "execution_count": 16,
      "outputs": [
        {
          "output_type": "execute_result",
          "data": {
            "text/plain": [
              "(19779, 4485)"
            ]
          },
          "metadata": {},
          "execution_count": 16
        }
      ]
    },
    {
      "cell_type": "markdown",
      "source": [
        "## Train\\Test Split"
      ],
      "metadata": {
        "id": "BZeTujQg_qMs"
      }
    },
    {
      "cell_type": "code",
      "source": [
        "train_netflix, test_netflix = train_test_split(netflix_df, test_size=0.1, random_state=42)\n",
        "# train_netflix, val_netflix = train_test_split(train_netflix, test_size=0.1, random_state=42)\n",
        "\n",
        "test_netflix.user_id.nunique(), test_netflix.item_id.nunique()\n",
        "\n",
        "def create_full_mat(df):\n",
        "    full_mat = np.zeros((netflix_users_num, netflix_items_num))\n",
        "    # full_mat = csr_matrix((netflix_users_num, netflix_items_num), dtype='complex')\n",
        "    # full_mat = lil_matrix((netflix_users_num, netflix_items_num))\n",
        "    for user, item, rating in zip(df.user_id, df.item_id, df.rating):\n",
        "        full_mat[user, item] = rating\n",
        "    return full_mat\n",
        "\n",
        "netflix_full_train_mat = create_full_mat(train_netflix)\n",
        "netflix_full_test_mat = create_full_mat(test_netflix)\n",
        "# netflix_full_val_mat = create_full_mat(val_netflix)"
      ],
      "metadata": {
        "id": "9NN6fpU7_pQb"
      },
      "execution_count": 17,
      "outputs": []
    },
    {
      "cell_type": "code",
      "source": [
        "def df_to_mat(df):\n",
        "    full_mat = np.zeros((df.user_id.max()+1, df.item_id.max()+1))\n",
        "    for user, item, rating in zip(df.user_id, df.item_id, df.rating):\n",
        "        full_mat[user, item] = rating\n",
        "    return full_mat"
      ],
      "metadata": {
        "id": "2zNxenY-5lL-"
      },
      "execution_count": 18,
      "outputs": []
    },
    {
      "cell_type": "markdown",
      "source": [
        "## Matrix Factorization"
      ],
      "metadata": {
        "id": "dQVWn36C_Jlz"
      }
    },
    {
      "cell_type": "code",
      "source": [
        "mf_netflix = MF(users_num=netflix_df.user_id.max()+1, items_num=netflix_df.item_id.max()+1)"
      ],
      "metadata": {
        "id": "Rp3GJw1X_Ohp"
      },
      "execution_count": 19,
      "outputs": []
    },
    {
      "cell_type": "markdown",
      "source": [
        "### Hyperparameters Tuning"
      ],
      "metadata": {
        "id": "N7dLutLII2-Y"
      }
    },
    {
      "cell_type": "code",
      "source": [
        "tuner = kt.Hyperband(mf_netflix.model_builder,\n",
        "                     objective='val_loss',\n",
        "                     max_epochs=10,\n",
        "                     factor=3,\n",
        "                     directory='hyper_params',\n",
        "                     project_name='mf_netflix')"
      ],
      "metadata": {
        "id": "itIzIijjI0Nw",
        "colab": {
          "base_uri": "https://localhost:8080/"
        },
        "outputId": "7d6e4c7f-9c47-49cf-a675-cd7346ff0a4a"
      },
      "execution_count": 20,
      "outputs": [
        {
          "output_type": "stream",
          "name": "stdout",
          "text": [
            "Model: \"model\"\n",
            "__________________________________________________________________________________________________\n",
            " Layer (type)                   Output Shape         Param #     Connected to                     \n",
            "==================================================================================================\n",
            " user_input (InputLayer)        [(None, 1)]          0           []                               \n",
            "                                                                                                  \n",
            " item_input (InputLayer)        [(None, 1)]          0           []                               \n",
            "                                                                                                  \n",
            " user_embedding (Embedding)     (None, 1, 10)        197790      ['user_input[0][0]']             \n",
            "                                                                                                  \n",
            " item_embedding (Embedding)     (None, 1, 10)        44850       ['item_input[0][0]']             \n",
            "                                                                                                  \n",
            " flatten (Flatten)              (None, 10)           0           ['user_embedding[0][0]']         \n",
            "                                                                                                  \n",
            " flatten_1 (Flatten)            (None, 10)           0           ['item_embedding[0][0]']         \n",
            "                                                                                                  \n",
            " dot (Dot)                      (None, 1)            0           ['flatten[0][0]',                \n",
            "                                                                  'flatten_1[0][0]']              \n",
            "                                                                                                  \n",
            "==================================================================================================\n",
            "Total params: 242,640\n",
            "Trainable params: 242,640\n",
            "Non-trainable params: 0\n",
            "__________________________________________________________________________________________________\n"
          ]
        }
      ]
    },
    {
      "cell_type": "code",
      "source": [
        "stop_early = tf.keras.callbacks.EarlyStopping(monitor='val_loss', patience=5)\n",
        "tuner.search([np.array(train_netflix.user_id), np.array(train_netflix.item_id)], np.array(train_netflix.rating), \n",
        "             epochs=10, validation_split=0.2, callbacks=[stop_early], batch_size=512)\n",
        "# Get the optimal hyperparameters\n",
        "best_hps=tuner.get_best_hyperparameters(num_trials=1)[0]"
      ],
      "metadata": {
        "id": "BjlNJq8RJcRe",
        "colab": {
          "base_uri": "https://localhost:8080/"
        },
        "outputId": "501be4cf-9a13-442a-c8a5-c2cfa086dc4d"
      },
      "execution_count": 21,
      "outputs": [
        {
          "output_type": "stream",
          "name": "stdout",
          "text": [
            "Trial 8 Complete [00h 00m 09s]\n",
            "val_loss: 1.1614001989364624\n",
            "\n",
            "Best val_loss So Far: 1.1614001989364624\n",
            "Total elapsed time: 00h 01m 22s\n",
            "INFO:tensorflow:Oracle triggered exit\n"
          ]
        }
      ]
    },
    {
      "cell_type": "code",
      "source": [
        "best_hps.get('latent_dim'), best_hps.get('learning_rate')"
      ],
      "metadata": {
        "colab": {
          "base_uri": "https://localhost:8080/"
        },
        "id": "mz5swelJGQGx",
        "outputId": "e1e37e6d-caaf-4e3e-c44c-ef4ce9bf7541"
      },
      "execution_count": 22,
      "outputs": [
        {
          "output_type": "execute_result",
          "data": {
            "text/plain": [
              "(40, 0.001)"
            ]
          },
          "metadata": {},
          "execution_count": 22
        }
      ]
    },
    {
      "cell_type": "code",
      "source": [
        "mf_opt_netflix = MF(users_num=netflix_df.user_id.max()+1, items_num=netflix_df.item_id.max()+1, latent_dim=best_hps.get('latent_dim'), learning_rate=best_hps.get('learning_rate'))\n",
        "mf_opt_netflix.build_opt_model()"
      ],
      "metadata": {
        "id": "rydnCRGtKnRM",
        "colab": {
          "base_uri": "https://localhost:8080/"
        },
        "outputId": "7b7d1462-7d53-41ef-fda8-520a0a71abcb"
      },
      "execution_count": 23,
      "outputs": [
        {
          "output_type": "stream",
          "name": "stdout",
          "text": [
            "Model: \"model_1\"\n",
            "__________________________________________________________________________________________________\n",
            " Layer (type)                   Output Shape         Param #     Connected to                     \n",
            "==================================================================================================\n",
            " user_input (InputLayer)        [(None, 1)]          0           []                               \n",
            "                                                                                                  \n",
            " item_input (InputLayer)        [(None, 1)]          0           []                               \n",
            "                                                                                                  \n",
            " user_embedding (Embedding)     (None, 1, 40)        791160      ['user_input[0][0]']             \n",
            "                                                                                                  \n",
            " item_embedding (Embedding)     (None, 1, 40)        179400      ['item_input[0][0]']             \n",
            "                                                                                                  \n",
            " flatten_2 (Flatten)            (None, 40)           0           ['user_embedding[0][0]']         \n",
            "                                                                                                  \n",
            " flatten_3 (Flatten)            (None, 40)           0           ['item_embedding[0][0]']         \n",
            "                                                                                                  \n",
            " dot_1 (Dot)                    (None, 1)            0           ['flatten_2[0][0]',              \n",
            "                                                                  'flatten_3[0][0]']              \n",
            "                                                                                                  \n",
            "==================================================================================================\n",
            "Total params: 970,560\n",
            "Trainable params: 970,560\n",
            "Non-trainable params: 0\n",
            "__________________________________________________________________________________________________\n"
          ]
        }
      ]
    },
    {
      "cell_type": "code",
      "source": [
        "mf_opt_netflix.fit(train_netflix.user_id, train_netflix.item_id, labels=train_netflix.rating)"
      ],
      "metadata": {
        "id": "OUswUl8iUd-B",
        "colab": {
          "base_uri": "https://localhost:8080/"
        },
        "outputId": "23efb697-79e6-4118-9c4d-b85c78e1cc69"
      },
      "execution_count": 24,
      "outputs": [
        {
          "output_type": "stream",
          "name": "stdout",
          "text": [
            "Epoch 1/100\n",
            "1583/1583 [==============================] - 5s 3ms/step - loss: 6.9599 - val_loss: 1.7160\n",
            "Epoch 2/100\n",
            "1583/1583 [==============================] - 6s 4ms/step - loss: 1.2759 - val_loss: 1.0924\n",
            "Epoch 3/100\n",
            "1583/1583 [==============================] - 6s 4ms/step - loss: 0.9626 - val_loss: 0.9508\n",
            "Epoch 4/100\n",
            "1583/1583 [==============================] - 5s 3ms/step - loss: 0.8629 - val_loss: 0.9012\n",
            "Epoch 5/100\n",
            "1583/1583 [==============================] - 5s 3ms/step - loss: 0.8141 - val_loss: 0.8773\n",
            "Epoch 6/100\n",
            "1583/1583 [==============================] - 4s 3ms/step - loss: 0.7804 - val_loss: 0.8645\n",
            "Epoch 7/100\n",
            "1583/1583 [==============================] - 4s 3ms/step - loss: 0.7498 - val_loss: 0.8555\n",
            "Epoch 8/100\n",
            "1583/1583 [==============================] - 4s 3ms/step - loss: 0.7174 - val_loss: 0.8484\n",
            "Epoch 9/100\n",
            "1583/1583 [==============================] - 4s 3ms/step - loss: 0.6820 - val_loss: 0.8475\n",
            "Epoch 10/100\n",
            "1583/1583 [==============================] - 4s 3ms/step - loss: 0.6425 - val_loss: 0.8500\n",
            "Epoch 11/100\n",
            "1583/1583 [==============================] - 4s 3ms/step - loss: 0.5993 - val_loss: 0.8532\n",
            "Epoch 12/100\n",
            "1583/1583 [==============================] - 5s 3ms/step - loss: 0.5555 - val_loss: 0.8621\n",
            "Epoch 13/100\n",
            "1583/1583 [==============================] - 5s 3ms/step - loss: 0.5141 - val_loss: 0.8772\n",
            "Epoch 14/100\n",
            "1583/1583 [==============================] - 4s 3ms/step - loss: 0.4764 - val_loss: 0.8943\n",
            "Epoch 14: early stopping\n"
          ]
        }
      ]
    },
    {
      "cell_type": "code",
      "source": [
        "# plot training history\n",
        "plt.plot(mf_opt_netflix.hist.history['loss'], label='train')\n",
        "plt.plot(mf_opt_netflix.hist.history['val_loss'], label='validation')\n",
        "plt.xlabel('iteration')\n",
        "plt.ylabel('loss')\n",
        "plt.legend()\n",
        "plt.show()"
      ],
      "metadata": {
        "id": "Njg1GfeNVRkV",
        "colab": {
          "base_uri": "https://localhost:8080/",
          "height": 279
        },
        "outputId": "1c565abe-aaf9-4200-f99c-51c08531dbf3"
      },
      "execution_count": 25,
      "outputs": [
        {
          "output_type": "display_data",
          "data": {
            "image/png": "[encoded data removed]",
            "text/plain": [
              "<Figure size 432x288 with 1 Axes>"
            ]
          },
          "metadata": {
            "needs_background": "light"
          }
        }
      ]
    },
    {
      "cell_type": "code",
      "source": [
        "if use_pretrained_model_mf:\n",
        "    mf_opt_netflix = MF(users_num=netflix_df.user_id.max()+1, items_num=netflix_df.item_id.max()+1, latent_dim=best_hps.get('latent_dim'), learning_rate=best_hps.get('learning_rate'))\n",
        "    mf_opt_netflix.model = load_model('/content/proj/src/models/pretrained_models/Netflix/best_mf_model.h5')\n",
        "else:\n",
        "    mf_opt_netflix.model = load_model('best_mf_model.h5')"
      ],
      "metadata": {
        "id": "p8SYVzF7XeQg"
      },
      "execution_count": 26,
      "outputs": []
    },
    {
      "cell_type": "code",
      "source": [
        "shutil.rmtree('/content/hyper_params')"
      ],
      "metadata": {
        "id": "qXP__7qd4JMT"
      },
      "execution_count": 27,
      "outputs": []
    },
    {
      "cell_type": "markdown",
      "source": [
        "### Prediction"
      ],
      "metadata": {
        "id": "ghmfccptWNrx"
      }
    },
    {
      "cell_type": "code",
      "source": [
        "mf_opt_netflix.predict(test_netflix.user_id, test_netflix.item_id)"
      ],
      "metadata": {
        "id": "qVdped4WWPcR",
        "colab": {
          "base_uri": "https://localhost:8080/"
        },
        "outputId": "7523671e-d42d-42cc-96b3-9b07dd48b071"
      },
      "execution_count": 28,
      "outputs": [
        {
          "output_type": "stream",
          "name": "stdout",
          "text": [
            "13/13 [==============================] - 0s 1ms/step\n"
          ]
        }
      ]
    },
    {
      "cell_type": "code",
      "source": [
        "pred_df = test_netflix.copy()\n",
        "pred_df.rating = mf_opt_netflix.predictions.reshape(-1)\n",
        "pred_mat = df_to_mat(pred_df)\n",
        "test_mat = df_to_mat(test_netflix)"
      ],
      "metadata": {
        "id": "qRq8L184Vvvp"
      },
      "execution_count": 29,
      "outputs": []
    },
    {
      "cell_type": "markdown",
      "source": [
        "### Evaluation"
      ],
      "metadata": {
        "id": "Kb3KuA8SW8e1"
      }
    },
    {
      "cell_type": "code",
      "source": [
        "netflix_mf_opt_eval = Metrics.get_evaluation(test_mat, pred_mat)\n",
        "netflix_mf_opt_eval"
      ],
      "metadata": {
        "id": "CaROQJm_WuTF",
        "colab": {
          "base_uri": "https://localhost:8080/"
        },
        "outputId": "32f1eae1-a3b5-46c1-cc64-af748e6ae4e1"
      },
      "execution_count": 30,
      "outputs": [
        {
          "output_type": "execute_result",
          "data": {
            "text/plain": [
              "{'MRR_10': 0.9414763582582973,\n",
              " 'MRR_5': 0.9414763582582973,\n",
              " 'NDCG_10': 0.9625635410399038,\n",
              " 'NDCG_100': 0.9543554843118671,\n",
              " 'NDCG_5': 0.9668842178414259,\n",
              " 'RMSE': 0.9155871375638455}"
            ]
          },
          "metadata": {},
          "execution_count": 30
        }
      ]
    },
    {
      "cell_type": "markdown",
      "source": [
        "## IAutoRec"
      ],
      "metadata": {
        "id": "-5YkSZSuXYLq"
      }
    },
    {
      "cell_type": "markdown",
      "source": [
        "### Data Processing"
      ],
      "metadata": {
        "id": "_9KcqWwOaA_j"
      }
    },
    {
      "cell_type": "code",
      "source": [
        "# netflix_train_mat, netflix_test_mat = dataPreprocessor(netflix_df)\n",
        "netflix_train_mat, netflix_test_mat = netflix_full_train_mat, netflix_full_test_mat"
      ],
      "metadata": {
        "id": "3glF_tHcaGgh"
      },
      "execution_count": 31,
      "outputs": []
    },
    {
      "cell_type": "markdown",
      "source": [
        "### Hyperparameters Tuning"
      ],
      "metadata": {
        "id": "lJrEG1YPaH01"
      }
    },
    {
      "cell_type": "code",
      "source": [
        "netflix_autorec = IAutoRec(netflix_train_mat.shape[1])\n",
        "tuner = kt.Hyperband(netflix_autorec.model_builder,\n",
        "                     objective='val_loss',\n",
        "                    #  objective='loss',\n",
        "                     max_epochs=500,\n",
        "                     factor=3,\n",
        "                     directory='hyper_params',\n",
        "                     project_name='autorec_netflix')"
      ],
      "metadata": {
        "id": "82IBDBHaXbAC",
        "colab": {
          "base_uri": "https://localhost:8080/"
        },
        "outputId": "da88aab1-4a04-4076-95c9-7f96d78ce22c"
      },
      "execution_count": 32,
      "outputs": [
        {
          "output_type": "stream",
          "name": "stdout",
          "text": [
            "Model: \"model_2\"\n",
            "_________________________________________________________________\n",
            " Layer (type)                Output Shape              Param #   \n",
            "=================================================================\n",
            " item_rating (InputLayer)    [(None, 4485)]            0         \n",
            "                                                                 \n",
            " latent_dim (Dense)          (None, 300)               1345800   \n",
            "                                                                 \n",
            " item_pred_rating (Dense)    (None, 4485)              1349985   \n",
            "                                                                 \n",
            "=================================================================\n",
            "Total params: 2,695,785\n",
            "Trainable params: 2,695,785\n",
            "Non-trainable params: 0\n",
            "_________________________________________________________________\n"
          ]
        }
      ]
    },
    {
      "cell_type": "code",
      "source": [
        "stop_early = tf.keras.callbacks.EarlyStopping(monitor='val_loss', patience=2)\n",
        "tuner.search(netflix_train_mat, netflix_train_mat,\n",
        "             epochs=500, validation_split=0.3, callbacks=[stop_early], batch_size=512)\n",
        "# tuner.search(netflix_train_mat, netflix_train_mat,\n",
        "#              epochs=500, validation_data=(netflix_full_val_mat,netflix_full_val_mat), callbacks=[stop_early], batch_size=512)\n",
        "# Get the optimal hyperparameters\n",
        "best_hps=tuner.get_best_hyperparameters(num_trials=1)[0]"
      ],
      "metadata": {
        "id": "CBS4xEhMX64y",
        "colab": {
          "base_uri": "https://localhost:8080/"
        },
        "outputId": "e7d90cbb-de39-4883-9377-1bea7f38ee8c"
      },
      "execution_count": 33,
      "outputs": [
        {
          "output_type": "stream",
          "name": "stdout",
          "text": [
            "Trial 124 Complete [00h 00m 03s]\n",
            "val_loss: 3.039339542388916\n",
            "\n",
            "Best val_loss So Far: 1.06702721118927\n",
            "Total elapsed time: 00h 06m 16s\n",
            "INFO:tensorflow:Oracle triggered exit\n"
          ]
        }
      ]
    },
    {
      "cell_type": "code",
      "source": [
        "best_hps.get('hidden_units'), best_hps.get('reg'), best_hps.get('learning_rate'), best_hps.get('first_activation'), best_hps.get('last_activation')"
      ],
      "metadata": {
        "id": "Q69sY-iXYMBb",
        "colab": {
          "base_uri": "https://localhost:8080/"
        },
        "outputId": "8a3e48bd-2acf-44f8-9991-b9392cc6012b"
      },
      "execution_count": 34,
      "outputs": [
        {
          "output_type": "execute_result",
          "data": {
            "text/plain": [
              "(900, 0.0001, 0.001, 'sigmoid', 'relu')"
            ]
          },
          "metadata": {},
          "execution_count": 34
        }
      ]
    },
    {
      "cell_type": "markdown",
      "source": [
        "### Retraining"
      ],
      "metadata": {
        "id": "gN4verCQaQtz"
      }
    },
    {
      "cell_type": "code",
      "source": [
        "netflix_autorec_opt = IAutoRec(netflix_train_mat.shape[1],hidden_units=best_hps.get('hidden_units'), reg=best_hps.get('reg'), \n",
        "                               learning_rate=best_hps.get('learning_rate'), first_activation=best_hps.get('first_activation'),\n",
        "                               last_activation=best_hps.get('last_activation'))\n",
        "netflix_autorec_opt.build_opt_model()\n",
        "netflix_autorec_opt.fit(netflix_train_mat, netflix_train_mat)"
      ],
      "metadata": {
        "id": "Cs_HFs5mYMvI",
        "colab": {
          "base_uri": "https://localhost:8080/"
        },
        "outputId": "741443b9-4de1-44b2-d56d-360fb7fe0b04"
      },
      "execution_count": 35,
      "outputs": [
        {
          "output_type": "stream",
          "name": "stdout",
          "text": [
            "Model: \"model_1\"\n",
            "_________________________________________________________________\n",
            " Layer (type)                Output Shape              Param #   \n",
            "=================================================================\n",
            " item_rating (InputLayer)    [(None, 4485)]            0         \n",
            "                                                                 \n",
            " latent_dim (Dense)          (None, 900)               4037400   \n",
            "                                                                 \n",
            " item_pred_rating (Dense)    (None, 4485)              4040985   \n",
            "                                                                 \n",
            "=================================================================\n",
            "Total params: 8,078,385\n",
            "Trainable params: 8,078,385\n",
            "Non-trainable params: 0\n",
            "_________________________________________________________________\n",
            "Epoch 1/500\n",
            "70/70 - 1s - loss: 2.0028 - val_loss: 1.1289 - 1s/epoch - 19ms/step\n",
            "Epoch 2/500\n",
            "70/70 - 1s - loss: 1.0654 - val_loss: 1.0638 - 701ms/epoch - 10ms/step\n",
            "Epoch 3/500\n",
            "70/70 - 1s - loss: 1.0115 - val_loss: 1.0485 - 707ms/epoch - 10ms/step\n",
            "Epoch 4/500\n",
            "70/70 - 1s - loss: 0.9856 - val_loss: 1.0239 - 704ms/epoch - 10ms/step\n",
            "Epoch 5/500\n",
            "70/70 - 1s - loss: 0.9653 - val_loss: 1.0205 - 719ms/epoch - 10ms/step\n",
            "Epoch 6/500\n",
            "70/70 - 1s - loss: 0.9497 - val_loss: 1.0189 - 693ms/epoch - 10ms/step\n",
            "Epoch 7/500\n",
            "70/70 - 1s - loss: 0.9337 - val_loss: 1.0089 - 691ms/epoch - 10ms/step\n",
            "Epoch 8/500\n",
            "70/70 - 1s - loss: 0.9216 - val_loss: 1.0084 - 725ms/epoch - 10ms/step\n",
            "Epoch 9/500\n",
            "70/70 - 1s - loss: 0.9065 - val_loss: 1.0096 - 529ms/epoch - 8ms/step\n",
            "Epoch 10/500\n",
            "70/70 - 1s - loss: 0.8943 - val_loss: 0.9993 - 831ms/epoch - 12ms/step\n",
            "Epoch 11/500\n",
            "70/70 - 1s - loss: 0.8838 - val_loss: 0.9985 - 707ms/epoch - 10ms/step\n",
            "Epoch 12/500\n",
            "70/70 - 1s - loss: 0.8715 - val_loss: 0.9980 - 720ms/epoch - 10ms/step\n",
            "Epoch 13/500\n",
            "70/70 - 1s - loss: 0.8654 - val_loss: 0.9995 - 526ms/epoch - 8ms/step\n",
            "Epoch 14/500\n",
            "70/70 - 1s - loss: 0.8526 - val_loss: 1.0024 - 519ms/epoch - 7ms/step\n",
            "Epoch 15/500\n",
            "70/70 - 1s - loss: 0.8435 - val_loss: 0.9995 - 526ms/epoch - 8ms/step\n",
            "Epoch 16/500\n",
            "70/70 - 1s - loss: 0.8362 - val_loss: 0.9949 - 712ms/epoch - 10ms/step\n",
            "Epoch 17/500\n",
            "70/70 - 1s - loss: 0.8297 - val_loss: 0.9995 - 521ms/epoch - 7ms/step\n",
            "Epoch 18/500\n",
            "70/70 - 1s - loss: 0.8216 - val_loss: 1.0020 - 514ms/epoch - 7ms/step\n",
            "Epoch 19/500\n",
            "70/70 - 1s - loss: 0.8169 - val_loss: 0.9963 - 515ms/epoch - 7ms/step\n",
            "Epoch 20/500\n",
            "70/70 - 1s - loss: 0.8119 - val_loss: 0.9956 - 510ms/epoch - 7ms/step\n",
            "Epoch 21/500\n",
            "70/70 - 1s - loss: 0.8058 - val_loss: 1.0061 - 527ms/epoch - 8ms/step\n",
            "Epoch 21: early stopping\n"
          ]
        }
      ]
    },
    {
      "cell_type": "code",
      "source": [
        "# plot training history\n",
        "plt.plot(netflix_autorec_opt.hist.history['loss'], label='train')\n",
        "plt.plot(netflix_autorec_opt.hist.history['val_loss'], label='validation')\n",
        "plt.xlabel('iteration')\n",
        "plt.ylabel('loss')\n",
        "plt.legend()"
      ],
      "metadata": {
        "id": "YGviT2s1Yi8s",
        "colab": {
          "base_uri": "https://localhost:8080/",
          "height": 297
        },
        "outputId": "91c4deb7-f184-414b-98ef-8725d2de1849"
      },
      "execution_count": 36,
      "outputs": [
        {
          "output_type": "execute_result",
          "data": {
            "text/plain": [
              "<matplotlib.legend.Legend at 0x7fe295146050>"
            ]
          },
          "metadata": {},
          "execution_count": 36
        },
        {
          "output_type": "display_data",
          "data": {
            "image/png": "[encoded data removed]",
            "text/plain": [
              "<Figure size 432x288 with 1 Axes>"
            ]
          },
          "metadata": {
            "needs_background": "light"
          }
        }
      ]
    },
    {
      "cell_type": "code",
      "source": [
        "if use_pretrained_model_autorec:\n",
        "    netflix_autorec_opt = IAutoRec(netflix_train_mat.shape[1],hidden_units=best_hps.get('hidden_units'), reg=best_hps.get('reg'), \n",
        "                               learning_rate=best_hps.get('learning_rate'), first_activation=best_hps.get('first_activation'),\n",
        "                               last_activation=best_hps.get('last_activation'))    \n",
        "    netflix_autorec_opt.model = load_model('/content/proj/src/models/pretrained_models/Netflix/best_autorec_model.h5')\n",
        "else:\n",
        "    netflix_autorec_opt.model = load_model('best_autorec_model.h5', custom_objects={'masked_rmse': IAutoRec.masked_rmse})"
      ],
      "metadata": {
        "id": "GO9AK8quX2XS"
      },
      "execution_count": 37,
      "outputs": []
    },
    {
      "cell_type": "code",
      "source": [
        "shutil.rmtree('/content/hyper_params')"
      ],
      "metadata": {
        "id": "Nf75XIP74LP1"
      },
      "execution_count": 38,
      "outputs": []
    },
    {
      "cell_type": "markdown",
      "source": [
        "### Prediction"
      ],
      "metadata": {
        "id": "S9LSkwmJYoaH"
      }
    },
    {
      "cell_type": "code",
      "source": [
        "netflix_autorec_opt.predict(netflix_test_mat)"
      ],
      "metadata": {
        "id": "Qq_x9G7kYqJR",
        "colab": {
          "base_uri": "https://localhost:8080/"
        },
        "outputId": "4723de3a-920e-4261-ef19-804a38a57054"
      },
      "execution_count": 39,
      "outputs": [
        {
          "output_type": "stream",
          "name": "stdout",
          "text": [
            "39/39 [==============================] - 0s 5ms/step\n"
          ]
        }
      ]
    },
    {
      "cell_type": "markdown",
      "source": [
        "### Evaluation"
      ],
      "metadata": {
        "id": "R_1B71xMZRvO"
      }
    },
    {
      "cell_type": "code",
      "source": [
        "netflix_autorec_opt_eval = Metrics.get_evaluation(netflix_test_mat, netflix_autorec_opt.predictions)\n",
        "netflix_autorec_opt_eval"
      ],
      "metadata": {
        "id": "XO1QaWZMZLzG",
        "colab": {
          "base_uri": "https://localhost:8080/"
        },
        "outputId": "939d7585-7168-4d7d-fc3c-5ea5b9e19d71"
      },
      "execution_count": 40,
      "outputs": [
        {
          "output_type": "execute_result",
          "data": {
            "text/plain": [
              "{'MRR_10': 0.9534027143416417,\n",
              " 'MRR_5': 0.9533918395754492,\n",
              " 'NDCG_10': 0.9783502343761387,\n",
              " 'NDCG_100': 0.9427604270869687,\n",
              " 'NDCG_5': 0.9840546084262216,\n",
              " 'RMSE': 0.8316370346480989}"
            ]
          },
          "metadata": {},
          "execution_count": 40
        }
      ]
    },
    {
      "cell_type": "markdown",
      "source": [
        "in the paper, the authors reaches RMSE of 0.823, we got 0.832, but we need to remember that we used only a partial dataset due to RAM issues."
      ],
      "metadata": {
        "id": "I91auy5hAOI4"
      }
    },
    {
      "cell_type": "markdown",
      "source": [
        "## IAutoRec Enhanced"
      ],
      "metadata": {
        "id": "5UJyiYjRamXf"
      }
    },
    {
      "cell_type": "markdown",
      "source": [
        "### Hyperparameter Tuning"
      ],
      "metadata": {
        "id": "5nQzSuyBbEDR"
      }
    },
    {
      "cell_type": "code",
      "source": [
        "netflix_autorec_enhanced = IAutoRecEnhanced(netflix_train_mat.shape[1])\n",
        "tuner = kt.Hyperband(netflix_autorec_enhanced.model_builder,\n",
        "                     objective='val_loss',\n",
        "                    #  objective='loss',\n",
        "                     max_epochs=500,\n",
        "                    #  factor=3,\n",
        "                     directory='hyper_params',\n",
        "                     project_name='autorec_enhanced_netflix')"
      ],
      "metadata": {
        "id": "xZvCB25ea2-I",
        "colab": {
          "base_uri": "https://localhost:8080/"
        },
        "outputId": "755b41ee-1f67-4cc8-d4eb-c00a0b057647"
      },
      "execution_count": 41,
      "outputs": [
        {
          "output_type": "stream",
          "name": "stdout",
          "text": [
            "Model: \"model_2\"\n",
            "_________________________________________________________________\n",
            " Layer (type)                Output Shape              Param #   \n",
            "=================================================================\n",
            " item_rating (InputLayer)    [(None, 4485)]            0         \n",
            "                                                                 \n",
            " hidden_encoder_1 (Dense)    (None, 200)               897200    \n",
            "                                                                 \n",
            " latent_dim (Dense)          (None, 100)               20100     \n",
            "                                                                 \n",
            " hidden_decoder_1 (Dense)    (None, 200)               20200     \n",
            "                                                                 \n",
            " item_pred_rating (Dense)    (None, 4485)              901485    \n",
            "                                                                 \n",
            "=================================================================\n",
            "Total params: 1,838,985\n",
            "Trainable params: 1,838,985\n",
            "Non-trainable params: 0\n",
            "_________________________________________________________________\n"
          ]
        }
      ]
    },
    {
      "cell_type": "code",
      "source": [
        "stop_early = tf.keras.callbacks.EarlyStopping(monitor='val_loss', patience=5)\n",
        "# stop_early = tf.keras.callbacks.EarlyStopping(monitor='loss', patience=5)\n",
        "tuner.search(netflix_train_mat, netflix_train_mat,\n",
        "             epochs=500, validation_split=0.3, callbacks=[stop_early], batch_size=512)\n",
        "# Get the optimal hyperparameters\n",
        "best_hps=tuner.get_best_hyperparameters(num_trials=1)[0]"
      ],
      "metadata": {
        "id": "34_ndg_MbM1z",
        "colab": {
          "base_uri": "https://localhost:8080/"
        },
        "outputId": "fb9e43fe-dc12-49d7-9e30-82eb6e27758a"
      },
      "execution_count": 42,
      "outputs": [
        {
          "output_type": "stream",
          "name": "stdout",
          "text": [
            "Trial 168 Complete [00h 00m 03s]\n",
            "val_loss: 1.2197370529174805\n",
            "\n",
            "Best val_loss So Far: 1.069174885749817\n",
            "Total elapsed time: 00h 08m 47s\n",
            "INFO:tensorflow:Oracle triggered exit\n"
          ]
        }
      ]
    },
    {
      "cell_type": "code",
      "source": [
        "best_hps.get('hidden_units'), best_hps.get('hidden_layer_factor'), best_hps.get('reg'), best_hps.get('learning_rate'), best_hps.get('first_activation'), best_hps.get('last_activation')"
      ],
      "metadata": {
        "id": "_4Xxp42pbgsk",
        "colab": {
          "base_uri": "https://localhost:8080/"
        },
        "outputId": "3b02fa00-b7f6-4411-e170-88cf17dddb81"
      },
      "execution_count": 43,
      "outputs": [
        {
          "output_type": "execute_result",
          "data": {
            "text/plain": [
              "(100, 2, 0.0001, 0.001, 'elu', 'elu')"
            ]
          },
          "metadata": {},
          "execution_count": 43
        }
      ]
    },
    {
      "cell_type": "markdown",
      "source": [
        "### Retraining"
      ],
      "metadata": {
        "id": "C9GuzNiDb_xJ"
      }
    },
    {
      "cell_type": "code",
      "source": [
        "netflix_autorec_enhanced_opt = IAutoRecEnhanced(netflix_train_mat.shape[1],hidden_units=best_hps.get('hidden_units'), \n",
        "                                                hidden_layer_factor=best_hps.get('hidden_layer_factor'), reg=best_hps.get('reg'), \n",
        "                                                learning_rate=best_hps.get('learning_rate'), first_activation=best_hps.get('first_activation'),\n",
        "                                                last_activation=best_hps.get('last_activation'))\n",
        "netflix_autorec_enhanced_opt.build_opt_model()\n",
        "netflix_autorec_enhanced_opt.fit(netflix_train_mat, netflix_train_mat)"
      ],
      "metadata": {
        "id": "I_3IyvyRbhlQ",
        "colab": {
          "base_uri": "https://localhost:8080/"
        },
        "outputId": "ac871762-bd17-439d-ce7e-98d455c0b7bb"
      },
      "execution_count": 44,
      "outputs": [
        {
          "output_type": "stream",
          "name": "stdout",
          "text": [
            "Model: \"model_1\"\n",
            "_________________________________________________________________\n",
            " Layer (type)                Output Shape              Param #   \n",
            "=================================================================\n",
            " item_rating (InputLayer)    [(None, 4485)]            0         \n",
            "                                                                 \n",
            " hidden_encoder (Dense)      (None, 200)               897200    \n",
            "                                                                 \n",
            " latent_dim (Dense)          (None, 100)               20100     \n",
            "                                                                 \n",
            " hidden_decoder (Dense)      (None, 200)               20200     \n",
            "                                                                 \n",
            " item_pred_rating (Dense)    (None, 4485)              901485    \n",
            "                                                                 \n",
            "=================================================================\n",
            "Total params: 1,838,985\n",
            "Trainable params: 1,838,985\n",
            "Non-trainable params: 0\n",
            "_________________________________________________________________\n",
            "Epoch 1/500\n",
            "70/70 - 1s - loss: 1.5628 - val_loss: 1.0864 - 1s/epoch - 16ms/step\n",
            "Epoch 2/500\n",
            "70/70 - 0s - loss: 1.0561 - val_loss: 1.0534 - 464ms/epoch - 7ms/step\n",
            "Epoch 3/500\n",
            "70/70 - 0s - loss: 1.0199 - val_loss: 1.0368 - 454ms/epoch - 6ms/step\n",
            "Epoch 4/500\n",
            "70/70 - 0s - loss: 0.9967 - val_loss: 1.0270 - 458ms/epoch - 7ms/step\n",
            "Epoch 5/500\n",
            "70/70 - 0s - loss: 0.9828 - val_loss: 1.0294 - 398ms/epoch - 6ms/step\n",
            "Epoch 6/500\n",
            "70/70 - 0s - loss: 0.9614 - val_loss: 1.0174 - 448ms/epoch - 6ms/step\n",
            "Epoch 7/500\n",
            "70/70 - 0s - loss: 0.9513 - val_loss: 1.0126 - 455ms/epoch - 7ms/step\n",
            "Epoch 8/500\n",
            "70/70 - 0s - loss: 0.9364 - val_loss: 1.0114 - 444ms/epoch - 6ms/step\n",
            "Epoch 9/500\n",
            "70/70 - 0s - loss: 0.9203 - val_loss: 1.0157 - 392ms/epoch - 6ms/step\n",
            "Epoch 10/500\n",
            "70/70 - 0s - loss: 0.9124 - val_loss: 1.0133 - 383ms/epoch - 5ms/step\n",
            "Epoch 11/500\n",
            "70/70 - 0s - loss: 0.9025 - val_loss: 1.0086 - 442ms/epoch - 6ms/step\n",
            "Epoch 12/500\n",
            "70/70 - 0s - loss: 0.8965 - val_loss: 1.0196 - 388ms/epoch - 6ms/step\n",
            "Epoch 13/500\n",
            "70/70 - 1s - loss: 0.8845 - val_loss: 1.0077 - 544ms/epoch - 8ms/step\n",
            "Epoch 14/500\n",
            "70/70 - 0s - loss: 0.8820 - val_loss: 1.0125 - 468ms/epoch - 7ms/step\n",
            "Epoch 15/500\n",
            "70/70 - 0s - loss: 0.8830 - val_loss: 1.0083 - 481ms/epoch - 7ms/step\n",
            "Epoch 16/500\n",
            "70/70 - 1s - loss: 0.8700 - val_loss: 1.0071 - 562ms/epoch - 8ms/step\n",
            "Epoch 17/500\n",
            "70/70 - 1s - loss: 0.8586 - val_loss: 1.0050 - 550ms/epoch - 8ms/step\n",
            "Epoch 18/500\n",
            "70/70 - 0s - loss: 0.8552 - val_loss: 1.0069 - 459ms/epoch - 7ms/step\n",
            "Epoch 19/500\n",
            "70/70 - 0s - loss: 0.8432 - val_loss: 1.0086 - 390ms/epoch - 6ms/step\n",
            "Epoch 20/500\n",
            "70/70 - 0s - loss: 0.8383 - val_loss: 1.0038 - 461ms/epoch - 7ms/step\n",
            "Epoch 21/500\n",
            "70/70 - 0s - loss: 0.8317 - val_loss: 1.0071 - 397ms/epoch - 6ms/step\n",
            "Epoch 22/500\n",
            "70/70 - 0s - loss: 0.8267 - val_loss: 1.0083 - 402ms/epoch - 6ms/step\n",
            "Epoch 23/500\n",
            "70/70 - 0s - loss: 0.8215 - val_loss: 1.0039 - 391ms/epoch - 6ms/step\n",
            "Epoch 24/500\n",
            "70/70 - 0s - loss: 0.8169 - val_loss: 1.0071 - 395ms/epoch - 6ms/step\n",
            "Epoch 25/500\n",
            "70/70 - 0s - loss: 0.8126 - val_loss: 1.0045 - 392ms/epoch - 6ms/step\n",
            "Epoch 25: early stopping\n"
          ]
        }
      ]
    },
    {
      "cell_type": "code",
      "source": [
        "# plot training history\n",
        "plt.plot(netflix_autorec_enhanced_opt.hist.history['loss'], label='train')\n",
        "plt.plot(netflix_autorec_enhanced_opt.hist.history['val_loss'], label='validation')\n",
        "plt.xlabel('iteration')\n",
        "plt.ylabel('loss')\n",
        "plt.legend()"
      ],
      "metadata": {
        "id": "MSzc509McP8I",
        "colab": {
          "base_uri": "https://localhost:8080/",
          "height": 301
        },
        "outputId": "c4010df2-ab4f-4fce-9c60-38e0e0bdcb06"
      },
      "execution_count": 45,
      "outputs": [
        {
          "output_type": "execute_result",
          "data": {
            "text/plain": [
              "<matplotlib.legend.Legend at 0x7fe294936c50>"
            ]
          },
          "metadata": {},
          "execution_count": 45
        },
        {
          "output_type": "display_data",
          "data": {
            "image/png": "[encoded data removed]",
            "text/plain": [
              "<Figure size 432x288 with 1 Axes>"
            ]
          },
          "metadata": {
            "needs_background": "light"
          }
        }
      ]
    },
    {
      "cell_type": "code",
      "source": [
        "if use_pretrained_model_autorec_enhanced:\n",
        "    netflix_autorec_enhanced_opt = IAutoRecEnhanced(netflix_train_mat.shape[1],hidden_units=best_hps.get('hidden_units'), \n",
        "                                                    hidden_layer_factor=best_hps.get('hidden_layer_factor'), reg=best_hps.get('reg'), \n",
        "                                                    learning_rate=best_hps.get('learning_rate'), first_activation=best_hps.get('first_activation'),\n",
        "                                                    last_activation=best_hps.get('last_activation'))\n",
        "    netflix_autorec_enhanced_opt.model = load_model('/content/proj/src/models/pretrained_models/Netflix/best_autorec_enhanced_model.h5')\n",
        "else:\n",
        "    netflix_autorec_enhanced_opt.model = load_model('best_autorec_enhanced_model.h5', custom_objects={'masked_rmse': IAutoRecEnhanced.masked_rmse})"
      ],
      "metadata": {
        "id": "mw1dg_oDX9U-"
      },
      "execution_count": 46,
      "outputs": []
    },
    {
      "cell_type": "markdown",
      "source": [
        "### Prediction"
      ],
      "metadata": {
        "id": "tlw-Mi2bcVR_"
      }
    },
    {
      "cell_type": "code",
      "source": [
        "netflix_autorec_enhanced_opt.predict(netflix_test_mat)"
      ],
      "metadata": {
        "id": "58g3qZo-cXJ9",
        "colab": {
          "base_uri": "https://localhost:8080/"
        },
        "outputId": "37428e84-3e04-4931-f5e3-e1ed4763554f"
      },
      "execution_count": 47,
      "outputs": [
        {
          "output_type": "stream",
          "name": "stdout",
          "text": [
            "39/39 [==============================] - 0s 4ms/step\n"
          ]
        }
      ]
    },
    {
      "cell_type": "markdown",
      "source": [
        "### Evaluation"
      ],
      "metadata": {
        "id": "pNXLxbQBcdv8"
      }
    },
    {
      "cell_type": "code",
      "source": [
        "netflix_autorec_enhanced_opt_eval = Metrics.get_evaluation(netflix_test_mat, netflix_autorec_enhanced_opt.predictions)\n",
        "netflix_autorec_enhanced_opt_eval"
      ],
      "metadata": {
        "id": "I1y2usr8ccZz",
        "colab": {
          "base_uri": "https://localhost:8080/"
        },
        "outputId": "893c4687-a4b3-4005-e399-7305d10ad1b9"
      },
      "execution_count": 48,
      "outputs": [
        {
          "output_type": "execute_result",
          "data": {
            "text/plain": [
              "{'MRR_10': 0.950455652703467,\n",
              " 'MRR_5': 0.950455652703467,\n",
              " 'NDCG_10': 0.9642134505380678,\n",
              " 'NDCG_100': 0.9444972214791636,\n",
              " 'NDCG_5': 0.9725268872538255,\n",
              " 'RMSE': 0.9628700696934387}"
            ]
          },
          "metadata": {},
          "execution_count": 48
        }
      ]
    },
    {
      "cell_type": "markdown",
      "source": [
        "our deep autoencoder architecture yeilds worse results, perhaps due to a needed heavy duty hyperparameter tuning.\n",
        "we'll try a deeper network."
      ],
      "metadata": {
        "id": "_yPROCxdB25-"
      }
    },
    {
      "cell_type": "markdown",
      "source": [
        "## IAutoRec Enhanced 2"
      ],
      "metadata": {
        "id": "Nrv1xwPG9n7k"
      }
    },
    {
      "cell_type": "markdown",
      "source": [
        "### Hyperparameter Tuning"
      ],
      "metadata": {
        "id": "btlhDBVr9wbt"
      }
    },
    {
      "cell_type": "code",
      "source": [
        "netflix_autorec_enhanced2 = IAutoRecEnhanced2(netflix_train_mat.shape[1])\n",
        "tuner = kt.Hyperband(netflix_autorec_enhanced2.model_builder,\n",
        "                     objective='val_loss',\n",
        "                    #  objective='loss',\n",
        "                     max_epochs=500,\n",
        "                    #  factor=3,\n",
        "                     directory='hyper_params',\n",
        "                     project_name='autorec_enhanced2_netflix')"
      ],
      "metadata": {
        "colab": {
          "base_uri": "https://localhost:8080/"
        },
        "id": "kuQ51_qT92-G",
        "outputId": "66ba4ab4-dc3c-4419-e8fb-c8030313e25d"
      },
      "execution_count": 52,
      "outputs": [
        {
          "output_type": "stream",
          "name": "stdout",
          "text": [
            "Model: \"model_2\"\n",
            "_________________________________________________________________\n",
            " Layer (type)                Output Shape              Param #   \n",
            "=================================================================\n",
            " item_rating (InputLayer)    [(None, 4485)]            0         \n",
            "                                                                 \n",
            " hidden_encoder_1 (Dense)    (None, 200)               897200    \n",
            "                                                                 \n",
            " hidden_encoder_2 (Dense)    (None, 100)               20100     \n",
            "                                                                 \n",
            " latent_dim (Dense)          (None, 50)                5050      \n",
            "                                                                 \n",
            " hidden_decoder_1 (Dense)    (None, 100)               5100      \n",
            "                                                                 \n",
            " hidden_decoder_2 (Dense)    (None, 200)               20200     \n",
            "                                                                 \n",
            " item_pred_rating (Dense)    (None, 4485)              901485    \n",
            "                                                                 \n",
            "=================================================================\n",
            "Total params: 1,849,135\n",
            "Trainable params: 1,849,135\n",
            "Non-trainable params: 0\n",
            "_________________________________________________________________\n"
          ]
        }
      ]
    },
    {
      "cell_type": "code",
      "source": [
        "stop_early = tf.keras.callbacks.EarlyStopping(monitor='val_loss', patience=5)\n",
        "# stop_early = tf.keras.callbacks.EarlyStopping(monitor='loss', patience=5)\n",
        "tuner.search(netflix_train_mat, netflix_train_mat,\n",
        "             epochs=500, validation_split=0.3, callbacks=[stop_early], batch_size=512)\n",
        "# Get the optimal hyperparameters\n",
        "best_hps=tuner.get_best_hyperparameters(num_trials=1)[0]"
      ],
      "metadata": {
        "colab": {
          "base_uri": "https://localhost:8080/"
        },
        "id": "k3idUe-v-Dvp",
        "outputId": "38ea7043-3725-4367-c918-49f5712f9b17"
      },
      "execution_count": 53,
      "outputs": [
        {
          "output_type": "stream",
          "name": "stdout",
          "text": [
            "Trial 127 Complete [00h 00m 02s]\n",
            "val_loss: 2.868924140930176\n",
            "\n",
            "Best val_loss So Far: 1.0754410028457642\n",
            "Total elapsed time: 00h 07m 19s\n",
            "INFO:tensorflow:Oracle triggered exit\n"
          ]
        }
      ]
    },
    {
      "cell_type": "code",
      "source": [
        "best_hps.get('hidden_units'), best_hps.get('hidden_layer_factor'), best_hps.get('reg'), best_hps.get('learning_rate'), best_hps.get('first_activation'), best_hps.get('last_activation')"
      ],
      "metadata": {
        "colab": {
          "base_uri": "https://localhost:8080/"
        },
        "id": "XUfGydfP-cBl",
        "outputId": "b2fdc239-0f90-447e-d710-6aa3000f002f"
      },
      "execution_count": 54,
      "outputs": [
        {
          "output_type": "execute_result",
          "data": {
            "text/plain": [
              "(50, 2, 0.0001, 0.001, 'elu', 'elu')"
            ]
          },
          "metadata": {},
          "execution_count": 54
        }
      ]
    },
    {
      "cell_type": "markdown",
      "source": [
        "### Retraining"
      ],
      "metadata": {
        "id": "WTZWcZYa-jf9"
      }
    },
    {
      "cell_type": "code",
      "source": [
        "netflix_autorec_enhanced2_opt = IAutoRecEnhanced2(netflix_train_mat.shape[1],hidden_units=best_hps.get('hidden_units'), \n",
        "                                                hidden_layer_factor=best_hps.get('hidden_layer_factor'), reg=best_hps.get('reg'), \n",
        "                                                learning_rate=best_hps.get('learning_rate'), first_activation=best_hps.get('first_activation'),\n",
        "                                                last_activation=best_hps.get('last_activation'))\n",
        "netflix_autorec_enhanced2_opt.build_opt_model()\n",
        "netflix_autorec_enhanced2_opt.fit(netflix_train_mat, netflix_train_mat)"
      ],
      "metadata": {
        "colab": {
          "base_uri": "https://localhost:8080/"
        },
        "id": "uo6Z0Hpc-iwN",
        "outputId": "0fb94f13-fc3a-4615-b60f-c4a7906a328f"
      },
      "execution_count": 55,
      "outputs": [
        {
          "output_type": "stream",
          "name": "stdout",
          "text": [
            "Model: \"model_1\"\n",
            "_________________________________________________________________\n",
            " Layer (type)                Output Shape              Param #   \n",
            "=================================================================\n",
            " item_rating (InputLayer)    [(None, 4485)]            0         \n",
            "                                                                 \n",
            " hidden_encoder_1 (Dense)    (None, 200)               897200    \n",
            "                                                                 \n",
            " hidden_encoder_2 (Dense)    (None, 100)               20100     \n",
            "                                                                 \n",
            " latent_dim (Dense)          (None, 50)                5050      \n",
            "                                                                 \n",
            " hidden_decoder_1 (Dense)    (None, 100)               5100      \n",
            "                                                                 \n",
            " hidden_decoder_2 (Dense)    (None, 200)               20200     \n",
            "                                                                 \n",
            " item_pred_rating (Dense)    (None, 4485)              901485    \n",
            "                                                                 \n",
            "=================================================================\n",
            "Total params: 1,849,135\n",
            "Trainable params: 1,849,135\n",
            "Non-trainable params: 0\n",
            "_________________________________________________________________\n",
            "Epoch 1/500\n",
            "70/70 - 1s - loss: 1.5519 - val_loss: 1.1086 - 1s/epoch - 18ms/step\n",
            "Epoch 2/500\n",
            "70/70 - 0s - loss: 1.0768 - val_loss: 1.0675 - 475ms/epoch - 7ms/step\n",
            "Epoch 3/500\n",
            "70/70 - 0s - loss: 1.0381 - val_loss: 1.0491 - 474ms/epoch - 7ms/step\n",
            "Epoch 4/500\n",
            "70/70 - 0s - loss: 1.0177 - val_loss: 1.0473 - 461ms/epoch - 7ms/step\n",
            "Epoch 5/500\n",
            "70/70 - 0s - loss: 0.9993 - val_loss: 1.0412 - 471ms/epoch - 7ms/step\n",
            "Epoch 6/500\n",
            "70/70 - 0s - loss: 0.9839 - val_loss: 1.0268 - 474ms/epoch - 7ms/step\n",
            "Epoch 7/500\n",
            "70/70 - 0s - loss: 0.9738 - val_loss: 1.0264 - 477ms/epoch - 7ms/step\n",
            "Epoch 8/500\n",
            "70/70 - 0s - loss: 0.9628 - val_loss: 1.0232 - 471ms/epoch - 7ms/step\n",
            "Epoch 9/500\n",
            "70/70 - 0s - loss: 0.9501 - val_loss: 1.0255 - 403ms/epoch - 6ms/step\n",
            "Epoch 10/500\n",
            "70/70 - 0s - loss: 0.9458 - val_loss: 1.0207 - 467ms/epoch - 7ms/step\n",
            "Epoch 11/500\n",
            "70/70 - 0s - loss: 0.9361 - val_loss: 1.0173 - 474ms/epoch - 7ms/step\n",
            "Epoch 12/500\n",
            "70/70 - 0s - loss: 0.9303 - val_loss: 1.0183 - 403ms/epoch - 6ms/step\n",
            "Epoch 13/500\n",
            "70/70 - 0s - loss: 0.9231 - val_loss: 1.0215 - 409ms/epoch - 6ms/step\n",
            "Epoch 14/500\n",
            "70/70 - 0s - loss: 0.9168 - val_loss: 1.0150 - 479ms/epoch - 7ms/step\n",
            "Epoch 15/500\n",
            "70/70 - 0s - loss: 0.9126 - val_loss: 1.0173 - 403ms/epoch - 6ms/step\n",
            "Epoch 16/500\n",
            "70/70 - 0s - loss: 0.9115 - val_loss: 1.0249 - 405ms/epoch - 6ms/step\n",
            "Epoch 17/500\n",
            "70/70 - 0s - loss: 0.9068 - val_loss: 1.0264 - 403ms/epoch - 6ms/step\n",
            "Epoch 18/500\n",
            "70/70 - 0s - loss: 0.9006 - val_loss: 1.0201 - 408ms/epoch - 6ms/step\n",
            "Epoch 19/500\n",
            "70/70 - 0s - loss: 0.8944 - val_loss: 1.0161 - 407ms/epoch - 6ms/step\n",
            "Epoch 19: early stopping\n"
          ]
        }
      ]
    },
    {
      "cell_type": "code",
      "source": [
        "# plot training history\n",
        "plt.plot(netflix_autorec_enhanced2_opt.hist.history['loss'], label='train')\n",
        "plt.plot(netflix_autorec_enhanced2_opt.hist.history['val_loss'], label='validation')\n",
        "plt.xlabel('iteration')\n",
        "plt.ylabel('loss')\n",
        "plt.legend()"
      ],
      "metadata": {
        "colab": {
          "base_uri": "https://localhost:8080/",
          "height": 297
        },
        "id": "infFnM3h-wGo",
        "outputId": "a27b1d73-e08b-4e0e-c280-b3be3fbd8dad"
      },
      "execution_count": 56,
      "outputs": [
        {
          "output_type": "execute_result",
          "data": {
            "text/plain": [
              "<matplotlib.legend.Legend at 0x7fe2164b4c50>"
            ]
          },
          "metadata": {},
          "execution_count": 56
        },
        {
          "output_type": "display_data",
          "data": {
            "image/png": "[encoded data removed]",
            "text/plain": [
              "<Figure size 432x288 with 1 Axes>"
            ]
          },
          "metadata": {
            "needs_background": "light"
          }
        }
      ]
    },
    {
      "cell_type": "code",
      "source": [
        "if use_pretrained_model_autorec_enhanced2:\n",
        "    netflix_autorec_enhanced2_opt = IAutoRecEnhanced2(netflix_train_mat.shape[1],hidden_units=best_hps.get('hidden_units'), \n",
        "                                                    hidden_layer_factor=best_hps.get('hidden_layer_factor'), reg=best_hps.get('reg'), \n",
        "                                                    learning_rate=best_hps.get('learning_rate'), first_activation=best_hps.get('first_activation'),\n",
        "                                                    last_activation=best_hps.get('last_activation'))\n",
        "    netflix_autorec_enhanced2_opt.model = load_model('/content/proj/src/models/pretrained_models/Netflix/best_autorec_enhanced2_model.h5')\n",
        "else:\n",
        "    netflix_autorec_enhanced2_opt.model = load_model('best_autorec_enhanced2_model.h5', custom_objects={'masked_rmse': IAutoRecEnhanced2.masked_rmse})"
      ],
      "metadata": {
        "id": "0fmOtV0n-1gQ"
      },
      "execution_count": 58,
      "outputs": []
    },
    {
      "cell_type": "markdown",
      "source": [
        "### Prediction"
      ],
      "metadata": {
        "id": "U_8PlP5j_IO1"
      }
    },
    {
      "cell_type": "code",
      "source": [
        "netflix_autorec_enhanced2_opt.predict(netflix_test_mat)"
      ],
      "metadata": {
        "colab": {
          "base_uri": "https://localhost:8080/"
        },
        "id": "Sz3htTMH_Jmy",
        "outputId": "00055d60-bf47-4e0a-82b3-85a83f03aa14"
      },
      "execution_count": 59,
      "outputs": [
        {
          "output_type": "stream",
          "name": "stdout",
          "text": [
            "39/39 [==============================] - 0s 4ms/step\n"
          ]
        }
      ]
    },
    {
      "cell_type": "markdown",
      "source": [
        "### Evaluation"
      ],
      "metadata": {
        "id": "F4iN471t_P-5"
      }
    },
    {
      "cell_type": "code",
      "source": [
        "netflix_autorec_enhanced2_opt_eval = Metrics.get_evaluation(netflix_test_mat, netflix_autorec_enhanced2_opt.predictions)\n",
        "netflix_autorec_enhanced2_opt_eval"
      ],
      "metadata": {
        "colab": {
          "base_uri": "https://localhost:8080/"
        },
        "id": "b6l0XeN__Rwd",
        "outputId": "51547f55-d7ed-47c0-c041-9be5607f14bb"
      },
      "execution_count": 60,
      "outputs": [
        {
          "output_type": "execute_result",
          "data": {
            "text/plain": [
              "{'MRR_10': 0.9450976554004088,\n",
              " 'MRR_5': 0.9450759058680238,\n",
              " 'NDCG_10': 0.9589071395663803,\n",
              " 'NDCG_100': 0.9389259890172728,\n",
              " 'NDCG_5': 0.966259398428746,\n",
              " 'RMSE': 1.0049403185121433}"
            ]
          },
          "metadata": {},
          "execution_count": 60
        }
      ]
    },
    {
      "cell_type": "markdown",
      "source": [
        "the deeper model yeilds poorer results, as before, perhaps due to hyperparameter tuning"
      ],
      "metadata": {
        "id": "25_AgBqXEcKZ"
      }
    },
    {
      "cell_type": "markdown",
      "source": [
        "## Evaluation Summary"
      ],
      "metadata": {
        "id": "aN368bk2clhl"
      }
    },
    {
      "cell_type": "code",
      "source": [
        "netflix_result_dict = {\n",
        "    'mf': netflix_mf_opt_eval,\n",
        "    'autorec': netflix_autorec_opt_eval,\n",
        "    'autorec_enhanced': netflix_autorec_enhanced_opt_eval,\n",
        "    'autorec_enhanced2': netflix_autorec_enhanced2_opt_eval,\n",
        "               }\n",
        "netflix_res_df = pd.DataFrame.from_dict(netflix_result_dict)\n",
        "netflix_res_df"
      ],
      "metadata": {
        "id": "kc34ZcoKck9x",
        "colab": {
          "base_uri": "https://localhost:8080/",
          "height": 237
        },
        "outputId": "c1d7dc59-a219-4602-d7c1-ca944d7500d5"
      },
      "execution_count": 61,
      "outputs": [
        {
          "output_type": "execute_result",
          "data": {
            "text/html": [
              "\n",
              "  <div id=\"df-0014ba68-d010-44f9-848f-b061eb8773f4\">\n",
              "    <div class=\"colab-df-container\">\n",
              "      <div>\n",
              "<style scoped>\n",
              "    .dataframe tbody tr th:only-of-type {\n",
              "        vertical-align: middle;\n",
              "    }\n",
              "\n",
              "    .dataframe tbody tr th {\n",
              "        vertical-align: top;\n",
              "    }\n",
              "\n",
              "    .dataframe thead th {\n",
              "        text-align: right;\n",
              "    }\n",
              "</style>\n",
              "<table border=\"1\" class=\"dataframe\">\n",
              "  <thead>\n",
              "    <tr style=\"text-align: right;\">\n",
              "      <th></th>\n",
              "      <th>mf</th>\n",
              "      <th>autorec</th>\n",
              "      <th>autorec_enhanced</th>\n",
              "      <th>autorec_enhanced2</th>\n",
              "    </tr>\n",
              "  </thead>\n",
              "  <tbody>\n",
              "    <tr>\n",
              "      <th>RMSE</th>\n",
              "      <td>0.915587</td>\n",
              "      <td>0.831637</td>\n",
              "      <td>0.962870</td>\n",
              "      <td>1.004940</td>\n",
              "    </tr>\n",
              "    <tr>\n",
              "      <th>MRR_5</th>\n",
              "      <td>0.941476</td>\n",
              "      <td>0.953392</td>\n",
              "      <td>0.950456</td>\n",
              "      <td>0.945076</td>\n",
              "    </tr>\n",
              "    <tr>\n",
              "      <th>MRR_10</th>\n",
              "      <td>0.941476</td>\n",
              "      <td>0.953403</td>\n",
              "      <td>0.950456</td>\n",
              "      <td>0.945098</td>\n",
              "    </tr>\n",
              "    <tr>\n",
              "      <th>NDCG_5</th>\n",
              "      <td>0.966884</td>\n",
              "      <td>0.984055</td>\n",
              "      <td>0.972527</td>\n",
              "      <td>0.966259</td>\n",
              "    </tr>\n",
              "    <tr>\n",
              "      <th>NDCG_10</th>\n",
              "      <td>0.962564</td>\n",
              "      <td>0.978350</td>\n",
              "      <td>0.964213</td>\n",
              "      <td>0.958907</td>\n",
              "    </tr>\n",
              "    <tr>\n",
              "      <th>NDCG_100</th>\n",
              "      <td>0.954355</td>\n",
              "      <td>0.942760</td>\n",
              "      <td>0.944497</td>\n",
              "      <td>0.938926</td>\n",
              "    </tr>\n",
              "  </tbody>\n",
              "</table>\n",
              "</div>\n",
              "      <button class=\"colab-df-convert\" onclick=\"convertToInteractive('df-0014ba68-d010-44f9-848f-b061eb8773f4')\"\n",
              "              title=\"Convert this dataframe to an interactive table.\"\n",
              "              style=\"display:none;\">\n",
              "        \n",
              "  <svg xmlns=\"http://www.w3.org/2000/svg\" height=\"24px\"viewBox=\"0 0 24 24\"\n",
              "       width=\"24px\">\n",
              "    <path d=\"M0 0h24v24H0V0z\" fill=\"none\"/>\n",
              "    <path d=\"M18.56 5.44l.94 2.06.94-2.06 2.06-.94-2.06-.94-.94-2.06-.94 2.06-2.06.94zm-11 1L8.5 8.5l.94-2.06 2.06-.94-2.06-.94L8.5 2.5l-.94 2.06-2.06.94zm10 10l.94 2.06.94-2.06 2.06-.94-2.06-.94-.94-2.06-.94 2.06-2.06.94z\"/><path d=\"M17.41 7.96l-1.37-1.37c-.4-.4-.92-.59-1.43-.59-.52 0-1.04.2-1.43.59L10.3 9.45l-7.72 7.72c-.78.78-.78 2.05 0 2.83L4 21.41c.39.39.9.59 1.41.59.51 0 1.02-.2 1.41-.59l7.78-7.78 2.81-2.81c.8-.78.8-2.07 0-2.86zM5.41 20L4 18.59l7.72-7.72 1.47 1.35L5.41 20z\"/>\n",
              "  </svg>\n",
              "      </button>\n",
              "      \n",
              "  <style>\n",
              "    .colab-df-container {\n",
              "      display:flex;\n",
              "      flex-wrap:wrap;\n",
              "      gap: 12px;\n",
              "    }\n",
              "\n",
              "    .colab-df-convert {\n",
              "      background-color: #E8F0FE;\n",
              "      border: none;\n",
              "      border-radius: 50%;\n",
              "      cursor: pointer;\n",
              "      display: none;\n",
              "      fill: #1967D2;\n",
              "      height: 32px;\n",
              "      padding: 0 0 0 0;\n",
              "      width: 32px;\n",
              "    }\n",
              "\n",
              "    .colab-df-convert:hover {\n",
              "      background-color: #E2EBFA;\n",
              "      box-shadow: 0px 1px 2px rgba(60, 64, 67, 0.3), 0px 1px 3px 1px rgba(60, 64, 67, 0.15);\n",
              "      fill: #174EA6;\n",
              "    }\n",
              "\n",
              "    [theme=dark] .colab-df-convert {\n",
              "      background-color: #3B4455;\n",
              "      fill: #D2E3FC;\n",
              "    }\n",
              "\n",
              "    [theme=dark] .colab-df-convert:hover {\n",
              "      background-color: #434B5C;\n",
              "      box-shadow: 0px 1px 3px 1px rgba(0, 0, 0, 0.15);\n",
              "      filter: drop-shadow(0px 1px 2px rgba(0, 0, 0, 0.3));\n",
              "      fill: #FFFFFF;\n",
              "    }\n",
              "  </style>\n",
              "\n",
              "      <script>\n",
              "        const buttonEl =\n",
              "          document.querySelector('#df-0014ba68-d010-44f9-848f-b061eb8773f4 button.colab-df-convert');\n",
              "        buttonEl.style.display =\n",
              "          google.colab.kernel.accessAllowed ? 'block' : 'none';\n",
              "\n",
              "        async function convertToInteractive(key) {\n",
              "          const element = document.querySelector('#df-0014ba68-d010-44f9-848f-b061eb8773f4');\n",
              "          const dataTable =\n",
              "            await google.colab.kernel.invokeFunction('convertToInteractive',\n",
              "                                                     [key], {});\n",
              "          if (!dataTable) return;\n",
              "\n",
              "          const docLinkHtml = 'Like what you see? Visit the ' +\n",
              "            '<a target=\"_blank\" href=https://colab.research.google.com/notebooks/data_table.ipynb>data table notebook</a>'\n",
              "            + ' to learn more about interactive tables.';\n",
              "          element.innerHTML = '';\n",
              "          dataTable['output_type'] = 'display_data';\n",
              "          await google.colab.output.renderOutput(dataTable, element);\n",
              "          const docLink = document.createElement('div');\n",
              "          docLink.innerHTML = docLinkHtml;\n",
              "          element.appendChild(docLink);\n",
              "        }\n",
              "      </script>\n",
              "    </div>\n",
              "  </div>\n",
              "  "
            ],
            "text/plain": [
              "                mf   autorec  autorec_enhanced  autorec_enhanced2\n",
              "RMSE      0.915587  0.831637          0.962870           1.004940\n",
              "MRR_5     0.941476  0.953392          0.950456           0.945076\n",
              "MRR_10    0.941476  0.953403          0.950456           0.945098\n",
              "NDCG_5    0.966884  0.984055          0.972527           0.966259\n",
              "NDCG_10   0.962564  0.978350          0.964213           0.958907\n",
              "NDCG_100  0.954355  0.942760          0.944497           0.938926"
            ]
          },
          "metadata": {},
          "execution_count": 61
        }
      ]
    },
    {
      "cell_type": "code",
      "source": [
        "netflix_res_df.plot(kind='bar', figsize=(12,5), rot=45)\n",
        "plt.title('netflix prize models results')"
      ],
      "metadata": {
        "id": "Wm2nIXBkhWf-",
        "colab": {
          "base_uri": "https://localhost:8080/",
          "height": 389
        },
        "outputId": "b433f1cf-a678-4754-ae79-a7494c5d0578"
      },
      "execution_count": 62,
      "outputs": [
        {
          "output_type": "execute_result",
          "data": {
            "text/plain": [
              "Text(0.5, 1.0, 'netflix prize models results')"
            ]
          },
          "metadata": {},
          "execution_count": 62
        },
        {
          "output_type": "display_data",
          "data": {
            "image/png": "[encoded data removed]",
            "text/plain": [
              "<Figure size 864x360 with 1 Axes>"
            ]
          },
          "metadata": {
            "needs_background": "light"
          }
        }
      ]
    },
    {
      "cell_type": "code",
      "source": [
        "netflix_res_df.transpose().plot(kind='bar', figsize=(12,5), rot=45)\n",
        "plt.title('netflix prize models results')"
      ],
      "metadata": {
        "id": "lup1CU7GhnCF",
        "colab": {
          "base_uri": "https://localhost:8080/",
          "height": 421
        },
        "outputId": "d953e70b-806d-4926-d4f7-82c154923587"
      },
      "execution_count": 63,
      "outputs": [
        {
          "output_type": "execute_result",
          "data": {
            "text/plain": [
              "Text(0.5, 1.0, 'netflix prize models results')"
            ]
          },
          "metadata": {},
          "execution_count": 63
        },
        {
          "output_type": "display_data",
          "data": {
            "image/png": "[encoded data removed]",
            "text/plain": [
              "<Figure size 864x360 with 1 Axes>"
            ]
          },
          "metadata": {
            "needs_background": "light"
          }
        }
      ]
    }
  ]
}
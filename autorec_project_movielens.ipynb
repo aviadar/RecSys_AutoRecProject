{
  "nbformat": 4,
  "nbformat_minor": 0,
  "metadata": {
    "colab": {
      "name": "autorec_project_movielens.ipynb",
      "provenance": [],
      "collapsed_sections": [
        "BPTZcpzQ0sfq",
        "KjsSKBNV2oOh",
        "a11Jdp710-pE",
        "YrJDgoW11ITS"
      ],
      "machine_shape": "hm"
    },
    "kernelspec": {
      "name": "python3",
      "display_name": "Python 3"
    },
    "language_info": {
      "name": "python"
    },
    "accelerator": "GPU"
  },
  "cells": [
    {
      "cell_type": "markdown",
      "source": [
        "**AutoRec Project**"
      ],
      "metadata": {
        "id": "BhAOlGNOw3Nj"
      }
    },
    {
      "cell_type": "markdown",
      "source": [
        "# Imports"
      ],
      "metadata": {
        "id": "BPTZcpzQ0sfq"
      }
    },
    {
      "cell_type": "code",
      "source": [
        "%matplotlib inline"
      ],
      "metadata": {
        "id": "yX5IP4yJ-CKD"
      },
      "execution_count": 1,
      "outputs": []
    },
    {
      "cell_type": "code",
      "source": [
        "!pip install keras-tuner"
      ],
      "metadata": {
        "colab": {
          "base_uri": "https://localhost:8080/"
        },
        "id": "oHz280golEnY",
        "outputId": "63e2eef0-6cb9-4f2d-f75d-3ecc50ce88a2"
      },
      "execution_count": 2,
      "outputs": [
        {
          "output_type": "stream",
          "name": "stdout",
          "text": [
            "Collecting keras-tuner\n",
            "  Downloading keras_tuner-1.1.0-py3-none-any.whl (98 kB)\n",
            "\u001b[?25l\r\u001b[K     |███▍                            | 10 kB 33.0 MB/s eta 0:00:01\r\u001b[K     |██████▊                         | 20 kB 22.0 MB/s eta 0:00:01\r\u001b[K     |██████████                      | 30 kB 17.3 MB/s eta 0:00:01\r\u001b[K     |█████████████▍                  | 40 kB 15.4 MB/s eta 0:00:01\r\u001b[K     |████████████████▊               | 51 kB 7.9 MB/s eta 0:00:01\r\u001b[K     |████████████████████            | 61 kB 9.3 MB/s eta 0:00:01\r\u001b[K     |███████████████████████▍        | 71 kB 8.7 MB/s eta 0:00:01\r\u001b[K     |██████████████████████████▊     | 81 kB 9.7 MB/s eta 0:00:01\r\u001b[K     |██████████████████████████████  | 92 kB 10.0 MB/s eta 0:00:01\r\u001b[K     |████████████████████████████████| 98 kB 5.6 MB/s \n",
            "\u001b[?25hRequirement already satisfied: tensorboard in /usr/local/lib/python3.7/dist-packages (from keras-tuner) (2.8.0)\n",
            "Requirement already satisfied: packaging in /usr/local/lib/python3.7/dist-packages (from keras-tuner) (21.3)\n",
            "Requirement already satisfied: numpy in /usr/local/lib/python3.7/dist-packages (from keras-tuner) (1.21.5)\n",
            "Requirement already satisfied: ipython in /usr/local/lib/python3.7/dist-packages (from keras-tuner) (5.5.0)\n",
            "Collecting kt-legacy\n",
            "  Downloading kt_legacy-1.0.4-py3-none-any.whl (9.6 kB)\n",
            "Requirement already satisfied: requests in /usr/local/lib/python3.7/dist-packages (from keras-tuner) (2.23.0)\n",
            "Requirement already satisfied: scipy in /usr/local/lib/python3.7/dist-packages (from keras-tuner) (1.4.1)\n",
            "Requirement already satisfied: pickleshare in /usr/local/lib/python3.7/dist-packages (from ipython->keras-tuner) (0.7.5)\n",
            "Requirement already satisfied: pygments in /usr/local/lib/python3.7/dist-packages (from ipython->keras-tuner) (2.6.1)\n",
            "Requirement already satisfied: prompt-toolkit<2.0.0,>=1.0.4 in /usr/local/lib/python3.7/dist-packages (from ipython->keras-tuner) (1.0.18)\n",
            "Requirement already satisfied: decorator in /usr/local/lib/python3.7/dist-packages (from ipython->keras-tuner) (4.4.2)\n",
            "Requirement already satisfied: simplegeneric>0.8 in /usr/local/lib/python3.7/dist-packages (from ipython->keras-tuner) (0.8.1)\n",
            "Requirement already satisfied: setuptools>=18.5 in /usr/local/lib/python3.7/dist-packages (from ipython->keras-tuner) (57.4.0)\n",
            "Requirement already satisfied: traitlets>=4.2 in /usr/local/lib/python3.7/dist-packages (from ipython->keras-tuner) (5.1.1)\n",
            "Requirement already satisfied: pexpect in /usr/local/lib/python3.7/dist-packages (from ipython->keras-tuner) (4.8.0)\n",
            "Requirement already satisfied: six>=1.9.0 in /usr/local/lib/python3.7/dist-packages (from prompt-toolkit<2.0.0,>=1.0.4->ipython->keras-tuner) (1.15.0)\n",
            "Requirement already satisfied: wcwidth in /usr/local/lib/python3.7/dist-packages (from prompt-toolkit<2.0.0,>=1.0.4->ipython->keras-tuner) (0.2.5)\n",
            "Requirement already satisfied: pyparsing!=3.0.5,>=2.0.2 in /usr/local/lib/python3.7/dist-packages (from packaging->keras-tuner) (3.0.7)\n",
            "Requirement already satisfied: ptyprocess>=0.5 in /usr/local/lib/python3.7/dist-packages (from pexpect->ipython->keras-tuner) (0.7.0)\n",
            "Requirement already satisfied: chardet<4,>=3.0.2 in /usr/local/lib/python3.7/dist-packages (from requests->keras-tuner) (3.0.4)\n",
            "Requirement already satisfied: urllib3!=1.25.0,!=1.25.1,<1.26,>=1.21.1 in /usr/local/lib/python3.7/dist-packages (from requests->keras-tuner) (1.24.3)\n",
            "Requirement already satisfied: certifi>=2017.4.17 in /usr/local/lib/python3.7/dist-packages (from requests->keras-tuner) (2021.10.8)\n",
            "Requirement already satisfied: idna<3,>=2.5 in /usr/local/lib/python3.7/dist-packages (from requests->keras-tuner) (2.10)\n",
            "Requirement already satisfied: absl-py>=0.4 in /usr/local/lib/python3.7/dist-packages (from tensorboard->keras-tuner) (1.0.0)\n",
            "Requirement already satisfied: wheel>=0.26 in /usr/local/lib/python3.7/dist-packages (from tensorboard->keras-tuner) (0.37.1)\n",
            "Requirement already satisfied: google-auth<3,>=1.6.3 in /usr/local/lib/python3.7/dist-packages (from tensorboard->keras-tuner) (1.35.0)\n",
            "Requirement already satisfied: tensorboard-data-server<0.7.0,>=0.6.0 in /usr/local/lib/python3.7/dist-packages (from tensorboard->keras-tuner) (0.6.1)\n",
            "Requirement already satisfied: grpcio>=1.24.3 in /usr/local/lib/python3.7/dist-packages (from tensorboard->keras-tuner) (1.43.0)\n",
            "Requirement already satisfied: tensorboard-plugin-wit>=1.6.0 in /usr/local/lib/python3.7/dist-packages (from tensorboard->keras-tuner) (1.8.1)\n",
            "Requirement already satisfied: protobuf>=3.6.0 in /usr/local/lib/python3.7/dist-packages (from tensorboard->keras-tuner) (3.17.3)\n",
            "Requirement already satisfied: google-auth-oauthlib<0.5,>=0.4.1 in /usr/local/lib/python3.7/dist-packages (from tensorboard->keras-tuner) (0.4.6)\n",
            "Requirement already satisfied: markdown>=2.6.8 in /usr/local/lib/python3.7/dist-packages (from tensorboard->keras-tuner) (3.3.6)\n",
            "Requirement already satisfied: werkzeug>=0.11.15 in /usr/local/lib/python3.7/dist-packages (from tensorboard->keras-tuner) (1.0.1)\n",
            "Requirement already satisfied: pyasn1-modules>=0.2.1 in /usr/local/lib/python3.7/dist-packages (from google-auth<3,>=1.6.3->tensorboard->keras-tuner) (0.2.8)\n",
            "Requirement already satisfied: cachetools<5.0,>=2.0.0 in /usr/local/lib/python3.7/dist-packages (from google-auth<3,>=1.6.3->tensorboard->keras-tuner) (4.2.4)\n",
            "Requirement already satisfied: rsa<5,>=3.1.4 in /usr/local/lib/python3.7/dist-packages (from google-auth<3,>=1.6.3->tensorboard->keras-tuner) (4.8)\n",
            "Requirement already satisfied: requests-oauthlib>=0.7.0 in /usr/local/lib/python3.7/dist-packages (from google-auth-oauthlib<0.5,>=0.4.1->tensorboard->keras-tuner) (1.3.1)\n",
            "Requirement already satisfied: importlib-metadata>=4.4 in /usr/local/lib/python3.7/dist-packages (from markdown>=2.6.8->tensorboard->keras-tuner) (4.11.0)\n",
            "Requirement already satisfied: typing-extensions>=3.6.4 in /usr/local/lib/python3.7/dist-packages (from importlib-metadata>=4.4->markdown>=2.6.8->tensorboard->keras-tuner) (3.10.0.2)\n",
            "Requirement already satisfied: zipp>=0.5 in /usr/local/lib/python3.7/dist-packages (from importlib-metadata>=4.4->markdown>=2.6.8->tensorboard->keras-tuner) (3.7.0)\n",
            "Requirement already satisfied: pyasn1<0.5.0,>=0.4.6 in /usr/local/lib/python3.7/dist-packages (from pyasn1-modules>=0.2.1->google-auth<3,>=1.6.3->tensorboard->keras-tuner) (0.4.8)\n",
            "Requirement already satisfied: oauthlib>=3.0.0 in /usr/local/lib/python3.7/dist-packages (from requests-oauthlib>=0.7.0->google-auth-oauthlib<0.5,>=0.4.1->tensorboard->keras-tuner) (3.2.0)\n",
            "Installing collected packages: kt-legacy, keras-tuner\n",
            "Successfully installed keras-tuner-1.1.0 kt-legacy-1.0.4\n"
          ]
        }
      ]
    },
    {
      "cell_type": "code",
      "execution_count": 3,
      "metadata": {
        "id": "WyDSncY3nVV5"
      },
      "outputs": [],
      "source": [
        "from google.colab import drive\n",
        "import os\n",
        "\n",
        "# keras\n",
        "from tensorflow.keras.models import load_model\n",
        "import tensorflow as tf\n",
        "import keras_tuner as kt\n",
        "\n",
        "# sklearn\n",
        "from sklearn.model_selection import train_test_split\n",
        "\n",
        "import sys\n",
        "import requests\n",
        "import zipfile\n",
        "import copy\n",
        "import shutil\n",
        "\n",
        "import pandas as pd\n",
        "import numpy as np\n",
        "import random\n",
        "import math\n",
        "\n",
        "from matplotlib import pyplot as plt"
      ]
    },
    {
      "cell_type": "code",
      "source": [
        "np.random.seed(123)\n",
        "random.seed(123)"
      ],
      "metadata": {
        "id": "hu975UwXNQaY"
      },
      "execution_count": 4,
      "outputs": []
    },
    {
      "cell_type": "code",
      "source": [
        "!git clone https://github.com/aviadar/RecSys_AutoRecProject proj"
      ],
      "metadata": {
        "colab": {
          "base_uri": "https://localhost:8080/"
        },
        "id": "65vPd8nctqIa",
        "outputId": "87d0d363-a501-408c-b837-20fa2517ee5c"
      },
      "execution_count": 5,
      "outputs": [
        {
          "output_type": "stream",
          "name": "stdout",
          "text": [
            "Cloning into 'proj'...\n",
            "remote: Enumerating objects: 95, done.\u001b[K\n",
            "remote: Counting objects: 100% (95/95), done.\u001b[K\n",
            "remote: Compressing objects: 100% (67/67), done.\u001b[K\n",
            "remote: Total 95 (delta 37), reused 69 (delta 18), pack-reused 0\u001b[K\n",
            "Unpacking objects: 100% (95/95), done.\n"
          ]
        }
      ]
    },
    {
      "cell_type": "code",
      "source": [
        "sys.path.insert(0,'/content/proj/src')\n",
        "\n",
        "from utilities.Metrics import Metrics\n",
        "from models.MF import MF\n",
        "from models.IAutoRec import IAutoRec\n",
        "from models.IAutoRecEnhanced import IAutoRecEnhanced"
      ],
      "metadata": {
        "id": "_SAITMrgxoIW"
      },
      "execution_count": 6,
      "outputs": []
    },
    {
      "cell_type": "markdown",
      "source": [
        "# MovieLens 1M Dataset"
      ],
      "metadata": {
        "id": "n0bJP2gG02Ai"
      }
    },
    {
      "cell_type": "markdown",
      "source": [
        "## Data Loading & Manipulation"
      ],
      "metadata": {
        "id": "a11Jdp710-pE"
      }
    },
    {
      "cell_type": "code",
      "source": [
        "url = 'http://files.grouplens.org/datasets/movielens/ml-1m.zip'\n",
        "zip_name = 'ml-1m.zip'\n",
        "data_dir = 'ml-1m/'\n",
        "\n",
        "r = requests.get(url, allow_redirects=True)\n",
        "open(zip_name, 'wb').write(r.content)\n",
        "\n",
        "with zipfile.ZipFile(zip_name,\"r\") as zip_ref:\n",
        "    zip_ref.extractall()"
      ],
      "metadata": {
        "id": "mgDyiBZE0Vxq"
      },
      "execution_count": 7,
      "outputs": []
    },
    {
      "cell_type": "code",
      "source": [
        "ratings_df = pd.read_csv('/content/ml-1m/ratings.dat', header=None, names=['user_id', 'item_id', 'rating', 'timestamp'], delimiter='::')\n",
        "ratings_df.head()"
      ],
      "metadata": {
        "colab": {
          "base_uri": "https://localhost:8080/",
          "height": 261
        },
        "id": "5eKF7PL80x3e",
        "outputId": "f59e61da-145a-4c92-fe93-3cc68316ac8b"
      },
      "execution_count": 8,
      "outputs": [
        {
          "output_type": "stream",
          "name": "stderr",
          "text": [
            "/usr/local/lib/python3.7/dist-packages/pandas/util/_decorators.py:311: ParserWarning: Falling back to the 'python' engine because the 'c' engine does not support regex separators (separators > 1 char and different from '\\s+' are interpreted as regex); you can avoid this warning by specifying engine='python'.\n",
            "  return func(*args, **kwargs)\n"
          ]
        },
        {
          "output_type": "execute_result",
          "data": {
            "text/html": [
              "\n",
              "  <div id=\"df-7978240e-07a3-4c17-99d3-d0a792a47c62\">\n",
              "    <div class=\"colab-df-container\">\n",
              "      <div>\n",
              "<style scoped>\n",
              "    .dataframe tbody tr th:only-of-type {\n",
              "        vertical-align: middle;\n",
              "    }\n",
              "\n",
              "    .dataframe tbody tr th {\n",
              "        vertical-align: top;\n",
              "    }\n",
              "\n",
              "    .dataframe thead th {\n",
              "        text-align: right;\n",
              "    }\n",
              "</style>\n",
              "<table border=\"1\" class=\"dataframe\">\n",
              "  <thead>\n",
              "    <tr style=\"text-align: right;\">\n",
              "      <th></th>\n",
              "      <th>user_id</th>\n",
              "      <th>item_id</th>\n",
              "      <th>rating</th>\n",
              "      <th>timestamp</th>\n",
              "    </tr>\n",
              "  </thead>\n",
              "  <tbody>\n",
              "    <tr>\n",
              "      <th>0</th>\n",
              "      <td>1</td>\n",
              "      <td>1193</td>\n",
              "      <td>5</td>\n",
              "      <td>978300760</td>\n",
              "    </tr>\n",
              "    <tr>\n",
              "      <th>1</th>\n",
              "      <td>1</td>\n",
              "      <td>661</td>\n",
              "      <td>3</td>\n",
              "      <td>978302109</td>\n",
              "    </tr>\n",
              "    <tr>\n",
              "      <th>2</th>\n",
              "      <td>1</td>\n",
              "      <td>914</td>\n",
              "      <td>3</td>\n",
              "      <td>978301968</td>\n",
              "    </tr>\n",
              "    <tr>\n",
              "      <th>3</th>\n",
              "      <td>1</td>\n",
              "      <td>3408</td>\n",
              "      <td>4</td>\n",
              "      <td>978300275</td>\n",
              "    </tr>\n",
              "    <tr>\n",
              "      <th>4</th>\n",
              "      <td>1</td>\n",
              "      <td>2355</td>\n",
              "      <td>5</td>\n",
              "      <td>978824291</td>\n",
              "    </tr>\n",
              "  </tbody>\n",
              "</table>\n",
              "</div>\n",
              "      <button class=\"colab-df-convert\" onclick=\"convertToInteractive('df-7978240e-07a3-4c17-99d3-d0a792a47c62')\"\n",
              "              title=\"Convert this dataframe to an interactive table.\"\n",
              "              style=\"display:none;\">\n",
              "        \n",
              "  <svg xmlns=\"http://www.w3.org/2000/svg\" height=\"24px\"viewBox=\"0 0 24 24\"\n",
              "       width=\"24px\">\n",
              "    <path d=\"M0 0h24v24H0V0z\" fill=\"none\"/>\n",
              "    <path d=\"M18.56 5.44l.94 2.06.94-2.06 2.06-.94-2.06-.94-.94-2.06-.94 2.06-2.06.94zm-11 1L8.5 8.5l.94-2.06 2.06-.94-2.06-.94L8.5 2.5l-.94 2.06-2.06.94zm10 10l.94 2.06.94-2.06 2.06-.94-2.06-.94-.94-2.06-.94 2.06-2.06.94z\"/><path d=\"M17.41 7.96l-1.37-1.37c-.4-.4-.92-.59-1.43-.59-.52 0-1.04.2-1.43.59L10.3 9.45l-7.72 7.72c-.78.78-.78 2.05 0 2.83L4 21.41c.39.39.9.59 1.41.59.51 0 1.02-.2 1.41-.59l7.78-7.78 2.81-2.81c.8-.78.8-2.07 0-2.86zM5.41 20L4 18.59l7.72-7.72 1.47 1.35L5.41 20z\"/>\n",
              "  </svg>\n",
              "      </button>\n",
              "      \n",
              "  <style>\n",
              "    .colab-df-container {\n",
              "      display:flex;\n",
              "      flex-wrap:wrap;\n",
              "      gap: 12px;\n",
              "    }\n",
              "\n",
              "    .colab-df-convert {\n",
              "      background-color: #E8F0FE;\n",
              "      border: none;\n",
              "      border-radius: 50%;\n",
              "      cursor: pointer;\n",
              "      display: none;\n",
              "      fill: #1967D2;\n",
              "      height: 32px;\n",
              "      padding: 0 0 0 0;\n",
              "      width: 32px;\n",
              "    }\n",
              "\n",
              "    .colab-df-convert:hover {\n",
              "      background-color: #E2EBFA;\n",
              "      box-shadow: 0px 1px 2px rgba(60, 64, 67, 0.3), 0px 1px 3px 1px rgba(60, 64, 67, 0.15);\n",
              "      fill: #174EA6;\n",
              "    }\n",
              "\n",
              "    [theme=dark] .colab-df-convert {\n",
              "      background-color: #3B4455;\n",
              "      fill: #D2E3FC;\n",
              "    }\n",
              "\n",
              "    [theme=dark] .colab-df-convert:hover {\n",
              "      background-color: #434B5C;\n",
              "      box-shadow: 0px 1px 3px 1px rgba(0, 0, 0, 0.15);\n",
              "      filter: drop-shadow(0px 1px 2px rgba(0, 0, 0, 0.3));\n",
              "      fill: #FFFFFF;\n",
              "    }\n",
              "  </style>\n",
              "\n",
              "      <script>\n",
              "        const buttonEl =\n",
              "          document.querySelector('#df-7978240e-07a3-4c17-99d3-d0a792a47c62 button.colab-df-convert');\n",
              "        buttonEl.style.display =\n",
              "          google.colab.kernel.accessAllowed ? 'block' : 'none';\n",
              "\n",
              "        async function convertToInteractive(key) {\n",
              "          const element = document.querySelector('#df-7978240e-07a3-4c17-99d3-d0a792a47c62');\n",
              "          const dataTable =\n",
              "            await google.colab.kernel.invokeFunction('convertToInteractive',\n",
              "                                                     [key], {});\n",
              "          if (!dataTable) return;\n",
              "\n",
              "          const docLinkHtml = 'Like what you see? Visit the ' +\n",
              "            '<a target=\"_blank\" href=https://colab.research.google.com/notebooks/data_table.ipynb>data table notebook</a>'\n",
              "            + ' to learn more about interactive tables.';\n",
              "          element.innerHTML = '';\n",
              "          dataTable['output_type'] = 'display_data';\n",
              "          await google.colab.output.renderOutput(dataTable, element);\n",
              "          const docLink = document.createElement('div');\n",
              "          docLink.innerHTML = docLinkHtml;\n",
              "          element.appendChild(docLink);\n",
              "        }\n",
              "      </script>\n",
              "    </div>\n",
              "  </div>\n",
              "  "
            ],
            "text/plain": [
              "   user_id  item_id  rating  timestamp\n",
              "0        1     1193       5  978300760\n",
              "1        1      661       3  978302109\n",
              "2        1      914       3  978301968\n",
              "3        1     3408       4  978300275\n",
              "4        1     2355       5  978824291"
            ]
          },
          "metadata": {},
          "execution_count": 8
        }
      ]
    },
    {
      "cell_type": "markdown",
      "source": [
        "we are not intrested in timestamps, so we can remove the column. <br>\n",
        "also, in order to keep embedding size as small as possible, we need to change the user and item ids."
      ],
      "metadata": {
        "id": "cKQsUvO77tNR"
      }
    },
    {
      "cell_type": "code",
      "source": [
        "ratings_df.drop(columns='timestamp', inplace=True)\n",
        "\n",
        "def user_id_trans(idx):\n",
        "    return idx-1\n",
        "\n",
        "item_id_trans_dict =  {k:v for k,v in zip(ratings_df.item_id.unique(),range(ratings_df.item_id.nunique()))}\n",
        "def item_id_trans(key_value):\n",
        "    return item_id_trans_dict[key_value]\n",
        "\n",
        "ratings_df.user_id = ratings_df.user_id.apply(user_id_trans)\n",
        "ratings_df.item_id = ratings_df.item_id.apply(item_id_trans)\n",
        "\n",
        "ratings_df.head()"
      ],
      "metadata": {
        "colab": {
          "base_uri": "https://localhost:8080/",
          "height": 206
        },
        "id": "K4vLMtG97eoY",
        "outputId": "da481abd-b43e-4ab8-bf88-115ec6dc8323"
      },
      "execution_count": 9,
      "outputs": [
        {
          "output_type": "execute_result",
          "data": {
            "text/html": [
              "\n",
              "  <div id=\"df-52b163e6-ce4c-426c-80a8-bcbc6d1a24f4\">\n",
              "    <div class=\"colab-df-container\">\n",
              "      <div>\n",
              "<style scoped>\n",
              "    .dataframe tbody tr th:only-of-type {\n",
              "        vertical-align: middle;\n",
              "    }\n",
              "\n",
              "    .dataframe tbody tr th {\n",
              "        vertical-align: top;\n",
              "    }\n",
              "\n",
              "    .dataframe thead th {\n",
              "        text-align: right;\n",
              "    }\n",
              "</style>\n",
              "<table border=\"1\" class=\"dataframe\">\n",
              "  <thead>\n",
              "    <tr style=\"text-align: right;\">\n",
              "      <th></th>\n",
              "      <th>user_id</th>\n",
              "      <th>item_id</th>\n",
              "      <th>rating</th>\n",
              "    </tr>\n",
              "  </thead>\n",
              "  <tbody>\n",
              "    <tr>\n",
              "      <th>0</th>\n",
              "      <td>0</td>\n",
              "      <td>0</td>\n",
              "      <td>5</td>\n",
              "    </tr>\n",
              "    <tr>\n",
              "      <th>1</th>\n",
              "      <td>0</td>\n",
              "      <td>1</td>\n",
              "      <td>3</td>\n",
              "    </tr>\n",
              "    <tr>\n",
              "      <th>2</th>\n",
              "      <td>0</td>\n",
              "      <td>2</td>\n",
              "      <td>3</td>\n",
              "    </tr>\n",
              "    <tr>\n",
              "      <th>3</th>\n",
              "      <td>0</td>\n",
              "      <td>3</td>\n",
              "      <td>4</td>\n",
              "    </tr>\n",
              "    <tr>\n",
              "      <th>4</th>\n",
              "      <td>0</td>\n",
              "      <td>4</td>\n",
              "      <td>5</td>\n",
              "    </tr>\n",
              "  </tbody>\n",
              "</table>\n",
              "</div>\n",
              "      <button class=\"colab-df-convert\" onclick=\"convertToInteractive('df-52b163e6-ce4c-426c-80a8-bcbc6d1a24f4')\"\n",
              "              title=\"Convert this dataframe to an interactive table.\"\n",
              "              style=\"display:none;\">\n",
              "        \n",
              "  <svg xmlns=\"http://www.w3.org/2000/svg\" height=\"24px\"viewBox=\"0 0 24 24\"\n",
              "       width=\"24px\">\n",
              "    <path d=\"M0 0h24v24H0V0z\" fill=\"none\"/>\n",
              "    <path d=\"M18.56 5.44l.94 2.06.94-2.06 2.06-.94-2.06-.94-.94-2.06-.94 2.06-2.06.94zm-11 1L8.5 8.5l.94-2.06 2.06-.94-2.06-.94L8.5 2.5l-.94 2.06-2.06.94zm10 10l.94 2.06.94-2.06 2.06-.94-2.06-.94-.94-2.06-.94 2.06-2.06.94z\"/><path d=\"M17.41 7.96l-1.37-1.37c-.4-.4-.92-.59-1.43-.59-.52 0-1.04.2-1.43.59L10.3 9.45l-7.72 7.72c-.78.78-.78 2.05 0 2.83L4 21.41c.39.39.9.59 1.41.59.51 0 1.02-.2 1.41-.59l7.78-7.78 2.81-2.81c.8-.78.8-2.07 0-2.86zM5.41 20L4 18.59l7.72-7.72 1.47 1.35L5.41 20z\"/>\n",
              "  </svg>\n",
              "      </button>\n",
              "      \n",
              "  <style>\n",
              "    .colab-df-container {\n",
              "      display:flex;\n",
              "      flex-wrap:wrap;\n",
              "      gap: 12px;\n",
              "    }\n",
              "\n",
              "    .colab-df-convert {\n",
              "      background-color: #E8F0FE;\n",
              "      border: none;\n",
              "      border-radius: 50%;\n",
              "      cursor: pointer;\n",
              "      display: none;\n",
              "      fill: #1967D2;\n",
              "      height: 32px;\n",
              "      padding: 0 0 0 0;\n",
              "      width: 32px;\n",
              "    }\n",
              "\n",
              "    .colab-df-convert:hover {\n",
              "      background-color: #E2EBFA;\n",
              "      box-shadow: 0px 1px 2px rgba(60, 64, 67, 0.3), 0px 1px 3px 1px rgba(60, 64, 67, 0.15);\n",
              "      fill: #174EA6;\n",
              "    }\n",
              "\n",
              "    [theme=dark] .colab-df-convert {\n",
              "      background-color: #3B4455;\n",
              "      fill: #D2E3FC;\n",
              "    }\n",
              "\n",
              "    [theme=dark] .colab-df-convert:hover {\n",
              "      background-color: #434B5C;\n",
              "      box-shadow: 0px 1px 3px 1px rgba(0, 0, 0, 0.15);\n",
              "      filter: drop-shadow(0px 1px 2px rgba(0, 0, 0, 0.3));\n",
              "      fill: #FFFFFF;\n",
              "    }\n",
              "  </style>\n",
              "\n",
              "      <script>\n",
              "        const buttonEl =\n",
              "          document.querySelector('#df-52b163e6-ce4c-426c-80a8-bcbc6d1a24f4 button.colab-df-convert');\n",
              "        buttonEl.style.display =\n",
              "          google.colab.kernel.accessAllowed ? 'block' : 'none';\n",
              "\n",
              "        async function convertToInteractive(key) {\n",
              "          const element = document.querySelector('#df-52b163e6-ce4c-426c-80a8-bcbc6d1a24f4');\n",
              "          const dataTable =\n",
              "            await google.colab.kernel.invokeFunction('convertToInteractive',\n",
              "                                                     [key], {});\n",
              "          if (!dataTable) return;\n",
              "\n",
              "          const docLinkHtml = 'Like what you see? Visit the ' +\n",
              "            '<a target=\"_blank\" href=https://colab.research.google.com/notebooks/data_table.ipynb>data table notebook</a>'\n",
              "            + ' to learn more about interactive tables.';\n",
              "          element.innerHTML = '';\n",
              "          dataTable['output_type'] = 'display_data';\n",
              "          await google.colab.output.renderOutput(dataTable, element);\n",
              "          const docLink = document.createElement('div');\n",
              "          docLink.innerHTML = docLinkHtml;\n",
              "          element.appendChild(docLink);\n",
              "        }\n",
              "      </script>\n",
              "    </div>\n",
              "  </div>\n",
              "  "
            ],
            "text/plain": [
              "   user_id  item_id  rating\n",
              "0        0        0       5\n",
              "1        0        1       3\n",
              "2        0        2       3\n",
              "3        0        3       4\n",
              "4        0        4       5"
            ]
          },
          "metadata": {},
          "execution_count": 9
        }
      ]
    },
    {
      "cell_type": "code",
      "source": [
        "ml_users_num, ml_items_num = ratings_df.user_id.nunique(), ratings_df.item_id.nunique()\n",
        "ml_users_num, ml_items_num"
      ],
      "metadata": {
        "colab": {
          "base_uri": "https://localhost:8080/"
        },
        "id": "TUu4BApbxVkI",
        "outputId": "1f8902cd-86f4-47d6-e52f-45acf30c050d"
      },
      "execution_count": 10,
      "outputs": [
        {
          "output_type": "execute_result",
          "data": {
            "text/plain": [
              "(6040, 3706)"
            ]
          },
          "metadata": {},
          "execution_count": 10
        }
      ]
    },
    {
      "cell_type": "markdown",
      "source": [
        "## Train\\Test Split"
      ],
      "metadata": {
        "id": "YrJDgoW11ITS"
      }
    },
    {
      "cell_type": "markdown",
      "source": [
        "splitting the data into train, validation and test:"
      ],
      "metadata": {
        "id": "-gIHmW1qGK6_"
      }
    },
    {
      "cell_type": "code",
      "source": [
        "train, test = train_test_split(ratings_df, test_size=0.1, random_state=999613182)\n",
        "train.user_id.nunique(), train.item_id.nunique()\n",
        "\n",
        "def create_full_mat(df):\n",
        "    full_mat = np.zeros((ml_users_num, ml_items_num))\n",
        "    for user, item, rating in zip(df.user_id, df.item_id, df.rating):\n",
        "        full_mat[user, item] = rating\n",
        "    return full_mat\n",
        "\n",
        "full_train_mat = create_full_mat(train)\n",
        "full_test_mat = create_full_mat(test)"
      ],
      "metadata": {
        "id": "boo_V2j7GQuR"
      },
      "execution_count": 11,
      "outputs": []
    },
    {
      "cell_type": "code",
      "source": [
        "def df_to_mat(df):\n",
        "    full_mat = np.zeros((df.user_id.max()+1, df.item_id.max()+1))\n",
        "    for user, item, rating in zip(df.user_id, df.item_id, df.rating):\n",
        "        full_mat[user, item] = rating\n",
        "    return full_mat"
      ],
      "metadata": {
        "id": "UmoVSGibAXrT"
      },
      "execution_count": 12,
      "outputs": []
    },
    {
      "cell_type": "markdown",
      "source": [
        "## Matrix Factorization"
      ],
      "metadata": {
        "id": "FU2yfxc-1OaR"
      }
    },
    {
      "cell_type": "markdown",
      "source": [
        "### Hyperparameter Tuning"
      ],
      "metadata": {
        "id": "cV4swqNL1cbR"
      }
    },
    {
      "cell_type": "markdown",
      "source": [
        "creating and fitting the model:"
      ],
      "metadata": {
        "id": "Xgvmv2jXRO2u"
      }
    },
    {
      "cell_type": "code",
      "source": [
        "mf = MF(users_num=ratings_df.user_id.max()+1, items_num=ratings_df.item_id.max()+1)"
      ],
      "metadata": {
        "id": "ytvDSyEMIrRU"
      },
      "execution_count": 13,
      "outputs": []
    },
    {
      "cell_type": "code",
      "source": [
        "tuner = kt.Hyperband(mf.model_builder,\n",
        "                     objective='val_loss',\n",
        "                     max_epochs=10,\n",
        "                     factor=3,\n",
        "                     directory='hyper_params',\n",
        "                     project_name='mf_ml')"
      ],
      "metadata": {
        "colab": {
          "base_uri": "https://localhost:8080/"
        },
        "id": "iqbbZ6Uyp8vO",
        "outputId": "b8761b7b-8ebf-4642-e0b3-008cb8f3fe43"
      },
      "execution_count": 14,
      "outputs": [
        {
          "output_type": "stream",
          "name": "stdout",
          "text": [
            "Model: \"model\"\n",
            "__________________________________________________________________________________________________\n",
            " Layer (type)                   Output Shape         Param #     Connected to                     \n",
            "==================================================================================================\n",
            " user_input (InputLayer)        [(None, 1)]          0           []                               \n",
            "                                                                                                  \n",
            " item_input (InputLayer)        [(None, 1)]          0           []                               \n",
            "                                                                                                  \n",
            " user_embedding (Embedding)     (None, 1, 10)        60400       ['user_input[0][0]']             \n",
            "                                                                                                  \n",
            " item_embedding (Embedding)     (None, 1, 10)        37060       ['item_input[0][0]']             \n",
            "                                                                                                  \n",
            " flatten (Flatten)              (None, 10)           0           ['user_embedding[0][0]']         \n",
            "                                                                                                  \n",
            " flatten_1 (Flatten)            (None, 10)           0           ['item_embedding[0][0]']         \n",
            "                                                                                                  \n",
            " dot (Dot)                      (None, 1)            0           ['flatten[0][0]',                \n",
            "                                                                  'flatten_1[0][0]']              \n",
            "                                                                                                  \n",
            "==================================================================================================\n",
            "Total params: 97,460\n",
            "Trainable params: 97,460\n",
            "Non-trainable params: 0\n",
            "__________________________________________________________________________________________________\n"
          ]
        }
      ]
    },
    {
      "cell_type": "code",
      "source": [
        "stop_early = tf.keras.callbacks.EarlyStopping(monitor='val_loss', patience=5)\n",
        "tuner.search([np.array(train.user_id), np.array(train.item_id)], np.array(train.rating), \n",
        "             epochs=10, validation_split=0.2, callbacks=[stop_early], batch_size=512)\n",
        "# Get the optimal hyperparameters\n",
        "best_hps=tuner.get_best_hyperparameters(num_trials=1)[0]"
      ],
      "metadata": {
        "colab": {
          "base_uri": "https://localhost:8080/"
        },
        "id": "gRgK4SiFqOZT",
        "outputId": "c0f6b419-649e-47e1-b06a-7c795bfeca9d"
      },
      "execution_count": 15,
      "outputs": [
        {
          "output_type": "stream",
          "name": "stdout",
          "text": [
            "Trial 8 Complete [00h 00m 09s]\n",
            "val_loss: 0.8693419694900513\n",
            "\n",
            "Best val_loss So Far: 0.8693419694900513\n",
            "Total elapsed time: 00h 01m 22s\n",
            "INFO:tensorflow:Oracle triggered exit\n"
          ]
        }
      ]
    },
    {
      "cell_type": "code",
      "source": [
        "best_hps.get('latent_dim'), best_hps.get('learning_rate')"
      ],
      "metadata": {
        "colab": {
          "base_uri": "https://localhost:8080/"
        },
        "id": "wioPaEO4uvfS",
        "outputId": "0d3c2933-0738-400b-f58a-ecfd8949f3cf"
      },
      "execution_count": 16,
      "outputs": [
        {
          "output_type": "execute_result",
          "data": {
            "text/plain": [
              "(40, 0.001)"
            ]
          },
          "metadata": {},
          "execution_count": 16
        }
      ]
    },
    {
      "cell_type": "markdown",
      "source": [
        "### Retraining"
      ],
      "metadata": {
        "id": "Hb0B6hqQ1h8h"
      }
    },
    {
      "cell_type": "code",
      "source": [
        "mf_opt = MF(users_num=ratings_df.user_id.max()+1, items_num=ratings_df.item_id.max()+1, latent_dim=best_hps.get('latent_dim'), learning_rate=best_hps.get('learning_rate'))\n",
        "mf_opt.build_opt_model()"
      ],
      "metadata": {
        "colab": {
          "base_uri": "https://localhost:8080/"
        },
        "id": "u3VynXcTHf62",
        "outputId": "b6a15c63-1844-43c8-e21b-51f971a330a7"
      },
      "execution_count": 17,
      "outputs": [
        {
          "output_type": "stream",
          "name": "stdout",
          "text": [
            "Model: \"model_1\"\n",
            "__________________________________________________________________________________________________\n",
            " Layer (type)                   Output Shape         Param #     Connected to                     \n",
            "==================================================================================================\n",
            " user_input (InputLayer)        [(None, 1)]          0           []                               \n",
            "                                                                                                  \n",
            " item_input (InputLayer)        [(None, 1)]          0           []                               \n",
            "                                                                                                  \n",
            " user_embedding (Embedding)     (None, 1, 40)        241600      ['user_input[0][0]']             \n",
            "                                                                                                  \n",
            " item_embedding (Embedding)     (None, 1, 40)        148240      ['item_input[0][0]']             \n",
            "                                                                                                  \n",
            " flatten_2 (Flatten)            (None, 40)           0           ['user_embedding[0][0]']         \n",
            "                                                                                                  \n",
            " flatten_3 (Flatten)            (None, 40)           0           ['item_embedding[0][0]']         \n",
            "                                                                                                  \n",
            " dot_1 (Dot)                    (None, 1)            0           ['flatten_2[0][0]',              \n",
            "                                                                  'flatten_3[0][0]']              \n",
            "                                                                                                  \n",
            "==================================================================================================\n",
            "Total params: 389,840\n",
            "Trainable params: 389,840\n",
            "Non-trainable params: 0\n",
            "__________________________________________________________________________________________________\n"
          ]
        }
      ]
    },
    {
      "cell_type": "code",
      "source": [
        "mf_opt.fit(train.user_id, train.item_id, labels=train.rating)"
      ],
      "metadata": {
        "id": "iNR43DFMXmXJ",
        "colab": {
          "base_uri": "https://localhost:8080/"
        },
        "outputId": "9b6f1731-b904-4ad9-8b66-42c07e868c27"
      },
      "execution_count": 18,
      "outputs": [
        {
          "output_type": "stream",
          "name": "stdout",
          "text": [
            "Epoch 1/100\n",
            "1583/1583 [==============================] - 5s 3ms/step - loss: 6.1894 - val_loss: 1.0871\n",
            "Epoch 2/100\n",
            "1583/1583 [==============================] - 5s 3ms/step - loss: 0.9233 - val_loss: 0.8619\n",
            "Epoch 3/100\n",
            "1583/1583 [==============================] - 5s 3ms/step - loss: 0.8352 - val_loss: 0.8257\n",
            "Epoch 4/100\n",
            "1583/1583 [==============================] - 5s 3ms/step - loss: 0.7966 - val_loss: 0.7991\n",
            "Epoch 5/100\n",
            "1583/1583 [==============================] - 4s 3ms/step - loss: 0.7627 - val_loss: 0.7798\n",
            "Epoch 6/100\n",
            "1583/1583 [==============================] - 5s 3ms/step - loss: 0.7359 - val_loss: 0.7659\n",
            "Epoch 7/100\n",
            "1583/1583 [==============================] - 5s 3ms/step - loss: 0.7133 - val_loss: 0.7569\n",
            "Epoch 8/100\n",
            "1583/1583 [==============================] - 5s 3ms/step - loss: 0.6930 - val_loss: 0.7515\n",
            "Epoch 9/100\n",
            "1583/1583 [==============================] - 5s 3ms/step - loss: 0.6731 - val_loss: 0.7496\n",
            "Epoch 10/100\n",
            "1583/1583 [==============================] - 5s 3ms/step - loss: 0.6517 - val_loss: 0.7435\n",
            "Epoch 11/100\n",
            "1583/1583 [==============================] - 5s 3ms/step - loss: 0.6289 - val_loss: 0.7423\n",
            "Epoch 12/100\n",
            "1583/1583 [==============================] - 5s 3ms/step - loss: 0.6048 - val_loss: 0.7414\n",
            "Epoch 13/100\n",
            "1583/1583 [==============================] - 4s 3ms/step - loss: 0.5801 - val_loss: 0.7444\n",
            "Epoch 14/100\n",
            "1583/1583 [==============================] - 5s 3ms/step - loss: 0.5561 - val_loss: 0.7487\n",
            "Epoch 15/100\n",
            "1583/1583 [==============================] - 5s 3ms/step - loss: 0.5330 - val_loss: 0.7559\n",
            "Epoch 16/100\n",
            "1583/1583 [==============================] - 5s 3ms/step - loss: 0.5119 - val_loss: 0.7659\n",
            "Epoch 17/100\n",
            "1583/1583 [==============================] - 4s 3ms/step - loss: 0.4927 - val_loss: 0.7773\n",
            "Epoch 17: early stopping\n"
          ]
        }
      ]
    },
    {
      "cell_type": "code",
      "source": [
        "# plot training history\n",
        "plt.plot(mf_opt.hist.history['loss'], label='train')\n",
        "plt.plot(mf_opt.hist.history['val_loss'], label='validation')\n",
        "plt.xlabel('iteration')\n",
        "plt.ylabel('loss')\n",
        "plt.legend()\n",
        "plt.show()"
      ],
      "metadata": {
        "colab": {
          "base_uri": "https://localhost:8080/",
          "height": 279
        },
        "id": "q2pW_l7WNIvh",
        "outputId": "17c55c2b-fb60-457c-d417-b5dd15c07be0"
      },
      "execution_count": 19,
      "outputs": [
        {
          "output_type": "display_data",
          "data": {
            "image/png": "[encoded data removed]",
            "text/plain": [
              "<Figure size 432x288 with 1 Axes>"
            ]
          },
          "metadata": {
            "needs_background": "light"
          }
        }
      ]
    },
    {
      "cell_type": "code",
      "source": [
        "mf_opt.model = load_model('best_mf_model.h5')"
      ],
      "metadata": {
        "id": "kBTFhL88WkcU"
      },
      "execution_count": 20,
      "outputs": []
    },
    {
      "cell_type": "code",
      "source": [
        "shutil.rmtree('/content/hyper_params')"
      ],
      "metadata": {
        "id": "Rz6fvc-73qPR"
      },
      "execution_count": 21,
      "outputs": []
    },
    {
      "cell_type": "markdown",
      "source": [
        "### Prediction"
      ],
      "metadata": {
        "id": "KeVoq0_I1nBM"
      }
    },
    {
      "cell_type": "markdown",
      "source": [
        "test prediction:"
      ],
      "metadata": {
        "id": "kOr-Y-OYRU_k"
      }
    },
    {
      "cell_type": "code",
      "source": [
        "mf_opt.predict(test.user_id, test.item_id)"
      ],
      "metadata": {
        "colab": {
          "base_uri": "https://localhost:8080/"
        },
        "id": "fnMRiZSePy_d",
        "outputId": "55671f52-efc6-4c3a-9f0a-725f9252f36a"
      },
      "execution_count": 22,
      "outputs": [
        {
          "output_type": "stream",
          "name": "stdout",
          "text": [
            "13/13 [==============================] - 0s 2ms/step\n"
          ]
        }
      ]
    },
    {
      "cell_type": "markdown",
      "source": [
        "### Evaluation"
      ],
      "metadata": {
        "id": "nRoDikHB1tpB"
      }
    },
    {
      "cell_type": "code",
      "source": [
        "pred_df = test.copy()\n",
        "pred_df.rating = mf_opt.predictions.reshape(-1)\n",
        "pred_mat = df_to_mat(pred_df)\n",
        "test_mat = df_to_mat(test)"
      ],
      "metadata": {
        "id": "68PeYV_0_N2G"
      },
      "execution_count": 23,
      "outputs": []
    },
    {
      "cell_type": "code",
      "source": [
        "mf_opt_eval = Metrics.get_evaluation(test_mat, pred_mat)\n",
        "mf_opt_eval"
      ],
      "metadata": {
        "colab": {
          "base_uri": "https://localhost:8080/"
        },
        "id": "MwiJBjtFAAom",
        "outputId": "d8c4bb3b-e111-478e-e78f-2967cf5f87fd"
      },
      "execution_count": 24,
      "outputs": [
        {
          "output_type": "execute_result",
          "data": {
            "text/plain": [
              "{'MRR_10': 0.9766101505231939,\n",
              " 'MRR_5': 0.9766101505231939,\n",
              " 'NDCG_10': 0.966650743618824,\n",
              " 'NDCG_100': 0.9724039288493531,\n",
              " 'NDCG_5': 0.9712572485502546,\n",
              " 'RMSE': 0.8584196574561841}"
            ]
          },
          "metadata": {},
          "execution_count": 24
        }
      ]
    },
    {
      "cell_type": "code",
      "source": [
        "mf_opt_eval_df = pd.DataFrame(mf_opt_eval, index=[0])\n",
        "mf_opt_eval_df.plot(kind='bar')\n",
        "plt.title('MF movielens-1m')\n",
        "plt.xlabel('metrics')\n",
        "plt.ylabel('values')"
      ],
      "metadata": {
        "colab": {
          "base_uri": "https://localhost:8080/",
          "height": 309
        },
        "id": "1fW5pHSM3aG_",
        "outputId": "3df2fa39-8536-49ab-a6f7-025cf3000974"
      },
      "execution_count": 25,
      "outputs": [
        {
          "output_type": "execute_result",
          "data": {
            "text/plain": [
              "Text(0, 0.5, 'values')"
            ]
          },
          "metadata": {},
          "execution_count": 25
        },
        {
          "output_type": "display_data",
          "data": {
            "image/png": "[encoded data removed]",
            "text/plain": [
              "<Figure size 432x288 with 1 Axes>"
            ]
          },
          "metadata": {
            "needs_background": "light"
          }
        }
      ]
    },
    {
      "cell_type": "markdown",
      "source": [
        "Note that we approximately reached the RMSE described in the paper (0.86 vs. 0.845). Furthermore our implementation uses regular MF where as the paper comparison is Biased-MF based."
      ],
      "metadata": {
        "id": "2Fj3uMBY_OtY"
      }
    },
    {
      "cell_type": "markdown",
      "source": [
        "## AutoRec"
      ],
      "metadata": {
        "id": "bFghzpAklfwP"
      }
    },
    {
      "cell_type": "markdown",
      "source": [
        "### Data Manipulation"
      ],
      "metadata": {
        "id": "8NmLxd3n605G"
      }
    },
    {
      "cell_type": "code",
      "source": [
        "def dataPreprocessor(rating_df):\n",
        "    # train_df, test_df = train_test_split(rating_df, test_size=0.1, random_state=42)\n",
        "    train_df, test_df = train_test_split(rating_df, test_size=0.1, random_state=999613182)\n",
        "    train_mat = np.zeros((rating_df.user_id.nunique(), rating_df.item_id.nunique()))\n",
        "    for (user_id, item_id, rating) in zip(train_df.user_id, train_df.item_id, train_df.rating):\n",
        "        train_mat[user_id, item_id] = rating\n",
        "\n",
        "    ## tmp ##\n",
        "    # train_mat_avg = copy.copy(train_mat)\n",
        "    # avg = np.true_divide(train_mat_avg.sum(1), np.maximum((train_mat_avg!=0).sum(1), 1))\n",
        "    # inds = np.where(train_mat_avg == 0)\n",
        "    # train_mat_avg[inds] = np.take(avg, inds[0])\n",
        "\n",
        "    test_mat = np.zeros((rating_df.user_id.nunique(), rating_df.item_id.nunique()))\n",
        "    for (user_id, item_id, rating) in zip(test_df.user_id, test_df.item_id, test_df.rating):\n",
        "        test_mat[user_id, item_id] = rating\n",
        "    \n",
        "    return train_mat, test_mat #, train_mat_avg"
      ],
      "metadata": {
        "id": "UA5_HEjXv9gv"
      },
      "execution_count": 26,
      "outputs": []
    },
    {
      "cell_type": "markdown",
      "source": [
        "### Hyperparameters Tuning"
      ],
      "metadata": {
        "id": "XFClzJaQ6_KD"
      }
    },
    {
      "cell_type": "code",
      "source": [
        "train_mat, test_mat = dataPreprocessor(ratings_df)\n",
        "autorec = IAutoRec(train_mat.shape[1])\n",
        "tuner = kt.Hyperband(autorec.model_builder,\n",
        "                    #  objective='val_loss',\n",
        "                     objective='loss',\n",
        "                     max_epochs=500,\n",
        "                     directory='hyper_params',\n",
        "                     project_name='autorec_ml')\n"
      ],
      "metadata": {
        "id": "2Z6JBAvrn7y3",
        "colab": {
          "base_uri": "https://localhost:8080/"
        },
        "outputId": "2d3a2b15-7d86-4188-cb5e-b6ba6bb38471"
      },
      "execution_count": 27,
      "outputs": [
        {
          "output_type": "stream",
          "name": "stdout",
          "text": [
            "Model: \"model_2\"\n",
            "_________________________________________________________________\n",
            " Layer (type)                Output Shape              Param #   \n",
            "=================================================================\n",
            " item_rating (InputLayer)    [(None, 3706)]            0         \n",
            "                                                                 \n",
            " latent_dim (Dense)          (None, 200)               741400    \n",
            "                                                                 \n",
            " item_pred_rating (Dense)    (None, 3706)              744906    \n",
            "                                                                 \n",
            "=================================================================\n",
            "Total params: 1,486,306\n",
            "Trainable params: 1,486,306\n",
            "Non-trainable params: 0\n",
            "_________________________________________________________________\n"
          ]
        }
      ]
    },
    {
      "cell_type": "code",
      "source": [
        "stop_early = tf.keras.callbacks.EarlyStopping(monitor='val_loss', patience=10)\n",
        "# stop_early = tf.keras.callbacks.EarlyStopping(monitor='loss', patience=5)\n",
        "tuner.search(train_mat, train_mat,\n",
        "             epochs=500, validation_split=0.1, callbacks=[stop_early], batch_size=512)\n",
        "# Get the optimal hyperparameters\n",
        "best_hps=tuner.get_best_hyperparameters(num_trials=1)[0]"
      ],
      "metadata": {
        "colab": {
          "base_uri": "https://localhost:8080/"
        },
        "id": "tvb6g75_WV4E",
        "outputId": "f7cd0e9e-fa9a-4eea-d24a-658f535d0516"
      },
      "execution_count": 28,
      "outputs": [
        {
          "output_type": "stream",
          "name": "stdout",
          "text": [
            "Trial 52 Complete [00h 00m 01s]\n",
            "loss: 4.630285739898682\n",
            "\n",
            "Best loss So Far: 1.1704922914505005\n",
            "Total elapsed time: 00h 01m 36s\n",
            "INFO:tensorflow:Oracle triggered exit\n"
          ]
        }
      ]
    },
    {
      "cell_type": "code",
      "source": [
        "best_hps.get('hidden_units'), best_hps.get('first_activation'), best_hps.get('last_activation') ,best_hps.get('reg'), best_hps.get('learning_rate')"
      ],
      "metadata": {
        "colab": {
          "base_uri": "https://localhost:8080/"
        },
        "id": "wAkohy7wfGBf",
        "outputId": "a4ef8ff6-021f-49ed-bb08-18718b9ef4a6"
      },
      "execution_count": 29,
      "outputs": [
        {
          "output_type": "execute_result",
          "data": {
            "text/plain": [
              "(400, 'sigmoid', 'elu', 0.0001, 0.001)"
            ]
          },
          "metadata": {},
          "execution_count": 29
        }
      ]
    },
    {
      "cell_type": "markdown",
      "source": [
        "### Retraining"
      ],
      "metadata": {
        "id": "SSGXrccy88Qh"
      }
    },
    {
      "cell_type": "code",
      "source": [
        "autorec_opt = IAutoRec(train_mat.shape[1],hidden_units=best_hps.get('hidden_units'), reg=best_hps.get('reg'), \n",
        "                       learning_rate=best_hps.get('learning_rate'), first_activation=best_hps.get('first_activation'),\n",
        "                       last_activation=best_hps.get('last_activation'))\n",
        "autorec_opt.build_opt_model()\n",
        "autorec_opt.fit(train_mat, train_mat)"
      ],
      "metadata": {
        "colab": {
          "base_uri": "https://localhost:8080/"
        },
        "id": "fCYAMnTAWBa4",
        "outputId": "63cc1e41-afd6-4e3f-dedc-b28db371649b"
      },
      "execution_count": 30,
      "outputs": [
        {
          "output_type": "stream",
          "name": "stdout",
          "text": [
            "Model: \"model_1\"\n",
            "_________________________________________________________________\n",
            " Layer (type)                Output Shape              Param #   \n",
            "=================================================================\n",
            " item_rating (InputLayer)    [(None, 3706)]            0         \n",
            "                                                                 \n",
            " latent_dim (Dense)          (None, 400)               1482800   \n",
            "                                                                 \n",
            " item_pred_rating (Dense)    (None, 3706)              1486106   \n",
            "                                                                 \n",
            "=================================================================\n",
            "Total params: 2,968,906\n",
            "Trainable params: 2,968,906\n",
            "Non-trainable params: 0\n",
            "_________________________________________________________________\n",
            "Epoch 1/500\n",
            "22/22 - 1s - loss: 1.9747 - val_loss: 1.2280 - 703ms/epoch - 32ms/step\n",
            "Epoch 2/500\n",
            "22/22 - 0s - loss: 1.1569 - val_loss: 1.1324 - 218ms/epoch - 10ms/step\n",
            "Epoch 3/500\n",
            "22/22 - 0s - loss: 1.1010 - val_loss: 1.1030 - 209ms/epoch - 9ms/step\n",
            "Epoch 4/500\n",
            "22/22 - 0s - loss: 1.0808 - val_loss: 1.0871 - 212ms/epoch - 10ms/step\n",
            "Epoch 5/500\n",
            "22/22 - 1s - loss: 1.0683 - val_loss: 1.0755 - 1s/epoch - 50ms/step\n",
            "Epoch 6/500\n",
            "22/22 - 0s - loss: 1.0574 - val_loss: 1.0668 - 211ms/epoch - 10ms/step\n",
            "Epoch 7/500\n",
            "22/22 - 0s - loss: 1.0491 - val_loss: 1.0592 - 207ms/epoch - 9ms/step\n",
            "Epoch 8/500\n",
            "22/22 - 0s - loss: 1.0387 - val_loss: 1.0500 - 210ms/epoch - 10ms/step\n",
            "Epoch 9/500\n",
            "22/22 - 0s - loss: 1.0295 - val_loss: 1.0452 - 209ms/epoch - 10ms/step\n",
            "Epoch 10/500\n",
            "22/22 - 0s - loss: 1.0242 - val_loss: 1.0420 - 209ms/epoch - 10ms/step\n",
            "Epoch 11/500\n",
            "22/22 - 0s - loss: 1.0168 - val_loss: 1.0361 - 227ms/epoch - 10ms/step\n",
            "Epoch 12/500\n",
            "22/22 - 0s - loss: 1.0101 - val_loss: 1.0314 - 227ms/epoch - 10ms/step\n",
            "Epoch 13/500\n",
            "22/22 - 0s - loss: 1.0040 - val_loss: 1.0308 - 225ms/epoch - 10ms/step\n",
            "Epoch 14/500\n",
            "22/22 - 0s - loss: 0.9997 - val_loss: 1.0273 - 232ms/epoch - 11ms/step\n",
            "Epoch 15/500\n",
            "22/22 - 0s - loss: 0.9938 - val_loss: 1.0255 - 213ms/epoch - 10ms/step\n",
            "Epoch 16/500\n",
            "22/22 - 0s - loss: 0.9877 - val_loss: 1.0255 - 143ms/epoch - 7ms/step\n",
            "Epoch 17/500\n",
            "22/22 - 0s - loss: 0.9851 - val_loss: 1.0249 - 192ms/epoch - 9ms/step\n",
            "Epoch 18/500\n",
            "22/22 - 0s - loss: 0.9797 - val_loss: 1.0238 - 201ms/epoch - 9ms/step\n",
            "Epoch 19/500\n",
            "22/22 - 0s - loss: 0.9747 - val_loss: 1.0254 - 132ms/epoch - 6ms/step\n",
            "Epoch 20/500\n",
            "22/22 - 0s - loss: 0.9704 - val_loss: 1.0256 - 133ms/epoch - 6ms/step\n",
            "Epoch 21/500\n",
            "22/22 - 0s - loss: 0.9668 - val_loss: 1.0236 - 202ms/epoch - 9ms/step\n",
            "Epoch 22/500\n",
            "22/22 - 0s - loss: 0.9634 - val_loss: 1.0249 - 127ms/epoch - 6ms/step\n",
            "Epoch 23/500\n",
            "22/22 - 0s - loss: 0.9591 - val_loss: 1.0261 - 127ms/epoch - 6ms/step\n",
            "Epoch 24/500\n",
            "22/22 - 0s - loss: 0.9555 - val_loss: 1.0249 - 135ms/epoch - 6ms/step\n",
            "Epoch 25/500\n",
            "22/22 - 0s - loss: 0.9529 - val_loss: 1.0235 - 190ms/epoch - 9ms/step\n",
            "Epoch 26/500\n",
            "22/22 - 0s - loss: 0.9489 - val_loss: 1.0249 - 130ms/epoch - 6ms/step\n",
            "Epoch 27/500\n",
            "22/22 - 0s - loss: 0.9464 - val_loss: 1.0235 - 124ms/epoch - 6ms/step\n",
            "Epoch 28/500\n",
            "22/22 - 0s - loss: 0.9418 - val_loss: 1.0265 - 131ms/epoch - 6ms/step\n",
            "Epoch 29/500\n",
            "22/22 - 0s - loss: 0.9378 - val_loss: 1.0227 - 200ms/epoch - 9ms/step\n",
            "Epoch 30/500\n",
            "22/22 - 0s - loss: 0.9363 - val_loss: 1.0247 - 130ms/epoch - 6ms/step\n",
            "Epoch 31/500\n",
            "22/22 - 0s - loss: 0.9340 - val_loss: 1.0237 - 127ms/epoch - 6ms/step\n",
            "Epoch 32/500\n",
            "22/22 - 0s - loss: 0.9320 - val_loss: 1.0254 - 133ms/epoch - 6ms/step\n",
            "Epoch 33/500\n",
            "22/22 - 0s - loss: 0.9278 - val_loss: 1.0257 - 124ms/epoch - 6ms/step\n",
            "Epoch 34/500\n",
            "22/22 - 0s - loss: 0.9250 - val_loss: 1.0221 - 192ms/epoch - 9ms/step\n",
            "Epoch 35/500\n",
            "22/22 - 0s - loss: 0.9221 - val_loss: 1.0255 - 135ms/epoch - 6ms/step\n",
            "Epoch 36/500\n",
            "22/22 - 0s - loss: 0.9194 - val_loss: 1.0251 - 135ms/epoch - 6ms/step\n",
            "Epoch 37/500\n",
            "22/22 - 0s - loss: 0.9170 - val_loss: 1.0251 - 132ms/epoch - 6ms/step\n",
            "Epoch 38/500\n",
            "22/22 - 0s - loss: 0.9128 - val_loss: 1.0248 - 136ms/epoch - 6ms/step\n",
            "Epoch 39/500\n",
            "22/22 - 0s - loss: 0.9115 - val_loss: 1.0296 - 131ms/epoch - 6ms/step\n",
            "Epoch 39: early stopping\n"
          ]
        }
      ]
    },
    {
      "cell_type": "code",
      "source": [
        "# plot training history\n",
        "plt.plot(autorec_opt.hist.history['loss'], label='train')\n",
        "plt.plot(autorec_opt.hist.history['val_loss'], label='validation')\n",
        "plt.xlabel('iteration')\n",
        "plt.ylabel('loss')\n",
        "plt.legend()"
      ],
      "metadata": {
        "colab": {
          "base_uri": "https://localhost:8080/",
          "height": 297
        },
        "id": "TBEEYzdtvX-3",
        "outputId": "6a62e064-c136-454f-9d6e-f91e93fc35b1"
      },
      "execution_count": 31,
      "outputs": [
        {
          "output_type": "execute_result",
          "data": {
            "text/plain": [
              "<matplotlib.legend.Legend at 0x7f8800b84210>"
            ]
          },
          "metadata": {},
          "execution_count": 31
        },
        {
          "output_type": "display_data",
          "data": {
            "image/png": "[encoded data removed]",
            "text/plain": [
              "<Figure size 432x288 with 1 Axes>"
            ]
          },
          "metadata": {
            "needs_background": "light"
          }
        }
      ]
    },
    {
      "cell_type": "code",
      "source": [
        "autorec_opt.model = load_model('best_autorec_model.h5', custom_objects={'masked_rmse': IAutoRec.masked_rmse})\n"
      ],
      "metadata": {
        "id": "dQgp5j3cXDcW"
      },
      "execution_count": 32,
      "outputs": []
    },
    {
      "cell_type": "code",
      "source": [
        "shutil.rmtree('/content/hyper_params')"
      ],
      "metadata": {
        "id": "0DBm25bc4Bsx"
      },
      "execution_count": 33,
      "outputs": []
    },
    {
      "cell_type": "markdown",
      "source": [
        "### Prediction"
      ],
      "metadata": {
        "id": "huAA7BL89AfL"
      }
    },
    {
      "cell_type": "code",
      "source": [
        "# autorec.predict(np.zeros(test_mat.shape))\n",
        "autorec_opt.predict(test_mat)"
      ],
      "metadata": {
        "colab": {
          "base_uri": "https://localhost:8080/"
        },
        "id": "3tS3C2fJuakq",
        "outputId": "646431a7-0f8a-4fad-87ad-392ad9b82f14"
      },
      "execution_count": 34,
      "outputs": [
        {
          "output_type": "stream",
          "name": "stdout",
          "text": [
            "12/12 [==============================] - 0s 4ms/step\n"
          ]
        }
      ]
    },
    {
      "cell_type": "markdown",
      "source": [
        "### Evaluation"
      ],
      "metadata": {
        "id": "mbEOpGy79Dqs"
      }
    },
    {
      "cell_type": "code",
      "source": [
        "autorec_opt_eval = Metrics.get_evaluation(test_mat, autorec_opt.predictions)\n",
        "autorec_opt_eval"
      ],
      "metadata": {
        "colab": {
          "base_uri": "https://localhost:8080/"
        },
        "id": "YWN2oGiMCbOI",
        "outputId": "49841345-48f6-4487-d864-dab58d154318"
      },
      "execution_count": 35,
      "outputs": [
        {
          "output_type": "execute_result",
          "data": {
            "text/plain": [
              "{'MRR_10': 0.9740501370936152,\n",
              " 'MRR_5': 0.9740501370936152,\n",
              " 'NDCG_10': 0.962725694350962,\n",
              " 'NDCG_100': 0.9652842916285409,\n",
              " 'NDCG_5': 0.9680919261343796,\n",
              " 'RMSE': 1.11854678951657}"
            ]
          },
          "metadata": {},
          "execution_count": 35
        }
      ]
    },
    {
      "cell_type": "code",
      "source": [
        "autorec_opt_eval_df = pd.DataFrame(autorec_opt_eval, index=[0])\n",
        "autorec_opt_eval_df.plot(kind='bar')\n",
        "plt.title('IAutoRec movielens-1m')\n",
        "plt.xlabel('metrics')\n",
        "plt.ylabel('values')"
      ],
      "metadata": {
        "colab": {
          "base_uri": "https://localhost:8080/",
          "height": 309
        },
        "id": "0InidCx_9Ib6",
        "outputId": "ca767da0-6b96-437e-d95b-fd480831bda5"
      },
      "execution_count": 36,
      "outputs": [
        {
          "output_type": "execute_result",
          "data": {
            "text/plain": [
              "Text(0, 0.5, 'values')"
            ]
          },
          "metadata": {},
          "execution_count": 36
        },
        {
          "output_type": "display_data",
          "data": {
            "image/png": "[encoded data removed]",
            "text/plain": [
              "<Figure size 432x288 with 1 Axes>"
            ]
          },
          "metadata": {
            "needs_background": "light"
          }
        }
      ]
    },
    {
      "cell_type": "markdown",
      "source": [
        "Note that we did not acheive similar results as the paper. our model's RMSE reaches 1.2 while the paper's reches 0.831. <br> This is quite a big difference, the reasons colud be explained by getting different hyperparameters. \n",
        "The paper does not disclose all of the hyperparameters.\n",
        "It describes some of them, such as regularization, hidden layer size and activation functions. Other parameters such as learning rate are not available, furthermore they use a different train and evaluation mechanism: \"We repeat this splitting procedure 5 times and report average RMSE.\""
      ],
      "metadata": {
        "id": "3L5k-TCII8Oo"
      }
    },
    {
      "cell_type": "markdown",
      "source": [
        "## IAutoRec Enhanced"
      ],
      "metadata": {
        "id": "0bxsFNPn9WHa"
      }
    },
    {
      "cell_type": "markdown",
      "source": [
        "### HyperParameters Tuning"
      ],
      "metadata": {
        "id": "UKUeZ0j39czE"
      }
    },
    {
      "cell_type": "code",
      "source": [
        "autorec_enhanced = IAutoRecEnhanced(train_mat.shape[1])\n",
        "tuner = kt.Hyperband(autorec_enhanced.model_builder,\n",
        "                     objective='val_loss',\n",
        "                    #  objective='loss',\n",
        "                     max_epochs=500,\n",
        "                    #  factor=3,\n",
        "                     directory='hyper_params',\n",
        "                     project_name='autorec_enhanced_ml')"
      ],
      "metadata": {
        "colab": {
          "base_uri": "https://localhost:8080/"
        },
        "id": "tTfvkPnut2xy",
        "outputId": "1115f509-4e69-4621-acc6-3407e9f0d30c"
      },
      "execution_count": 37,
      "outputs": [
        {
          "output_type": "stream",
          "name": "stdout",
          "text": [
            "Model: \"model_2\"\n",
            "_________________________________________________________________\n",
            " Layer (type)                Output Shape              Param #   \n",
            "=================================================================\n",
            " item_rating (InputLayer)    [(None, 3706)]            0         \n",
            "                                                                 \n",
            " hidden_encoder_1 (Dense)    (None, 400)               1482800   \n",
            "                                                                 \n",
            " hidden_encoder_2 (Dense)    (None, 200)               80200     \n",
            "                                                                 \n",
            " latent_dim (Dense)          (None, 100)               20100     \n",
            "                                                                 \n",
            " hidden_decoder_1 (Dense)    (None, 200)               20200     \n",
            "                                                                 \n",
            " hidden_decoder_2 (Dense)    (None, 400)               80400     \n",
            "                                                                 \n",
            " item_pred_rating (Dense)    (None, 3706)              1486106   \n",
            "                                                                 \n",
            "=================================================================\n",
            "Total params: 3,169,806\n",
            "Trainable params: 3,169,806\n",
            "Non-trainable params: 0\n",
            "_________________________________________________________________\n"
          ]
        }
      ]
    },
    {
      "cell_type": "code",
      "source": [
        "stop_early = tf.keras.callbacks.EarlyStopping(monitor='val_loss', patience=5)\n",
        "# stop_early = tf.keras.callbacks.EarlyStopping(monitor='loss', patience=5)\n",
        "tuner.search(train_mat, train_mat,\n",
        "             epochs=500, validation_split=0.1, callbacks=[stop_early], batch_size=512)\n",
        "# Get the optimal hyperparameters\n",
        "best_hps=tuner.get_best_hyperparameters(num_trials=1)[0]"
      ],
      "metadata": {
        "colab": {
          "base_uri": "https://localhost:8080/"
        },
        "id": "4cE63RteuQOV",
        "outputId": "88253186-9245-45fa-e4e3-8546d4432ea0"
      },
      "execution_count": 38,
      "outputs": [
        {
          "output_type": "stream",
          "name": "stdout",
          "text": [
            "Trial 100 Complete [00h 00m 02s]\n",
            "val_loss: 1.7623494863510132\n",
            "\n",
            "Best val_loss So Far: 1.1930108070373535\n",
            "Total elapsed time: 00h 13m 58s\n",
            "INFO:tensorflow:Oracle triggered exit\n"
          ]
        }
      ]
    },
    {
      "cell_type": "code",
      "source": [
        "best_hps.get('hidden_units'), best_hps.get('hidden_layer_factor'), best_hps.get('first_activation'), best_hps.get('last_activation'), best_hps.get('reg'), best_hps.get('learning_rate')"
      ],
      "metadata": {
        "id": "B3hx9seMunA3",
        "colab": {
          "base_uri": "https://localhost:8080/"
        },
        "outputId": "4ad9488f-424a-444f-d31e-f88bf5ab9564"
      },
      "execution_count": 39,
      "outputs": [
        {
          "output_type": "execute_result",
          "data": {
            "text/plain": [
              "(100, 2, 'elu', 'elu', 0.0001, 0.001)"
            ]
          },
          "metadata": {},
          "execution_count": 39
        }
      ]
    },
    {
      "cell_type": "markdown",
      "source": [
        "### Retraining"
      ],
      "metadata": {
        "id": "GBicB8qm9gm6"
      }
    },
    {
      "cell_type": "code",
      "source": [
        "autorec_enhanced_opt = IAutoRecEnhanced(train_mat.shape[1],hidden_units=best_hps.get('hidden_units'), \n",
        "                                        hidden_layer_factor=best_hps.get('hidden_layer_factor'), reg=best_hps.get('reg'), \n",
        "                                        learning_rate=best_hps.get('learning_rate'), first_activation=best_hps.get('first_activation'),\n",
        "                                        last_activation=best_hps.get('last_activation'))\n",
        "autorec_enhanced_opt.build_opt_model()\n",
        "autorec_enhanced_opt.fit(train_mat, train_mat)"
      ],
      "metadata": {
        "id": "2e88lswmun0F",
        "colab": {
          "base_uri": "https://localhost:8080/"
        },
        "outputId": "e344caa1-029d-49b3-aca8-6f99214f9c82"
      },
      "execution_count": 40,
      "outputs": [
        {
          "output_type": "stream",
          "name": "stdout",
          "text": [
            "Model: \"model_1\"\n",
            "_________________________________________________________________\n",
            " Layer (type)                Output Shape              Param #   \n",
            "=================================================================\n",
            " item_rating (InputLayer)    [(None, 3706)]            0         \n",
            "                                                                 \n",
            " hidden_encoder (Dense)      (None, 200)               741400    \n",
            "                                                                 \n",
            " latent_dim (Dense)          (None, 100)               20100     \n",
            "                                                                 \n",
            " hidden_decoder (Dense)      (None, 200)               20200     \n",
            "                                                                 \n",
            " item_pred_rating (Dense)    (None, 3706)              744906    \n",
            "                                                                 \n",
            "=================================================================\n",
            "Total params: 1,526,606\n",
            "Trainable params: 1,526,606\n",
            "Non-trainable params: 0\n",
            "_________________________________________________________________\n",
            "Epoch 1/500\n",
            "22/22 - 1s - loss: 2.1102 - val_loss: 1.1829 - 925ms/epoch - 42ms/step\n",
            "Epoch 2/500\n",
            "22/22 - 0s - loss: 1.1114 - val_loss: 1.0963 - 195ms/epoch - 9ms/step\n",
            "Epoch 3/500\n",
            "22/22 - 0s - loss: 1.0569 - val_loss: 1.0731 - 185ms/epoch - 8ms/step\n",
            "Epoch 4/500\n",
            "22/22 - 0s - loss: 1.0264 - val_loss: 1.0618 - 193ms/epoch - 9ms/step\n",
            "Epoch 5/500\n",
            "22/22 - 0s - loss: 1.0028 - val_loss: 1.0695 - 135ms/epoch - 6ms/step\n",
            "Epoch 6/500\n",
            "22/22 - 0s - loss: 0.9886 - val_loss: 1.0491 - 187ms/epoch - 8ms/step\n",
            "Epoch 7/500\n",
            "22/22 - 0s - loss: 0.9681 - val_loss: 1.0439 - 197ms/epoch - 9ms/step\n",
            "Epoch 8/500\n",
            "22/22 - 0s - loss: 0.9502 - val_loss: 1.0413 - 190ms/epoch - 9ms/step\n",
            "Epoch 9/500\n",
            "22/22 - 0s - loss: 0.9384 - val_loss: 1.0384 - 188ms/epoch - 9ms/step\n",
            "Epoch 10/500\n",
            "22/22 - 1s - loss: 0.9295 - val_loss: 1.0378 - 820ms/epoch - 37ms/step\n",
            "Epoch 11/500\n",
            "22/22 - 0s - loss: 0.9217 - val_loss: 1.0381 - 133ms/epoch - 6ms/step\n",
            "Epoch 12/500\n",
            "22/22 - 0s - loss: 0.9111 - val_loss: 1.0343 - 183ms/epoch - 8ms/step\n",
            "Epoch 13/500\n",
            "22/22 - 0s - loss: 0.9095 - val_loss: 1.0378 - 130ms/epoch - 6ms/step\n",
            "Epoch 14/500\n",
            "22/22 - 0s - loss: 0.8974 - val_loss: 1.0341 - 187ms/epoch - 8ms/step\n",
            "Epoch 15/500\n",
            "22/22 - 0s - loss: 0.8881 - val_loss: 1.0296 - 186ms/epoch - 8ms/step\n",
            "Epoch 16/500\n",
            "22/22 - 0s - loss: 0.8794 - val_loss: 1.0358 - 139ms/epoch - 6ms/step\n",
            "Epoch 17/500\n",
            "22/22 - 0s - loss: 0.8719 - val_loss: 1.0297 - 128ms/epoch - 6ms/step\n",
            "Epoch 18/500\n",
            "22/22 - 0s - loss: 0.8688 - val_loss: 1.0273 - 175ms/epoch - 8ms/step\n",
            "Epoch 19/500\n",
            "22/22 - 0s - loss: 0.8630 - val_loss: 1.0351 - 123ms/epoch - 6ms/step\n",
            "Epoch 20/500\n",
            "22/22 - 0s - loss: 0.8576 - val_loss: 1.0299 - 122ms/epoch - 6ms/step\n",
            "Epoch 21/500\n",
            "22/22 - 0s - loss: 0.8487 - val_loss: 1.0313 - 120ms/epoch - 5ms/step\n",
            "Epoch 22/500\n",
            "22/22 - 0s - loss: 0.8412 - val_loss: 1.0337 - 123ms/epoch - 6ms/step\n",
            "Epoch 23/500\n",
            "22/22 - 0s - loss: 0.8373 - val_loss: 1.0313 - 123ms/epoch - 6ms/step\n",
            "Epoch 23: early stopping\n"
          ]
        }
      ]
    },
    {
      "cell_type": "code",
      "source": [
        "# plot training history\n",
        "plt.plot(autorec_enhanced_opt.hist.history['loss'], label='train')\n",
        "plt.plot(autorec_enhanced_opt.hist.history['val_loss'], label='validation')\n",
        "plt.xlabel('iteration')\n",
        "plt.ylabel('loss')\n",
        "plt.legend()"
      ],
      "metadata": {
        "id": "oXPOOpWXpF7P",
        "colab": {
          "base_uri": "https://localhost:8080/",
          "height": 297
        },
        "outputId": "feaf41ee-331b-4684-b97b-29105bfdf1c0"
      },
      "execution_count": 41,
      "outputs": [
        {
          "output_type": "execute_result",
          "data": {
            "text/plain": [
              "<matplotlib.legend.Legend at 0x7f87fedbef50>"
            ]
          },
          "metadata": {},
          "execution_count": 41
        },
        {
          "output_type": "display_data",
          "data": {
            "image/png": "[encoded data removed]",
            "text/plain": [
              "<Figure size 432x288 with 1 Axes>"
            ]
          },
          "metadata": {
            "needs_background": "light"
          }
        }
      ]
    },
    {
      "cell_type": "code",
      "source": [
        "autorec_enhanced_opt.model = load_model('best_autorec_enhanced_model.h5', custom_objects={'masked_rmse': IAutoRecEnhanced.masked_rmse})"
      ],
      "metadata": {
        "id": "1SlhjlUoXLaA"
      },
      "execution_count": 42,
      "outputs": []
    },
    {
      "cell_type": "code",
      "source": [
        "shutil.rmtree('/content/hyper_params')"
      ],
      "metadata": {
        "id": "lpOlff2S4D9s"
      },
      "execution_count": 43,
      "outputs": []
    },
    {
      "cell_type": "markdown",
      "source": [
        "### Prediction"
      ],
      "metadata": {
        "id": "X_089usd9oLL"
      }
    },
    {
      "cell_type": "code",
      "source": [
        "autorec_enhanced_opt.predict(test_mat)"
      ],
      "metadata": {
        "id": "qPyCRVXDpMtg",
        "colab": {
          "base_uri": "https://localhost:8080/"
        },
        "outputId": "125199b5-1a35-41ab-8fe5-5eede7db84ed"
      },
      "execution_count": 44,
      "outputs": [
        {
          "output_type": "stream",
          "name": "stdout",
          "text": [
            "12/12 [==============================] - 0s 3ms/step\n"
          ]
        }
      ]
    },
    {
      "cell_type": "markdown",
      "source": [
        "### Evaluation"
      ],
      "metadata": {
        "id": "CgQwY6DV9rCr"
      }
    },
    {
      "cell_type": "code",
      "source": [
        "autorec_enhanced_opt_eval = Metrics.get_evaluation(test_mat, autorec_enhanced_opt.predictions)\n",
        "autorec_enhanced_opt_eval"
      ],
      "metadata": {
        "id": "Uu2kd5e2rIiW",
        "colab": {
          "base_uri": "https://localhost:8080/"
        },
        "outputId": "921edaed-c003-4e37-ff79-8c65ee37fd3c"
      },
      "execution_count": 45,
      "outputs": [
        {
          "output_type": "execute_result",
          "data": {
            "text/plain": [
              "{'MRR_10': 0.9748391248391248,\n",
              " 'MRR_5': 0.974811146550277,\n",
              " 'NDCG_10': 0.9601779156483103,\n",
              " 'NDCG_100': 0.9601314745681093,\n",
              " 'NDCG_5': 0.966990635204175,\n",
              " 'RMSE': 1.2615068518464485}"
            ]
          },
          "metadata": {},
          "execution_count": 45
        }
      ]
    },
    {
      "cell_type": "code",
      "source": [
        "autorec_enhanced_opt_eval_df = pd.DataFrame(autorec_enhanced_opt_eval, index=[0])\n",
        "autorec_enhanced_opt_eval_df.plot(kind='bar')\n",
        "plt.title('IAutoRec Enhanced movielens-1m')\n",
        "plt.xlabel('metrics')\n",
        "plt.ylabel('values')"
      ],
      "metadata": {
        "id": "BKx9ZHZF9yqE",
        "colab": {
          "base_uri": "https://localhost:8080/",
          "height": 309
        },
        "outputId": "1fdf19fb-5827-46c4-e03c-c16e1ca7e676"
      },
      "execution_count": 46,
      "outputs": [
        {
          "output_type": "execute_result",
          "data": {
            "text/plain": [
              "Text(0, 0.5, 'values')"
            ]
          },
          "metadata": {},
          "execution_count": 46
        },
        {
          "output_type": "display_data",
          "data": {
            "image/png": "[encoded data removed]",
            "text/plain": [
              "<Figure size 432x288 with 1 Axes>"
            ]
          },
          "metadata": {
            "needs_background": "light"
          }
        }
      ]
    },
    {
      "cell_type": "markdown",
      "source": [
        "## Models Metrics Comparison"
      ],
      "metadata": {
        "id": "3hGuJHjO98Ar"
      }
    },
    {
      "cell_type": "code",
      "source": [
        "result_dict = {\n",
        "    'mf': mf_opt_eval,\n",
        "    'autorec': autorec_opt_eval,\n",
        "    'autorec_enhanced': autorec_enhanced_opt_eval\n",
        "               }\n",
        "res_df = pd.DataFrame.from_dict(result_dict)\n",
        "res_df"
      ],
      "metadata": {
        "id": "Ne9llYJFxUjw",
        "colab": {
          "base_uri": "https://localhost:8080/",
          "height": 237
        },
        "outputId": "b3dc1adb-8798-4857-ee5d-fa6706147103"
      },
      "execution_count": 47,
      "outputs": [
        {
          "output_type": "execute_result",
          "data": {
            "text/html": [
              "\n",
              "  <div id=\"df-07864174-652f-4dd1-85d5-549e09210e4b\">\n",
              "    <div class=\"colab-df-container\">\n",
              "      <div>\n",
              "<style scoped>\n",
              "    .dataframe tbody tr th:only-of-type {\n",
              "        vertical-align: middle;\n",
              "    }\n",
              "\n",
              "    .dataframe tbody tr th {\n",
              "        vertical-align: top;\n",
              "    }\n",
              "\n",
              "    .dataframe thead th {\n",
              "        text-align: right;\n",
              "    }\n",
              "</style>\n",
              "<table border=\"1\" class=\"dataframe\">\n",
              "  <thead>\n",
              "    <tr style=\"text-align: right;\">\n",
              "      <th></th>\n",
              "      <th>mf</th>\n",
              "      <th>autorec</th>\n",
              "      <th>autorec_enhanced</th>\n",
              "    </tr>\n",
              "  </thead>\n",
              "  <tbody>\n",
              "    <tr>\n",
              "      <th>RMSE</th>\n",
              "      <td>0.858420</td>\n",
              "      <td>1.118547</td>\n",
              "      <td>1.261507</td>\n",
              "    </tr>\n",
              "    <tr>\n",
              "      <th>MRR_5</th>\n",
              "      <td>0.976610</td>\n",
              "      <td>0.974050</td>\n",
              "      <td>0.974811</td>\n",
              "    </tr>\n",
              "    <tr>\n",
              "      <th>MRR_10</th>\n",
              "      <td>0.976610</td>\n",
              "      <td>0.974050</td>\n",
              "      <td>0.974839</td>\n",
              "    </tr>\n",
              "    <tr>\n",
              "      <th>NDCG_5</th>\n",
              "      <td>0.971257</td>\n",
              "      <td>0.968092</td>\n",
              "      <td>0.966991</td>\n",
              "    </tr>\n",
              "    <tr>\n",
              "      <th>NDCG_10</th>\n",
              "      <td>0.966651</td>\n",
              "      <td>0.962726</td>\n",
              "      <td>0.960178</td>\n",
              "    </tr>\n",
              "    <tr>\n",
              "      <th>NDCG_100</th>\n",
              "      <td>0.972404</td>\n",
              "      <td>0.965284</td>\n",
              "      <td>0.960131</td>\n",
              "    </tr>\n",
              "  </tbody>\n",
              "</table>\n",
              "</div>\n",
              "      <button class=\"colab-df-convert\" onclick=\"convertToInteractive('df-07864174-652f-4dd1-85d5-549e09210e4b')\"\n",
              "              title=\"Convert this dataframe to an interactive table.\"\n",
              "              style=\"display:none;\">\n",
              "        \n",
              "  <svg xmlns=\"http://www.w3.org/2000/svg\" height=\"24px\"viewBox=\"0 0 24 24\"\n",
              "       width=\"24px\">\n",
              "    <path d=\"M0 0h24v24H0V0z\" fill=\"none\"/>\n",
              "    <path d=\"M18.56 5.44l.94 2.06.94-2.06 2.06-.94-2.06-.94-.94-2.06-.94 2.06-2.06.94zm-11 1L8.5 8.5l.94-2.06 2.06-.94-2.06-.94L8.5 2.5l-.94 2.06-2.06.94zm10 10l.94 2.06.94-2.06 2.06-.94-2.06-.94-.94-2.06-.94 2.06-2.06.94z\"/><path d=\"M17.41 7.96l-1.37-1.37c-.4-.4-.92-.59-1.43-.59-.52 0-1.04.2-1.43.59L10.3 9.45l-7.72 7.72c-.78.78-.78 2.05 0 2.83L4 21.41c.39.39.9.59 1.41.59.51 0 1.02-.2 1.41-.59l7.78-7.78 2.81-2.81c.8-.78.8-2.07 0-2.86zM5.41 20L4 18.59l7.72-7.72 1.47 1.35L5.41 20z\"/>\n",
              "  </svg>\n",
              "      </button>\n",
              "      \n",
              "  <style>\n",
              "    .colab-df-container {\n",
              "      display:flex;\n",
              "      flex-wrap:wrap;\n",
              "      gap: 12px;\n",
              "    }\n",
              "\n",
              "    .colab-df-convert {\n",
              "      background-color: #E8F0FE;\n",
              "      border: none;\n",
              "      border-radius: 50%;\n",
              "      cursor: pointer;\n",
              "      display: none;\n",
              "      fill: #1967D2;\n",
              "      height: 32px;\n",
              "      padding: 0 0 0 0;\n",
              "      width: 32px;\n",
              "    }\n",
              "\n",
              "    .colab-df-convert:hover {\n",
              "      background-color: #E2EBFA;\n",
              "      box-shadow: 0px 1px 2px rgba(60, 64, 67, 0.3), 0px 1px 3px 1px rgba(60, 64, 67, 0.15);\n",
              "      fill: #174EA6;\n",
              "    }\n",
              "\n",
              "    [theme=dark] .colab-df-convert {\n",
              "      background-color: #3B4455;\n",
              "      fill: #D2E3FC;\n",
              "    }\n",
              "\n",
              "    [theme=dark] .colab-df-convert:hover {\n",
              "      background-color: #434B5C;\n",
              "      box-shadow: 0px 1px 3px 1px rgba(0, 0, 0, 0.15);\n",
              "      filter: drop-shadow(0px 1px 2px rgba(0, 0, 0, 0.3));\n",
              "      fill: #FFFFFF;\n",
              "    }\n",
              "  </style>\n",
              "\n",
              "      <script>\n",
              "        const buttonEl =\n",
              "          document.querySelector('#df-07864174-652f-4dd1-85d5-549e09210e4b button.colab-df-convert');\n",
              "        buttonEl.style.display =\n",
              "          google.colab.kernel.accessAllowed ? 'block' : 'none';\n",
              "\n",
              "        async function convertToInteractive(key) {\n",
              "          const element = document.querySelector('#df-07864174-652f-4dd1-85d5-549e09210e4b');\n",
              "          const dataTable =\n",
              "            await google.colab.kernel.invokeFunction('convertToInteractive',\n",
              "                                                     [key], {});\n",
              "          if (!dataTable) return;\n",
              "\n",
              "          const docLinkHtml = 'Like what you see? Visit the ' +\n",
              "            '<a target=\"_blank\" href=https://colab.research.google.com/notebooks/data_table.ipynb>data table notebook</a>'\n",
              "            + ' to learn more about interactive tables.';\n",
              "          element.innerHTML = '';\n",
              "          dataTable['output_type'] = 'display_data';\n",
              "          await google.colab.output.renderOutput(dataTable, element);\n",
              "          const docLink = document.createElement('div');\n",
              "          docLink.innerHTML = docLinkHtml;\n",
              "          element.appendChild(docLink);\n",
              "        }\n",
              "      </script>\n",
              "    </div>\n",
              "  </div>\n",
              "  "
            ],
            "text/plain": [
              "                mf   autorec  autorec_enhanced\n",
              "RMSE      0.858420  1.118547          1.261507\n",
              "MRR_5     0.976610  0.974050          0.974811\n",
              "MRR_10    0.976610  0.974050          0.974839\n",
              "NDCG_5    0.971257  0.968092          0.966991\n",
              "NDCG_10   0.966651  0.962726          0.960178\n",
              "NDCG_100  0.972404  0.965284          0.960131"
            ]
          },
          "metadata": {},
          "execution_count": 47
        }
      ]
    },
    {
      "cell_type": "code",
      "source": [
        "res_df.plot(kind='bar', figsize=(12,5), rot=45)\n",
        "plt.title('movielens-1m models results')"
      ],
      "metadata": {
        "id": "vR1_w740TDL7",
        "colab": {
          "base_uri": "https://localhost:8080/",
          "height": 389
        },
        "outputId": "9fcd3ebb-dcf1-49bb-cca6-23fb6abeb24a"
      },
      "execution_count": 48,
      "outputs": [
        {
          "output_type": "execute_result",
          "data": {
            "text/plain": [
              "Text(0.5, 1.0, 'movielens-1m models results')"
            ]
          },
          "metadata": {},
          "execution_count": 48
        },
        {
          "output_type": "display_data",
          "data": {
            "image/png": "[encoded data removed]",
            "text/plain": [
              "<Figure size 864x360 with 1 Axes>"
            ]
          },
          "metadata": {
            "needs_background": "light"
          }
        }
      ]
    },
    {
      "cell_type": "code",
      "source": [
        "res_df.transpose().plot(kind='bar', figsize=(12,5), rot=45)\n",
        "plt.title('movielens-1m models results')"
      ],
      "metadata": {
        "id": "8BBj2phwSabF",
        "colab": {
          "base_uri": "https://localhost:8080/",
          "height": 417
        },
        "outputId": "d8a2fd29-f585-48ad-ed6c-c0f1dc9002e1"
      },
      "execution_count": 49,
      "outputs": [
        {
          "output_type": "execute_result",
          "data": {
            "text/plain": [
              "Text(0.5, 1.0, 'movielens-1m models results')"
            ]
          },
          "metadata": {},
          "execution_count": 49
        },
        {
          "output_type": "display_data",
          "data": {
            "image/png": "[encoded data removed]",
            "text/plain": [
              "<Figure size 864x360 with 1 Axes>"
            ]
          },
          "metadata": {
            "needs_background": "light"
          }
        }
      ]
    }
  ]
}
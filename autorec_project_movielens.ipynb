{
  "nbformat": 4,
  "nbformat_minor": 0,
  "metadata": {
    "colab": {
      "name": "autorec_project_movielens.ipynb",
      "provenance": [],
      "collapsed_sections": [
        "BPTZcpzQ0sfq",
        "KjsSKBNV2oOh",
        "a11Jdp710-pE",
        "YrJDgoW11ITS"
      ],
      "machine_shape": "hm"
    },
    "kernelspec": {
      "name": "python3",
      "display_name": "Python 3"
    },
    "language_info": {
      "name": "python"
    },
    "accelerator": "GPU"
  },
  "cells": [
    {
      "cell_type": "markdown",
      "source": [
        "**AutoRec Project**"
      ],
      "metadata": {
        "id": "BhAOlGNOw3Nj"
      }
    },
    {
      "cell_type": "markdown",
      "source": [
        "# Imports"
      ],
      "metadata": {
        "id": "BPTZcpzQ0sfq"
      }
    },
    {
      "cell_type": "code",
      "source": [
        "%matplotlib inline"
      ],
      "metadata": {
        "id": "yX5IP4yJ-CKD"
      },
      "execution_count": 1,
      "outputs": []
    },
    {
      "cell_type": "code",
      "source": [
        "!pip install keras-tuner"
      ],
      "metadata": {
        "colab": {
          "base_uri": "https://localhost:8080/"
        },
        "id": "oHz280golEnY",
        "outputId": "f5159ef0-ba04-45c3-e0bb-0e9f028900c7"
      },
      "execution_count": 2,
      "outputs": [
        {
          "output_type": "stream",
          "name": "stdout",
          "text": [
            "Collecting keras-tuner\n",
            "  Downloading keras_tuner-1.1.0-py3-none-any.whl (98 kB)\n",
            "\u001b[?25l\r\u001b[K     |███▍                            | 10 kB 21.0 MB/s eta 0:00:01\r\u001b[K     |██████▊                         | 20 kB 25.1 MB/s eta 0:00:01\r\u001b[K     |██████████                      | 30 kB 15.9 MB/s eta 0:00:01\r\u001b[K     |█████████████▍                  | 40 kB 11.9 MB/s eta 0:00:01\r\u001b[K     |████████████████▊               | 51 kB 8.1 MB/s eta 0:00:01\r\u001b[K     |████████████████████            | 61 kB 9.4 MB/s eta 0:00:01\r\u001b[K     |███████████████████████▍        | 71 kB 8.7 MB/s eta 0:00:01\r\u001b[K     |██████████████████████████▊     | 81 kB 9.5 MB/s eta 0:00:01\r\u001b[K     |██████████████████████████████  | 92 kB 10.5 MB/s eta 0:00:01\r\u001b[K     |████████████████████████████████| 98 kB 3.5 MB/s \n",
            "\u001b[?25hRequirement already satisfied: scipy in /usr/local/lib/python3.7/dist-packages (from keras-tuner) (1.4.1)\n",
            "Requirement already satisfied: numpy in /usr/local/lib/python3.7/dist-packages (from keras-tuner) (1.21.5)\n",
            "Collecting kt-legacy\n",
            "  Downloading kt_legacy-1.0.4-py3-none-any.whl (9.6 kB)\n",
            "Requirement already satisfied: tensorboard in /usr/local/lib/python3.7/dist-packages (from keras-tuner) (2.8.0)\n",
            "Requirement already satisfied: requests in /usr/local/lib/python3.7/dist-packages (from keras-tuner) (2.23.0)\n",
            "Requirement already satisfied: packaging in /usr/local/lib/python3.7/dist-packages (from keras-tuner) (21.3)\n",
            "Requirement already satisfied: ipython in /usr/local/lib/python3.7/dist-packages (from keras-tuner) (5.5.0)\n",
            "Requirement already satisfied: setuptools>=18.5 in /usr/local/lib/python3.7/dist-packages (from ipython->keras-tuner) (57.4.0)\n",
            "Requirement already satisfied: pickleshare in /usr/local/lib/python3.7/dist-packages (from ipython->keras-tuner) (0.7.5)\n",
            "Requirement already satisfied: pygments in /usr/local/lib/python3.7/dist-packages (from ipython->keras-tuner) (2.6.1)\n",
            "Requirement already satisfied: pexpect in /usr/local/lib/python3.7/dist-packages (from ipython->keras-tuner) (4.8.0)\n",
            "Requirement already satisfied: traitlets>=4.2 in /usr/local/lib/python3.7/dist-packages (from ipython->keras-tuner) (5.1.1)\n",
            "Requirement already satisfied: decorator in /usr/local/lib/python3.7/dist-packages (from ipython->keras-tuner) (4.4.2)\n",
            "Requirement already satisfied: simplegeneric>0.8 in /usr/local/lib/python3.7/dist-packages (from ipython->keras-tuner) (0.8.1)\n",
            "Requirement already satisfied: prompt-toolkit<2.0.0,>=1.0.4 in /usr/local/lib/python3.7/dist-packages (from ipython->keras-tuner) (1.0.18)\n",
            "Requirement already satisfied: wcwidth in /usr/local/lib/python3.7/dist-packages (from prompt-toolkit<2.0.0,>=1.0.4->ipython->keras-tuner) (0.2.5)\n",
            "Requirement already satisfied: six>=1.9.0 in /usr/local/lib/python3.7/dist-packages (from prompt-toolkit<2.0.0,>=1.0.4->ipython->keras-tuner) (1.15.0)\n",
            "Requirement already satisfied: pyparsing!=3.0.5,>=2.0.2 in /usr/local/lib/python3.7/dist-packages (from packaging->keras-tuner) (3.0.7)\n",
            "Requirement already satisfied: ptyprocess>=0.5 in /usr/local/lib/python3.7/dist-packages (from pexpect->ipython->keras-tuner) (0.7.0)\n",
            "Requirement already satisfied: urllib3!=1.25.0,!=1.25.1,<1.26,>=1.21.1 in /usr/local/lib/python3.7/dist-packages (from requests->keras-tuner) (1.24.3)\n",
            "Requirement already satisfied: idna<3,>=2.5 in /usr/local/lib/python3.7/dist-packages (from requests->keras-tuner) (2.10)\n",
            "Requirement already satisfied: chardet<4,>=3.0.2 in /usr/local/lib/python3.7/dist-packages (from requests->keras-tuner) (3.0.4)\n",
            "Requirement already satisfied: certifi>=2017.4.17 in /usr/local/lib/python3.7/dist-packages (from requests->keras-tuner) (2021.10.8)\n",
            "Requirement already satisfied: google-auth<3,>=1.6.3 in /usr/local/lib/python3.7/dist-packages (from tensorboard->keras-tuner) (1.35.0)\n",
            "Requirement already satisfied: protobuf>=3.6.0 in /usr/local/lib/python3.7/dist-packages (from tensorboard->keras-tuner) (3.17.3)\n",
            "Requirement already satisfied: tensorboard-data-server<0.7.0,>=0.6.0 in /usr/local/lib/python3.7/dist-packages (from tensorboard->keras-tuner) (0.6.1)\n",
            "Requirement already satisfied: absl-py>=0.4 in /usr/local/lib/python3.7/dist-packages (from tensorboard->keras-tuner) (1.0.0)\n",
            "Requirement already satisfied: tensorboard-plugin-wit>=1.6.0 in /usr/local/lib/python3.7/dist-packages (from tensorboard->keras-tuner) (1.8.1)\n",
            "Requirement already satisfied: werkzeug>=0.11.15 in /usr/local/lib/python3.7/dist-packages (from tensorboard->keras-tuner) (1.0.1)\n",
            "Requirement already satisfied: wheel>=0.26 in /usr/local/lib/python3.7/dist-packages (from tensorboard->keras-tuner) (0.37.1)\n",
            "Requirement already satisfied: grpcio>=1.24.3 in /usr/local/lib/python3.7/dist-packages (from tensorboard->keras-tuner) (1.43.0)\n",
            "Requirement already satisfied: google-auth-oauthlib<0.5,>=0.4.1 in /usr/local/lib/python3.7/dist-packages (from tensorboard->keras-tuner) (0.4.6)\n",
            "Requirement already satisfied: markdown>=2.6.8 in /usr/local/lib/python3.7/dist-packages (from tensorboard->keras-tuner) (3.3.6)\n",
            "Requirement already satisfied: rsa<5,>=3.1.4 in /usr/local/lib/python3.7/dist-packages (from google-auth<3,>=1.6.3->tensorboard->keras-tuner) (4.8)\n",
            "Requirement already satisfied: cachetools<5.0,>=2.0.0 in /usr/local/lib/python3.7/dist-packages (from google-auth<3,>=1.6.3->tensorboard->keras-tuner) (4.2.4)\n",
            "Requirement already satisfied: pyasn1-modules>=0.2.1 in /usr/local/lib/python3.7/dist-packages (from google-auth<3,>=1.6.3->tensorboard->keras-tuner) (0.2.8)\n",
            "Requirement already satisfied: requests-oauthlib>=0.7.0 in /usr/local/lib/python3.7/dist-packages (from google-auth-oauthlib<0.5,>=0.4.1->tensorboard->keras-tuner) (1.3.1)\n",
            "Requirement already satisfied: importlib-metadata>=4.4 in /usr/local/lib/python3.7/dist-packages (from markdown>=2.6.8->tensorboard->keras-tuner) (4.11.0)\n",
            "Requirement already satisfied: zipp>=0.5 in /usr/local/lib/python3.7/dist-packages (from importlib-metadata>=4.4->markdown>=2.6.8->tensorboard->keras-tuner) (3.7.0)\n",
            "Requirement already satisfied: typing-extensions>=3.6.4 in /usr/local/lib/python3.7/dist-packages (from importlib-metadata>=4.4->markdown>=2.6.8->tensorboard->keras-tuner) (3.10.0.2)\n",
            "Requirement already satisfied: pyasn1<0.5.0,>=0.4.6 in /usr/local/lib/python3.7/dist-packages (from pyasn1-modules>=0.2.1->google-auth<3,>=1.6.3->tensorboard->keras-tuner) (0.4.8)\n",
            "Requirement already satisfied: oauthlib>=3.0.0 in /usr/local/lib/python3.7/dist-packages (from requests-oauthlib>=0.7.0->google-auth-oauthlib<0.5,>=0.4.1->tensorboard->keras-tuner) (3.2.0)\n",
            "Installing collected packages: kt-legacy, keras-tuner\n",
            "Successfully installed keras-tuner-1.1.0 kt-legacy-1.0.4\n"
          ]
        }
      ]
    },
    {
      "cell_type": "code",
      "execution_count": 3,
      "metadata": {
        "id": "WyDSncY3nVV5"
      },
      "outputs": [],
      "source": [
        "from google.colab import drive\n",
        "import os\n",
        "\n",
        "# keras\n",
        "from tensorflow.keras.models import load_model\n",
        "import tensorflow as tf\n",
        "import keras_tuner as kt\n",
        "\n",
        "# sklearn\n",
        "from sklearn.model_selection import train_test_split\n",
        "\n",
        "import sys\n",
        "import requests\n",
        "import zipfile\n",
        "import copy\n",
        "import shutil\n",
        "\n",
        "import pandas as pd\n",
        "import numpy as np\n",
        "import random\n",
        "import math\n",
        "\n",
        "from matplotlib import pyplot as plt"
      ]
    },
    {
      "cell_type": "code",
      "source": [
        "np.random.seed(123)\n",
        "random.seed(123)"
      ],
      "metadata": {
        "id": "hu975UwXNQaY"
      },
      "execution_count": 4,
      "outputs": []
    },
    {
      "cell_type": "code",
      "source": [
        "!git clone https://github.com/aviadar/RecSys_AutoRecProject proj"
      ],
      "metadata": {
        "colab": {
          "base_uri": "https://localhost:8080/"
        },
        "id": "65vPd8nctqIa",
        "outputId": "3681f140-9276-40ee-872c-617846104c77"
      },
      "execution_count": 5,
      "outputs": [
        {
          "output_type": "stream",
          "name": "stdout",
          "text": [
            "Cloning into 'proj'...\n",
            "remote: Enumerating objects: 89, done.\u001b[K\n",
            "remote: Counting objects: 100% (89/89), done.\u001b[K\n",
            "remote: Compressing objects: 100% (63/63), done.\u001b[K\n",
            "remote: Total 89 (delta 33), reused 65 (delta 16), pack-reused 0\u001b[K\n",
            "Unpacking objects: 100% (89/89), done.\n"
          ]
        }
      ]
    },
    {
      "cell_type": "code",
      "source": [
        "sys.path.insert(0,'/content/proj/src')\n",
        "\n",
        "from utilities.Metrics import Metrics\n",
        "from models.MF import MF\n",
        "from models.IAutoRec import IAutoRec\n",
        "from models.IAutoRecEnhanced import IAutoRecEnhanced"
      ],
      "metadata": {
        "id": "_SAITMrgxoIW"
      },
      "execution_count": 6,
      "outputs": []
    },
    {
      "cell_type": "markdown",
      "source": [
        "# MovieLens 1M Dataset"
      ],
      "metadata": {
        "id": "n0bJP2gG02Ai"
      }
    },
    {
      "cell_type": "markdown",
      "source": [
        "## Data Loading & Manipulation"
      ],
      "metadata": {
        "id": "a11Jdp710-pE"
      }
    },
    {
      "cell_type": "code",
      "source": [
        "url = 'http://files.grouplens.org/datasets/movielens/ml-1m.zip'\n",
        "zip_name = 'ml-1m.zip'\n",
        "data_dir = 'ml-1m/'\n",
        "\n",
        "r = requests.get(url, allow_redirects=True)\n",
        "open(zip_name, 'wb').write(r.content)\n",
        "\n",
        "with zipfile.ZipFile(zip_name,\"r\") as zip_ref:\n",
        "    zip_ref.extractall()"
      ],
      "metadata": {
        "id": "mgDyiBZE0Vxq"
      },
      "execution_count": 7,
      "outputs": []
    },
    {
      "cell_type": "code",
      "source": [
        "ratings_df = pd.read_csv('/content/ml-1m/ratings.dat', header=None, names=['user_id', 'item_id', 'rating', 'timestamp'], delimiter='::')\n",
        "ratings_df.head()"
      ],
      "metadata": {
        "colab": {
          "base_uri": "https://localhost:8080/",
          "height": 261
        },
        "id": "5eKF7PL80x3e",
        "outputId": "1d691491-a176-4d3a-cd8d-a80d615b3273"
      },
      "execution_count": 8,
      "outputs": [
        {
          "output_type": "stream",
          "name": "stderr",
          "text": [
            "/usr/local/lib/python3.7/dist-packages/pandas/util/_decorators.py:311: ParserWarning: Falling back to the 'python' engine because the 'c' engine does not support regex separators (separators > 1 char and different from '\\s+' are interpreted as regex); you can avoid this warning by specifying engine='python'.\n",
            "  return func(*args, **kwargs)\n"
          ]
        },
        {
          "output_type": "execute_result",
          "data": {
            "text/html": [
              "\n",
              "  <div id=\"df-d338020f-fbd9-48f8-823a-3241346080d9\">\n",
              "    <div class=\"colab-df-container\">\n",
              "      <div>\n",
              "<style scoped>\n",
              "    .dataframe tbody tr th:only-of-type {\n",
              "        vertical-align: middle;\n",
              "    }\n",
              "\n",
              "    .dataframe tbody tr th {\n",
              "        vertical-align: top;\n",
              "    }\n",
              "\n",
              "    .dataframe thead th {\n",
              "        text-align: right;\n",
              "    }\n",
              "</style>\n",
              "<table border=\"1\" class=\"dataframe\">\n",
              "  <thead>\n",
              "    <tr style=\"text-align: right;\">\n",
              "      <th></th>\n",
              "      <th>user_id</th>\n",
              "      <th>item_id</th>\n",
              "      <th>rating</th>\n",
              "      <th>timestamp</th>\n",
              "    </tr>\n",
              "  </thead>\n",
              "  <tbody>\n",
              "    <tr>\n",
              "      <th>0</th>\n",
              "      <td>1</td>\n",
              "      <td>1193</td>\n",
              "      <td>5</td>\n",
              "      <td>978300760</td>\n",
              "    </tr>\n",
              "    <tr>\n",
              "      <th>1</th>\n",
              "      <td>1</td>\n",
              "      <td>661</td>\n",
              "      <td>3</td>\n",
              "      <td>978302109</td>\n",
              "    </tr>\n",
              "    <tr>\n",
              "      <th>2</th>\n",
              "      <td>1</td>\n",
              "      <td>914</td>\n",
              "      <td>3</td>\n",
              "      <td>978301968</td>\n",
              "    </tr>\n",
              "    <tr>\n",
              "      <th>3</th>\n",
              "      <td>1</td>\n",
              "      <td>3408</td>\n",
              "      <td>4</td>\n",
              "      <td>978300275</td>\n",
              "    </tr>\n",
              "    <tr>\n",
              "      <th>4</th>\n",
              "      <td>1</td>\n",
              "      <td>2355</td>\n",
              "      <td>5</td>\n",
              "      <td>978824291</td>\n",
              "    </tr>\n",
              "  </tbody>\n",
              "</table>\n",
              "</div>\n",
              "      <button class=\"colab-df-convert\" onclick=\"convertToInteractive('df-d338020f-fbd9-48f8-823a-3241346080d9')\"\n",
              "              title=\"Convert this dataframe to an interactive table.\"\n",
              "              style=\"display:none;\">\n",
              "        \n",
              "  <svg xmlns=\"http://www.w3.org/2000/svg\" height=\"24px\"viewBox=\"0 0 24 24\"\n",
              "       width=\"24px\">\n",
              "    <path d=\"M0 0h24v24H0V0z\" fill=\"none\"/>\n",
              "    <path d=\"M18.56 5.44l.94 2.06.94-2.06 2.06-.94-2.06-.94-.94-2.06-.94 2.06-2.06.94zm-11 1L8.5 8.5l.94-2.06 2.06-.94-2.06-.94L8.5 2.5l-.94 2.06-2.06.94zm10 10l.94 2.06.94-2.06 2.06-.94-2.06-.94-.94-2.06-.94 2.06-2.06.94z\"/><path d=\"M17.41 7.96l-1.37-1.37c-.4-.4-.92-.59-1.43-.59-.52 0-1.04.2-1.43.59L10.3 9.45l-7.72 7.72c-.78.78-.78 2.05 0 2.83L4 21.41c.39.39.9.59 1.41.59.51 0 1.02-.2 1.41-.59l7.78-7.78 2.81-2.81c.8-.78.8-2.07 0-2.86zM5.41 20L4 18.59l7.72-7.72 1.47 1.35L5.41 20z\"/>\n",
              "  </svg>\n",
              "      </button>\n",
              "      \n",
              "  <style>\n",
              "    .colab-df-container {\n",
              "      display:flex;\n",
              "      flex-wrap:wrap;\n",
              "      gap: 12px;\n",
              "    }\n",
              "\n",
              "    .colab-df-convert {\n",
              "      background-color: #E8F0FE;\n",
              "      border: none;\n",
              "      border-radius: 50%;\n",
              "      cursor: pointer;\n",
              "      display: none;\n",
              "      fill: #1967D2;\n",
              "      height: 32px;\n",
              "      padding: 0 0 0 0;\n",
              "      width: 32px;\n",
              "    }\n",
              "\n",
              "    .colab-df-convert:hover {\n",
              "      background-color: #E2EBFA;\n",
              "      box-shadow: 0px 1px 2px rgba(60, 64, 67, 0.3), 0px 1px 3px 1px rgba(60, 64, 67, 0.15);\n",
              "      fill: #174EA6;\n",
              "    }\n",
              "\n",
              "    [theme=dark] .colab-df-convert {\n",
              "      background-color: #3B4455;\n",
              "      fill: #D2E3FC;\n",
              "    }\n",
              "\n",
              "    [theme=dark] .colab-df-convert:hover {\n",
              "      background-color: #434B5C;\n",
              "      box-shadow: 0px 1px 3px 1px rgba(0, 0, 0, 0.15);\n",
              "      filter: drop-shadow(0px 1px 2px rgba(0, 0, 0, 0.3));\n",
              "      fill: #FFFFFF;\n",
              "    }\n",
              "  </style>\n",
              "\n",
              "      <script>\n",
              "        const buttonEl =\n",
              "          document.querySelector('#df-d338020f-fbd9-48f8-823a-3241346080d9 button.colab-df-convert');\n",
              "        buttonEl.style.display =\n",
              "          google.colab.kernel.accessAllowed ? 'block' : 'none';\n",
              "\n",
              "        async function convertToInteractive(key) {\n",
              "          const element = document.querySelector('#df-d338020f-fbd9-48f8-823a-3241346080d9');\n",
              "          const dataTable =\n",
              "            await google.colab.kernel.invokeFunction('convertToInteractive',\n",
              "                                                     [key], {});\n",
              "          if (!dataTable) return;\n",
              "\n",
              "          const docLinkHtml = 'Like what you see? Visit the ' +\n",
              "            '<a target=\"_blank\" href=https://colab.research.google.com/notebooks/data_table.ipynb>data table notebook</a>'\n",
              "            + ' to learn more about interactive tables.';\n",
              "          element.innerHTML = '';\n",
              "          dataTable['output_type'] = 'display_data';\n",
              "          await google.colab.output.renderOutput(dataTable, element);\n",
              "          const docLink = document.createElement('div');\n",
              "          docLink.innerHTML = docLinkHtml;\n",
              "          element.appendChild(docLink);\n",
              "        }\n",
              "      </script>\n",
              "    </div>\n",
              "  </div>\n",
              "  "
            ],
            "text/plain": [
              "   user_id  item_id  rating  timestamp\n",
              "0        1     1193       5  978300760\n",
              "1        1      661       3  978302109\n",
              "2        1      914       3  978301968\n",
              "3        1     3408       4  978300275\n",
              "4        1     2355       5  978824291"
            ]
          },
          "metadata": {},
          "execution_count": 8
        }
      ]
    },
    {
      "cell_type": "markdown",
      "source": [
        "we are not intrested in timestamps, so we can remove the column. <br>\n",
        "also, in order to keep embedding size as small as possible, we need to change the user and item ids."
      ],
      "metadata": {
        "id": "cKQsUvO77tNR"
      }
    },
    {
      "cell_type": "code",
      "source": [
        "ratings_df.drop(columns='timestamp', inplace=True)\n",
        "\n",
        "def user_id_trans(idx):\n",
        "    return idx-1\n",
        "\n",
        "item_id_trans_dict =  {k:v for k,v in zip(ratings_df.item_id.unique(),range(ratings_df.item_id.nunique()))}\n",
        "def item_id_trans(key_value):\n",
        "    return item_id_trans_dict[key_value]\n",
        "\n",
        "ratings_df.user_id = ratings_df.user_id.apply(user_id_trans)\n",
        "ratings_df.item_id = ratings_df.item_id.apply(item_id_trans)\n",
        "\n",
        "ratings_df.head()"
      ],
      "metadata": {
        "colab": {
          "base_uri": "https://localhost:8080/",
          "height": 206
        },
        "id": "K4vLMtG97eoY",
        "outputId": "a087cad3-c240-4368-c911-d316abcfdadf"
      },
      "execution_count": 9,
      "outputs": [
        {
          "output_type": "execute_result",
          "data": {
            "text/html": [
              "\n",
              "  <div id=\"df-da947e6b-3bac-40d7-85a7-13aed6dbe9d4\">\n",
              "    <div class=\"colab-df-container\">\n",
              "      <div>\n",
              "<style scoped>\n",
              "    .dataframe tbody tr th:only-of-type {\n",
              "        vertical-align: middle;\n",
              "    }\n",
              "\n",
              "    .dataframe tbody tr th {\n",
              "        vertical-align: top;\n",
              "    }\n",
              "\n",
              "    .dataframe thead th {\n",
              "        text-align: right;\n",
              "    }\n",
              "</style>\n",
              "<table border=\"1\" class=\"dataframe\">\n",
              "  <thead>\n",
              "    <tr style=\"text-align: right;\">\n",
              "      <th></th>\n",
              "      <th>user_id</th>\n",
              "      <th>item_id</th>\n",
              "      <th>rating</th>\n",
              "    </tr>\n",
              "  </thead>\n",
              "  <tbody>\n",
              "    <tr>\n",
              "      <th>0</th>\n",
              "      <td>0</td>\n",
              "      <td>0</td>\n",
              "      <td>5</td>\n",
              "    </tr>\n",
              "    <tr>\n",
              "      <th>1</th>\n",
              "      <td>0</td>\n",
              "      <td>1</td>\n",
              "      <td>3</td>\n",
              "    </tr>\n",
              "    <tr>\n",
              "      <th>2</th>\n",
              "      <td>0</td>\n",
              "      <td>2</td>\n",
              "      <td>3</td>\n",
              "    </tr>\n",
              "    <tr>\n",
              "      <th>3</th>\n",
              "      <td>0</td>\n",
              "      <td>3</td>\n",
              "      <td>4</td>\n",
              "    </tr>\n",
              "    <tr>\n",
              "      <th>4</th>\n",
              "      <td>0</td>\n",
              "      <td>4</td>\n",
              "      <td>5</td>\n",
              "    </tr>\n",
              "  </tbody>\n",
              "</table>\n",
              "</div>\n",
              "      <button class=\"colab-df-convert\" onclick=\"convertToInteractive('df-da947e6b-3bac-40d7-85a7-13aed6dbe9d4')\"\n",
              "              title=\"Convert this dataframe to an interactive table.\"\n",
              "              style=\"display:none;\">\n",
              "        \n",
              "  <svg xmlns=\"http://www.w3.org/2000/svg\" height=\"24px\"viewBox=\"0 0 24 24\"\n",
              "       width=\"24px\">\n",
              "    <path d=\"M0 0h24v24H0V0z\" fill=\"none\"/>\n",
              "    <path d=\"M18.56 5.44l.94 2.06.94-2.06 2.06-.94-2.06-.94-.94-2.06-.94 2.06-2.06.94zm-11 1L8.5 8.5l.94-2.06 2.06-.94-2.06-.94L8.5 2.5l-.94 2.06-2.06.94zm10 10l.94 2.06.94-2.06 2.06-.94-2.06-.94-.94-2.06-.94 2.06-2.06.94z\"/><path d=\"M17.41 7.96l-1.37-1.37c-.4-.4-.92-.59-1.43-.59-.52 0-1.04.2-1.43.59L10.3 9.45l-7.72 7.72c-.78.78-.78 2.05 0 2.83L4 21.41c.39.39.9.59 1.41.59.51 0 1.02-.2 1.41-.59l7.78-7.78 2.81-2.81c.8-.78.8-2.07 0-2.86zM5.41 20L4 18.59l7.72-7.72 1.47 1.35L5.41 20z\"/>\n",
              "  </svg>\n",
              "      </button>\n",
              "      \n",
              "  <style>\n",
              "    .colab-df-container {\n",
              "      display:flex;\n",
              "      flex-wrap:wrap;\n",
              "      gap: 12px;\n",
              "    }\n",
              "\n",
              "    .colab-df-convert {\n",
              "      background-color: #E8F0FE;\n",
              "      border: none;\n",
              "      border-radius: 50%;\n",
              "      cursor: pointer;\n",
              "      display: none;\n",
              "      fill: #1967D2;\n",
              "      height: 32px;\n",
              "      padding: 0 0 0 0;\n",
              "      width: 32px;\n",
              "    }\n",
              "\n",
              "    .colab-df-convert:hover {\n",
              "      background-color: #E2EBFA;\n",
              "      box-shadow: 0px 1px 2px rgba(60, 64, 67, 0.3), 0px 1px 3px 1px rgba(60, 64, 67, 0.15);\n",
              "      fill: #174EA6;\n",
              "    }\n",
              "\n",
              "    [theme=dark] .colab-df-convert {\n",
              "      background-color: #3B4455;\n",
              "      fill: #D2E3FC;\n",
              "    }\n",
              "\n",
              "    [theme=dark] .colab-df-convert:hover {\n",
              "      background-color: #434B5C;\n",
              "      box-shadow: 0px 1px 3px 1px rgba(0, 0, 0, 0.15);\n",
              "      filter: drop-shadow(0px 1px 2px rgba(0, 0, 0, 0.3));\n",
              "      fill: #FFFFFF;\n",
              "    }\n",
              "  </style>\n",
              "\n",
              "      <script>\n",
              "        const buttonEl =\n",
              "          document.querySelector('#df-da947e6b-3bac-40d7-85a7-13aed6dbe9d4 button.colab-df-convert');\n",
              "        buttonEl.style.display =\n",
              "          google.colab.kernel.accessAllowed ? 'block' : 'none';\n",
              "\n",
              "        async function convertToInteractive(key) {\n",
              "          const element = document.querySelector('#df-da947e6b-3bac-40d7-85a7-13aed6dbe9d4');\n",
              "          const dataTable =\n",
              "            await google.colab.kernel.invokeFunction('convertToInteractive',\n",
              "                                                     [key], {});\n",
              "          if (!dataTable) return;\n",
              "\n",
              "          const docLinkHtml = 'Like what you see? Visit the ' +\n",
              "            '<a target=\"_blank\" href=https://colab.research.google.com/notebooks/data_table.ipynb>data table notebook</a>'\n",
              "            + ' to learn more about interactive tables.';\n",
              "          element.innerHTML = '';\n",
              "          dataTable['output_type'] = 'display_data';\n",
              "          await google.colab.output.renderOutput(dataTable, element);\n",
              "          const docLink = document.createElement('div');\n",
              "          docLink.innerHTML = docLinkHtml;\n",
              "          element.appendChild(docLink);\n",
              "        }\n",
              "      </script>\n",
              "    </div>\n",
              "  </div>\n",
              "  "
            ],
            "text/plain": [
              "   user_id  item_id  rating\n",
              "0        0        0       5\n",
              "1        0        1       3\n",
              "2        0        2       3\n",
              "3        0        3       4\n",
              "4        0        4       5"
            ]
          },
          "metadata": {},
          "execution_count": 9
        }
      ]
    },
    {
      "cell_type": "code",
      "source": [
        "ml_users_num, ml_items_num = ratings_df.user_id.nunique(), ratings_df.item_id.nunique()\n",
        "ml_users_num, ml_items_num"
      ],
      "metadata": {
        "colab": {
          "base_uri": "https://localhost:8080/"
        },
        "id": "TUu4BApbxVkI",
        "outputId": "529bd27c-f534-4581-e252-226f82668db5"
      },
      "execution_count": 10,
      "outputs": [
        {
          "output_type": "execute_result",
          "data": {
            "text/plain": [
              "(6040, 3706)"
            ]
          },
          "metadata": {},
          "execution_count": 10
        }
      ]
    },
    {
      "cell_type": "markdown",
      "source": [
        "## Train\\Test Split"
      ],
      "metadata": {
        "id": "YrJDgoW11ITS"
      }
    },
    {
      "cell_type": "markdown",
      "source": [
        "splitting the data into train, validation and test:"
      ],
      "metadata": {
        "id": "-gIHmW1qGK6_"
      }
    },
    {
      "cell_type": "code",
      "source": [
        "train, test = train_test_split(ratings_df, test_size=0.1, random_state=999613182)\n",
        "train.user_id.nunique(), train.item_id.nunique()\n",
        "\n",
        "def create_full_mat(df):\n",
        "    full_mat = np.zeros((ml_users_num, ml_items_num))\n",
        "    for user, item, rating in zip(df.user_id, df.item_id, df.rating):\n",
        "        full_mat[user, item] = rating\n",
        "    return full_mat\n",
        "\n",
        "full_train_mat = create_full_mat(train)\n",
        "full_test_mat = create_full_mat(test)"
      ],
      "metadata": {
        "id": "boo_V2j7GQuR"
      },
      "execution_count": 11,
      "outputs": []
    },
    {
      "cell_type": "code",
      "source": [
        "def df_to_mat(df):\n",
        "    full_mat = np.zeros((df.user_id.max()+1, df.item_id.max()+1))\n",
        "    for user, item, rating in zip(df.user_id, df.item_id, df.rating):\n",
        "        full_mat[user, item] = rating\n",
        "    return full_mat"
      ],
      "metadata": {
        "id": "UmoVSGibAXrT"
      },
      "execution_count": 12,
      "outputs": []
    },
    {
      "cell_type": "markdown",
      "source": [
        "## Matrix Factorization"
      ],
      "metadata": {
        "id": "FU2yfxc-1OaR"
      }
    },
    {
      "cell_type": "markdown",
      "source": [
        "### Hyperparameter Tuning"
      ],
      "metadata": {
        "id": "cV4swqNL1cbR"
      }
    },
    {
      "cell_type": "markdown",
      "source": [
        "creating and fitting the model:"
      ],
      "metadata": {
        "id": "Xgvmv2jXRO2u"
      }
    },
    {
      "cell_type": "code",
      "source": [
        "mf = MF(users_num=ratings_df.user_id.max()+1, items_num=ratings_df.item_id.max()+1)"
      ],
      "metadata": {
        "id": "ytvDSyEMIrRU"
      },
      "execution_count": 13,
      "outputs": []
    },
    {
      "cell_type": "code",
      "source": [
        "tuner = kt.Hyperband(mf.model_builder,\n",
        "                     objective='val_loss',\n",
        "                     max_epochs=10,\n",
        "                     factor=3,\n",
        "                     directory='hyper_params',\n",
        "                     project_name='mf_ml')"
      ],
      "metadata": {
        "colab": {
          "base_uri": "https://localhost:8080/"
        },
        "id": "iqbbZ6Uyp8vO",
        "outputId": "b09e5cb2-8225-481c-8b07-45728ec834ea"
      },
      "execution_count": 14,
      "outputs": [
        {
          "output_type": "stream",
          "name": "stdout",
          "text": [
            "Model: \"model\"\n",
            "__________________________________________________________________________________________________\n",
            " Layer (type)                   Output Shape         Param #     Connected to                     \n",
            "==================================================================================================\n",
            " user_input (InputLayer)        [(None, 1)]          0           []                               \n",
            "                                                                                                  \n",
            " item_input (InputLayer)        [(None, 1)]          0           []                               \n",
            "                                                                                                  \n",
            " user_embedding (Embedding)     (None, 1, 10)        60400       ['user_input[0][0]']             \n",
            "                                                                                                  \n",
            " item_embedding (Embedding)     (None, 1, 10)        37060       ['item_input[0][0]']             \n",
            "                                                                                                  \n",
            " flatten (Flatten)              (None, 10)           0           ['user_embedding[0][0]']         \n",
            "                                                                                                  \n",
            " flatten_1 (Flatten)            (None, 10)           0           ['item_embedding[0][0]']         \n",
            "                                                                                                  \n",
            " dot (Dot)                      (None, 1)            0           ['flatten[0][0]',                \n",
            "                                                                  'flatten_1[0][0]']              \n",
            "                                                                                                  \n",
            "==================================================================================================\n",
            "Total params: 97,460\n",
            "Trainable params: 97,460\n",
            "Non-trainable params: 0\n",
            "__________________________________________________________________________________________________\n"
          ]
        }
      ]
    },
    {
      "cell_type": "code",
      "source": [
        "stop_early = tf.keras.callbacks.EarlyStopping(monitor='val_loss', patience=5)\n",
        "tuner.search([np.array(train.user_id), np.array(train.item_id)], np.array(train.rating), \n",
        "             epochs=10, validation_split=0.2, callbacks=[stop_early], batch_size=512)\n",
        "# Get the optimal hyperparameters\n",
        "best_hps=tuner.get_best_hyperparameters(num_trials=1)[0]"
      ],
      "metadata": {
        "colab": {
          "base_uri": "https://localhost:8080/"
        },
        "id": "gRgK4SiFqOZT",
        "outputId": "422e73f5-b070-4713-ca96-c1aff17faf70"
      },
      "execution_count": 15,
      "outputs": [
        {
          "output_type": "stream",
          "name": "stdout",
          "text": [
            "Trial 8 Complete [00h 00m 12s]\n",
            "val_loss: 0.8660721182823181\n",
            "\n",
            "Best val_loss So Far: 0.8660721182823181\n",
            "Total elapsed time: 00h 01m 53s\n",
            "INFO:tensorflow:Oracle triggered exit\n"
          ]
        }
      ]
    },
    {
      "cell_type": "code",
      "source": [
        "best_hps.get('latent_dim'), best_hps.get('learning_rate')"
      ],
      "metadata": {
        "colab": {
          "base_uri": "https://localhost:8080/"
        },
        "id": "wioPaEO4uvfS",
        "outputId": "05e5faf8-8e47-49ad-e888-b6f185849b38"
      },
      "execution_count": 16,
      "outputs": [
        {
          "output_type": "execute_result",
          "data": {
            "text/plain": [
              "(40, 0.001)"
            ]
          },
          "metadata": {},
          "execution_count": 16
        }
      ]
    },
    {
      "cell_type": "markdown",
      "source": [
        "### Retraining"
      ],
      "metadata": {
        "id": "Hb0B6hqQ1h8h"
      }
    },
    {
      "cell_type": "code",
      "source": [
        "mf_opt = MF(users_num=ratings_df.user_id.max()+1, items_num=ratings_df.item_id.max()+1, latent_dim=best_hps.get('latent_dim'), learning_rate=best_hps.get('learning_rate'))\n",
        "mf_opt.build_opt_model()"
      ],
      "metadata": {
        "colab": {
          "base_uri": "https://localhost:8080/"
        },
        "id": "u3VynXcTHf62",
        "outputId": "02065b7c-0ca6-41e1-9f8a-f42427aed04c"
      },
      "execution_count": 17,
      "outputs": [
        {
          "output_type": "stream",
          "name": "stdout",
          "text": [
            "Model: \"model_1\"\n",
            "__________________________________________________________________________________________________\n",
            " Layer (type)                   Output Shape         Param #     Connected to                     \n",
            "==================================================================================================\n",
            " user_input (InputLayer)        [(None, 1)]          0           []                               \n",
            "                                                                                                  \n",
            " item_input (InputLayer)        [(None, 1)]          0           []                               \n",
            "                                                                                                  \n",
            " user_embedding (Embedding)     (None, 1, 40)        241600      ['user_input[0][0]']             \n",
            "                                                                                                  \n",
            " item_embedding (Embedding)     (None, 1, 40)        148240      ['item_input[0][0]']             \n",
            "                                                                                                  \n",
            " flatten_2 (Flatten)            (None, 40)           0           ['user_embedding[0][0]']         \n",
            "                                                                                                  \n",
            " flatten_3 (Flatten)            (None, 40)           0           ['item_embedding[0][0]']         \n",
            "                                                                                                  \n",
            " dot_1 (Dot)                    (None, 1)            0           ['flatten_2[0][0]',              \n",
            "                                                                  'flatten_3[0][0]']              \n",
            "                                                                                                  \n",
            "==================================================================================================\n",
            "Total params: 389,840\n",
            "Trainable params: 389,840\n",
            "Non-trainable params: 0\n",
            "__________________________________________________________________________________________________\n"
          ]
        }
      ]
    },
    {
      "cell_type": "code",
      "source": [
        "mf_opt.fit(train.user_id, train.item_id, labels=train.rating)"
      ],
      "metadata": {
        "id": "iNR43DFMXmXJ",
        "colab": {
          "base_uri": "https://localhost:8080/"
        },
        "outputId": "7f8bad69-aab7-44be-d1c7-2566197f5257"
      },
      "execution_count": 18,
      "outputs": [
        {
          "output_type": "stream",
          "name": "stdout",
          "text": [
            "Epoch 1/100\n",
            "1583/1583 [==============================] - 7s 4ms/step - loss: 6.0367 - val_loss: 1.0813\n",
            "Epoch 2/100\n",
            "1583/1583 [==============================] - 6s 4ms/step - loss: 0.9202 - val_loss: 0.8610\n",
            "Epoch 3/100\n",
            "1583/1583 [==============================] - 6s 4ms/step - loss: 0.8360 - val_loss: 0.8283\n",
            "Epoch 4/100\n",
            "1583/1583 [==============================] - 6s 4ms/step - loss: 0.8031 - val_loss: 0.8051\n",
            "Epoch 5/100\n",
            "1583/1583 [==============================] - 6s 4ms/step - loss: 0.7755 - val_loss: 0.7881\n",
            "Epoch 6/100\n",
            "1583/1583 [==============================] - 6s 4ms/step - loss: 0.7517 - val_loss: 0.7763\n",
            "Epoch 7/100\n",
            "1583/1583 [==============================] - 6s 4ms/step - loss: 0.7302 - val_loss: 0.7675\n",
            "Epoch 8/100\n",
            "1583/1583 [==============================] - 6s 4ms/step - loss: 0.7084 - val_loss: 0.7602\n",
            "Epoch 9/100\n",
            "1583/1583 [==============================] - 6s 4ms/step - loss: 0.6850 - val_loss: 0.7513\n",
            "Epoch 10/100\n",
            "1583/1583 [==============================] - 6s 4ms/step - loss: 0.6608 - val_loss: 0.7462\n",
            "Epoch 11/100\n",
            "1583/1583 [==============================] - 6s 4ms/step - loss: 0.6358 - val_loss: 0.7439\n",
            "Epoch 12/100\n",
            "1583/1583 [==============================] - 6s 4ms/step - loss: 0.6103 - val_loss: 0.7429\n",
            "Epoch 13/100\n",
            "1583/1583 [==============================] - 6s 4ms/step - loss: 0.5852 - val_loss: 0.7469\n",
            "Epoch 14/100\n",
            "1583/1583 [==============================] - 6s 4ms/step - loss: 0.5608 - val_loss: 0.7498\n",
            "Epoch 15/100\n",
            "1583/1583 [==============================] - 6s 4ms/step - loss: 0.5372 - val_loss: 0.7558\n",
            "Epoch 16/100\n",
            "1583/1583 [==============================] - 6s 4ms/step - loss: 0.5155 - val_loss: 0.7659\n",
            "Epoch 17/100\n",
            "1583/1583 [==============================] - 6s 4ms/step - loss: 0.4958 - val_loss: 0.7772\n",
            "Epoch 17: early stopping\n"
          ]
        }
      ]
    },
    {
      "cell_type": "code",
      "source": [
        "# plot training history\n",
        "plt.plot(mf_opt.hist.history['loss'], label='train')\n",
        "plt.plot(mf_opt.hist.history['val_loss'], label='validation')\n",
        "plt.xlabel('iteration')\n",
        "plt.ylabel('loss')\n",
        "plt.legend()\n",
        "plt.show()"
      ],
      "metadata": {
        "colab": {
          "base_uri": "https://localhost:8080/",
          "height": 279
        },
        "id": "q2pW_l7WNIvh",
        "outputId": "2b047e3a-09dd-453d-dc25-deb2f31c8818"
      },
      "execution_count": 19,
      "outputs": [
        {
          "output_type": "display_data",
          "data": {
            "image/png": "[encoded data removed]",
            "text/plain": [
              "<Figure size 432x288 with 1 Axes>"
            ]
          },
          "metadata": {
            "needs_background": "light"
          }
        }
      ]
    },
    {
      "cell_type": "code",
      "source": [
        "mf_opt.model = load_model('best_mf_model.h5')"
      ],
      "metadata": {
        "id": "kBTFhL88WkcU"
      },
      "execution_count": 20,
      "outputs": []
    },
    {
      "cell_type": "code",
      "source": [
        "shutil.rmtree('/content/hyper_params')"
      ],
      "metadata": {
        "id": "Rz6fvc-73qPR"
      },
      "execution_count": 21,
      "outputs": []
    },
    {
      "cell_type": "markdown",
      "source": [
        "### Prediction"
      ],
      "metadata": {
        "id": "KeVoq0_I1nBM"
      }
    },
    {
      "cell_type": "markdown",
      "source": [
        "test prediction:"
      ],
      "metadata": {
        "id": "kOr-Y-OYRU_k"
      }
    },
    {
      "cell_type": "code",
      "source": [
        "mf_opt.predict(test.user_id, test.item_id)"
      ],
      "metadata": {
        "colab": {
          "base_uri": "https://localhost:8080/"
        },
        "id": "fnMRiZSePy_d",
        "outputId": "61c2dd03-7aa7-4789-eb84-84a0fa4a1a4c"
      },
      "execution_count": 22,
      "outputs": [
        {
          "output_type": "stream",
          "name": "stdout",
          "text": [
            "13/13 [==============================] - 0s 3ms/step\n"
          ]
        }
      ]
    },
    {
      "cell_type": "markdown",
      "source": [
        "### Evaluation"
      ],
      "metadata": {
        "id": "nRoDikHB1tpB"
      }
    },
    {
      "cell_type": "code",
      "source": [
        "pred_df = test.copy()\n",
        "pred_df.rating = mf_opt.predictions.reshape(-1)\n",
        "pred_mat = df_to_mat(pred_df)\n",
        "test_mat = df_to_mat(test)"
      ],
      "metadata": {
        "id": "68PeYV_0_N2G"
      },
      "execution_count": 23,
      "outputs": []
    },
    {
      "cell_type": "code",
      "source": [
        "mf_opt_eval = Metrics.get_evaluation(test_mat, pred_mat)\n",
        "mf_opt_eval"
      ],
      "metadata": {
        "colab": {
          "base_uri": "https://localhost:8080/"
        },
        "id": "MwiJBjtFAAom",
        "outputId": "cb0c879f-7bf0-4482-9024-249d200579aa"
      },
      "execution_count": 24,
      "outputs": [
        {
          "output_type": "execute_result",
          "data": {
            "text/plain": [
              "{'MRR_10': 0.9769878574226399,\n",
              " 'MRR_5': 0.9769878574226399,\n",
              " 'NDCG_10': 0.9669656816103274,\n",
              " 'NDCG_100': 0.9716927966699688,\n",
              " 'NDCG_5': 0.9714578253670941,\n",
              " 'RMSE': 0.8589624058098179}"
            ]
          },
          "metadata": {},
          "execution_count": 24
        }
      ]
    },
    {
      "cell_type": "code",
      "source": [
        "mf_opt_eval_df = pd.DataFrame(mf_opt_eval, index=[0])\n",
        "mf_opt_eval_df.plot(kind='bar')\n",
        "plt.title('MF movielens-1m')\n",
        "plt.xlabel('metrics')\n",
        "plt.ylabel('values')"
      ],
      "metadata": {
        "colab": {
          "base_uri": "https://localhost:8080/",
          "height": 309
        },
        "id": "1fW5pHSM3aG_",
        "outputId": "823e3b76-20bb-486e-f22e-7a7d3f7e413f"
      },
      "execution_count": 25,
      "outputs": [
        {
          "output_type": "execute_result",
          "data": {
            "text/plain": [
              "Text(0, 0.5, 'values')"
            ]
          },
          "metadata": {},
          "execution_count": 25
        },
        {
          "output_type": "display_data",
          "data": {
            "image/png": "[encoded data removed]",
            "text/plain": [
              "<Figure size 432x288 with 1 Axes>"
            ]
          },
          "metadata": {
            "needs_background": "light"
          }
        }
      ]
    },
    {
      "cell_type": "markdown",
      "source": [
        "Note that we approximately reached the RMSE described in the paper (0.86 vs. 0.845). Furthermore our implementation uses regular MF where as the paper comparison is Biased-MF based."
      ],
      "metadata": {
        "id": "2Fj3uMBY_OtY"
      }
    },
    {
      "cell_type": "markdown",
      "source": [
        "## AutoRec"
      ],
      "metadata": {
        "id": "bFghzpAklfwP"
      }
    },
    {
      "cell_type": "markdown",
      "source": [
        "### Data Manipulation"
      ],
      "metadata": {
        "id": "8NmLxd3n605G"
      }
    },
    {
      "cell_type": "code",
      "source": [
        "def dataPreprocessor(rating_df):\n",
        "    # train_df, test_df = train_test_split(rating_df, test_size=0.1, random_state=42)\n",
        "    train_df, test_df = train_test_split(rating_df, test_size=0.1, random_state=999613182)\n",
        "    train_mat = np.zeros((rating_df.user_id.nunique(), rating_df.item_id.nunique()))\n",
        "    for (user_id, item_id, rating) in zip(train_df.user_id, train_df.item_id, train_df.rating):\n",
        "        train_mat[user_id, item_id] = rating\n",
        "\n",
        "    ## tmp ##\n",
        "    # train_mat_avg = copy.copy(train_mat)\n",
        "    # avg = np.true_divide(train_mat_avg.sum(1), np.maximum((train_mat_avg!=0).sum(1), 1))\n",
        "    # inds = np.where(train_mat_avg == 0)\n",
        "    # train_mat_avg[inds] = np.take(avg, inds[0])\n",
        "\n",
        "    test_mat = np.zeros((rating_df.user_id.nunique(), rating_df.item_id.nunique()))\n",
        "    for (user_id, item_id, rating) in zip(test_df.user_id, test_df.item_id, test_df.rating):\n",
        "        test_mat[user_id, item_id] = rating\n",
        "    \n",
        "    return train_mat, test_mat #, train_mat_avg"
      ],
      "metadata": {
        "id": "UA5_HEjXv9gv"
      },
      "execution_count": 26,
      "outputs": []
    },
    {
      "cell_type": "markdown",
      "source": [
        "### Hyperparameters Tuning"
      ],
      "metadata": {
        "id": "XFClzJaQ6_KD"
      }
    },
    {
      "cell_type": "code",
      "source": [
        "train_mat, test_mat = dataPreprocessor(ratings_df)\n",
        "autorec = IAutoRec(train_mat.shape[1])\n",
        "tuner = kt.Hyperband(autorec.model_builder,\n",
        "                    #  objective='val_loss',\n",
        "                     objective='loss',\n",
        "                     max_epochs=500,\n",
        "                     directory='hyper_params',\n",
        "                     project_name='autorec_ml')\n"
      ],
      "metadata": {
        "id": "2Z6JBAvrn7y3",
        "colab": {
          "base_uri": "https://localhost:8080/"
        },
        "outputId": "9619493a-34c1-4d1e-d4d7-6e50f2db544d"
      },
      "execution_count": 27,
      "outputs": [
        {
          "output_type": "stream",
          "name": "stdout",
          "text": [
            "Model: \"model_2\"\n",
            "_________________________________________________________________\n",
            " Layer (type)                Output Shape              Param #   \n",
            "=================================================================\n",
            " item_rating (InputLayer)    [(None, 3706)]            0         \n",
            "                                                                 \n",
            " latent_dim (Dense)          (None, 200)               741400    \n",
            "                                                                 \n",
            " item_pred_rating (Dense)    (None, 3706)              744906    \n",
            "                                                                 \n",
            "=================================================================\n",
            "Total params: 1,486,306\n",
            "Trainable params: 1,486,306\n",
            "Non-trainable params: 0\n",
            "_________________________________________________________________\n"
          ]
        }
      ]
    },
    {
      "cell_type": "code",
      "source": [
        "stop_early = tf.keras.callbacks.EarlyStopping(monitor='val_loss', patience=10)\n",
        "# stop_early = tf.keras.callbacks.EarlyStopping(monitor='loss', patience=5)\n",
        "tuner.search(train_mat, train_mat,\n",
        "             epochs=500, validation_split=0.1, callbacks=[stop_early], batch_size=512)\n",
        "# Get the optimal hyperparameters\n",
        "best_hps=tuner.get_best_hyperparameters(num_trials=1)[0]"
      ],
      "metadata": {
        "colab": {
          "base_uri": "https://localhost:8080/"
        },
        "id": "tvb6g75_WV4E",
        "outputId": "11d59b5c-8bdc-4378-fc37-a0bb7974df7d"
      },
      "execution_count": 28,
      "outputs": [
        {
          "output_type": "stream",
          "name": "stdout",
          "text": [
            "Trial 52 Complete [00h 00m 03s]\n",
            "loss: 4.630521774291992\n",
            "\n",
            "Best loss So Far: 1.1757464408874512\n",
            "Total elapsed time: 00h 01m 46s\n",
            "INFO:tensorflow:Oracle triggered exit\n"
          ]
        }
      ]
    },
    {
      "cell_type": "code",
      "source": [
        "best_hps.get('hidden_units'), best_hps.get('first_activation'), best_hps.get('last_activation') ,best_hps.get('reg'), best_hps.get('learning_rate')"
      ],
      "metadata": {
        "colab": {
          "base_uri": "https://localhost:8080/"
        },
        "id": "wAkohy7wfGBf",
        "outputId": "626ae1f2-80b0-4cd6-e2a7-1f3ff6b4dfa0"
      },
      "execution_count": 29,
      "outputs": [
        {
          "output_type": "execute_result",
          "data": {
            "text/plain": [
              "(400, 'sigmoid', 'elu', 0.0001, 0.001)"
            ]
          },
          "metadata": {},
          "execution_count": 29
        }
      ]
    },
    {
      "cell_type": "markdown",
      "source": [
        "### Retraining"
      ],
      "metadata": {
        "id": "SSGXrccy88Qh"
      }
    },
    {
      "cell_type": "code",
      "source": [
        "autorec_opt = IAutoRec(train_mat.shape[1],hidden_units=best_hps.get('hidden_units'), reg=best_hps.get('reg'), \n",
        "                       learning_rate=best_hps.get('learning_rate'), first_activation=best_hps.get('first_activation'),\n",
        "                       last_activation=best_hps.get('last_activation'))\n",
        "autorec_opt.build_opt_model()\n",
        "autorec_opt.fit(train_mat, train_mat)"
      ],
      "metadata": {
        "colab": {
          "base_uri": "https://localhost:8080/"
        },
        "id": "fCYAMnTAWBa4",
        "outputId": "9cd5828c-a952-42d9-f25a-1b6a57a84ae4"
      },
      "execution_count": 30,
      "outputs": [
        {
          "output_type": "stream",
          "name": "stdout",
          "text": [
            "Model: \"model_1\"\n",
            "_________________________________________________________________\n",
            " Layer (type)                Output Shape              Param #   \n",
            "=================================================================\n",
            " item_rating (InputLayer)    [(None, 3706)]            0         \n",
            "                                                                 \n",
            " latent_dim (Dense)          (None, 400)               1482800   \n",
            "                                                                 \n",
            " item_pred_rating (Dense)    (None, 3706)              1486106   \n",
            "                                                                 \n",
            "=================================================================\n",
            "Total params: 2,968,906\n",
            "Trainable params: 2,968,906\n",
            "Non-trainable params: 0\n",
            "_________________________________________________________________\n",
            "Epoch 1/500\n",
            "22/22 - 1s - loss: 1.9525 - val_loss: 1.2200 - 812ms/epoch - 37ms/step\n",
            "Epoch 2/500\n",
            "22/22 - 0s - loss: 1.1551 - val_loss: 1.1268 - 207ms/epoch - 9ms/step\n",
            "Epoch 3/500\n",
            "22/22 - 0s - loss: 1.0987 - val_loss: 1.0999 - 200ms/epoch - 9ms/step\n",
            "Epoch 4/500\n",
            "22/22 - 0s - loss: 1.0795 - val_loss: 1.0860 - 208ms/epoch - 9ms/step\n",
            "Epoch 5/500\n",
            "22/22 - 0s - loss: 1.0683 - val_loss: 1.0786 - 210ms/epoch - 10ms/step\n",
            "Epoch 6/500\n",
            "22/22 - 0s - loss: 1.0572 - val_loss: 1.0674 - 216ms/epoch - 10ms/step\n",
            "Epoch 7/500\n",
            "22/22 - 0s - loss: 1.0490 - val_loss: 1.0582 - 210ms/epoch - 10ms/step\n",
            "Epoch 8/500\n",
            "22/22 - 0s - loss: 1.0414 - val_loss: 1.0546 - 213ms/epoch - 10ms/step\n",
            "Epoch 9/500\n",
            "22/22 - 0s - loss: 1.0331 - val_loss: 1.0470 - 229ms/epoch - 10ms/step\n",
            "Epoch 10/500\n",
            "22/22 - 0s - loss: 1.0246 - val_loss: 1.0418 - 230ms/epoch - 10ms/step\n",
            "Epoch 11/500\n",
            "22/22 - 0s - loss: 1.0176 - val_loss: 1.0337 - 235ms/epoch - 11ms/step\n",
            "Epoch 12/500\n",
            "22/22 - 0s - loss: 1.0109 - val_loss: 1.0336 - 206ms/epoch - 9ms/step\n",
            "Epoch 13/500\n",
            "22/22 - 1s - loss: 1.0056 - val_loss: 1.0297 - 985ms/epoch - 45ms/step\n",
            "Epoch 14/500\n",
            "22/22 - 0s - loss: 0.9999 - val_loss: 1.0297 - 212ms/epoch - 10ms/step\n",
            "Epoch 15/500\n",
            "22/22 - 0s - loss: 0.9955 - val_loss: 1.0292 - 209ms/epoch - 9ms/step\n",
            "Epoch 16/500\n",
            "22/22 - 0s - loss: 0.9908 - val_loss: 1.0271 - 217ms/epoch - 10ms/step\n",
            "Epoch 17/500\n",
            "22/22 - 0s - loss: 0.9849 - val_loss: 1.0252 - 210ms/epoch - 10ms/step\n",
            "Epoch 18/500\n",
            "22/22 - 0s - loss: 0.9815 - val_loss: 1.0226 - 212ms/epoch - 10ms/step\n",
            "Epoch 19/500\n",
            "22/22 - 0s - loss: 0.9749 - val_loss: 1.0233 - 137ms/epoch - 6ms/step\n",
            "Epoch 20/500\n",
            "22/22 - 0s - loss: 0.9719 - val_loss: 1.0243 - 137ms/epoch - 6ms/step\n",
            "Epoch 21/500\n",
            "22/22 - 0s - loss: 0.9702 - val_loss: 1.0283 - 132ms/epoch - 6ms/step\n",
            "Epoch 22/500\n",
            "22/22 - 0s - loss: 0.9658 - val_loss: 1.0255 - 137ms/epoch - 6ms/step\n",
            "Epoch 23/500\n",
            "22/22 - 0s - loss: 0.9628 - val_loss: 1.0262 - 135ms/epoch - 6ms/step\n",
            "Epoch 23: early stopping\n"
          ]
        }
      ]
    },
    {
      "cell_type": "code",
      "source": [
        "# plot training history\n",
        "plt.plot(autorec_opt.hist.history['loss'], label='train')\n",
        "plt.plot(autorec_opt.hist.history['val_loss'], label='validation')\n",
        "plt.xlabel('iteration')\n",
        "plt.ylabel('loss')\n",
        "plt.legend()"
      ],
      "metadata": {
        "colab": {
          "base_uri": "https://localhost:8080/",
          "height": 301
        },
        "id": "TBEEYzdtvX-3",
        "outputId": "9bda25f6-d058-4d29-e6c5-6b94a3ced010"
      },
      "execution_count": 31,
      "outputs": [
        {
          "output_type": "execute_result",
          "data": {
            "text/plain": [
              "<matplotlib.legend.Legend at 0x7f5d7dfc9350>"
            ]
          },
          "metadata": {},
          "execution_count": 31
        },
        {
          "output_type": "display_data",
          "data": {
            "image/png": "[encoded data removed]",
            "text/plain": [
              "<Figure size 432x288 with 1 Axes>"
            ]
          },
          "metadata": {
            "needs_background": "light"
          }
        }
      ]
    },
    {
      "cell_type": "code",
      "source": [
        "autorec_opt.model = load_model('best_autorec_model.h5', custom_objects={'masked_rmse': IAutoRec.masked_rmse})\n"
      ],
      "metadata": {
        "id": "dQgp5j3cXDcW"
      },
      "execution_count": 32,
      "outputs": []
    },
    {
      "cell_type": "code",
      "source": [
        "shutil.rmtree('/content/hyper_params')"
      ],
      "metadata": {
        "id": "0DBm25bc4Bsx"
      },
      "execution_count": 33,
      "outputs": []
    },
    {
      "cell_type": "markdown",
      "source": [
        "### Prediction"
      ],
      "metadata": {
        "id": "huAA7BL89AfL"
      }
    },
    {
      "cell_type": "code",
      "source": [
        "# autorec.predict(np.zeros(test_mat.shape))\n",
        "autorec_opt.predict(test_mat)"
      ],
      "metadata": {
        "colab": {
          "base_uri": "https://localhost:8080/"
        },
        "id": "3tS3C2fJuakq",
        "outputId": "98e69a9e-2b4b-4e15-9e77-dd61dae00a8e"
      },
      "execution_count": 34,
      "outputs": [
        {
          "output_type": "stream",
          "name": "stdout",
          "text": [
            "12/12 [==============================] - 0s 3ms/step\n"
          ]
        }
      ]
    },
    {
      "cell_type": "markdown",
      "source": [
        "### Evaluation"
      ],
      "metadata": {
        "id": "mbEOpGy79Dqs"
      }
    },
    {
      "cell_type": "code",
      "source": [
        "autorec_opt_eval = Metrics.get_evaluation(test_mat, autorec_opt.predictions)\n",
        "autorec_opt_eval"
      ],
      "metadata": {
        "colab": {
          "base_uri": "https://localhost:8080/"
        },
        "id": "YWN2oGiMCbOI",
        "outputId": "c7bdd2dd-cbbd-491f-9b20-57b9e2020f5e"
      },
      "execution_count": 35,
      "outputs": [
        {
          "output_type": "execute_result",
          "data": {
            "text/plain": [
              "{'MRR_10': 0.9705164792121314,\n",
              " 'MRR_5': 0.9704885009232833,\n",
              " 'NDCG_10': 0.9598457597597271,\n",
              " 'NDCG_100': 0.9632862472621129,\n",
              " 'NDCG_5': 0.966159332557079,\n",
              " 'RMSE': 1.22719955150456}"
            ]
          },
          "metadata": {},
          "execution_count": 35
        }
      ]
    },
    {
      "cell_type": "code",
      "source": [
        "autorec_opt_eval_df = pd.DataFrame(autorec_opt_eval, index=[0])\n",
        "autorec_opt_eval_df.plot(kind='bar')\n",
        "plt.title('IAutoRec movielens-1m')\n",
        "plt.xlabel('metrics')\n",
        "plt.ylabel('values')"
      ],
      "metadata": {
        "colab": {
          "base_uri": "https://localhost:8080/",
          "height": 309
        },
        "id": "0InidCx_9Ib6",
        "outputId": "78b45807-b34e-4a64-a24e-6c016e0f7460"
      },
      "execution_count": 36,
      "outputs": [
        {
          "output_type": "execute_result",
          "data": {
            "text/plain": [
              "Text(0, 0.5, 'values')"
            ]
          },
          "metadata": {},
          "execution_count": 36
        },
        {
          "output_type": "display_data",
          "data": {
            "image/png": "[encoded data removed]",
            "text/plain": [
              "<Figure size 432x288 with 1 Axes>"
            ]
          },
          "metadata": {
            "needs_background": "light"
          }
        }
      ]
    },
    {
      "cell_type": "markdown",
      "source": [
        "Note that we did not acheive similar results as the paper. our model's RMSE reaches 1.2 while the paper's reches 0.831. <br> This is quite a big difference, the reasons colud be explained by getting different hyperparameters. \n",
        "The paper does not disclose all of the hyperparameters.\n",
        "It describes some of them, such as regularization, hidden layer size and activation functions. Other parameters such as learning rate are not available, furthermore they use a different train and evaluation mechanism: \"We repeat this splitting procedure 5 times and report average RMSE.\""
      ],
      "metadata": {
        "id": "3L5k-TCII8Oo"
      }
    },
    {
      "cell_type": "markdown",
      "source": [
        "## IAutoRec Enhanced"
      ],
      "metadata": {
        "id": "0bxsFNPn9WHa"
      }
    },
    {
      "cell_type": "markdown",
      "source": [
        "### HyperParameters Tuning"
      ],
      "metadata": {
        "id": "UKUeZ0j39czE"
      }
    },
    {
      "cell_type": "code",
      "source": [
        "autorec_enhanced = IAutoRecEnhanced(train_mat.shape[1])\n",
        "tuner = kt.Hyperband(autorec_enhanced.model_builder,\n",
        "                     objective='val_loss',\n",
        "                    #  objective='loss',\n",
        "                     max_epochs=500,\n",
        "                    #  factor=3,\n",
        "                     directory='hyper_params',\n",
        "                     project_name='autorec_enhanced_ml')"
      ],
      "metadata": {
        "colab": {
          "base_uri": "https://localhost:8080/"
        },
        "id": "tTfvkPnut2xy",
        "outputId": "14b26858-4b19-450b-b5f8-1c792136bb88"
      },
      "execution_count": 37,
      "outputs": [
        {
          "output_type": "stream",
          "name": "stdout",
          "text": [
            "Model: \"model_2\"\n",
            "_________________________________________________________________\n",
            " Layer (type)                Output Shape              Param #   \n",
            "=================================================================\n",
            " item_rating (InputLayer)    [(None, 3706)]            0         \n",
            "                                                                 \n",
            " hidden_encoder (Dense)      (None, 200)               741400    \n",
            "                                                                 \n",
            " latent_dim (Dense)          (None, 100)               20100     \n",
            "                                                                 \n",
            " hidden_decoder (Dense)      (None, 200)               20200     \n",
            "                                                                 \n",
            " item_pred_rating (Dense)    (None, 3706)              744906    \n",
            "                                                                 \n",
            "=================================================================\n",
            "Total params: 1,526,606\n",
            "Trainable params: 1,526,606\n",
            "Non-trainable params: 0\n",
            "_________________________________________________________________\n"
          ]
        }
      ]
    },
    {
      "cell_type": "code",
      "source": [
        "stop_early = tf.keras.callbacks.EarlyStopping(monitor='val_loss', patience=5)\n",
        "# stop_early = tf.keras.callbacks.EarlyStopping(monitor='loss', patience=5)\n",
        "tuner.search(train_mat, train_mat,\n",
        "             epochs=500, validation_split=0.1, callbacks=[stop_early], batch_size=512)\n",
        "# Get the optimal hyperparameters\n",
        "best_hps=tuner.get_best_hyperparameters(num_trials=1)[0]"
      ],
      "metadata": {
        "colab": {
          "base_uri": "https://localhost:8080/"
        },
        "id": "4cE63RteuQOV",
        "outputId": "a6292bf4-7c55-4136-f300-7829fb995914"
      },
      "execution_count": 38,
      "outputs": [
        {
          "output_type": "stream",
          "name": "stdout",
          "text": [
            "Trial 100 Complete [00h 00m 01s]\n",
            "val_loss: 2.233543634414673\n",
            "\n",
            "Best val_loss So Far: 1.1061586141586304\n",
            "Total elapsed time: 00h 04m 00s\n",
            "INFO:tensorflow:Oracle triggered exit\n"
          ]
        }
      ]
    },
    {
      "cell_type": "code",
      "source": [
        "best_hps.get('hidden_units'), best_hps.get('hidden_layer_factor'), best_hps.get('first_activation'), best_hps.get('last_activation'), best_hps.get('reg'), best_hps.get('learning_rate')"
      ],
      "metadata": {
        "id": "B3hx9seMunA3",
        "colab": {
          "base_uri": "https://localhost:8080/"
        },
        "outputId": "d95e739e-9849-4dac-c681-4d0fbde6ccbc"
      },
      "execution_count": 39,
      "outputs": [
        {
          "output_type": "execute_result",
          "data": {
            "text/plain": [
              "(100, 2, 'elu', 'elu', 0.0001, 0.001)"
            ]
          },
          "metadata": {},
          "execution_count": 39
        }
      ]
    },
    {
      "cell_type": "markdown",
      "source": [
        "### Retraining"
      ],
      "metadata": {
        "id": "GBicB8qm9gm6"
      }
    },
    {
      "cell_type": "code",
      "source": [
        "autorec_enhanced_opt = IAutoRecEnhanced(train_mat.shape[1],hidden_units=best_hps.get('hidden_units'), \n",
        "                                        hidden_layer_factor=best_hps.get('hidden_layer_factor'), reg=best_hps.get('reg'), \n",
        "                                        learning_rate=best_hps.get('learning_rate'), first_activation=best_hps.get('first_activation'),\n",
        "                                        last_activation=best_hps.get('last_activation'))\n",
        "autorec_enhanced_opt.build_opt_model()\n",
        "autorec_enhanced_opt.fit(train_mat, train_mat)"
      ],
      "metadata": {
        "id": "2e88lswmun0F",
        "colab": {
          "base_uri": "https://localhost:8080/"
        },
        "outputId": "c48d6668-1eff-47f3-8910-e8a0fbe708f5"
      },
      "execution_count": 40,
      "outputs": [
        {
          "output_type": "stream",
          "name": "stdout",
          "text": [
            "Model: \"model_1\"\n",
            "_________________________________________________________________\n",
            " Layer (type)                Output Shape              Param #   \n",
            "=================================================================\n",
            " item_rating (InputLayer)    [(None, 3706)]            0         \n",
            "                                                                 \n",
            " hidden_encoder (Dense)      (None, 200)               741400    \n",
            "                                                                 \n",
            " latent_dim (Dense)          (None, 100)               20100     \n",
            "                                                                 \n",
            " hidden_decoder (Dense)      (None, 200)               20200     \n",
            "                                                                 \n",
            " item_pred_rating (Dense)    (None, 3706)              744906    \n",
            "                                                                 \n",
            "=================================================================\n",
            "Total params: 1,526,606\n",
            "Trainable params: 1,526,606\n",
            "Non-trainable params: 0\n",
            "_________________________________________________________________\n",
            "Epoch 1/500\n",
            "22/22 - 1s - loss: 2.2166 - val_loss: 1.2170 - 958ms/epoch - 44ms/step\n",
            "Epoch 2/500\n",
            "22/22 - 0s - loss: 1.1226 - val_loss: 1.0973 - 200ms/epoch - 9ms/step\n",
            "Epoch 3/500\n",
            "22/22 - 0s - loss: 1.0591 - val_loss: 1.0741 - 205ms/epoch - 9ms/step\n",
            "Epoch 4/500\n",
            "22/22 - 0s - loss: 1.0311 - val_loss: 1.0683 - 190ms/epoch - 9ms/step\n",
            "Epoch 5/500\n",
            "22/22 - 0s - loss: 1.0132 - val_loss: 1.0539 - 205ms/epoch - 9ms/step\n",
            "Epoch 6/500\n",
            "22/22 - 0s - loss: 0.9910 - val_loss: 1.0497 - 201ms/epoch - 9ms/step\n",
            "Epoch 7/500\n",
            "22/22 - 0s - loss: 0.9743 - val_loss: 1.0457 - 211ms/epoch - 10ms/step\n",
            "Epoch 8/500\n",
            "22/22 - 0s - loss: 0.9575 - val_loss: 1.0410 - 470ms/epoch - 21ms/step\n",
            "Epoch 9/500\n",
            "22/22 - 0s - loss: 0.9451 - val_loss: 1.0468 - 128ms/epoch - 6ms/step\n",
            "Epoch 10/500\n",
            "22/22 - 0s - loss: 0.9375 - val_loss: 1.0419 - 126ms/epoch - 6ms/step\n",
            "Epoch 11/500\n",
            "22/22 - 0s - loss: 0.9286 - val_loss: 1.0356 - 185ms/epoch - 8ms/step\n",
            "Epoch 12/500\n",
            "22/22 - 0s - loss: 0.9151 - val_loss: 1.0322 - 196ms/epoch - 9ms/step\n",
            "Epoch 13/500\n",
            "22/22 - 0s - loss: 0.9088 - val_loss: 1.0339 - 141ms/epoch - 6ms/step\n",
            "Epoch 14/500\n",
            "22/22 - 0s - loss: 0.9003 - val_loss: 1.0293 - 192ms/epoch - 9ms/step\n",
            "Epoch 15/500\n",
            "22/22 - 0s - loss: 0.8968 - val_loss: 1.0421 - 131ms/epoch - 6ms/step\n",
            "Epoch 16/500\n",
            "22/22 - 0s - loss: 0.8980 - val_loss: 1.0435 - 128ms/epoch - 6ms/step\n",
            "Epoch 17/500\n",
            "22/22 - 0s - loss: 0.8962 - val_loss: 1.0288 - 186ms/epoch - 8ms/step\n",
            "Epoch 18/500\n",
            "22/22 - 0s - loss: 0.8885 - val_loss: 1.0273 - 194ms/epoch - 9ms/step\n",
            "Epoch 19/500\n",
            "22/22 - 0s - loss: 0.8815 - val_loss: 1.0297 - 128ms/epoch - 6ms/step\n",
            "Epoch 20/500\n",
            "22/22 - 0s - loss: 0.8698 - val_loss: 1.0308 - 130ms/epoch - 6ms/step\n",
            "Epoch 21/500\n",
            "22/22 - 0s - loss: 0.8596 - val_loss: 1.0302 - 129ms/epoch - 6ms/step\n",
            "Epoch 22/500\n",
            "22/22 - 0s - loss: 0.8542 - val_loss: 1.0253 - 193ms/epoch - 9ms/step\n",
            "Epoch 23/500\n",
            "22/22 - 0s - loss: 0.8474 - val_loss: 1.0297 - 135ms/epoch - 6ms/step\n",
            "Epoch 24/500\n",
            "22/22 - 0s - loss: 0.8418 - val_loss: 1.0297 - 131ms/epoch - 6ms/step\n",
            "Epoch 25/500\n",
            "22/22 - 0s - loss: 0.8373 - val_loss: 1.0329 - 128ms/epoch - 6ms/step\n",
            "Epoch 26/500\n",
            "22/22 - 0s - loss: 0.8319 - val_loss: 1.0318 - 130ms/epoch - 6ms/step\n",
            "Epoch 27/500\n",
            "22/22 - 0s - loss: 0.8278 - val_loss: 1.0354 - 132ms/epoch - 6ms/step\n",
            "Epoch 27: early stopping\n"
          ]
        }
      ]
    },
    {
      "cell_type": "code",
      "source": [
        "# plot training history\n",
        "plt.plot(autorec_enhanced_opt.hist.history['loss'], label='train')\n",
        "plt.plot(autorec_enhanced_opt.hist.history['val_loss'], label='validation')\n",
        "plt.xlabel('iteration')\n",
        "plt.ylabel('loss')\n",
        "plt.legend()"
      ],
      "metadata": {
        "id": "oXPOOpWXpF7P",
        "colab": {
          "base_uri": "https://localhost:8080/",
          "height": 297
        },
        "outputId": "4b6d8c6d-3e56-450b-c9a5-8b8a518688ec"
      },
      "execution_count": 41,
      "outputs": [
        {
          "output_type": "execute_result",
          "data": {
            "text/plain": [
              "<matplotlib.legend.Legend at 0x7f5d7b1a86d0>"
            ]
          },
          "metadata": {},
          "execution_count": 41
        },
        {
          "output_type": "display_data",
          "data": {
            "image/png": "[encoded data removed]",
            "text/plain": [
              "<Figure size 432x288 with 1 Axes>"
            ]
          },
          "metadata": {
            "needs_background": "light"
          }
        }
      ]
    },
    {
      "cell_type": "code",
      "source": [
        "autorec_enhanced_opt.model = load_model('best_autorec_enhanced_model.h5', custom_objects={'masked_rmse': IAutoRecEnhanced.masked_rmse})"
      ],
      "metadata": {
        "id": "1SlhjlUoXLaA"
      },
      "execution_count": 42,
      "outputs": []
    },
    {
      "cell_type": "code",
      "source": [
        "shutil.rmtree('/content/hyper_params')"
      ],
      "metadata": {
        "id": "lpOlff2S4D9s"
      },
      "execution_count": 43,
      "outputs": []
    },
    {
      "cell_type": "markdown",
      "source": [
        "### Prediction"
      ],
      "metadata": {
        "id": "X_089usd9oLL"
      }
    },
    {
      "cell_type": "code",
      "source": [
        "autorec_enhanced_opt.predict(test_mat)"
      ],
      "metadata": {
        "id": "qPyCRVXDpMtg",
        "colab": {
          "base_uri": "https://localhost:8080/"
        },
        "outputId": "0101cb96-51b0-41c9-9d26-78cba4ea395c"
      },
      "execution_count": 44,
      "outputs": [
        {
          "output_type": "stream",
          "name": "stdout",
          "text": [
            "12/12 [==============================] - 0s 3ms/step\n"
          ]
        }
      ]
    },
    {
      "cell_type": "markdown",
      "source": [
        "### Evaluation"
      ],
      "metadata": {
        "id": "CgQwY6DV9rCr"
      }
    },
    {
      "cell_type": "code",
      "source": [
        "autorec_enhanced_opt_eval = Metrics.get_evaluation(test_mat, autorec_enhanced_opt.predictions)\n",
        "autorec_enhanced_opt_eval"
      ],
      "metadata": {
        "id": "Uu2kd5e2rIiW",
        "colab": {
          "base_uri": "https://localhost:8080/"
        },
        "outputId": "4bbd4f24-3d66-45b3-d420-696ed5b6b19a"
      },
      "execution_count": 45,
      "outputs": [
        {
          "output_type": "execute_result",
          "data": {
            "text/plain": [
              "{'MRR_10': 0.9745637385388939,\n",
              " 'MRR_5': 0.9745397571484529,\n",
              " 'NDCG_10': 0.9614263209309873,\n",
              " 'NDCG_100': 0.9622822093063655,\n",
              " 'NDCG_5': 0.9681381379028964,\n",
              " 'RMSE': 1.2540092015790152}"
            ]
          },
          "metadata": {},
          "execution_count": 45
        }
      ]
    },
    {
      "cell_type": "code",
      "source": [
        "autorec_enhanced_opt_eval_df = pd.DataFrame(autorec_enhanced_opt_eval, index=[0])\n",
        "autorec_enhanced_opt_eval_df.plot(kind='bar')\n",
        "plt.title('IAutoRec Enhanced movielens-1m')\n",
        "plt.xlabel('metrics')\n",
        "plt.ylabel('values')"
      ],
      "metadata": {
        "id": "BKx9ZHZF9yqE",
        "colab": {
          "base_uri": "https://localhost:8080/",
          "height": 309
        },
        "outputId": "102112ab-8011-4762-e212-45d85ea1d2f7"
      },
      "execution_count": 46,
      "outputs": [
        {
          "output_type": "execute_result",
          "data": {
            "text/plain": [
              "Text(0, 0.5, 'values')"
            ]
          },
          "metadata": {},
          "execution_count": 46
        },
        {
          "output_type": "display_data",
          "data": {
            "image/png": "[encoded data removed]",
            "text/plain": [
              "<Figure size 432x288 with 1 Axes>"
            ]
          },
          "metadata": {
            "needs_background": "light"
          }
        }
      ]
    },
    {
      "cell_type": "markdown",
      "source": [
        "## Models Metrics Comparison"
      ],
      "metadata": {
        "id": "3hGuJHjO98Ar"
      }
    },
    {
      "cell_type": "code",
      "source": [
        "result_dict = {\n",
        "    'mf': mf_opt_eval,\n",
        "    'autorec': autorec_opt_eval,\n",
        "    'autorec_enhanced': autorec_enhanced_opt_eval\n",
        "               }\n",
        "res_df = pd.DataFrame.from_dict(result_dict)\n",
        "res_df"
      ],
      "metadata": {
        "id": "Ne9llYJFxUjw",
        "colab": {
          "base_uri": "https://localhost:8080/",
          "height": 237
        },
        "outputId": "a61f78dc-9653-4aaf-d69b-a989e3be47ef"
      },
      "execution_count": 47,
      "outputs": [
        {
          "output_type": "execute_result",
          "data": {
            "text/html": [
              "\n",
              "  <div id=\"df-bee776da-9e1e-420e-a8d0-408501a39baf\">\n",
              "    <div class=\"colab-df-container\">\n",
              "      <div>\n",
              "<style scoped>\n",
              "    .dataframe tbody tr th:only-of-type {\n",
              "        vertical-align: middle;\n",
              "    }\n",
              "\n",
              "    .dataframe tbody tr th {\n",
              "        vertical-align: top;\n",
              "    }\n",
              "\n",
              "    .dataframe thead th {\n",
              "        text-align: right;\n",
              "    }\n",
              "</style>\n",
              "<table border=\"1\" class=\"dataframe\">\n",
              "  <thead>\n",
              "    <tr style=\"text-align: right;\">\n",
              "      <th></th>\n",
              "      <th>mf</th>\n",
              "      <th>autorec</th>\n",
              "      <th>autorec_enhanced</th>\n",
              "    </tr>\n",
              "  </thead>\n",
              "  <tbody>\n",
              "    <tr>\n",
              "      <th>RMSE</th>\n",
              "      <td>0.858962</td>\n",
              "      <td>1.227200</td>\n",
              "      <td>1.254009</td>\n",
              "    </tr>\n",
              "    <tr>\n",
              "      <th>MRR_5</th>\n",
              "      <td>0.976988</td>\n",
              "      <td>0.970489</td>\n",
              "      <td>0.974540</td>\n",
              "    </tr>\n",
              "    <tr>\n",
              "      <th>MRR_10</th>\n",
              "      <td>0.976988</td>\n",
              "      <td>0.970516</td>\n",
              "      <td>0.974564</td>\n",
              "    </tr>\n",
              "    <tr>\n",
              "      <th>NDCG_5</th>\n",
              "      <td>0.971458</td>\n",
              "      <td>0.966159</td>\n",
              "      <td>0.968138</td>\n",
              "    </tr>\n",
              "    <tr>\n",
              "      <th>NDCG_10</th>\n",
              "      <td>0.966966</td>\n",
              "      <td>0.959846</td>\n",
              "      <td>0.961426</td>\n",
              "    </tr>\n",
              "    <tr>\n",
              "      <th>NDCG_100</th>\n",
              "      <td>0.971693</td>\n",
              "      <td>0.963286</td>\n",
              "      <td>0.962282</td>\n",
              "    </tr>\n",
              "  </tbody>\n",
              "</table>\n",
              "</div>\n",
              "      <button class=\"colab-df-convert\" onclick=\"convertToInteractive('df-bee776da-9e1e-420e-a8d0-408501a39baf')\"\n",
              "              title=\"Convert this dataframe to an interactive table.\"\n",
              "              style=\"display:none;\">\n",
              "        \n",
              "  <svg xmlns=\"http://www.w3.org/2000/svg\" height=\"24px\"viewBox=\"0 0 24 24\"\n",
              "       width=\"24px\">\n",
              "    <path d=\"M0 0h24v24H0V0z\" fill=\"none\"/>\n",
              "    <path d=\"M18.56 5.44l.94 2.06.94-2.06 2.06-.94-2.06-.94-.94-2.06-.94 2.06-2.06.94zm-11 1L8.5 8.5l.94-2.06 2.06-.94-2.06-.94L8.5 2.5l-.94 2.06-2.06.94zm10 10l.94 2.06.94-2.06 2.06-.94-2.06-.94-.94-2.06-.94 2.06-2.06.94z\"/><path d=\"M17.41 7.96l-1.37-1.37c-.4-.4-.92-.59-1.43-.59-.52 0-1.04.2-1.43.59L10.3 9.45l-7.72 7.72c-.78.78-.78 2.05 0 2.83L4 21.41c.39.39.9.59 1.41.59.51 0 1.02-.2 1.41-.59l7.78-7.78 2.81-2.81c.8-.78.8-2.07 0-2.86zM5.41 20L4 18.59l7.72-7.72 1.47 1.35L5.41 20z\"/>\n",
              "  </svg>\n",
              "      </button>\n",
              "      \n",
              "  <style>\n",
              "    .colab-df-container {\n",
              "      display:flex;\n",
              "      flex-wrap:wrap;\n",
              "      gap: 12px;\n",
              "    }\n",
              "\n",
              "    .colab-df-convert {\n",
              "      background-color: #E8F0FE;\n",
              "      border: none;\n",
              "      border-radius: 50%;\n",
              "      cursor: pointer;\n",
              "      display: none;\n",
              "      fill: #1967D2;\n",
              "      height: 32px;\n",
              "      padding: 0 0 0 0;\n",
              "      width: 32px;\n",
              "    }\n",
              "\n",
              "    .colab-df-convert:hover {\n",
              "      background-color: #E2EBFA;\n",
              "      box-shadow: 0px 1px 2px rgba(60, 64, 67, 0.3), 0px 1px 3px 1px rgba(60, 64, 67, 0.15);\n",
              "      fill: #174EA6;\n",
              "    }\n",
              "\n",
              "    [theme=dark] .colab-df-convert {\n",
              "      background-color: #3B4455;\n",
              "      fill: #D2E3FC;\n",
              "    }\n",
              "\n",
              "    [theme=dark] .colab-df-convert:hover {\n",
              "      background-color: #434B5C;\n",
              "      box-shadow: 0px 1px 3px 1px rgba(0, 0, 0, 0.15);\n",
              "      filter: drop-shadow(0px 1px 2px rgba(0, 0, 0, 0.3));\n",
              "      fill: #FFFFFF;\n",
              "    }\n",
              "  </style>\n",
              "\n",
              "      <script>\n",
              "        const buttonEl =\n",
              "          document.querySelector('#df-bee776da-9e1e-420e-a8d0-408501a39baf button.colab-df-convert');\n",
              "        buttonEl.style.display =\n",
              "          google.colab.kernel.accessAllowed ? 'block' : 'none';\n",
              "\n",
              "        async function convertToInteractive(key) {\n",
              "          const element = document.querySelector('#df-bee776da-9e1e-420e-a8d0-408501a39baf');\n",
              "          const dataTable =\n",
              "            await google.colab.kernel.invokeFunction('convertToInteractive',\n",
              "                                                     [key], {});\n",
              "          if (!dataTable) return;\n",
              "\n",
              "          const docLinkHtml = 'Like what you see? Visit the ' +\n",
              "            '<a target=\"_blank\" href=https://colab.research.google.com/notebooks/data_table.ipynb>data table notebook</a>'\n",
              "            + ' to learn more about interactive tables.';\n",
              "          element.innerHTML = '';\n",
              "          dataTable['output_type'] = 'display_data';\n",
              "          await google.colab.output.renderOutput(dataTable, element);\n",
              "          const docLink = document.createElement('div');\n",
              "          docLink.innerHTML = docLinkHtml;\n",
              "          element.appendChild(docLink);\n",
              "        }\n",
              "      </script>\n",
              "    </div>\n",
              "  </div>\n",
              "  "
            ],
            "text/plain": [
              "                mf   autorec  autorec_enhanced\n",
              "RMSE      0.858962  1.227200          1.254009\n",
              "MRR_5     0.976988  0.970489          0.974540\n",
              "MRR_10    0.976988  0.970516          0.974564\n",
              "NDCG_5    0.971458  0.966159          0.968138\n",
              "NDCG_10   0.966966  0.959846          0.961426\n",
              "NDCG_100  0.971693  0.963286          0.962282"
            ]
          },
          "metadata": {},
          "execution_count": 47
        }
      ]
    },
    {
      "cell_type": "code",
      "source": [
        "res_df.plot(kind='bar', figsize=(12,5), rot=45)\n",
        "plt.title('movielens-1m models results')"
      ],
      "metadata": {
        "id": "vR1_w740TDL7",
        "colab": {
          "base_uri": "https://localhost:8080/",
          "height": 389
        },
        "outputId": "9ab50c93-3ba8-4b7a-dc3d-cee33ebacba2"
      },
      "execution_count": 48,
      "outputs": [
        {
          "output_type": "execute_result",
          "data": {
            "text/plain": [
              "Text(0.5, 1.0, 'movielens-1m models results')"
            ]
          },
          "metadata": {},
          "execution_count": 48
        },
        {
          "output_type": "display_data",
          "data": {
            "image/png": "[encoded data removed]",
            "text/plain": [
              "<Figure size 864x360 with 1 Axes>"
            ]
          },
          "metadata": {
            "needs_background": "light"
          }
        }
      ]
    },
    {
      "cell_type": "code",
      "source": [
        "res_df.transpose().plot(kind='bar', figsize=(12,5), rot=45)\n",
        "plt.title('movielens-1m models results')"
      ],
      "metadata": {
        "id": "8BBj2phwSabF",
        "colab": {
          "base_uri": "https://localhost:8080/",
          "height": 417
        },
        "outputId": "232befdd-dabd-4865-fb1e-4d25c81e70d5"
      },
      "execution_count": 49,
      "outputs": [
        {
          "output_type": "execute_result",
          "data": {
            "text/plain": [
              "Text(0.5, 1.0, 'movielens-1m models results')"
            ]
          },
          "metadata": {},
          "execution_count": 49
        },
        {
          "output_type": "display_data",
          "data": {
            "image/png": "[encoded data removed]",
            "text/plain": [
              "<Figure size 864x360 with 1 Axes>"
            ]
          },
          "metadata": {
            "needs_background": "light"
          }
        }
      ]
    }
  ]
}
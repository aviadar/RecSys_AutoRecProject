{
  "nbformat": 4,
  "nbformat_minor": 0,
  "metadata": {
    "colab": {
      "name": "autorec_project_movielens.ipynb",
      "provenance": [],
      "collapsed_sections": [
        "BPTZcpzQ0sfq",
        "KjsSKBNV2oOh",
        "a11Jdp710-pE",
        "YrJDgoW11ITS"
      ],
      "machine_shape": "hm"
    },
    "kernelspec": {
      "name": "python3",
      "display_name": "Python 3"
    },
    "language_info": {
      "name": "python"
    },
    "accelerator": "GPU"
  },
  "cells": [
    {
      "cell_type": "markdown",
      "source": [
        "**AutoRec Project**"
      ],
      "metadata": {
        "id": "BhAOlGNOw3Nj"
      }
    },
    {
      "cell_type": "markdown",
      "source": [
        "# Imports"
      ],
      "metadata": {
        "id": "BPTZcpzQ0sfq"
      }
    },
    {
      "cell_type": "code",
      "source": [
        "%matplotlib inline"
      ],
      "metadata": {
        "id": "yX5IP4yJ-CKD"
      },
      "execution_count": 1,
      "outputs": []
    },
    {
      "cell_type": "code",
      "source": [
        "!pip install keras-tuner"
      ],
      "metadata": {
        "colab": {
          "base_uri": "https://localhost:8080/"
        },
        "id": "oHz280golEnY",
        "outputId": "4a07f8dd-ec15-469f-c613-65a70000900b"
      },
      "execution_count": 2,
      "outputs": [
        {
          "output_type": "stream",
          "name": "stdout",
          "text": [
            "Requirement already satisfied: keras-tuner in /usr/local/lib/python3.7/dist-packages (1.1.0)\n",
            "Requirement already satisfied: scipy in /usr/local/lib/python3.7/dist-packages (from keras-tuner) (1.4.1)\n",
            "Requirement already satisfied: kt-legacy in /usr/local/lib/python3.7/dist-packages (from keras-tuner) (1.0.4)\n",
            "Requirement already satisfied: packaging in /usr/local/lib/python3.7/dist-packages (from keras-tuner) (21.3)\n",
            "Requirement already satisfied: tensorboard in /usr/local/lib/python3.7/dist-packages (from keras-tuner) (2.8.0)\n",
            "Requirement already satisfied: requests in /usr/local/lib/python3.7/dist-packages (from keras-tuner) (2.23.0)\n",
            "Requirement already satisfied: ipython in /usr/local/lib/python3.7/dist-packages (from keras-tuner) (5.5.0)\n",
            "Requirement already satisfied: numpy in /usr/local/lib/python3.7/dist-packages (from keras-tuner) (1.21.5)\n",
            "Requirement already satisfied: simplegeneric>0.8 in /usr/local/lib/python3.7/dist-packages (from ipython->keras-tuner) (0.8.1)\n",
            "Requirement already satisfied: setuptools>=18.5 in /usr/local/lib/python3.7/dist-packages (from ipython->keras-tuner) (57.4.0)\n",
            "Requirement already satisfied: decorator in /usr/local/lib/python3.7/dist-packages (from ipython->keras-tuner) (4.4.2)\n",
            "Requirement already satisfied: traitlets>=4.2 in /usr/local/lib/python3.7/dist-packages (from ipython->keras-tuner) (5.1.1)\n",
            "Requirement already satisfied: pickleshare in /usr/local/lib/python3.7/dist-packages (from ipython->keras-tuner) (0.7.5)\n",
            "Requirement already satisfied: pygments in /usr/local/lib/python3.7/dist-packages (from ipython->keras-tuner) (2.6.1)\n",
            "Requirement already satisfied: pexpect in /usr/local/lib/python3.7/dist-packages (from ipython->keras-tuner) (4.8.0)\n",
            "Requirement already satisfied: prompt-toolkit<2.0.0,>=1.0.4 in /usr/local/lib/python3.7/dist-packages (from ipython->keras-tuner) (1.0.18)\n",
            "Requirement already satisfied: six>=1.9.0 in /usr/local/lib/python3.7/dist-packages (from prompt-toolkit<2.0.0,>=1.0.4->ipython->keras-tuner) (1.15.0)\n",
            "Requirement already satisfied: wcwidth in /usr/local/lib/python3.7/dist-packages (from prompt-toolkit<2.0.0,>=1.0.4->ipython->keras-tuner) (0.2.5)\n",
            "Requirement already satisfied: pyparsing!=3.0.5,>=2.0.2 in /usr/local/lib/python3.7/dist-packages (from packaging->keras-tuner) (3.0.7)\n",
            "Requirement already satisfied: ptyprocess>=0.5 in /usr/local/lib/python3.7/dist-packages (from pexpect->ipython->keras-tuner) (0.7.0)\n",
            "Requirement already satisfied: idna<3,>=2.5 in /usr/local/lib/python3.7/dist-packages (from requests->keras-tuner) (2.10)\n",
            "Requirement already satisfied: certifi>=2017.4.17 in /usr/local/lib/python3.7/dist-packages (from requests->keras-tuner) (2021.10.8)\n",
            "Requirement already satisfied: urllib3!=1.25.0,!=1.25.1,<1.26,>=1.21.1 in /usr/local/lib/python3.7/dist-packages (from requests->keras-tuner) (1.24.3)\n",
            "Requirement already satisfied: chardet<4,>=3.0.2 in /usr/local/lib/python3.7/dist-packages (from requests->keras-tuner) (3.0.4)\n",
            "Requirement already satisfied: protobuf>=3.6.0 in /usr/local/lib/python3.7/dist-packages (from tensorboard->keras-tuner) (3.17.3)\n",
            "Requirement already satisfied: tensorboard-data-server<0.7.0,>=0.6.0 in /usr/local/lib/python3.7/dist-packages (from tensorboard->keras-tuner) (0.6.1)\n",
            "Requirement already satisfied: werkzeug>=0.11.15 in /usr/local/lib/python3.7/dist-packages (from tensorboard->keras-tuner) (1.0.1)\n",
            "Requirement already satisfied: markdown>=2.6.8 in /usr/local/lib/python3.7/dist-packages (from tensorboard->keras-tuner) (3.3.6)\n",
            "Requirement already satisfied: tensorboard-plugin-wit>=1.6.0 in /usr/local/lib/python3.7/dist-packages (from tensorboard->keras-tuner) (1.8.1)\n",
            "Requirement already satisfied: absl-py>=0.4 in /usr/local/lib/python3.7/dist-packages (from tensorboard->keras-tuner) (1.0.0)\n",
            "Requirement already satisfied: google-auth<3,>=1.6.3 in /usr/local/lib/python3.7/dist-packages (from tensorboard->keras-tuner) (1.35.0)\n",
            "Requirement already satisfied: grpcio>=1.24.3 in /usr/local/lib/python3.7/dist-packages (from tensorboard->keras-tuner) (1.43.0)\n",
            "Requirement already satisfied: wheel>=0.26 in /usr/local/lib/python3.7/dist-packages (from tensorboard->keras-tuner) (0.37.1)\n",
            "Requirement already satisfied: google-auth-oauthlib<0.5,>=0.4.1 in /usr/local/lib/python3.7/dist-packages (from tensorboard->keras-tuner) (0.4.6)\n",
            "Requirement already satisfied: pyasn1-modules>=0.2.1 in /usr/local/lib/python3.7/dist-packages (from google-auth<3,>=1.6.3->tensorboard->keras-tuner) (0.2.8)\n",
            "Requirement already satisfied: cachetools<5.0,>=2.0.0 in /usr/local/lib/python3.7/dist-packages (from google-auth<3,>=1.6.3->tensorboard->keras-tuner) (4.2.4)\n",
            "Requirement already satisfied: rsa<5,>=3.1.4 in /usr/local/lib/python3.7/dist-packages (from google-auth<3,>=1.6.3->tensorboard->keras-tuner) (4.8)\n",
            "Requirement already satisfied: requests-oauthlib>=0.7.0 in /usr/local/lib/python3.7/dist-packages (from google-auth-oauthlib<0.5,>=0.4.1->tensorboard->keras-tuner) (1.3.1)\n",
            "Requirement already satisfied: importlib-metadata>=4.4 in /usr/local/lib/python3.7/dist-packages (from markdown>=2.6.8->tensorboard->keras-tuner) (4.11.0)\n",
            "Requirement already satisfied: zipp>=0.5 in /usr/local/lib/python3.7/dist-packages (from importlib-metadata>=4.4->markdown>=2.6.8->tensorboard->keras-tuner) (3.7.0)\n",
            "Requirement already satisfied: typing-extensions>=3.6.4 in /usr/local/lib/python3.7/dist-packages (from importlib-metadata>=4.4->markdown>=2.6.8->tensorboard->keras-tuner) (3.10.0.2)\n",
            "Requirement already satisfied: pyasn1<0.5.0,>=0.4.6 in /usr/local/lib/python3.7/dist-packages (from pyasn1-modules>=0.2.1->google-auth<3,>=1.6.3->tensorboard->keras-tuner) (0.4.8)\n",
            "Requirement already satisfied: oauthlib>=3.0.0 in /usr/local/lib/python3.7/dist-packages (from requests-oauthlib>=0.7.0->google-auth-oauthlib<0.5,>=0.4.1->tensorboard->keras-tuner) (3.2.0)\n"
          ]
        }
      ]
    },
    {
      "cell_type": "code",
      "execution_count": 3,
      "metadata": {
        "id": "WyDSncY3nVV5"
      },
      "outputs": [],
      "source": [
        "from google.colab import drive\n",
        "import os\n",
        "\n",
        "# keras\n",
        "from tensorflow.keras.models import load_model\n",
        "import tensorflow as tf\n",
        "import keras_tuner as kt\n",
        "\n",
        "# sklearn\n",
        "from sklearn.model_selection import train_test_split\n",
        "\n",
        "import sys\n",
        "import requests\n",
        "import zipfile\n",
        "import copy\n",
        "import shutil\n",
        "\n",
        "import pandas as pd\n",
        "import numpy as np\n",
        "import random\n",
        "import math\n",
        "\n",
        "from matplotlib import pyplot as plt"
      ]
    },
    {
      "cell_type": "code",
      "source": [
        "np.random.seed(123)\n",
        "random.seed(123)"
      ],
      "metadata": {
        "id": "hu975UwXNQaY"
      },
      "execution_count": 4,
      "outputs": []
    },
    {
      "cell_type": "code",
      "source": [
        "!git clone https://github.com/aviadar/RecSys_AutoRecProject proj"
      ],
      "metadata": {
        "colab": {
          "base_uri": "https://localhost:8080/"
        },
        "id": "65vPd8nctqIa",
        "outputId": "95b94dac-4271-43fa-a422-ce13d67ad064"
      },
      "execution_count": 5,
      "outputs": [
        {
          "output_type": "stream",
          "name": "stdout",
          "text": [
            "fatal: destination path 'proj' already exists and is not an empty directory.\n"
          ]
        }
      ]
    },
    {
      "cell_type": "code",
      "source": [
        "sys.path.insert(0,'/content/proj/src')\n",
        "\n",
        "from utilities.Metrics import Metrics\n",
        "from models.MF import MF\n",
        "from models.IAutoRec import IAutoRec\n",
        "from models.IAutoRecEnhanced import IAutoRecEnhanced\n",
        "from models.IAutoRecEnhanced2 import IAutoRecEnhanced2\n",
        "# from models.IAutoRecEnhanced2 import IAutoRecEnhanced2 as IAutoRecEnhanced3"
      ],
      "metadata": {
        "id": "_SAITMrgxoIW"
      },
      "execution_count": 6,
      "outputs": []
    },
    {
      "cell_type": "markdown",
      "source": [
        "# MovieLens 1M Dataset"
      ],
      "metadata": {
        "id": "n0bJP2gG02Ai"
      }
    },
    {
      "cell_type": "markdown",
      "source": [
        "## Data Loading & Manipulation"
      ],
      "metadata": {
        "id": "a11Jdp710-pE"
      }
    },
    {
      "cell_type": "code",
      "source": [
        "url = 'http://files.grouplens.org/datasets/movielens/ml-1m.zip'\n",
        "zip_name = 'ml-1m.zip'\n",
        "data_dir = 'ml-1m/'\n",
        "\n",
        "r = requests.get(url, allow_redirects=True)\n",
        "open(zip_name, 'wb').write(r.content)\n",
        "\n",
        "with zipfile.ZipFile(zip_name,\"r\") as zip_ref:\n",
        "    zip_ref.extractall()"
      ],
      "metadata": {
        "id": "mgDyiBZE0Vxq"
      },
      "execution_count": 7,
      "outputs": []
    },
    {
      "cell_type": "code",
      "source": [
        "ratings_df = pd.read_csv('/content/ml-1m/ratings.dat', header=None, names=['user_id', 'item_id', 'rating', 'timestamp'], delimiter='::')\n",
        "ratings_df.head()"
      ],
      "metadata": {
        "colab": {
          "base_uri": "https://localhost:8080/",
          "height": 261
        },
        "id": "5eKF7PL80x3e",
        "outputId": "42ddb917-ffb2-40f7-947c-b1eaee38d16f"
      },
      "execution_count": 8,
      "outputs": [
        {
          "output_type": "stream",
          "name": "stderr",
          "text": [
            "/usr/local/lib/python3.7/dist-packages/pandas/util/_decorators.py:311: ParserWarning: Falling back to the 'python' engine because the 'c' engine does not support regex separators (separators > 1 char and different from '\\s+' are interpreted as regex); you can avoid this warning by specifying engine='python'.\n",
            "  return func(*args, **kwargs)\n"
          ]
        },
        {
          "output_type": "execute_result",
          "data": {
            "text/html": [
              "\n",
              "  <div id=\"df-3449b2bc-c901-40ca-83d7-f9023acca247\">\n",
              "    <div class=\"colab-df-container\">\n",
              "      <div>\n",
              "<style scoped>\n",
              "    .dataframe tbody tr th:only-of-type {\n",
              "        vertical-align: middle;\n",
              "    }\n",
              "\n",
              "    .dataframe tbody tr th {\n",
              "        vertical-align: top;\n",
              "    }\n",
              "\n",
              "    .dataframe thead th {\n",
              "        text-align: right;\n",
              "    }\n",
              "</style>\n",
              "<table border=\"1\" class=\"dataframe\">\n",
              "  <thead>\n",
              "    <tr style=\"text-align: right;\">\n",
              "      <th></th>\n",
              "      <th>user_id</th>\n",
              "      <th>item_id</th>\n",
              "      <th>rating</th>\n",
              "      <th>timestamp</th>\n",
              "    </tr>\n",
              "  </thead>\n",
              "  <tbody>\n",
              "    <tr>\n",
              "      <th>0</th>\n",
              "      <td>1</td>\n",
              "      <td>1193</td>\n",
              "      <td>5</td>\n",
              "      <td>978300760</td>\n",
              "    </tr>\n",
              "    <tr>\n",
              "      <th>1</th>\n",
              "      <td>1</td>\n",
              "      <td>661</td>\n",
              "      <td>3</td>\n",
              "      <td>978302109</td>\n",
              "    </tr>\n",
              "    <tr>\n",
              "      <th>2</th>\n",
              "      <td>1</td>\n",
              "      <td>914</td>\n",
              "      <td>3</td>\n",
              "      <td>978301968</td>\n",
              "    </tr>\n",
              "    <tr>\n",
              "      <th>3</th>\n",
              "      <td>1</td>\n",
              "      <td>3408</td>\n",
              "      <td>4</td>\n",
              "      <td>978300275</td>\n",
              "    </tr>\n",
              "    <tr>\n",
              "      <th>4</th>\n",
              "      <td>1</td>\n",
              "      <td>2355</td>\n",
              "      <td>5</td>\n",
              "      <td>978824291</td>\n",
              "    </tr>\n",
              "  </tbody>\n",
              "</table>\n",
              "</div>\n",
              "      <button class=\"colab-df-convert\" onclick=\"convertToInteractive('df-3449b2bc-c901-40ca-83d7-f9023acca247')\"\n",
              "              title=\"Convert this dataframe to an interactive table.\"\n",
              "              style=\"display:none;\">\n",
              "        \n",
              "  <svg xmlns=\"http://www.w3.org/2000/svg\" height=\"24px\"viewBox=\"0 0 24 24\"\n",
              "       width=\"24px\">\n",
              "    <path d=\"M0 0h24v24H0V0z\" fill=\"none\"/>\n",
              "    <path d=\"M18.56 5.44l.94 2.06.94-2.06 2.06-.94-2.06-.94-.94-2.06-.94 2.06-2.06.94zm-11 1L8.5 8.5l.94-2.06 2.06-.94-2.06-.94L8.5 2.5l-.94 2.06-2.06.94zm10 10l.94 2.06.94-2.06 2.06-.94-2.06-.94-.94-2.06-.94 2.06-2.06.94z\"/><path d=\"M17.41 7.96l-1.37-1.37c-.4-.4-.92-.59-1.43-.59-.52 0-1.04.2-1.43.59L10.3 9.45l-7.72 7.72c-.78.78-.78 2.05 0 2.83L4 21.41c.39.39.9.59 1.41.59.51 0 1.02-.2 1.41-.59l7.78-7.78 2.81-2.81c.8-.78.8-2.07 0-2.86zM5.41 20L4 18.59l7.72-7.72 1.47 1.35L5.41 20z\"/>\n",
              "  </svg>\n",
              "      </button>\n",
              "      \n",
              "  <style>\n",
              "    .colab-df-container {\n",
              "      display:flex;\n",
              "      flex-wrap:wrap;\n",
              "      gap: 12px;\n",
              "    }\n",
              "\n",
              "    .colab-df-convert {\n",
              "      background-color: #E8F0FE;\n",
              "      border: none;\n",
              "      border-radius: 50%;\n",
              "      cursor: pointer;\n",
              "      display: none;\n",
              "      fill: #1967D2;\n",
              "      height: 32px;\n",
              "      padding: 0 0 0 0;\n",
              "      width: 32px;\n",
              "    }\n",
              "\n",
              "    .colab-df-convert:hover {\n",
              "      background-color: #E2EBFA;\n",
              "      box-shadow: 0px 1px 2px rgba(60, 64, 67, 0.3), 0px 1px 3px 1px rgba(60, 64, 67, 0.15);\n",
              "      fill: #174EA6;\n",
              "    }\n",
              "\n",
              "    [theme=dark] .colab-df-convert {\n",
              "      background-color: #3B4455;\n",
              "      fill: #D2E3FC;\n",
              "    }\n",
              "\n",
              "    [theme=dark] .colab-df-convert:hover {\n",
              "      background-color: #434B5C;\n",
              "      box-shadow: 0px 1px 3px 1px rgba(0, 0, 0, 0.15);\n",
              "      filter: drop-shadow(0px 1px 2px rgba(0, 0, 0, 0.3));\n",
              "      fill: #FFFFFF;\n",
              "    }\n",
              "  </style>\n",
              "\n",
              "      <script>\n",
              "        const buttonEl =\n",
              "          document.querySelector('#df-3449b2bc-c901-40ca-83d7-f9023acca247 button.colab-df-convert');\n",
              "        buttonEl.style.display =\n",
              "          google.colab.kernel.accessAllowed ? 'block' : 'none';\n",
              "\n",
              "        async function convertToInteractive(key) {\n",
              "          const element = document.querySelector('#df-3449b2bc-c901-40ca-83d7-f9023acca247');\n",
              "          const dataTable =\n",
              "            await google.colab.kernel.invokeFunction('convertToInteractive',\n",
              "                                                     [key], {});\n",
              "          if (!dataTable) return;\n",
              "\n",
              "          const docLinkHtml = 'Like what you see? Visit the ' +\n",
              "            '<a target=\"_blank\" href=https://colab.research.google.com/notebooks/data_table.ipynb>data table notebook</a>'\n",
              "            + ' to learn more about interactive tables.';\n",
              "          element.innerHTML = '';\n",
              "          dataTable['output_type'] = 'display_data';\n",
              "          await google.colab.output.renderOutput(dataTable, element);\n",
              "          const docLink = document.createElement('div');\n",
              "          docLink.innerHTML = docLinkHtml;\n",
              "          element.appendChild(docLink);\n",
              "        }\n",
              "      </script>\n",
              "    </div>\n",
              "  </div>\n",
              "  "
            ],
            "text/plain": [
              "   user_id  item_id  rating  timestamp\n",
              "0        1     1193       5  978300760\n",
              "1        1      661       3  978302109\n",
              "2        1      914       3  978301968\n",
              "3        1     3408       4  978300275\n",
              "4        1     2355       5  978824291"
            ]
          },
          "metadata": {},
          "execution_count": 8
        }
      ]
    },
    {
      "cell_type": "markdown",
      "source": [
        "we are not intrested in timestamps, so we can remove the column. <br>\n",
        "also, in order to keep embedding size as small as possible, we need to change the user and item ids."
      ],
      "metadata": {
        "id": "cKQsUvO77tNR"
      }
    },
    {
      "cell_type": "code",
      "source": [
        "ratings_df.drop(columns='timestamp', inplace=True)\n",
        "\n",
        "def user_id_trans(idx):\n",
        "    return idx-1\n",
        "\n",
        "item_id_trans_dict =  {k:v for k,v in zip(ratings_df.item_id.unique(),range(ratings_df.item_id.nunique()))}\n",
        "def item_id_trans(key_value):\n",
        "    return item_id_trans_dict[key_value]\n",
        "\n",
        "ratings_df.user_id = ratings_df.user_id.apply(user_id_trans)\n",
        "ratings_df.item_id = ratings_df.item_id.apply(item_id_trans)\n",
        "\n",
        "ratings_df.head()"
      ],
      "metadata": {
        "colab": {
          "base_uri": "https://localhost:8080/",
          "height": 206
        },
        "id": "K4vLMtG97eoY",
        "outputId": "797612e9-333a-44a3-ee44-976536e2c0ad"
      },
      "execution_count": 9,
      "outputs": [
        {
          "output_type": "execute_result",
          "data": {
            "text/html": [
              "\n",
              "  <div id=\"df-64f8855c-d20f-4d6b-bd55-00aaa7ec42d9\">\n",
              "    <div class=\"colab-df-container\">\n",
              "      <div>\n",
              "<style scoped>\n",
              "    .dataframe tbody tr th:only-of-type {\n",
              "        vertical-align: middle;\n",
              "    }\n",
              "\n",
              "    .dataframe tbody tr th {\n",
              "        vertical-align: top;\n",
              "    }\n",
              "\n",
              "    .dataframe thead th {\n",
              "        text-align: right;\n",
              "    }\n",
              "</style>\n",
              "<table border=\"1\" class=\"dataframe\">\n",
              "  <thead>\n",
              "    <tr style=\"text-align: right;\">\n",
              "      <th></th>\n",
              "      <th>user_id</th>\n",
              "      <th>item_id</th>\n",
              "      <th>rating</th>\n",
              "    </tr>\n",
              "  </thead>\n",
              "  <tbody>\n",
              "    <tr>\n",
              "      <th>0</th>\n",
              "      <td>0</td>\n",
              "      <td>0</td>\n",
              "      <td>5</td>\n",
              "    </tr>\n",
              "    <tr>\n",
              "      <th>1</th>\n",
              "      <td>0</td>\n",
              "      <td>1</td>\n",
              "      <td>3</td>\n",
              "    </tr>\n",
              "    <tr>\n",
              "      <th>2</th>\n",
              "      <td>0</td>\n",
              "      <td>2</td>\n",
              "      <td>3</td>\n",
              "    </tr>\n",
              "    <tr>\n",
              "      <th>3</th>\n",
              "      <td>0</td>\n",
              "      <td>3</td>\n",
              "      <td>4</td>\n",
              "    </tr>\n",
              "    <tr>\n",
              "      <th>4</th>\n",
              "      <td>0</td>\n",
              "      <td>4</td>\n",
              "      <td>5</td>\n",
              "    </tr>\n",
              "  </tbody>\n",
              "</table>\n",
              "</div>\n",
              "      <button class=\"colab-df-convert\" onclick=\"convertToInteractive('df-64f8855c-d20f-4d6b-bd55-00aaa7ec42d9')\"\n",
              "              title=\"Convert this dataframe to an interactive table.\"\n",
              "              style=\"display:none;\">\n",
              "        \n",
              "  <svg xmlns=\"http://www.w3.org/2000/svg\" height=\"24px\"viewBox=\"0 0 24 24\"\n",
              "       width=\"24px\">\n",
              "    <path d=\"M0 0h24v24H0V0z\" fill=\"none\"/>\n",
              "    <path d=\"M18.56 5.44l.94 2.06.94-2.06 2.06-.94-2.06-.94-.94-2.06-.94 2.06-2.06.94zm-11 1L8.5 8.5l.94-2.06 2.06-.94-2.06-.94L8.5 2.5l-.94 2.06-2.06.94zm10 10l.94 2.06.94-2.06 2.06-.94-2.06-.94-.94-2.06-.94 2.06-2.06.94z\"/><path d=\"M17.41 7.96l-1.37-1.37c-.4-.4-.92-.59-1.43-.59-.52 0-1.04.2-1.43.59L10.3 9.45l-7.72 7.72c-.78.78-.78 2.05 0 2.83L4 21.41c.39.39.9.59 1.41.59.51 0 1.02-.2 1.41-.59l7.78-7.78 2.81-2.81c.8-.78.8-2.07 0-2.86zM5.41 20L4 18.59l7.72-7.72 1.47 1.35L5.41 20z\"/>\n",
              "  </svg>\n",
              "      </button>\n",
              "      \n",
              "  <style>\n",
              "    .colab-df-container {\n",
              "      display:flex;\n",
              "      flex-wrap:wrap;\n",
              "      gap: 12px;\n",
              "    }\n",
              "\n",
              "    .colab-df-convert {\n",
              "      background-color: #E8F0FE;\n",
              "      border: none;\n",
              "      border-radius: 50%;\n",
              "      cursor: pointer;\n",
              "      display: none;\n",
              "      fill: #1967D2;\n",
              "      height: 32px;\n",
              "      padding: 0 0 0 0;\n",
              "      width: 32px;\n",
              "    }\n",
              "\n",
              "    .colab-df-convert:hover {\n",
              "      background-color: #E2EBFA;\n",
              "      box-shadow: 0px 1px 2px rgba(60, 64, 67, 0.3), 0px 1px 3px 1px rgba(60, 64, 67, 0.15);\n",
              "      fill: #174EA6;\n",
              "    }\n",
              "\n",
              "    [theme=dark] .colab-df-convert {\n",
              "      background-color: #3B4455;\n",
              "      fill: #D2E3FC;\n",
              "    }\n",
              "\n",
              "    [theme=dark] .colab-df-convert:hover {\n",
              "      background-color: #434B5C;\n",
              "      box-shadow: 0px 1px 3px 1px rgba(0, 0, 0, 0.15);\n",
              "      filter: drop-shadow(0px 1px 2px rgba(0, 0, 0, 0.3));\n",
              "      fill: #FFFFFF;\n",
              "    }\n",
              "  </style>\n",
              "\n",
              "      <script>\n",
              "        const buttonEl =\n",
              "          document.querySelector('#df-64f8855c-d20f-4d6b-bd55-00aaa7ec42d9 button.colab-df-convert');\n",
              "        buttonEl.style.display =\n",
              "          google.colab.kernel.accessAllowed ? 'block' : 'none';\n",
              "\n",
              "        async function convertToInteractive(key) {\n",
              "          const element = document.querySelector('#df-64f8855c-d20f-4d6b-bd55-00aaa7ec42d9');\n",
              "          const dataTable =\n",
              "            await google.colab.kernel.invokeFunction('convertToInteractive',\n",
              "                                                     [key], {});\n",
              "          if (!dataTable) return;\n",
              "\n",
              "          const docLinkHtml = 'Like what you see? Visit the ' +\n",
              "            '<a target=\"_blank\" href=https://colab.research.google.com/notebooks/data_table.ipynb>data table notebook</a>'\n",
              "            + ' to learn more about interactive tables.';\n",
              "          element.innerHTML = '';\n",
              "          dataTable['output_type'] = 'display_data';\n",
              "          await google.colab.output.renderOutput(dataTable, element);\n",
              "          const docLink = document.createElement('div');\n",
              "          docLink.innerHTML = docLinkHtml;\n",
              "          element.appendChild(docLink);\n",
              "        }\n",
              "      </script>\n",
              "    </div>\n",
              "  </div>\n",
              "  "
            ],
            "text/plain": [
              "   user_id  item_id  rating\n",
              "0        0        0       5\n",
              "1        0        1       3\n",
              "2        0        2       3\n",
              "3        0        3       4\n",
              "4        0        4       5"
            ]
          },
          "metadata": {},
          "execution_count": 9
        }
      ]
    },
    {
      "cell_type": "code",
      "source": [
        "ml_users_num, ml_items_num = ratings_df.user_id.nunique(), ratings_df.item_id.nunique()\n",
        "ml_users_num, ml_items_num"
      ],
      "metadata": {
        "colab": {
          "base_uri": "https://localhost:8080/"
        },
        "id": "TUu4BApbxVkI",
        "outputId": "ad806ecd-b871-466f-fd9b-7b7df963f600"
      },
      "execution_count": 10,
      "outputs": [
        {
          "output_type": "execute_result",
          "data": {
            "text/plain": [
              "(6040, 3706)"
            ]
          },
          "metadata": {},
          "execution_count": 10
        }
      ]
    },
    {
      "cell_type": "markdown",
      "source": [
        "## Train\\Test Split"
      ],
      "metadata": {
        "id": "YrJDgoW11ITS"
      }
    },
    {
      "cell_type": "markdown",
      "source": [
        "splitting the data into train, validation and test:"
      ],
      "metadata": {
        "id": "-gIHmW1qGK6_"
      }
    },
    {
      "cell_type": "code",
      "source": [
        "train, test = train_test_split(ratings_df, test_size=0.1, random_state=999613182)\n",
        "train.user_id.nunique(), train.item_id.nunique()\n",
        "\n",
        "def create_full_mat(df):\n",
        "    full_mat = np.zeros((ml_users_num, ml_items_num))\n",
        "    for user, item, rating in zip(df.user_id, df.item_id, df.rating):\n",
        "        full_mat[user, item] = rating\n",
        "    return full_mat\n",
        "\n",
        "full_train_mat = create_full_mat(train)\n",
        "full_test_mat = create_full_mat(test)"
      ],
      "metadata": {
        "id": "boo_V2j7GQuR"
      },
      "execution_count": 11,
      "outputs": []
    },
    {
      "cell_type": "code",
      "source": [
        "def df_to_mat(df):\n",
        "    full_mat = np.zeros((df.user_id.max()+1, df.item_id.max()+1))\n",
        "    for user, item, rating in zip(df.user_id, df.item_id, df.rating):\n",
        "        full_mat[user, item] = rating\n",
        "    return full_mat"
      ],
      "metadata": {
        "id": "UmoVSGibAXrT"
      },
      "execution_count": 12,
      "outputs": []
    },
    {
      "cell_type": "markdown",
      "source": [
        "## Matrix Factorization"
      ],
      "metadata": {
        "id": "FU2yfxc-1OaR"
      }
    },
    {
      "cell_type": "markdown",
      "source": [
        "### Hyperparameter Tuning"
      ],
      "metadata": {
        "id": "cV4swqNL1cbR"
      }
    },
    {
      "cell_type": "markdown",
      "source": [
        "creating and fitting the model:"
      ],
      "metadata": {
        "id": "Xgvmv2jXRO2u"
      }
    },
    {
      "cell_type": "code",
      "source": [
        "mf = MF(users_num=ratings_df.user_id.max()+1, items_num=ratings_df.item_id.max()+1)"
      ],
      "metadata": {
        "id": "ytvDSyEMIrRU"
      },
      "execution_count": 13,
      "outputs": []
    },
    {
      "cell_type": "code",
      "source": [
        "tuner = kt.Hyperband(mf.model_builder,\n",
        "                     objective='val_loss',\n",
        "                     max_epochs=10,\n",
        "                     factor=3,\n",
        "                     directory='hyper_params',\n",
        "                     project_name='mf_ml')"
      ],
      "metadata": {
        "colab": {
          "base_uri": "https://localhost:8080/"
        },
        "id": "iqbbZ6Uyp8vO",
        "outputId": "d15276c1-9604-49e5-d509-3ec1b651edc6"
      },
      "execution_count": 14,
      "outputs": [
        {
          "output_type": "stream",
          "name": "stdout",
          "text": [
            "Model: \"model\"\n",
            "__________________________________________________________________________________________________\n",
            " Layer (type)                   Output Shape         Param #     Connected to                     \n",
            "==================================================================================================\n",
            " user_input (InputLayer)        [(None, 1)]          0           []                               \n",
            "                                                                                                  \n",
            " item_input (InputLayer)        [(None, 1)]          0           []                               \n",
            "                                                                                                  \n",
            " user_embedding (Embedding)     (None, 1, 10)        60400       ['user_input[0][0]']             \n",
            "                                                                                                  \n",
            " item_embedding (Embedding)     (None, 1, 10)        37060       ['item_input[0][0]']             \n",
            "                                                                                                  \n",
            " flatten (Flatten)              (None, 10)           0           ['user_embedding[0][0]']         \n",
            "                                                                                                  \n",
            " flatten_1 (Flatten)            (None, 10)           0           ['item_embedding[0][0]']         \n",
            "                                                                                                  \n",
            " dot (Dot)                      (None, 1)            0           ['flatten[0][0]',                \n",
            "                                                                  'flatten_1[0][0]']              \n",
            "                                                                                                  \n",
            "==================================================================================================\n",
            "Total params: 97,460\n",
            "Trainable params: 97,460\n",
            "Non-trainable params: 0\n",
            "__________________________________________________________________________________________________\n"
          ]
        }
      ]
    },
    {
      "cell_type": "code",
      "source": [
        "stop_early = tf.keras.callbacks.EarlyStopping(monitor='val_loss', patience=5)\n",
        "tuner.search([np.array(train.user_id), np.array(train.item_id)], np.array(train.rating), \n",
        "             epochs=10, validation_split=0.2, callbacks=[stop_early], batch_size=512)\n",
        "# Get the optimal hyperparameters\n",
        "best_hps=tuner.get_best_hyperparameters(num_trials=1)[0]"
      ],
      "metadata": {
        "colab": {
          "base_uri": "https://localhost:8080/"
        },
        "id": "gRgK4SiFqOZT",
        "outputId": "651ea832-ab9a-41a2-d7c1-0b47be2fa8ca"
      },
      "execution_count": 15,
      "outputs": [
        {
          "output_type": "stream",
          "name": "stdout",
          "text": [
            "Trial 8 Complete [00h 00m 10s]\n",
            "val_loss: 0.8821643590927124\n",
            "\n",
            "Best val_loss So Far: 0.8821643590927124\n",
            "Total elapsed time: 00h 01m 20s\n",
            "INFO:tensorflow:Oracle triggered exit\n"
          ]
        }
      ]
    },
    {
      "cell_type": "code",
      "source": [
        "best_hps.get('latent_dim'), best_hps.get('learning_rate')"
      ],
      "metadata": {
        "colab": {
          "base_uri": "https://localhost:8080/"
        },
        "id": "wioPaEO4uvfS",
        "outputId": "de47046b-fa70-4954-e727-9734d8181130"
      },
      "execution_count": 16,
      "outputs": [
        {
          "output_type": "execute_result",
          "data": {
            "text/plain": [
              "(40, 0.001)"
            ]
          },
          "metadata": {},
          "execution_count": 16
        }
      ]
    },
    {
      "cell_type": "markdown",
      "source": [
        "### Retraining"
      ],
      "metadata": {
        "id": "Hb0B6hqQ1h8h"
      }
    },
    {
      "cell_type": "code",
      "source": [
        "mf_opt = MF(users_num=ratings_df.user_id.max()+1, items_num=ratings_df.item_id.max()+1, latent_dim=best_hps.get('latent_dim'), learning_rate=best_hps.get('learning_rate'))\n",
        "mf_opt.build_opt_model()"
      ],
      "metadata": {
        "colab": {
          "base_uri": "https://localhost:8080/"
        },
        "id": "u3VynXcTHf62",
        "outputId": "b520d968-17a5-43c9-ad5d-2cc2d25c52a4"
      },
      "execution_count": 17,
      "outputs": [
        {
          "output_type": "stream",
          "name": "stdout",
          "text": [
            "Model: \"model_1\"\n",
            "__________________________________________________________________________________________________\n",
            " Layer (type)                   Output Shape         Param #     Connected to                     \n",
            "==================================================================================================\n",
            " user_input (InputLayer)        [(None, 1)]          0           []                               \n",
            "                                                                                                  \n",
            " item_input (InputLayer)        [(None, 1)]          0           []                               \n",
            "                                                                                                  \n",
            " user_embedding (Embedding)     (None, 1, 40)        241600      ['user_input[0][0]']             \n",
            "                                                                                                  \n",
            " item_embedding (Embedding)     (None, 1, 40)        148240      ['item_input[0][0]']             \n",
            "                                                                                                  \n",
            " flatten_2 (Flatten)            (None, 40)           0           ['user_embedding[0][0]']         \n",
            "                                                                                                  \n",
            " flatten_3 (Flatten)            (None, 40)           0           ['item_embedding[0][0]']         \n",
            "                                                                                                  \n",
            " dot_1 (Dot)                    (None, 1)            0           ['flatten_2[0][0]',              \n",
            "                                                                  'flatten_3[0][0]']              \n",
            "                                                                                                  \n",
            "==================================================================================================\n",
            "Total params: 389,840\n",
            "Trainable params: 389,840\n",
            "Non-trainable params: 0\n",
            "__________________________________________________________________________________________________\n"
          ]
        }
      ]
    },
    {
      "cell_type": "code",
      "source": [
        "mf_opt.fit(train.user_id, train.item_id, labels=train.rating)"
      ],
      "metadata": {
        "id": "iNR43DFMXmXJ",
        "colab": {
          "base_uri": "https://localhost:8080/"
        },
        "outputId": "a583245d-a43b-44fb-a6bc-6f5205467dd1"
      },
      "execution_count": 18,
      "outputs": [
        {
          "output_type": "stream",
          "name": "stdout",
          "text": [
            "Epoch 1/100\n",
            "1583/1583 [==============================] - 5s 3ms/step - loss: 6.0640 - val_loss: 1.0787\n",
            "Epoch 2/100\n",
            "1583/1583 [==============================] - 4s 3ms/step - loss: 0.9097 - val_loss: 0.8417\n",
            "Epoch 3/100\n",
            "1583/1583 [==============================] - 4s 3ms/step - loss: 0.8148 - val_loss: 0.8085\n",
            "Epoch 4/100\n",
            "1583/1583 [==============================] - 4s 3ms/step - loss: 0.7849 - val_loss: 0.7913\n",
            "Epoch 5/100\n",
            "1583/1583 [==============================] - 4s 3ms/step - loss: 0.7636 - val_loss: 0.7811\n",
            "Epoch 6/100\n",
            "1583/1583 [==============================] - 4s 3ms/step - loss: 0.7436 - val_loss: 0.7695\n",
            "Epoch 7/100\n",
            "1583/1583 [==============================] - 4s 3ms/step - loss: 0.7237 - val_loss: 0.7615\n",
            "Epoch 8/100\n",
            "1583/1583 [==============================] - 4s 3ms/step - loss: 0.7028 - val_loss: 0.7531\n",
            "Epoch 9/100\n",
            "1583/1583 [==============================] - 4s 3ms/step - loss: 0.6816 - val_loss: 0.7468\n",
            "Epoch 10/100\n",
            "1583/1583 [==============================] - 4s 3ms/step - loss: 0.6591 - val_loss: 0.7439\n",
            "Epoch 11/100\n",
            "1583/1583 [==============================] - 4s 3ms/step - loss: 0.6355 - val_loss: 0.7399\n",
            "Epoch 12/100\n",
            "1583/1583 [==============================] - 4s 3ms/step - loss: 0.6107 - val_loss: 0.7392\n",
            "Epoch 13/100\n",
            "1583/1583 [==============================] - 4s 3ms/step - loss: 0.5852 - val_loss: 0.7403\n",
            "Epoch 14/100\n",
            "1583/1583 [==============================] - 4s 3ms/step - loss: 0.5601 - val_loss: 0.7449\n",
            "Epoch 15/100\n",
            "1583/1583 [==============================] - 4s 3ms/step - loss: 0.5360 - val_loss: 0.7531\n",
            "Epoch 16/100\n",
            "1583/1583 [==============================] - 4s 3ms/step - loss: 0.5141 - val_loss: 0.7613\n",
            "Epoch 17/100\n",
            "1583/1583 [==============================] - 4s 3ms/step - loss: 0.4942 - val_loss: 0.7712\n",
            "Epoch 17: early stopping\n"
          ]
        }
      ]
    },
    {
      "cell_type": "code",
      "source": [
        "# plot training history\n",
        "plt.plot(mf_opt.hist.history['loss'], label='train')\n",
        "plt.plot(mf_opt.hist.history['val_loss'], label='validation')\n",
        "plt.xlabel('iteration')\n",
        "plt.ylabel('loss')\n",
        "plt.legend()\n",
        "plt.show()"
      ],
      "metadata": {
        "colab": {
          "base_uri": "https://localhost:8080/",
          "height": 279
        },
        "id": "q2pW_l7WNIvh",
        "outputId": "b21b1a0e-09f4-4554-dc0b-065a4b561139"
      },
      "execution_count": 19,
      "outputs": [
        {
          "output_type": "display_data",
          "data": {
            "image/png": "[encoded data removed]",
            "text/plain": [
              "<Figure size 432x288 with 1 Axes>"
            ]
          },
          "metadata": {
            "needs_background": "light"
          }
        }
      ]
    },
    {
      "cell_type": "code",
      "source": [
        "mf_opt.model = load_model('best_mf_model.h5')"
      ],
      "metadata": {
        "id": "kBTFhL88WkcU"
      },
      "execution_count": 20,
      "outputs": []
    },
    {
      "cell_type": "code",
      "source": [
        "shutil.rmtree('/content/hyper_params')"
      ],
      "metadata": {
        "id": "Rz6fvc-73qPR"
      },
      "execution_count": 21,
      "outputs": []
    },
    {
      "cell_type": "markdown",
      "source": [
        "### Prediction"
      ],
      "metadata": {
        "id": "KeVoq0_I1nBM"
      }
    },
    {
      "cell_type": "markdown",
      "source": [
        "test prediction:"
      ],
      "metadata": {
        "id": "kOr-Y-OYRU_k"
      }
    },
    {
      "cell_type": "code",
      "source": [
        "mf_opt.predict(test.user_id, test.item_id)"
      ],
      "metadata": {
        "colab": {
          "base_uri": "https://localhost:8080/"
        },
        "id": "fnMRiZSePy_d",
        "outputId": "536135a2-117a-4739-8dd8-e3661bdc4b2b"
      },
      "execution_count": 22,
      "outputs": [
        {
          "output_type": "stream",
          "name": "stdout",
          "text": [
            "13/13 [==============================] - 0s 2ms/step\n"
          ]
        }
      ]
    },
    {
      "cell_type": "markdown",
      "source": [
        "### Evaluation"
      ],
      "metadata": {
        "id": "nRoDikHB1tpB"
      }
    },
    {
      "cell_type": "code",
      "source": [
        "pred_df = test.copy()\n",
        "pred_df.rating = mf_opt.predictions.reshape(-1)\n",
        "pred_mat = df_to_mat(pred_df)\n",
        "test_mat = df_to_mat(test)"
      ],
      "metadata": {
        "id": "68PeYV_0_N2G"
      },
      "execution_count": 23,
      "outputs": []
    },
    {
      "cell_type": "code",
      "source": [
        "mf_opt_eval = Metrics.get_evaluation(test_mat, pred_mat)\n",
        "mf_opt_eval"
      ],
      "metadata": {
        "colab": {
          "base_uri": "https://localhost:8080/"
        },
        "id": "MwiJBjtFAAom",
        "outputId": "7a1c82af-b190-4320-ba0a-c9f97d9d2191"
      },
      "execution_count": 24,
      "outputs": [
        {
          "output_type": "execute_result",
          "data": {
            "text/plain": [
              "{'MRR_10': 0.9774075317553578,\n",
              " 'MRR_5': 0.9774075317553578,\n",
              " 'NDCG_10': 0.967012752521961,\n",
              " 'NDCG_100': 0.9720530387891683,\n",
              " 'NDCG_5': 0.9716757049830788,\n",
              " 'RMSE': 0.8585930189129368}"
            ]
          },
          "metadata": {},
          "execution_count": 24
        }
      ]
    },
    {
      "cell_type": "code",
      "source": [
        "mf_opt_eval_df = pd.DataFrame(mf_opt_eval, index=[0])\n",
        "mf_opt_eval_df.plot(kind='bar')\n",
        "plt.title('MF movielens-1m')\n",
        "plt.xlabel('metrics')\n",
        "plt.ylabel('values')"
      ],
      "metadata": {
        "colab": {
          "base_uri": "https://localhost:8080/",
          "height": 309
        },
        "id": "1fW5pHSM3aG_",
        "outputId": "89ea202a-eb93-4d4e-bd53-777becd212d4"
      },
      "execution_count": 25,
      "outputs": [
        {
          "output_type": "execute_result",
          "data": {
            "text/plain": [
              "Text(0, 0.5, 'values')"
            ]
          },
          "metadata": {},
          "execution_count": 25
        },
        {
          "output_type": "display_data",
          "data": {
            "image/png": "[encoded data removed]",
            "text/plain": [
              "<Figure size 432x288 with 1 Axes>"
            ]
          },
          "metadata": {
            "needs_background": "light"
          }
        }
      ]
    },
    {
      "cell_type": "markdown",
      "source": [
        "Note that we approximately reached the RMSE described in the paper (0.858 vs. 0.845). Furthermore our implementation uses regular MF where as the paper comparison is Biased-MF based."
      ],
      "metadata": {
        "id": "2Fj3uMBY_OtY"
      }
    },
    {
      "cell_type": "markdown",
      "source": [
        "## AutoRec"
      ],
      "metadata": {
        "id": "bFghzpAklfwP"
      }
    },
    {
      "cell_type": "markdown",
      "source": [
        "### Data Manipulation"
      ],
      "metadata": {
        "id": "8NmLxd3n605G"
      }
    },
    {
      "cell_type": "code",
      "source": [
        "def dataPreprocessor(rating_df):\n",
        "    # train_df, test_df = train_test_split(rating_df, test_size=0.1, random_state=42)\n",
        "    train_df, test_df = train_test_split(rating_df, test_size=0.1, random_state=999613182)\n",
        "    train_mat = np.zeros((rating_df.user_id.nunique(), rating_df.item_id.nunique()))\n",
        "    for (user_id, item_id, rating) in zip(train_df.user_id, train_df.item_id, train_df.rating):\n",
        "        train_mat[user_id, item_id] = rating\n",
        "\n",
        "    ## tmp ##\n",
        "    # train_mat_avg = copy.copy(train_mat)\n",
        "    # avg = np.true_divide(train_mat_avg.sum(1), np.maximum((train_mat_avg!=0).sum(1), 1))\n",
        "    # inds = np.where(train_mat_avg == 0)\n",
        "    # train_mat_avg[inds] = np.take(avg, inds[0])\n",
        "\n",
        "    test_mat = np.zeros((rating_df.user_id.nunique(), rating_df.item_id.nunique()))\n",
        "    for (user_id, item_id, rating) in zip(test_df.user_id, test_df.item_id, test_df.rating):\n",
        "        test_mat[user_id, item_id] = rating\n",
        "    \n",
        "    return train_mat, test_mat #, train_mat_avg"
      ],
      "metadata": {
        "id": "UA5_HEjXv9gv"
      },
      "execution_count": 13,
      "outputs": []
    },
    {
      "cell_type": "markdown",
      "source": [
        "### Hyperparameters Tuning"
      ],
      "metadata": {
        "id": "XFClzJaQ6_KD"
      }
    },
    {
      "cell_type": "markdown",
      "source": [
        "hyperparameters:\n",
        "\n",
        "\n",
        "*   hidden units = {300, 500, 700, 900}\n",
        "*   regularization = {0.001, 0.0001}\n",
        "*   learning rate = {1e-3, 1e-4}\n",
        "*   in activation function = {RELU, Sigmoid, ELU}\n",
        "*   out activation function = {RELU, Sigmoid, ELU}\n"
      ],
      "metadata": {
        "id": "aKbbFw1xYV7Y"
      }
    },
    {
      "cell_type": "code",
      "source": [
        "train_mat, test_mat = dataPreprocessor(ratings_df)\n",
        "autorec = IAutoRec(train_mat.shape[1])\n",
        "tuner = kt.Hyperband(autorec.model_builder,\n",
        "                    #  objective='val_loss',\n",
        "                     objective='loss',\n",
        "                     max_epochs=500,\n",
        "                     directory='hyper_params',\n",
        "                     project_name='autorec_ml')\n"
      ],
      "metadata": {
        "id": "2Z6JBAvrn7y3",
        "colab": {
          "base_uri": "https://localhost:8080/"
        },
        "outputId": "0657bca1-1426-49fd-a87b-8958407c5599"
      },
      "execution_count": 27,
      "outputs": [
        {
          "output_type": "stream",
          "name": "stdout",
          "text": [
            "Model: \"model_2\"\n",
            "_________________________________________________________________\n",
            " Layer (type)                Output Shape              Param #   \n",
            "=================================================================\n",
            " item_rating (InputLayer)    [(None, 3706)]            0         \n",
            "                                                                 \n",
            " latent_dim (Dense)          (None, 300)               1112100   \n",
            "                                                                 \n",
            " item_pred_rating (Dense)    (None, 3706)              1115506   \n",
            "                                                                 \n",
            "=================================================================\n",
            "Total params: 2,227,606\n",
            "Trainable params: 2,227,606\n",
            "Non-trainable params: 0\n",
            "_________________________________________________________________\n"
          ]
        }
      ]
    },
    {
      "cell_type": "code",
      "source": [
        "stop_early = tf.keras.callbacks.EarlyStopping(monitor='val_loss', patience=10)\n",
        "# stop_early = tf.keras.callbacks.EarlyStopping(monitor='loss', patience=5)\n",
        "tuner.search(train_mat, train_mat,\n",
        "             epochs=500, validation_split=0.1, callbacks=[stop_early], batch_size=512)\n",
        "# Get the optimal hyperparameters\n",
        "best_hps=tuner.get_best_hyperparameters(num_trials=1)[0]"
      ],
      "metadata": {
        "colab": {
          "base_uri": "https://localhost:8080/"
        },
        "id": "tvb6g75_WV4E",
        "outputId": "24c80303-504c-45c6-b8ac-efdb9a8ba9f7"
      },
      "execution_count": 28,
      "outputs": [
        {
          "output_type": "stream",
          "name": "stdout",
          "text": [
            "Trial 124 Complete [00h 00m 02s]\n",
            "loss: 3.233260154724121\n",
            "\n",
            "Best loss So Far: 1.177046537399292\n",
            "Total elapsed time: 00h 03m 40s\n",
            "INFO:tensorflow:Oracle triggered exit\n"
          ]
        }
      ]
    },
    {
      "cell_type": "code",
      "source": [
        "best_hps.get('hidden_units'), best_hps.get('first_activation'), best_hps.get('last_activation') ,best_hps.get('reg'), best_hps.get('learning_rate')"
      ],
      "metadata": {
        "colab": {
          "base_uri": "https://localhost:8080/"
        },
        "id": "wAkohy7wfGBf",
        "outputId": "3dc3067f-1d2c-4ac5-aa30-84f7a7245668"
      },
      "execution_count": 29,
      "outputs": [
        {
          "output_type": "execute_result",
          "data": {
            "text/plain": [
              "(300, 'sigmoid', 'elu', 0.0001, 0.001)"
            ]
          },
          "metadata": {},
          "execution_count": 29
        }
      ]
    },
    {
      "cell_type": "markdown",
      "source": [
        "### Retraining"
      ],
      "metadata": {
        "id": "SSGXrccy88Qh"
      }
    },
    {
      "cell_type": "code",
      "source": [
        "autorec_opt = IAutoRec(train_mat.shape[1],hidden_units=best_hps.get('hidden_units'), reg=best_hps.get('reg'), \n",
        "                       learning_rate=best_hps.get('learning_rate'), first_activation=best_hps.get('first_activation'),\n",
        "                       last_activation=best_hps.get('last_activation'))\n",
        "autorec_opt.build_opt_model()\n",
        "autorec_opt.fit(train_mat, train_mat)"
      ],
      "metadata": {
        "colab": {
          "base_uri": "https://localhost:8080/"
        },
        "id": "fCYAMnTAWBa4",
        "outputId": "f2bbbd80-d32b-4eb6-9d51-c16e92fbb92a"
      },
      "execution_count": 30,
      "outputs": [
        {
          "output_type": "stream",
          "name": "stdout",
          "text": [
            "Model: \"model_1\"\n",
            "_________________________________________________________________\n",
            " Layer (type)                Output Shape              Param #   \n",
            "=================================================================\n",
            " item_rating (InputLayer)    [(None, 3706)]            0         \n",
            "                                                                 \n",
            " latent_dim (Dense)          (None, 300)               1112100   \n",
            "                                                                 \n",
            " item_pred_rating (Dense)    (None, 3706)              1115506   \n",
            "                                                                 \n",
            "=================================================================\n",
            "Total params: 2,227,606\n",
            "Trainable params: 2,227,606\n",
            "Non-trainable params: 0\n",
            "_________________________________________________________________\n",
            "Epoch 1/500\n",
            "22/22 - 1s - loss: 2.0533 - val_loss: 1.3166 - 631ms/epoch - 29ms/step\n",
            "Epoch 2/500\n",
            "22/22 - 0s - loss: 1.1515 - val_loss: 1.1073 - 172ms/epoch - 8ms/step\n",
            "Epoch 3/500\n",
            "22/22 - 0s - loss: 1.0812 - val_loss: 1.0833 - 171ms/epoch - 8ms/step\n",
            "Epoch 4/500\n",
            "22/22 - 0s - loss: 1.0658 - val_loss: 1.0736 - 171ms/epoch - 8ms/step\n",
            "Epoch 5/500\n",
            "22/22 - 0s - loss: 1.0570 - val_loss: 1.0657 - 172ms/epoch - 8ms/step\n",
            "Epoch 6/500\n",
            "22/22 - 0s - loss: 1.0515 - val_loss: 1.0589 - 184ms/epoch - 8ms/step\n",
            "Epoch 7/500\n",
            "22/22 - 0s - loss: 1.0468 - val_loss: 1.0557 - 180ms/epoch - 8ms/step\n",
            "Epoch 8/500\n",
            "22/22 - 0s - loss: 1.0404 - val_loss: 1.0539 - 186ms/epoch - 8ms/step\n",
            "Epoch 9/500\n",
            "22/22 - 0s - loss: 1.0374 - val_loss: 1.0484 - 185ms/epoch - 8ms/step\n",
            "Epoch 10/500\n",
            "22/22 - 0s - loss: 1.0311 - val_loss: 1.0434 - 175ms/epoch - 8ms/step\n",
            "Epoch 11/500\n",
            "22/22 - 0s - loss: 1.0288 - val_loss: 1.0419 - 179ms/epoch - 8ms/step\n",
            "Epoch 12/500\n",
            "22/22 - 0s - loss: 1.0260 - val_loss: 1.0404 - 170ms/epoch - 8ms/step\n",
            "Epoch 13/500\n",
            "22/22 - 0s - loss: 1.0230 - val_loss: 1.0376 - 176ms/epoch - 8ms/step\n",
            "Epoch 14/500\n",
            "22/22 - 0s - loss: 1.0204 - val_loss: 1.0346 - 177ms/epoch - 8ms/step\n",
            "Epoch 15/500\n",
            "22/22 - 0s - loss: 1.0176 - val_loss: 1.0334 - 174ms/epoch - 8ms/step\n",
            "Epoch 16/500\n",
            "22/22 - 0s - loss: 1.0145 - val_loss: 1.0341 - 126ms/epoch - 6ms/step\n",
            "Epoch 17/500\n",
            "22/22 - 0s - loss: 1.0126 - val_loss: 1.0309 - 170ms/epoch - 8ms/step\n",
            "Epoch 18/500\n",
            "22/22 - 0s - loss: 1.0107 - val_loss: 1.0294 - 177ms/epoch - 8ms/step\n",
            "Epoch 19/500\n",
            "22/22 - 0s - loss: 1.0085 - val_loss: 1.0272 - 309ms/epoch - 14ms/step\n",
            "Epoch 20/500\n",
            "22/22 - 0s - loss: 1.0061 - val_loss: 1.0247 - 179ms/epoch - 8ms/step\n",
            "Epoch 21/500\n",
            "22/22 - 0s - loss: 1.0046 - val_loss: 1.0237 - 181ms/epoch - 8ms/step\n",
            "Epoch 22/500\n",
            "22/22 - 0s - loss: 1.0030 - val_loss: 1.0227 - 180ms/epoch - 8ms/step\n",
            "Epoch 23/500\n",
            "22/22 - 0s - loss: 1.0010 - val_loss: 1.0225 - 183ms/epoch - 8ms/step\n",
            "Epoch 24/500\n",
            "22/22 - 0s - loss: 0.9987 - val_loss: 1.0210 - 176ms/epoch - 8ms/step\n",
            "Epoch 25/500\n",
            "22/22 - 0s - loss: 0.9979 - val_loss: 1.0203 - 174ms/epoch - 8ms/step\n",
            "Epoch 26/500\n",
            "22/22 - 0s - loss: 0.9951 - val_loss: 1.0202 - 184ms/epoch - 8ms/step\n",
            "Epoch 27/500\n",
            "22/22 - 0s - loss: 0.9939 - val_loss: 1.0204 - 122ms/epoch - 6ms/step\n",
            "Epoch 28/500\n",
            "22/22 - 0s - loss: 0.9937 - val_loss: 1.0221 - 119ms/epoch - 5ms/step\n",
            "Epoch 29/500\n",
            "22/22 - 0s - loss: 0.9909 - val_loss: 1.0198 - 172ms/epoch - 8ms/step\n",
            "Epoch 30/500\n",
            "22/22 - 0s - loss: 0.9878 - val_loss: 1.0173 - 175ms/epoch - 8ms/step\n",
            "Epoch 31/500\n",
            "22/22 - 0s - loss: 0.9854 - val_loss: 1.0194 - 123ms/epoch - 6ms/step\n",
            "Epoch 32/500\n",
            "22/22 - 0s - loss: 0.9828 - val_loss: 1.0205 - 117ms/epoch - 5ms/step\n",
            "Epoch 33/500\n",
            "22/22 - 0s - loss: 0.9820 - val_loss: 1.0195 - 117ms/epoch - 5ms/step\n",
            "Epoch 34/500\n",
            "22/22 - 0s - loss: 0.9794 - val_loss: 1.0208 - 117ms/epoch - 5ms/step\n",
            "Epoch 35/500\n",
            "22/22 - 0s - loss: 0.9789 - val_loss: 1.0200 - 120ms/epoch - 5ms/step\n",
            "Epoch 35: early stopping\n"
          ]
        }
      ]
    },
    {
      "cell_type": "code",
      "source": [
        "# plot training history\n",
        "plt.plot(autorec_opt.hist.history['loss'], label='train')\n",
        "plt.plot(autorec_opt.hist.history['val_loss'], label='validation')\n",
        "plt.xlabel('iteration')\n",
        "plt.ylabel('loss')\n",
        "plt.legend()"
      ],
      "metadata": {
        "colab": {
          "base_uri": "https://localhost:8080/",
          "height": 297
        },
        "id": "TBEEYzdtvX-3",
        "outputId": "8481b77b-1d04-4539-bcc8-50f88fca1b29"
      },
      "execution_count": 31,
      "outputs": [
        {
          "output_type": "execute_result",
          "data": {
            "text/plain": [
              "<matplotlib.legend.Legend at 0x7f9f1c0544d0>"
            ]
          },
          "metadata": {},
          "execution_count": 31
        },
        {
          "output_type": "display_data",
          "data": {
            "image/png": "[encoded data removed]",
            "text/plain": [
              "<Figure size 432x288 with 1 Axes>"
            ]
          },
          "metadata": {
            "needs_background": "light"
          }
        }
      ]
    },
    {
      "cell_type": "code",
      "source": [
        "autorec_opt.model = load_model('best_autorec_model.h5', custom_objects={'masked_rmse': IAutoRec.masked_rmse})\n"
      ],
      "metadata": {
        "id": "dQgp5j3cXDcW"
      },
      "execution_count": 32,
      "outputs": []
    },
    {
      "cell_type": "code",
      "source": [
        "shutil.rmtree('/content/hyper_params')"
      ],
      "metadata": {
        "id": "0DBm25bc4Bsx"
      },
      "execution_count": 33,
      "outputs": []
    },
    {
      "cell_type": "markdown",
      "source": [
        "### Prediction"
      ],
      "metadata": {
        "id": "huAA7BL89AfL"
      }
    },
    {
      "cell_type": "code",
      "source": [
        "# autorec.predict(np.zeros(test_mat.shape))\n",
        "autorec_opt.predict(test_mat)"
      ],
      "metadata": {
        "colab": {
          "base_uri": "https://localhost:8080/"
        },
        "id": "3tS3C2fJuakq",
        "outputId": "873fa265-52f9-4b05-9297-8b938fbe833b"
      },
      "execution_count": 34,
      "outputs": [
        {
          "output_type": "stream",
          "name": "stdout",
          "text": [
            "12/12 [==============================] - 0s 3ms/step\n"
          ]
        }
      ]
    },
    {
      "cell_type": "markdown",
      "source": [
        "### Evaluation"
      ],
      "metadata": {
        "id": "mbEOpGy79Dqs"
      }
    },
    {
      "cell_type": "code",
      "source": [
        "autorec_opt_eval = Metrics.get_evaluation(test_mat, autorec_opt.predictions)\n",
        "autorec_opt_eval"
      ],
      "metadata": {
        "colab": {
          "base_uri": "https://localhost:8080/"
        },
        "id": "YWN2oGiMCbOI",
        "outputId": "7fe44e43-9d2f-425a-8ca5-8d7b3658e2a4"
      },
      "execution_count": 35,
      "outputs": [
        {
          "output_type": "execute_result",
          "data": {
            "text/plain": [
              "{'MRR_10': 0.9714761345196127,\n",
              " 'MRR_5': 0.9714761345196127,\n",
              " 'NDCG_10': 0.9595427502854806,\n",
              " 'NDCG_100': 0.9632571344257689,\n",
              " 'NDCG_5': 0.9654666019128131,\n",
              " 'RMSE': 1.2223770940373277}"
            ]
          },
          "metadata": {},
          "execution_count": 35
        }
      ]
    },
    {
      "cell_type": "code",
      "source": [
        "autorec_opt_eval_df = pd.DataFrame(autorec_opt_eval, index=[0])\n",
        "autorec_opt_eval_df.plot(kind='bar')\n",
        "plt.title('IAutoRec movielens-1m')\n",
        "plt.xlabel('metrics')\n",
        "plt.ylabel('values')"
      ],
      "metadata": {
        "colab": {
          "base_uri": "https://localhost:8080/",
          "height": 309
        },
        "id": "0InidCx_9Ib6",
        "outputId": "1758e3a5-3bb1-4561-b6a9-ea8f0ab1b58f"
      },
      "execution_count": 36,
      "outputs": [
        {
          "output_type": "execute_result",
          "data": {
            "text/plain": [
              "Text(0, 0.5, 'values')"
            ]
          },
          "metadata": {},
          "execution_count": 36
        },
        {
          "output_type": "display_data",
          "data": {
            "image/png": "[encoded data removed]",
            "text/plain": [
              "<Figure size 432x288 with 1 Axes>"
            ]
          },
          "metadata": {
            "needs_background": "light"
          }
        }
      ]
    },
    {
      "cell_type": "markdown",
      "source": [
        "Note that we did not acheive similar results as the paper. our model's RMSE reaches 1.2 while the paper's reches 0.831. <br> This is quite a big difference, the reasons colud be explained by getting different hyperparameters. \n",
        "The paper does not disclose all of the hyperparameters.\n",
        "It describes some of them, such as regularization, hidden layer size and activation functions. Other parameters such as learning rate are not available, furthermore they use a different train and evaluation mechanism: \"We repeat this splitting procedure 5 times and report average RMSE.\""
      ],
      "metadata": {
        "id": "3L5k-TCII8Oo"
      }
    },
    {
      "cell_type": "markdown",
      "source": [
        "## IAutoRec Enhanced"
      ],
      "metadata": {
        "id": "0bxsFNPn9WHa"
      }
    },
    {
      "cell_type": "markdown",
      "source": [
        "the suggested enhanced model is build with more layers:\n",
        "\n",
        "1.   input layer (like the base model)\n",
        "2.   hidden encoder layer\n",
        "3.   dense layer (like the base model)\n",
        "4.   hidden dencoder layer\n",
        "5.   output layer (like the base model)\n",
        "\n"
      ],
      "metadata": {
        "id": "xshUIy13bY4-"
      }
    },
    {
      "cell_type": "markdown",
      "source": [
        "### HyperParameters Tuning"
      ],
      "metadata": {
        "id": "UKUeZ0j39czE"
      }
    },
    {
      "cell_type": "markdown",
      "source": [
        "hyperparameters:\n",
        "\n",
        "\n",
        "*   hidden units = {100, 200, 300}\n",
        "*   hidden units factor = {2, 3}\n",
        "*   regularization = {0.001, 0.0001}\n",
        "*   learning rate = {1e-3, 1e-4}\n",
        "*   in activation function = {RELU, Sigmoid, ELU}\n",
        "*   out activation function = {RELU, Sigmoid, ELU}\n"
      ],
      "metadata": {
        "id": "hwTjC2bCb3pZ"
      }
    },
    {
      "cell_type": "code",
      "source": [
        "autorec_enhanced = IAutoRecEnhanced(train_mat.shape[1])\n",
        "tuner = kt.Hyperband(autorec_enhanced.model_builder,\n",
        "                     objective='val_loss',\n",
        "                    #  objective='loss',\n",
        "                     max_epochs=500,\n",
        "                    #  factor=3,\n",
        "                     directory='hyper_params',\n",
        "                     project_name='autorec_enhanced_ml')"
      ],
      "metadata": {
        "colab": {
          "base_uri": "https://localhost:8080/"
        },
        "id": "tTfvkPnut2xy",
        "outputId": "87ad00fb-f4b3-4b67-c6af-a257c1ba146c"
      },
      "execution_count": 37,
      "outputs": [
        {
          "output_type": "stream",
          "name": "stdout",
          "text": [
            "Model: \"model_2\"\n",
            "_________________________________________________________________\n",
            " Layer (type)                Output Shape              Param #   \n",
            "=================================================================\n",
            " item_rating (InputLayer)    [(None, 3706)]            0         \n",
            "                                                                 \n",
            " hidden_encoder_1 (Dense)    (None, 200)               741400    \n",
            "                                                                 \n",
            " latent_dim (Dense)          (None, 100)               20100     \n",
            "                                                                 \n",
            " hidden_decoder_1 (Dense)    (None, 200)               20200     \n",
            "                                                                 \n",
            " item_pred_rating (Dense)    (None, 3706)              744906    \n",
            "                                                                 \n",
            "=================================================================\n",
            "Total params: 1,526,606\n",
            "Trainable params: 1,526,606\n",
            "Non-trainable params: 0\n",
            "_________________________________________________________________\n"
          ]
        }
      ]
    },
    {
      "cell_type": "code",
      "source": [
        "stop_early = tf.keras.callbacks.EarlyStopping(monitor='val_loss', patience=5)\n",
        "# stop_early = tf.keras.callbacks.EarlyStopping(monitor='loss', patience=5)\n",
        "tuner.search(train_mat, train_mat,\n",
        "             epochs=500, validation_split=0.1, callbacks=[stop_early], batch_size=512)\n",
        "# Get the optimal hyperparameters\n",
        "best_hps=tuner.get_best_hyperparameters(num_trials=1)[0]"
      ],
      "metadata": {
        "colab": {
          "base_uri": "https://localhost:8080/"
        },
        "id": "4cE63RteuQOV",
        "outputId": "3d36d2d3-51e4-4332-c371-a516ee427b66"
      },
      "execution_count": 38,
      "outputs": [
        {
          "output_type": "stream",
          "name": "stdout",
          "text": [
            "Trial 168 Complete [00h 00m 02s]\n",
            "val_loss: 1.5840271711349487\n",
            "\n",
            "Best val_loss So Far: 1.109140157699585\n",
            "Total elapsed time: 00h 05m 15s\n",
            "INFO:tensorflow:Oracle triggered exit\n"
          ]
        }
      ]
    },
    {
      "cell_type": "code",
      "source": [
        "best_hps.get('hidden_units'), best_hps.get('hidden_layer_factor'), best_hps.get('first_activation'), best_hps.get('last_activation'), best_hps.get('reg'), best_hps.get('learning_rate')"
      ],
      "metadata": {
        "id": "B3hx9seMunA3",
        "colab": {
          "base_uri": "https://localhost:8080/"
        },
        "outputId": "17e03ed8-9d03-402c-eb17-10aa3383c863"
      },
      "execution_count": 39,
      "outputs": [
        {
          "output_type": "execute_result",
          "data": {
            "text/plain": [
              "(100, 3, 'sigmoid', 'elu', 0.0001, 0.001)"
            ]
          },
          "metadata": {},
          "execution_count": 39
        }
      ]
    },
    {
      "cell_type": "markdown",
      "source": [
        "### Retraining"
      ],
      "metadata": {
        "id": "GBicB8qm9gm6"
      }
    },
    {
      "cell_type": "code",
      "source": [
        "autorec_enhanced_opt = IAutoRecEnhanced(train_mat.shape[1],hidden_units=best_hps.get('hidden_units'), \n",
        "                                        hidden_layer_factor=best_hps.get('hidden_layer_factor'), reg=best_hps.get('reg'), \n",
        "                                        learning_rate=best_hps.get('learning_rate'), first_activation=best_hps.get('first_activation'),\n",
        "                                        last_activation=best_hps.get('last_activation'))\n",
        "autorec_enhanced_opt.build_opt_model()\n",
        "autorec_enhanced_opt.fit(train_mat, train_mat)"
      ],
      "metadata": {
        "id": "2e88lswmun0F",
        "colab": {
          "base_uri": "https://localhost:8080/"
        },
        "outputId": "8e48c78c-927d-4ba6-e933-45e91d473dec"
      },
      "execution_count": 40,
      "outputs": [
        {
          "output_type": "stream",
          "name": "stdout",
          "text": [
            "Model: \"model_1\"\n",
            "_________________________________________________________________\n",
            " Layer (type)                Output Shape              Param #   \n",
            "=================================================================\n",
            " item_rating (InputLayer)    [(None, 3706)]            0         \n",
            "                                                                 \n",
            " hidden_encoder (Dense)      (None, 300)               1112100   \n",
            "                                                                 \n",
            " latent_dim (Dense)          (None, 100)               30100     \n",
            "                                                                 \n",
            " hidden_decoder (Dense)      (None, 300)               30300     \n",
            "                                                                 \n",
            " item_pred_rating (Dense)    (None, 3706)              1115506   \n",
            "                                                                 \n",
            "=================================================================\n",
            "Total params: 2,288,006\n",
            "Trainable params: 2,288,006\n",
            "Non-trainable params: 0\n",
            "_________________________________________________________________\n",
            "Epoch 1/500\n",
            "22/22 - 1s - loss: 2.2239 - val_loss: 1.1494 - 747ms/epoch - 34ms/step\n",
            "Epoch 2/500\n",
            "22/22 - 0s - loss: 1.1426 - val_loss: 1.0970 - 187ms/epoch - 9ms/step\n",
            "Epoch 3/500\n",
            "22/22 - 0s - loss: 1.0778 - val_loss: 1.0852 - 185ms/epoch - 8ms/step\n",
            "Epoch 4/500\n",
            "22/22 - 0s - loss: 1.0654 - val_loss: 1.0807 - 207ms/epoch - 9ms/step\n",
            "Epoch 5/500\n",
            "22/22 - 0s - loss: 1.0594 - val_loss: 1.0705 - 207ms/epoch - 9ms/step\n",
            "Epoch 6/500\n",
            "22/22 - 0s - loss: 1.0529 - val_loss: 1.0673 - 203ms/epoch - 9ms/step\n",
            "Epoch 7/500\n",
            "22/22 - 0s - loss: 1.0479 - val_loss: 1.0749 - 139ms/epoch - 6ms/step\n",
            "Epoch 8/500\n",
            "22/22 - 0s - loss: 1.0394 - val_loss: 1.0653 - 192ms/epoch - 9ms/step\n",
            "Epoch 9/500\n",
            "22/22 - 0s - loss: 1.0267 - val_loss: 1.0720 - 130ms/epoch - 6ms/step\n",
            "Epoch 10/500\n",
            "22/22 - 0s - loss: 1.0183 - val_loss: 1.0714 - 141ms/epoch - 6ms/step\n",
            "Epoch 11/500\n",
            "22/22 - 0s - loss: 1.0121 - val_loss: 1.0706 - 137ms/epoch - 6ms/step\n",
            "Epoch 12/500\n",
            "22/22 - 0s - loss: 1.0073 - val_loss: 1.0644 - 199ms/epoch - 9ms/step\n",
            "Epoch 13/500\n",
            "22/22 - 0s - loss: 1.0018 - val_loss: 1.0676 - 125ms/epoch - 6ms/step\n",
            "Epoch 14/500\n",
            "22/22 - 0s - loss: 0.9965 - val_loss: 1.0688 - 128ms/epoch - 6ms/step\n",
            "Epoch 15/500\n",
            "22/22 - 0s - loss: 0.9853 - val_loss: 1.0653 - 121ms/epoch - 5ms/step\n",
            "Epoch 16/500\n",
            "22/22 - 0s - loss: 0.9771 - val_loss: 1.0511 - 182ms/epoch - 8ms/step\n",
            "Epoch 17/500\n",
            "22/22 - 0s - loss: 0.9709 - val_loss: 1.0520 - 128ms/epoch - 6ms/step\n",
            "Epoch 18/500\n",
            "22/22 - 0s - loss: 0.9679 - val_loss: 1.0490 - 182ms/epoch - 8ms/step\n",
            "Epoch 19/500\n",
            "22/22 - 0s - loss: 0.9640 - val_loss: 1.0503 - 129ms/epoch - 6ms/step\n",
            "Epoch 20/500\n",
            "22/22 - 0s - loss: 0.9610 - val_loss: 1.0529 - 125ms/epoch - 6ms/step\n",
            "Epoch 21/500\n",
            "22/22 - 0s - loss: 0.9581 - val_loss: 1.0518 - 124ms/epoch - 6ms/step\n",
            "Epoch 22/500\n",
            "22/22 - 0s - loss: 0.9544 - val_loss: 1.0458 - 188ms/epoch - 9ms/step\n",
            "Epoch 23/500\n",
            "22/22 - 0s - loss: 0.9512 - val_loss: 1.0458 - 126ms/epoch - 6ms/step\n",
            "Epoch 24/500\n",
            "22/22 - 0s - loss: 0.9483 - val_loss: 1.0484 - 124ms/epoch - 6ms/step\n",
            "Epoch 25/500\n",
            "22/22 - 0s - loss: 0.9474 - val_loss: 1.0420 - 290ms/epoch - 13ms/step\n",
            "Epoch 26/500\n",
            "22/22 - 0s - loss: 0.9443 - val_loss: 1.0432 - 128ms/epoch - 6ms/step\n",
            "Epoch 27/500\n",
            "22/22 - 0s - loss: 0.9410 - val_loss: 1.0427 - 126ms/epoch - 6ms/step\n",
            "Epoch 28/500\n",
            "22/22 - 0s - loss: 0.9367 - val_loss: 1.0397 - 185ms/epoch - 8ms/step\n",
            "Epoch 29/500\n",
            "22/22 - 0s - loss: 0.9370 - val_loss: 1.0470 - 128ms/epoch - 6ms/step\n",
            "Epoch 30/500\n",
            "22/22 - 0s - loss: 0.9364 - val_loss: 1.0412 - 124ms/epoch - 6ms/step\n",
            "Epoch 31/500\n",
            "22/22 - 0s - loss: 0.9345 - val_loss: 1.0392 - 183ms/epoch - 8ms/step\n",
            "Epoch 32/500\n",
            "22/22 - 0s - loss: 0.9333 - val_loss: 1.0392 - 188ms/epoch - 9ms/step\n",
            "Epoch 33/500\n",
            "22/22 - 0s - loss: 0.9305 - val_loss: 1.0358 - 190ms/epoch - 9ms/step\n",
            "Epoch 34/500\n",
            "22/22 - 0s - loss: 0.9283 - val_loss: 1.0363 - 129ms/epoch - 6ms/step\n",
            "Epoch 35/500\n",
            "22/22 - 0s - loss: 0.9270 - val_loss: 1.0376 - 122ms/epoch - 6ms/step\n",
            "Epoch 36/500\n",
            "22/22 - 0s - loss: 0.9249 - val_loss: 1.0327 - 184ms/epoch - 8ms/step\n",
            "Epoch 37/500\n",
            "22/22 - 0s - loss: 0.9223 - val_loss: 1.0355 - 126ms/epoch - 6ms/step\n",
            "Epoch 38/500\n",
            "22/22 - 0s - loss: 0.9220 - val_loss: 1.0337 - 124ms/epoch - 6ms/step\n",
            "Epoch 39/500\n",
            "22/22 - 0s - loss: 0.9204 - val_loss: 1.0365 - 124ms/epoch - 6ms/step\n",
            "Epoch 40/500\n",
            "22/22 - 0s - loss: 0.9210 - val_loss: 1.0367 - 122ms/epoch - 6ms/step\n",
            "Epoch 41/500\n",
            "22/22 - 0s - loss: 0.9195 - val_loss: 1.0321 - 188ms/epoch - 9ms/step\n",
            "Epoch 42/500\n",
            "22/22 - 0s - loss: 0.9170 - val_loss: 1.0311 - 187ms/epoch - 9ms/step\n",
            "Epoch 43/500\n",
            "22/22 - 0s - loss: 0.9151 - val_loss: 1.0324 - 125ms/epoch - 6ms/step\n",
            "Epoch 44/500\n",
            "22/22 - 0s - loss: 0.9144 - val_loss: 1.0296 - 204ms/epoch - 9ms/step\n",
            "Epoch 45/500\n",
            "22/22 - 0s - loss: 0.9141 - val_loss: 1.0328 - 125ms/epoch - 6ms/step\n",
            "Epoch 46/500\n",
            "22/22 - 0s - loss: 0.9131 - val_loss: 1.0341 - 124ms/epoch - 6ms/step\n",
            "Epoch 47/500\n",
            "22/22 - 0s - loss: 0.9114 - val_loss: 1.0297 - 124ms/epoch - 6ms/step\n",
            "Epoch 48/500\n",
            "22/22 - 0s - loss: 0.9101 - val_loss: 1.0305 - 123ms/epoch - 6ms/step\n",
            "Epoch 49/500\n",
            "22/22 - 0s - loss: 0.9077 - val_loss: 1.0329 - 126ms/epoch - 6ms/step\n",
            "Epoch 49: early stopping\n"
          ]
        }
      ]
    },
    {
      "cell_type": "code",
      "source": [
        "# plot training history\n",
        "plt.plot(autorec_enhanced_opt.hist.history['loss'], label='train')\n",
        "plt.plot(autorec_enhanced_opt.hist.history['val_loss'], label='validation')\n",
        "plt.xlabel('iteration')\n",
        "plt.ylabel('loss')\n",
        "plt.legend()"
      ],
      "metadata": {
        "id": "oXPOOpWXpF7P",
        "colab": {
          "base_uri": "https://localhost:8080/",
          "height": 297
        },
        "outputId": "2e651abc-3619-419d-f6d2-e4ec91b5a9ec"
      },
      "execution_count": 41,
      "outputs": [
        {
          "output_type": "execute_result",
          "data": {
            "text/plain": [
              "<matplotlib.legend.Legend at 0x7f9f1b1754d0>"
            ]
          },
          "metadata": {},
          "execution_count": 41
        },
        {
          "output_type": "display_data",
          "data": {
            "image/png": "[encoded data removed]",
            "text/plain": [
              "<Figure size 432x288 with 1 Axes>"
            ]
          },
          "metadata": {
            "needs_background": "light"
          }
        }
      ]
    },
    {
      "cell_type": "code",
      "source": [
        "autorec_enhanced_opt.model = load_model('best_autorec_enhanced_model.h5', custom_objects={'masked_rmse': IAutoRecEnhanced.masked_rmse})"
      ],
      "metadata": {
        "id": "1SlhjlUoXLaA"
      },
      "execution_count": 42,
      "outputs": []
    },
    {
      "cell_type": "code",
      "source": [
        "shutil.rmtree('/content/hyper_params')"
      ],
      "metadata": {
        "id": "lpOlff2S4D9s"
      },
      "execution_count": 43,
      "outputs": []
    },
    {
      "cell_type": "markdown",
      "source": [
        "### Prediction"
      ],
      "metadata": {
        "id": "X_089usd9oLL"
      }
    },
    {
      "cell_type": "code",
      "source": [
        "autorec_enhanced_opt.predict(test_mat)"
      ],
      "metadata": {
        "id": "qPyCRVXDpMtg",
        "colab": {
          "base_uri": "https://localhost:8080/"
        },
        "outputId": "54eaacf0-4b99-4d70-9eca-c7c276766530"
      },
      "execution_count": 45,
      "outputs": [
        {
          "output_type": "stream",
          "name": "stdout",
          "text": [
            "12/12 [==============================] - 0s 3ms/step\n"
          ]
        }
      ]
    },
    {
      "cell_type": "markdown",
      "source": [
        "### Evaluation"
      ],
      "metadata": {
        "id": "CgQwY6DV9rCr"
      }
    },
    {
      "cell_type": "code",
      "source": [
        "autorec_enhanced_opt_eval = Metrics.get_evaluation(test_mat, autorec_enhanced_opt.predictions)\n",
        "autorec_enhanced_opt_eval"
      ],
      "metadata": {
        "id": "Uu2kd5e2rIiW",
        "colab": {
          "base_uri": "https://localhost:8080/"
        },
        "outputId": "3bf82300-9e98-4a69-dc6e-38589445bb2e"
      },
      "execution_count": 46,
      "outputs": [
        {
          "output_type": "execute_result",
          "data": {
            "text/plain": [
              "{'MRR_10': 0.97040456605674,\n",
              " 'MRR_5': 0.97040456605674,\n",
              " 'NDCG_10': 0.9592570543224679,\n",
              " 'NDCG_100': 0.9632617725974328,\n",
              " 'NDCG_5': 0.9651301862514317,\n",
              " 'RMSE': 1.0166728553257713}"
            ]
          },
          "metadata": {},
          "execution_count": 46
        }
      ]
    },
    {
      "cell_type": "code",
      "source": [
        "autorec_enhanced_opt_eval_df = pd.DataFrame(autorec_enhanced_opt_eval, index=[0])\n",
        "autorec_enhanced_opt_eval_df.plot(kind='bar')\n",
        "plt.title('IAutoRec Enhanced movielens-1m')\n",
        "plt.xlabel('metrics')\n",
        "plt.ylabel('values')"
      ],
      "metadata": {
        "id": "BKx9ZHZF9yqE",
        "colab": {
          "base_uri": "https://localhost:8080/",
          "height": 309
        },
        "outputId": "9509b999-9bdf-4072-f28d-9c29d77719f7"
      },
      "execution_count": 47,
      "outputs": [
        {
          "output_type": "execute_result",
          "data": {
            "text/plain": [
              "Text(0, 0.5, 'values')"
            ]
          },
          "metadata": {},
          "execution_count": 47
        },
        {
          "output_type": "display_data",
          "data": {
            "image/png": "[encoded data removed]",
            "text/plain": [
              "<Figure size 432x288 with 1 Axes>"
            ]
          },
          "metadata": {
            "needs_background": "light"
          }
        }
      ]
    },
    {
      "cell_type": "markdown",
      "source": [
        "we managed to get better results, but still, not as good as the paper suggests, we'll try next a deeper architecture."
      ],
      "metadata": {
        "id": "Djbp3143j1SZ"
      }
    },
    {
      "cell_type": "markdown",
      "source": [
        "## IAutoRec Enhanced 2"
      ],
      "metadata": {
        "id": "kh3vh0YskHCz"
      }
    },
    {
      "cell_type": "markdown",
      "source": [
        "the suggested enhanced 2 model is build with more layers:\n",
        "\n",
        "1.   input layer (like the base model)\n",
        "2.   hidden encoder layer 1\n",
        "3.   hidden encoder layer 2\n",
        "4.   dense layer (like the base model)\n",
        "5.   hidden dencoder layer 1\n",
        "6.   hidden dencoder layer 2\n",
        "7.   output layer (like the base model)"
      ],
      "metadata": {
        "id": "__3cHW7bkOJ_"
      }
    },
    {
      "cell_type": "markdown",
      "source": [
        "### HyperParameters Tuning"
      ],
      "metadata": {
        "id": "VjiqqQ8Ckf4Q"
      }
    },
    {
      "cell_type": "markdown",
      "source": [
        "hyperparameters:\n",
        "\n",
        "\n",
        "*   hidden units = {50, 100}\n",
        "*   hidden units factor = {2}\n",
        "*   regularization = {0.001, 0.0001}\n",
        "*   learning rate = {1e-3, 1e-4}\n",
        "*   in activation function = {RELU, Sigmoid, ELU}\n",
        "*   out activation function = {RELU, Sigmoid, ELU}"
      ],
      "metadata": {
        "id": "KoBMxZ2Skk5d"
      }
    },
    {
      "cell_type": "code",
      "source": [
        "autorec_enhanced2 = IAutoRecEnhanced2(train_mat.shape[1])\n",
        "tuner = kt.Hyperband(autorec_enhanced2.model_builder,\n",
        "                     objective='val_loss',\n",
        "                    #  objective='loss',\n",
        "                     max_epochs=500,\n",
        "                    #  factor=3,\n",
        "                     directory='hyper_params',\n",
        "                     project_name='autorec_enhanced2_ml')"
      ],
      "metadata": {
        "colab": {
          "base_uri": "https://localhost:8080/"
        },
        "id": "UBYTvx0dlmKr",
        "outputId": "b97616e8-cc71-45ae-857d-75c346b4acd2"
      },
      "execution_count": 48,
      "outputs": [
        {
          "output_type": "stream",
          "name": "stdout",
          "text": [
            "Model: \"model_2\"\n",
            "_________________________________________________________________\n",
            " Layer (type)                Output Shape              Param #   \n",
            "=================================================================\n",
            " item_rating (InputLayer)    [(None, 3706)]            0         \n",
            "                                                                 \n",
            " hidden_encoder_1 (Dense)    (None, 200)               741400    \n",
            "                                                                 \n",
            " hidden_encoder_2 (Dense)    (None, 100)               20100     \n",
            "                                                                 \n",
            " latent_dim (Dense)          (None, 50)                5050      \n",
            "                                                                 \n",
            " hidden_decoder_1 (Dense)    (None, 100)               5100      \n",
            "                                                                 \n",
            " hidden_decoder_2 (Dense)    (None, 200)               20200     \n",
            "                                                                 \n",
            " item_pred_rating (Dense)    (None, 3706)              744906    \n",
            "                                                                 \n",
            "=================================================================\n",
            "Total params: 1,536,756\n",
            "Trainable params: 1,536,756\n",
            "Non-trainable params: 0\n",
            "_________________________________________________________________\n"
          ]
        }
      ]
    },
    {
      "cell_type": "code",
      "source": [
        "stop_early = tf.keras.callbacks.EarlyStopping(monitor='val_loss', patience=5)\n",
        "# stop_early = tf.keras.callbacks.EarlyStopping(monitor='loss', patience=5)\n",
        "tuner.search(train_mat, train_mat,\n",
        "             epochs=500, validation_split=0.1, callbacks=[stop_early], batch_size=512)\n",
        "# Get the optimal hyperparameters\n",
        "best_hps=tuner.get_best_hyperparameters(num_trials=1)[0]"
      ],
      "metadata": {
        "colab": {
          "base_uri": "https://localhost:8080/"
        },
        "id": "XtoVhJm7lwq5",
        "outputId": "9d619f36-a105-4429-cd4e-fd3bad234d15"
      },
      "execution_count": 49,
      "outputs": [
        {
          "output_type": "stream",
          "name": "stdout",
          "text": [
            "Trial 127 Complete [00h 00m 01s]\n",
            "val_loss: 2.932190179824829\n",
            "\n",
            "Best val_loss So Far: 1.1171069145202637\n",
            "Total elapsed time: 00h 04m 15s\n",
            "INFO:tensorflow:Oracle triggered exit\n"
          ]
        }
      ]
    },
    {
      "cell_type": "code",
      "source": [
        "best_hps.get('hidden_units'), best_hps.get('hidden_layer_factor'), best_hps.get('first_activation'), best_hps.get('last_activation'), best_hps.get('reg'), best_hps.get('learning_rate')"
      ],
      "metadata": {
        "colab": {
          "base_uri": "https://localhost:8080/"
        },
        "id": "r_dk63hvl6O3",
        "outputId": "473d4edc-ba50-47f7-9c38-c16cd9dc9e09"
      },
      "execution_count": 50,
      "outputs": [
        {
          "output_type": "execute_result",
          "data": {
            "text/plain": [
              "(50, 2, 'elu', 'elu', 0.0001, 0.001)"
            ]
          },
          "metadata": {},
          "execution_count": 50
        }
      ]
    },
    {
      "cell_type": "markdown",
      "source": [
        "### Retraining"
      ],
      "metadata": {
        "id": "mPI9ZtrWmAZy"
      }
    },
    {
      "cell_type": "code",
      "source": [
        "# autorec_enhanced2_opt = IAutoRecEnhanced2(train_mat.shape[1],hidden_units=best_hps.get('hidden_units'), \n",
        "#                                         hidden_layer_factor=best_hps.get('hidden_layer_factor'), reg=best_hps.get('reg'), \n",
        "#                                         learning_rate=best_hps.get('learning_rate'), first_activation=best_hps.get('first_activation'),\n",
        "#                                         last_activation=best_hps.get('last_activation'))\n",
        "autorec_enhanced2_opt.build_opt_model()\n",
        "autorec_enhanced2_opt.fit(train_mat, train_mat)"
      ],
      "metadata": {
        "colab": {
          "base_uri": "https://localhost:8080/"
        },
        "id": "Fv3KXwKFl7c3",
        "outputId": "d850df5c-f2fa-4470-85d8-83b87625a4e1"
      },
      "execution_count": 15,
      "outputs": [
        {
          "output_type": "stream",
          "name": "stdout",
          "text": [
            "Model: \"model\"\n",
            "_________________________________________________________________\n",
            " Layer (type)                Output Shape              Param #   \n",
            "=================================================================\n",
            " item_rating (InputLayer)    [(None, 3706)]            0         \n",
            "                                                                 \n",
            " hidden_encoder_1 (Dense)    (None, 200)               741400    \n",
            "                                                                 \n",
            " hidden_encoder_2 (Dense)    (None, 100)               20100     \n",
            "                                                                 \n",
            " latent_dim (Dense)          (None, 50)                5050      \n",
            "                                                                 \n",
            " hidden_decoder_1 (Dense)    (None, 100)               5100      \n",
            "                                                                 \n",
            " hidden_decoder_2 (Dense)    (None, 200)               20200     \n",
            "                                                                 \n",
            " item_pred_rating (Dense)    (None, 3706)              744906    \n",
            "                                                                 \n",
            "=================================================================\n",
            "Total params: 1,536,756\n",
            "Trainable params: 1,536,756\n",
            "Non-trainable params: 0\n",
            "_________________________________________________________________\n",
            "Epoch 1/500\n",
            "22/22 - 1s - loss: 2.1446 - val_loss: 1.1808 - 1s/epoch - 58ms/step\n",
            "Epoch 2/500\n",
            "22/22 - 0s - loss: 1.1197 - val_loss: 1.1044 - 184ms/epoch - 8ms/step\n",
            "Epoch 3/500\n",
            "22/22 - 0s - loss: 1.0741 - val_loss: 1.0932 - 183ms/epoch - 8ms/step\n",
            "Epoch 4/500\n",
            "22/22 - 0s - loss: 1.0542 - val_loss: 1.0779 - 187ms/epoch - 8ms/step\n",
            "Epoch 5/500\n",
            "22/22 - 0s - loss: 1.0327 - val_loss: 1.0721 - 179ms/epoch - 8ms/step\n",
            "Epoch 6/500\n",
            "22/22 - 0s - loss: 1.0155 - val_loss: 1.0676 - 178ms/epoch - 8ms/step\n",
            "Epoch 7/500\n",
            "22/22 - 0s - loss: 0.9978 - val_loss: 1.0566 - 193ms/epoch - 9ms/step\n",
            "Epoch 8/500\n",
            "22/22 - 0s - loss: 0.9826 - val_loss: 1.0514 - 180ms/epoch - 8ms/step\n",
            "Epoch 9/500\n",
            "22/22 - 0s - loss: 0.9691 - val_loss: 1.0490 - 189ms/epoch - 9ms/step\n",
            "Epoch 10/500\n",
            "22/22 - 0s - loss: 0.9597 - val_loss: 1.0489 - 180ms/epoch - 8ms/step\n",
            "Epoch 11/500\n",
            "22/22 - 0s - loss: 0.9538 - val_loss: 1.0532 - 127ms/epoch - 6ms/step\n",
            "Epoch 12/500\n",
            "22/22 - 0s - loss: 0.9444 - val_loss: 1.0443 - 190ms/epoch - 9ms/step\n",
            "Epoch 13/500\n",
            "22/22 - 0s - loss: 0.9350 - val_loss: 1.0425 - 187ms/epoch - 9ms/step\n",
            "Epoch 14/500\n",
            "22/22 - 0s - loss: 0.9286 - val_loss: 1.0398 - 180ms/epoch - 8ms/step\n",
            "Epoch 15/500\n",
            "22/22 - 0s - loss: 0.9199 - val_loss: 1.0388 - 183ms/epoch - 8ms/step\n",
            "Epoch 16/500\n",
            "22/22 - 0s - loss: 0.9138 - val_loss: 1.0390 - 130ms/epoch - 6ms/step\n",
            "Epoch 17/500\n",
            "22/22 - 0s - loss: 0.9089 - val_loss: 1.0401 - 123ms/epoch - 6ms/step\n",
            "Epoch 18/500\n",
            "22/22 - 0s - loss: 0.9055 - val_loss: 1.0383 - 178ms/epoch - 8ms/step\n",
            "Epoch 19/500\n",
            "22/22 - 0s - loss: 0.9006 - val_loss: 1.0377 - 176ms/epoch - 8ms/step\n",
            "Epoch 20/500\n",
            "22/22 - 0s - loss: 0.8954 - val_loss: 1.0384 - 126ms/epoch - 6ms/step\n",
            "Epoch 21/500\n",
            "22/22 - 0s - loss: 0.8904 - val_loss: 1.0326 - 193ms/epoch - 9ms/step\n",
            "Epoch 22/500\n",
            "22/22 - 0s - loss: 0.8867 - val_loss: 1.0350 - 143ms/epoch - 7ms/step\n",
            "Epoch 23/500\n",
            "22/22 - 0s - loss: 0.8822 - val_loss: 1.0358 - 134ms/epoch - 6ms/step\n",
            "Epoch 24/500\n",
            "22/22 - 0s - loss: 0.8775 - val_loss: 1.0386 - 132ms/epoch - 6ms/step\n",
            "Epoch 25/500\n",
            "22/22 - 0s - loss: 0.8755 - val_loss: 1.0357 - 133ms/epoch - 6ms/step\n",
            "Epoch 26/500\n",
            "22/22 - 0s - loss: 0.8724 - val_loss: 1.0402 - 135ms/epoch - 6ms/step\n",
            "Epoch 26: early stopping\n"
          ]
        }
      ]
    },
    {
      "cell_type": "code",
      "source": [
        "# plot training history\n",
        "plt.plot(autorec_enhanced2_opt.hist.history['loss'], label='train')\n",
        "plt.plot(autorec_enhanced2_opt.hist.history['val_loss'], label='validation')\n",
        "plt.xlabel('iteration')\n",
        "plt.ylabel('loss')\n",
        "plt.legend()"
      ],
      "metadata": {
        "colab": {
          "base_uri": "https://localhost:8080/",
          "height": 299
        },
        "id": "QZUGGjSJmhGa",
        "outputId": "5b251509-8be3-4335-dd47-2368f56a2605"
      },
      "execution_count": 16,
      "outputs": [
        {
          "output_type": "execute_result",
          "data": {
            "text/plain": [
              "<matplotlib.legend.Legend at 0x7f3e20bee990>"
            ]
          },
          "metadata": {},
          "execution_count": 16
        },
        {
          "output_type": "display_data",
          "data": {
            "image/png": "[encoded data removed]",
            "text/plain": [
              "<Figure size 432x288 with 1 Axes>"
            ]
          },
          "metadata": {
            "needs_background": "light"
          }
        }
      ]
    },
    {
      "cell_type": "code",
      "source": [
        "autorec_enhanced2_opt.model = load_model('best_autorec_enhanced2_model.h5', custom_objects={'masked_rmse': IAutoRecEnhanced2.masked_rmse})"
      ],
      "metadata": {
        "id": "ihXt--nam0u_"
      },
      "execution_count": 17,
      "outputs": []
    },
    {
      "cell_type": "code",
      "source": [
        "shutil.rmtree('/content/hyper_params')"
      ],
      "metadata": {
        "id": "ZmPtD07_m1Ur"
      },
      "execution_count": 18,
      "outputs": []
    },
    {
      "cell_type": "markdown",
      "source": [
        "### Prediction"
      ],
      "metadata": {
        "id": "lFaBsdSDm8Md"
      }
    },
    {
      "cell_type": "code",
      "source": [
        "autorec_enhanced2_opt.predict(test_mat)"
      ],
      "metadata": {
        "colab": {
          "base_uri": "https://localhost:8080/"
        },
        "id": "o1FZaIAPm8uO",
        "outputId": "ac517670-8e1a-4a3e-dc6d-071d4cd44e7b"
      },
      "execution_count": 19,
      "outputs": [
        {
          "output_type": "stream",
          "name": "stdout",
          "text": [
            "12/12 [==============================] - 0s 4ms/step\n"
          ]
        }
      ]
    },
    {
      "cell_type": "markdown",
      "source": [
        "### Evaluation"
      ],
      "metadata": {
        "id": "5NggC2TqnMZn"
      }
    },
    {
      "cell_type": "code",
      "source": [
        "autorec_enhanced2_opt_eval = Metrics.get_evaluation(test_mat, autorec_enhanced2_opt.predictions)\n",
        "autorec_enhanced2_opt_eval"
      ],
      "metadata": {
        "colab": {
          "base_uri": "https://localhost:8080/"
        },
        "id": "QfnVDS-pnM88",
        "outputId": "74cd072b-375d-40e7-9aaa-376a31882a16"
      },
      "execution_count": 20,
      "outputs": [
        {
          "output_type": "execute_result",
          "data": {
            "text/plain": [
              "{'MRR_10': 0.9736864193385932,\n",
              " 'MRR_5': 0.9736304627608975,\n",
              " 'NDCG_10': 0.9600791532658715,\n",
              " 'NDCG_100': 0.9623368835199153,\n",
              " 'NDCG_5': 0.9667704623745941,\n",
              " 'RMSE': 1.1964673199969456}"
            ]
          },
          "metadata": {},
          "execution_count": 20
        }
      ]
    },
    {
      "cell_type": "code",
      "source": [
        "autorec_enhanced2_opt_eval_df = pd.DataFrame(autorec_enhanced2_opt_eval, index=[0])\n",
        "autorec_enhanced2_opt_eval_df.plot(kind='bar')\n",
        "plt.title('IAutoRec Enhanced 2 movielens-1m')\n",
        "plt.xlabel('metrics')\n",
        "plt.ylabel('values')"
      ],
      "metadata": {
        "colab": {
          "base_uri": "https://localhost:8080/",
          "height": 309
        },
        "id": "92L50sgJnYbm",
        "outputId": "7bb4a3b5-3275-4490-f7e1-e137863961c0"
      },
      "execution_count": 21,
      "outputs": [
        {
          "output_type": "execute_result",
          "data": {
            "text/plain": [
              "Text(0, 0.5, 'values')"
            ]
          },
          "metadata": {},
          "execution_count": 21
        },
        {
          "output_type": "display_data",
          "data": {
            "image/png": "[encoded data removed]",
            "text/plain": [
              "<Figure size 432x288 with 1 Axes>"
            ]
          },
          "metadata": {
            "needs_background": "light"
          }
        }
      ]
    },
    {
      "cell_type": "markdown",
      "source": [
        "we got worse results than the simpler model, this might be due to a needed heavy duty hyperparameter tuninng."
      ],
      "metadata": {
        "id": "6OppAOAv53ti"
      }
    },
    {
      "cell_type": "markdown",
      "source": [
        "## Models Metrics Comparison"
      ],
      "metadata": {
        "id": "3hGuJHjO98Ar"
      }
    },
    {
      "cell_type": "code",
      "source": [
        "result_dict = {\n",
        "    'mf': mf_opt_eval,\n",
        "    'autorec': autorec_opt_eval,\n",
        "    'autorec_enhanced': autorec_enhanced_opt_eval,\n",
        "    'autorec_enhanced2': autorec_enhanced2_opt_eval\n",
        "               }\n",
        "res_df = pd.DataFrame.from_dict(result_dict)\n",
        "res_df"
      ],
      "metadata": {
        "id": "Ne9llYJFxUjw",
        "colab": {
          "base_uri": "https://localhost:8080/",
          "height": 237
        },
        "outputId": "ec518f6a-eb1f-47b8-8dca-adbd149b4f72"
      },
      "execution_count": 25,
      "outputs": [
        {
          "output_type": "execute_result",
          "data": {
            "text/html": [
              "\n",
              "  <div id=\"df-5c80f29f-b8d4-4433-b318-2ec794a37b16\">\n",
              "    <div class=\"colab-df-container\">\n",
              "      <div>\n",
              "<style scoped>\n",
              "    .dataframe tbody tr th:only-of-type {\n",
              "        vertical-align: middle;\n",
              "    }\n",
              "\n",
              "    .dataframe tbody tr th {\n",
              "        vertical-align: top;\n",
              "    }\n",
              "\n",
              "    .dataframe thead th {\n",
              "        text-align: right;\n",
              "    }\n",
              "</style>\n",
              "<table border=\"1\" class=\"dataframe\">\n",
              "  <thead>\n",
              "    <tr style=\"text-align: right;\">\n",
              "      <th></th>\n",
              "      <th>mf</th>\n",
              "      <th>autorec</th>\n",
              "      <th>autorec_enhanced</th>\n",
              "      <th>autorec_enhanced2</th>\n",
              "    </tr>\n",
              "  </thead>\n",
              "  <tbody>\n",
              "    <tr>\n",
              "      <th>MRR_10</th>\n",
              "      <td>0.977408</td>\n",
              "      <td>0.971476</td>\n",
              "      <td>0.970405</td>\n",
              "      <td>0.973686</td>\n",
              "    </tr>\n",
              "    <tr>\n",
              "      <th>MRR_5</th>\n",
              "      <td>0.977408</td>\n",
              "      <td>0.971476</td>\n",
              "      <td>0.970405</td>\n",
              "      <td>0.973630</td>\n",
              "    </tr>\n",
              "    <tr>\n",
              "      <th>NDCG_10</th>\n",
              "      <td>0.967013</td>\n",
              "      <td>0.959543</td>\n",
              "      <td>0.959257</td>\n",
              "      <td>0.960079</td>\n",
              "    </tr>\n",
              "    <tr>\n",
              "      <th>NDCG_100</th>\n",
              "      <td>0.972053</td>\n",
              "      <td>0.963257</td>\n",
              "      <td>0.963262</td>\n",
              "      <td>0.962337</td>\n",
              "    </tr>\n",
              "    <tr>\n",
              "      <th>NDCG_5</th>\n",
              "      <td>0.971676</td>\n",
              "      <td>0.965467</td>\n",
              "      <td>0.965130</td>\n",
              "      <td>0.966770</td>\n",
              "    </tr>\n",
              "    <tr>\n",
              "      <th>RMSE</th>\n",
              "      <td>0.858593</td>\n",
              "      <td>1.222377</td>\n",
              "      <td>1.016673</td>\n",
              "      <td>1.196467</td>\n",
              "    </tr>\n",
              "  </tbody>\n",
              "</table>\n",
              "</div>\n",
              "      <button class=\"colab-df-convert\" onclick=\"convertToInteractive('df-5c80f29f-b8d4-4433-b318-2ec794a37b16')\"\n",
              "              title=\"Convert this dataframe to an interactive table.\"\n",
              "              style=\"display:none;\">\n",
              "        \n",
              "  <svg xmlns=\"http://www.w3.org/2000/svg\" height=\"24px\"viewBox=\"0 0 24 24\"\n",
              "       width=\"24px\">\n",
              "    <path d=\"M0 0h24v24H0V0z\" fill=\"none\"/>\n",
              "    <path d=\"M18.56 5.44l.94 2.06.94-2.06 2.06-.94-2.06-.94-.94-2.06-.94 2.06-2.06.94zm-11 1L8.5 8.5l.94-2.06 2.06-.94-2.06-.94L8.5 2.5l-.94 2.06-2.06.94zm10 10l.94 2.06.94-2.06 2.06-.94-2.06-.94-.94-2.06-.94 2.06-2.06.94z\"/><path d=\"M17.41 7.96l-1.37-1.37c-.4-.4-.92-.59-1.43-.59-.52 0-1.04.2-1.43.59L10.3 9.45l-7.72 7.72c-.78.78-.78 2.05 0 2.83L4 21.41c.39.39.9.59 1.41.59.51 0 1.02-.2 1.41-.59l7.78-7.78 2.81-2.81c.8-.78.8-2.07 0-2.86zM5.41 20L4 18.59l7.72-7.72 1.47 1.35L5.41 20z\"/>\n",
              "  </svg>\n",
              "      </button>\n",
              "      \n",
              "  <style>\n",
              "    .colab-df-container {\n",
              "      display:flex;\n",
              "      flex-wrap:wrap;\n",
              "      gap: 12px;\n",
              "    }\n",
              "\n",
              "    .colab-df-convert {\n",
              "      background-color: #E8F0FE;\n",
              "      border: none;\n",
              "      border-radius: 50%;\n",
              "      cursor: pointer;\n",
              "      display: none;\n",
              "      fill: #1967D2;\n",
              "      height: 32px;\n",
              "      padding: 0 0 0 0;\n",
              "      width: 32px;\n",
              "    }\n",
              "\n",
              "    .colab-df-convert:hover {\n",
              "      background-color: #E2EBFA;\n",
              "      box-shadow: 0px 1px 2px rgba(60, 64, 67, 0.3), 0px 1px 3px 1px rgba(60, 64, 67, 0.15);\n",
              "      fill: #174EA6;\n",
              "    }\n",
              "\n",
              "    [theme=dark] .colab-df-convert {\n",
              "      background-color: #3B4455;\n",
              "      fill: #D2E3FC;\n",
              "    }\n",
              "\n",
              "    [theme=dark] .colab-df-convert:hover {\n",
              "      background-color: #434B5C;\n",
              "      box-shadow: 0px 1px 3px 1px rgba(0, 0, 0, 0.15);\n",
              "      filter: drop-shadow(0px 1px 2px rgba(0, 0, 0, 0.3));\n",
              "      fill: #FFFFFF;\n",
              "    }\n",
              "  </style>\n",
              "\n",
              "      <script>\n",
              "        const buttonEl =\n",
              "          document.querySelector('#df-5c80f29f-b8d4-4433-b318-2ec794a37b16 button.colab-df-convert');\n",
              "        buttonEl.style.display =\n",
              "          google.colab.kernel.accessAllowed ? 'block' : 'none';\n",
              "\n",
              "        async function convertToInteractive(key) {\n",
              "          const element = document.querySelector('#df-5c80f29f-b8d4-4433-b318-2ec794a37b16');\n",
              "          const dataTable =\n",
              "            await google.colab.kernel.invokeFunction('convertToInteractive',\n",
              "                                                     [key], {});\n",
              "          if (!dataTable) return;\n",
              "\n",
              "          const docLinkHtml = 'Like what you see? Visit the ' +\n",
              "            '<a target=\"_blank\" href=https://colab.research.google.com/notebooks/data_table.ipynb>data table notebook</a>'\n",
              "            + ' to learn more about interactive tables.';\n",
              "          element.innerHTML = '';\n",
              "          dataTable['output_type'] = 'display_data';\n",
              "          await google.colab.output.renderOutput(dataTable, element);\n",
              "          const docLink = document.createElement('div');\n",
              "          docLink.innerHTML = docLinkHtml;\n",
              "          element.appendChild(docLink);\n",
              "        }\n",
              "      </script>\n",
              "    </div>\n",
              "  </div>\n",
              "  "
            ],
            "text/plain": [
              "                mf   autorec  autorec_enhanced  autorec_enhanced2\n",
              "MRR_10    0.977408  0.971476          0.970405           0.973686\n",
              "MRR_5     0.977408  0.971476          0.970405           0.973630\n",
              "NDCG_10   0.967013  0.959543          0.959257           0.960079\n",
              "NDCG_100  0.972053  0.963257          0.963262           0.962337\n",
              "NDCG_5    0.971676  0.965467          0.965130           0.966770\n",
              "RMSE      0.858593  1.222377          1.016673           1.196467"
            ]
          },
          "metadata": {},
          "execution_count": 25
        }
      ]
    },
    {
      "cell_type": "code",
      "source": [
        "res_df.plot(kind='bar', figsize=(12,5), rot=45)\n",
        "plt.title('movielens-1m models results')"
      ],
      "metadata": {
        "id": "vR1_w740TDL7",
        "colab": {
          "base_uri": "https://localhost:8080/",
          "height": 389
        },
        "outputId": "7898f8aa-efb5-417b-ccfb-27138387919d"
      },
      "execution_count": 26,
      "outputs": [
        {
          "output_type": "execute_result",
          "data": {
            "text/plain": [
              "Text(0.5, 1.0, 'movielens-1m models results')"
            ]
          },
          "metadata": {},
          "execution_count": 26
        },
        {
          "output_type": "display_data",
          "data": {
            "image/png": "[encoded data removed]",
            "text/plain": [
              "<Figure size 864x360 with 1 Axes>"
            ]
          },
          "metadata": {
            "needs_background": "light"
          }
        }
      ]
    },
    {
      "cell_type": "code",
      "source": [
        "res_df.transpose().plot(kind='bar', figsize=(12,5), rot=45)\n",
        "plt.title('movielens-1m models results')"
      ],
      "metadata": {
        "id": "8BBj2phwSabF",
        "colab": {
          "base_uri": "https://localhost:8080/",
          "height": 421
        },
        "outputId": "4d9aa5aa-3da7-4223-bd32-0c6b78919b30"
      },
      "execution_count": 27,
      "outputs": [
        {
          "output_type": "execute_result",
          "data": {
            "text/plain": [
              "Text(0.5, 1.0, 'movielens-1m models results')"
            ]
          },
          "metadata": {},
          "execution_count": 27
        },
        {
          "output_type": "display_data",
          "data": {
            "image/png": "[encoded data removed]",
            "text/plain": [
              "<Figure size 864x360 with 1 Axes>"
            ]
          },
          "metadata": {
            "needs_background": "light"
          }
        }
      ]
    }
  ]
}